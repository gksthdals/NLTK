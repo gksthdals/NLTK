{
  "nbformat": 4,
  "nbformat_minor": 0,
  "metadata": {
    "colab": {
      "name": "10. Analyzing the Meaning of Sentences.ipynb",
      "provenance": [],
      "collapsed_sections": [],
      "authorship_tag": "ABX9TyMtdHX6tCoJ4e4wtlR3g/xf",
      "include_colab_link": true
    },
    "kernelspec": {
      "name": "python3",
      "display_name": "Python 3"
    },
    "language_info": {
      "name": "python"
    }
  },
  "cells": [
    {
      "cell_type": "markdown",
      "metadata": {
        "id": "view-in-github",
        "colab_type": "text"
      },
      "source": [
        "<a href=\"https://colab.research.google.com/github/gksthdals/NLTK/blob/main/10.%20Analyzing_the_Meaning_of_Sentences.ipynb\" target=\"_parent\"><img src=\"https://colab.research.google.com/assets/colab-badge.svg\" alt=\"Open In Colab\"/></a>"
      ]
    },
    {
      "cell_type": "code",
      "execution_count": null,
      "metadata": {
        "id": "YoD0UfSgwr15"
      },
      "outputs": [],
      "source": [
        "\"\"\" Main Topic\n",
        "\n",
        "1. How can we represent natural language meaning so that a computer can process these representations?\n",
        "2. How can we associate meaning representations with an unlimited set of sentences?\n",
        "3. How can we use programs that connect the meaning representations of sentences to stores of knowledge?\n",
        "\n",
        "\"\"\""
      ]
    },
    {
      "cell_type": "markdown",
      "source": [
        "## 1. Natural Language Understanding"
      ],
      "metadata": {
        "id": "Hr2IoKd7yJM4"
      }
    },
    {
      "cell_type": "markdown",
      "source": [
        "### Querying a Database"
      ],
      "metadata": {
        "id": "xz7u0cufyMvk"
      }
    },
    {
      "cell_type": "code",
      "source": [
        "# SQL : Structured Query Language\n",
        "\n",
        "# SELECT Country FROM city_table WHERE City = 'athens'"
      ],
      "metadata": {
        "id": "WgbY3ENlyqCU"
      },
      "execution_count": null,
      "outputs": []
    },
    {
      "cell_type": "code",
      "source": [
        "import nltk\n",
        "nltk.download('book_grammars')"
      ],
      "metadata": {
        "colab": {
          "base_uri": "https://localhost:8080/"
        },
        "id": "-hAKlF9GzTOK",
        "outputId": "ef5ba737-5d2d-48a9-ab63-3f13d4a48e49"
      },
      "execution_count": null,
      "outputs": [
        {
          "output_type": "stream",
          "name": "stdout",
          "text": [
            "[nltk_data] Downloading package book_grammars to /root/nltk_data...\n",
            "[nltk_data]   Unzipping grammars/book_grammars.zip.\n"
          ]
        },
        {
          "output_type": "execute_result",
          "data": {
            "text/plain": [
              "True"
            ]
          },
          "metadata": {},
          "execution_count": 3
        }
      ]
    },
    {
      "cell_type": "code",
      "source": [
        "nltk.data.show_cfg('grammars/book_grammars/sql0.fcfg')"
      ],
      "metadata": {
        "colab": {
          "base_uri": "https://localhost:8080/"
        },
        "id": "RKPgJzszzWE3",
        "outputId": "dec97417-b533-4dda-e305-a76ea4149329"
      },
      "execution_count": null,
      "outputs": [
        {
          "output_type": "stream",
          "name": "stdout",
          "text": [
            "% start S\n",
            "S[SEM=(?np + WHERE + ?vp)] -> NP[SEM=?np] VP[SEM=?vp]\n",
            "VP[SEM=(?v + ?pp)] -> IV[SEM=?v] PP[SEM=?pp]\n",
            "VP[SEM=(?v + ?ap)] -> IV[SEM=?v] AP[SEM=?ap]\n",
            "NP[SEM=(?det + ?n)] -> Det[SEM=?det] N[SEM=?n]\n",
            "PP[SEM=(?p + ?np)] -> P[SEM=?p] NP[SEM=?np]\n",
            "AP[SEM=?pp] -> A[SEM=?a] PP[SEM=?pp]\n",
            "NP[SEM='Country=\"greece\"'] -> 'Greece'\n",
            "NP[SEM='Country=\"china\"'] -> 'China'\n",
            "Det[SEM='SELECT'] -> 'Which' | 'What'\n",
            "N[SEM='City FROM city_table'] -> 'cities'\n",
            "IV[SEM=''] -> 'are'\n",
            "A[SEM=''] -> 'located'\n",
            "P[SEM=''] -> 'in'\n"
          ]
        }
      ]
    },
    {
      "cell_type": "code",
      "source": [
        "from nltk import load_parser\n",
        "cp = load_parser('grammars/book_grammars/sql0.fcfg')\n",
        "query = 'What cities are located in China'\n",
        "\n",
        "trees = list(cp.parse(query.split()))\n",
        "for tree in trees:\n",
        "  print(tree)\n",
        "print()\n",
        "\n",
        "answer = trees[0].label()['SEM']\n",
        "print(answer)\n",
        "\n",
        "# [SEM='']인 경우를 제외하고 문장을 만들기 위해서\n",
        "answer = [s for s in answer if s]\n",
        "print(answer)\n",
        "\n",
        "q = ' '.join(answer)\n",
        "print(q)"
      ],
      "metadata": {
        "colab": {
          "base_uri": "https://localhost:8080/"
        },
        "id": "R-qHdbLOzq56",
        "outputId": "3f172702-9229-4236-af29-b9e8b565cdd0"
      },
      "execution_count": null,
      "outputs": [
        {
          "output_type": "stream",
          "name": "stdout",
          "text": [
            "(S[SEM=(SELECT, City FROM city_table, WHERE, , , Country=\"china\")]\n",
            "  (NP[SEM=(SELECT, City FROM city_table)]\n",
            "    (Det[SEM='SELECT'] What)\n",
            "    (N[SEM='City FROM city_table'] cities))\n",
            "  (VP[SEM=(, , Country=\"china\")]\n",
            "    (IV[SEM=''] are)\n",
            "    (AP[SEM=(, Country=\"china\")]\n",
            "      (A[SEM=''] located)\n",
            "      (PP[SEM=(, Country=\"china\")]\n",
            "        (P[SEM=''] in)\n",
            "        (NP[SEM='Country=\"china\"'] China)))))\n",
            "\n",
            "(SELECT, City FROM city_table, WHERE, , , Country=\"china\")\n",
            "['SELECT', 'City FROM city_table', 'WHERE', 'Country=\"china\"']\n",
            "SELECT City FROM city_table WHERE Country=\"china\"\n"
          ]
        }
      ]
    },
    {
      "cell_type": "code",
      "source": [
        "nltk.download('city_database')"
      ],
      "metadata": {
        "colab": {
          "base_uri": "https://localhost:8080/"
        },
        "id": "cQ8H8Ond24QF",
        "outputId": "96f9c1a6-8062-4664-c828-7c2f0367ac98"
      },
      "execution_count": null,
      "outputs": [
        {
          "output_type": "stream",
          "name": "stdout",
          "text": [
            "[nltk_data] Downloading package city_database to /root/nltk_data...\n",
            "[nltk_data]   Unzipping corpora/city_database.zip.\n"
          ]
        },
        {
          "output_type": "execute_result",
          "data": {
            "text/plain": [
              "True"
            ]
          },
          "metadata": {},
          "execution_count": 9
        }
      ]
    },
    {
      "cell_type": "code",
      "source": [
        "from nltk.sem import chat80\n",
        "rows = chat80.sql_query('corpora/city_database/city.db', q)\n",
        "for r in rows: print(r[0], end=' ')"
      ],
      "metadata": {
        "colab": {
          "base_uri": "https://localhost:8080/"
        },
        "id": "mJH0EGno0K7n",
        "outputId": "e483a005-cd98-420d-be84-580a67ae21a9"
      },
      "execution_count": null,
      "outputs": [
        {
          "output_type": "stream",
          "name": "stdout",
          "text": [
            "canton chungking dairen harbin kowloon mukden peking shanghai sian tientsin "
          ]
        }
      ]
    },
    {
      "cell_type": "code",
      "source": [
        "# sql0.fcfg : translation from English to SQL"
      ],
      "metadata": {
        "id": "dEDIN0cH22RA"
      },
      "execution_count": null,
      "outputs": []
    },
    {
      "cell_type": "markdown",
      "source": [
        "### Natural Language, Semantics and Logic"
      ],
      "metadata": {
        "id": "otxijL23Xl5x"
      }
    },
    {
      "cell_type": "code",
      "source": [
        "# Declarative sentences are true or false in certain situations.\n",
        "# Definite noun phrases and proper nouns refer to things in the world."
      ],
      "metadata": {
        "id": "FWvtBX1TYJK9"
      },
      "execution_count": null,
      "outputs": []
    },
    {
      "cell_type": "code",
      "source": [
        "\"\"\"\n",
        "consistent : 여러 개의 문장이 동시에 성립 가능\n",
        "inconsistent : 여러 개의 문장이 모순 관계\n",
        "\n",
        "consistency and inconsistency\n",
        "\"\"\""
      ],
      "metadata": {
        "id": "rsTQMrYLYRGZ"
      },
      "execution_count": null,
      "outputs": []
    },
    {
      "cell_type": "markdown",
      "source": [
        "## 2. Propositional Logic"
      ],
      "metadata": {
        "id": "mBJC55xeZ4hy"
      }
    },
    {
      "cell_type": "code",
      "source": [
        "nltk.boolean_ops()"
      ],
      "metadata": {
        "colab": {
          "base_uri": "https://localhost:8080/"
        },
        "id": "WAb4lnXGaUeJ",
        "outputId": "036f078a-7488-44ad-a027-2403e8e6f1d2"
      },
      "execution_count": null,
      "outputs": [
        {
          "output_type": "stream",
          "name": "stdout",
          "text": [
            "negation       \t-\n",
            "conjunction    \t&\n",
            "disjunction    \t|\n",
            "implication    \t->\n",
            "equivalence    \t<->\n"
          ]
        }
      ]
    },
    {
      "cell_type": "code",
      "source": [
        "read_expr = nltk.sem.Expression.fromstring"
      ],
      "metadata": {
        "id": "eTucbYdFaV_w"
      },
      "execution_count": null,
      "outputs": []
    },
    {
      "cell_type": "code",
      "source": [
        "read_expr('-(P & Q)')"
      ],
      "metadata": {
        "colab": {
          "base_uri": "https://localhost:8080/"
        },
        "id": "wVAZNGqybAQ8",
        "outputId": "8c3d4141-5e63-4f49-f874-bc6e6c93ab66"
      },
      "execution_count": null,
      "outputs": [
        {
          "output_type": "execute_result",
          "data": {
            "text/plain": [
              "<NegatedExpression -(P & Q)>"
            ]
          },
          "metadata": {},
          "execution_count": 14
        }
      ]
    },
    {
      "cell_type": "code",
      "source": [
        "read_expr('P & Q')"
      ],
      "metadata": {
        "colab": {
          "base_uri": "https://localhost:8080/"
        },
        "id": "VNhc63RqbDm_",
        "outputId": "bb33a836-1f08-49d5-b152-d27e98dcc201"
      },
      "execution_count": null,
      "outputs": [
        {
          "output_type": "execute_result",
          "data": {
            "text/plain": [
              "<AndExpression (P & Q)>"
            ]
          },
          "metadata": {},
          "execution_count": 15
        }
      ]
    },
    {
      "cell_type": "code",
      "source": [
        "read_expr('P | (R -> Q)')"
      ],
      "metadata": {
        "colab": {
          "base_uri": "https://localhost:8080/"
        },
        "id": "ESlBrBkfbGfd",
        "outputId": "4ea5ef64-231d-4bda-a7b3-dc3f5e4ecc7a"
      },
      "execution_count": null,
      "outputs": [
        {
          "output_type": "execute_result",
          "data": {
            "text/plain": [
              "<OrExpression (P | (R -> Q))>"
            ]
          },
          "metadata": {},
          "execution_count": 16
        }
      ]
    },
    {
      "cell_type": "code",
      "source": [
        "read_expr('P <-> -- P')"
      ],
      "metadata": {
        "colab": {
          "base_uri": "https://localhost:8080/"
        },
        "id": "DvLKE3p3bK_c",
        "outputId": "91114d6d-99d7-4481-b24e-977d77052ecb"
      },
      "execution_count": null,
      "outputs": [
        {
          "output_type": "execute_result",
          "data": {
            "text/plain": [
              "<IffExpression (P <-> --P)>"
            ]
          },
          "metadata": {},
          "execution_count": 17
        }
      ]
    },
    {
      "cell_type": "code",
      "source": [
        "lp = nltk.sem.Expression.fromstring\n",
        "SnF = read_expr('SnF')\n",
        "NotFnS = read_expr('-FnS')\n",
        "R = read_expr('SnF -> -FnS')\n",
        "prover = nltk.Prover9()\n",
        "prover.prove(NotFnS, [SnF, R])"
      ],
      "metadata": {
        "colab": {
          "base_uri": "https://localhost:8080/",
          "height": 718
        },
        "id": "4IbfsybKbQAR",
        "outputId": "90a731d3-4ae5-4306-e140-b5f0b022c59a"
      },
      "execution_count": null,
      "outputs": [
        {
          "output_type": "error",
          "ename": "LookupError",
          "evalue": "ignored",
          "traceback": [
            "\u001b[0;31m---------------------------------------------------------------------------\u001b[0m",
            "\u001b[0;31mLookupError\u001b[0m                               Traceback (most recent call last)",
            "\u001b[0;32m<ipython-input-18-c061cf5396be>\u001b[0m in \u001b[0;36m<module>\u001b[0;34m()\u001b[0m\n\u001b[1;32m      4\u001b[0m \u001b[0mR\u001b[0m \u001b[0;34m=\u001b[0m \u001b[0mread_expr\u001b[0m\u001b[0;34m(\u001b[0m\u001b[0;34m'SnF -> -FnS'\u001b[0m\u001b[0;34m)\u001b[0m\u001b[0;34m\u001b[0m\u001b[0;34m\u001b[0m\u001b[0m\n\u001b[1;32m      5\u001b[0m \u001b[0mprover\u001b[0m \u001b[0;34m=\u001b[0m \u001b[0mnltk\u001b[0m\u001b[0;34m.\u001b[0m\u001b[0mProver9\u001b[0m\u001b[0;34m(\u001b[0m\u001b[0;34m)\u001b[0m\u001b[0;34m\u001b[0m\u001b[0;34m\u001b[0m\u001b[0m\n\u001b[0;32m----> 6\u001b[0;31m \u001b[0mprover\u001b[0m\u001b[0;34m.\u001b[0m\u001b[0mprove\u001b[0m\u001b[0;34m(\u001b[0m\u001b[0mNotFnS\u001b[0m\u001b[0;34m,\u001b[0m \u001b[0;34m[\u001b[0m\u001b[0mSnF\u001b[0m\u001b[0;34m,\u001b[0m \u001b[0mR\u001b[0m\u001b[0;34m]\u001b[0m\u001b[0;34m)\u001b[0m\u001b[0;34m\u001b[0m\u001b[0;34m\u001b[0m\u001b[0m\n\u001b[0m",
            "\u001b[0;32m/usr/local/lib/python3.7/dist-packages/nltk/inference/api.py\u001b[0m in \u001b[0;36mprove\u001b[0;34m(self, goal, assumptions, verbose)\u001b[0m\n\u001b[1;32m     37\u001b[0m         \u001b[0;34m:\u001b[0m\u001b[0mrtype\u001b[0m\u001b[0;34m:\u001b[0m \u001b[0mbool\u001b[0m\u001b[0;34m\u001b[0m\u001b[0;34m\u001b[0m\u001b[0m\n\u001b[1;32m     38\u001b[0m         \"\"\"\n\u001b[0;32m---> 39\u001b[0;31m         \u001b[0;32mreturn\u001b[0m \u001b[0mself\u001b[0m\u001b[0;34m.\u001b[0m\u001b[0m_prove\u001b[0m\u001b[0;34m(\u001b[0m\u001b[0mgoal\u001b[0m\u001b[0;34m,\u001b[0m \u001b[0massumptions\u001b[0m\u001b[0;34m,\u001b[0m \u001b[0mverbose\u001b[0m\u001b[0;34m)\u001b[0m\u001b[0;34m[\u001b[0m\u001b[0;36m0\u001b[0m\u001b[0;34m]\u001b[0m\u001b[0;34m\u001b[0m\u001b[0;34m\u001b[0m\u001b[0m\n\u001b[0m\u001b[1;32m     40\u001b[0m \u001b[0;34m\u001b[0m\u001b[0m\n\u001b[1;32m     41\u001b[0m     \u001b[0;34m@\u001b[0m\u001b[0mabstractmethod\u001b[0m\u001b[0;34m\u001b[0m\u001b[0;34m\u001b[0m\u001b[0m\n",
            "\u001b[0;32m/usr/local/lib/python3.7/dist-packages/nltk/inference/prover9.py\u001b[0m in \u001b[0;36m_prove\u001b[0;34m(self, goal, assumptions, verbose)\u001b[0m\n\u001b[1;32m    270\u001b[0m \u001b[0;34m\u001b[0m\u001b[0m\n\u001b[1;32m    271\u001b[0m         stdout, returncode = self._call_prover9(self.prover9_input(goal, assumptions),\n\u001b[0;32m--> 272\u001b[0;31m                                                 verbose=verbose)\n\u001b[0m\u001b[1;32m    273\u001b[0m         \u001b[0;32mreturn\u001b[0m \u001b[0;34m(\u001b[0m\u001b[0mreturncode\u001b[0m \u001b[0;34m==\u001b[0m \u001b[0;36m0\u001b[0m\u001b[0;34m,\u001b[0m \u001b[0mstdout\u001b[0m\u001b[0;34m)\u001b[0m\u001b[0;34m\u001b[0m\u001b[0;34m\u001b[0m\u001b[0m\n\u001b[1;32m    274\u001b[0m \u001b[0;34m\u001b[0m\u001b[0m\n",
            "\u001b[0;32m/usr/local/lib/python3.7/dist-packages/nltk/inference/prover9.py\u001b[0m in \u001b[0;36m_call_prover9\u001b[0;34m(self, input_str, args, verbose)\u001b[0m\n\u001b[1;32m    290\u001b[0m         \"\"\"\n\u001b[1;32m    291\u001b[0m         \u001b[0;32mif\u001b[0m \u001b[0mself\u001b[0m\u001b[0;34m.\u001b[0m\u001b[0m_prover9_bin\u001b[0m \u001b[0;32mis\u001b[0m \u001b[0;32mNone\u001b[0m\u001b[0;34m:\u001b[0m\u001b[0;34m\u001b[0m\u001b[0;34m\u001b[0m\u001b[0m\n\u001b[0;32m--> 292\u001b[0;31m             \u001b[0mself\u001b[0m\u001b[0;34m.\u001b[0m\u001b[0m_prover9_bin\u001b[0m \u001b[0;34m=\u001b[0m \u001b[0mself\u001b[0m\u001b[0;34m.\u001b[0m\u001b[0m_find_binary\u001b[0m\u001b[0;34m(\u001b[0m\u001b[0;34m'prover9'\u001b[0m\u001b[0;34m,\u001b[0m \u001b[0mverbose\u001b[0m\u001b[0;34m)\u001b[0m\u001b[0;34m\u001b[0m\u001b[0;34m\u001b[0m\u001b[0m\n\u001b[0m\u001b[1;32m    293\u001b[0m \u001b[0;34m\u001b[0m\u001b[0m\n\u001b[1;32m    294\u001b[0m         \u001b[0mupdated_input_str\u001b[0m \u001b[0;34m=\u001b[0m \u001b[0;34m''\u001b[0m\u001b[0;34m\u001b[0m\u001b[0;34m\u001b[0m\u001b[0m\n",
            "\u001b[0;32m/usr/local/lib/python3.7/dist-packages/nltk/inference/prover9.py\u001b[0m in \u001b[0;36m_find_binary\u001b[0;34m(self, name, verbose)\u001b[0m\n\u001b[1;32m    164\u001b[0m             \u001b[0murl\u001b[0m\u001b[0;34m=\u001b[0m\u001b[0;34m'http://www.cs.unm.edu/~mccune/prover9/'\u001b[0m\u001b[0;34m,\u001b[0m\u001b[0;34m\u001b[0m\u001b[0;34m\u001b[0m\u001b[0m\n\u001b[1;32m    165\u001b[0m             \u001b[0mbinary_names\u001b[0m\u001b[0;34m=\u001b[0m\u001b[0;34m[\u001b[0m\u001b[0mname\u001b[0m\u001b[0;34m,\u001b[0m \u001b[0mname\u001b[0m \u001b[0;34m+\u001b[0m \u001b[0;34m'.exe'\u001b[0m\u001b[0;34m]\u001b[0m\u001b[0;34m,\u001b[0m\u001b[0;34m\u001b[0m\u001b[0;34m\u001b[0m\u001b[0m\n\u001b[0;32m--> 166\u001b[0;31m             verbose=verbose)\n\u001b[0m\u001b[1;32m    167\u001b[0m \u001b[0;34m\u001b[0m\u001b[0m\n\u001b[1;32m    168\u001b[0m     \u001b[0;32mdef\u001b[0m \u001b[0m_call\u001b[0m\u001b[0;34m(\u001b[0m\u001b[0mself\u001b[0m\u001b[0;34m,\u001b[0m \u001b[0minput_str\u001b[0m\u001b[0;34m,\u001b[0m \u001b[0mbinary\u001b[0m\u001b[0;34m,\u001b[0m \u001b[0margs\u001b[0m\u001b[0;34m=\u001b[0m\u001b[0;34m[\u001b[0m\u001b[0;34m]\u001b[0m\u001b[0;34m,\u001b[0m \u001b[0mverbose\u001b[0m\u001b[0;34m=\u001b[0m\u001b[0;32mFalse\u001b[0m\u001b[0;34m)\u001b[0m\u001b[0;34m:\u001b[0m\u001b[0;34m\u001b[0m\u001b[0;34m\u001b[0m\u001b[0m\n",
            "\u001b[0;32m/usr/local/lib/python3.7/dist-packages/nltk/__init__.py\u001b[0m in \u001b[0;36mfind_binary\u001b[0;34m(name, path_to_bin, env_vars, searchpath, binary_names, url, verbose)\u001b[0m\n\u001b[1;32m    602\u001b[0m                 binary_names=None, url=None, verbose=False):\n\u001b[1;32m    603\u001b[0m     return next(find_binary_iter(name, path_to_bin, env_vars, searchpath,\n\u001b[0;32m--> 604\u001b[0;31m                                  binary_names, url, verbose))\n\u001b[0m\u001b[1;32m    605\u001b[0m \u001b[0;34m\u001b[0m\u001b[0m\n\u001b[1;32m    606\u001b[0m def find_jar_iter(name_pattern, path_to_jar=None, env_vars=(),\n",
            "\u001b[0;32m/usr/local/lib/python3.7/dist-packages/nltk/__init__.py\u001b[0m in \u001b[0;36mfind_binary_iter\u001b[0;34m(name, path_to_bin, env_vars, searchpath, binary_names, url, verbose)\u001b[0m\n\u001b[1;32m    596\u001b[0m     \"\"\"\n\u001b[1;32m    597\u001b[0m     for file in  find_file_iter(path_to_bin or name, env_vars, searchpath, binary_names,\n\u001b[0;32m--> 598\u001b[0;31m                      url, verbose):\n\u001b[0m\u001b[1;32m    599\u001b[0m         \u001b[0;32myield\u001b[0m \u001b[0mfile\u001b[0m\u001b[0;34m\u001b[0m\u001b[0;34m\u001b[0m\u001b[0m\n\u001b[1;32m    600\u001b[0m \u001b[0;34m\u001b[0m\u001b[0m\n",
            "\u001b[0;32m/usr/local/lib/python3.7/dist-packages/nltk/__init__.py\u001b[0m in \u001b[0;36mfind_file_iter\u001b[0;34m(filename, env_vars, searchpath, file_names, url, verbose, finding_dir)\u001b[0m\n\u001b[1;32m    567\u001b[0m                         (filename, url))\n\u001b[1;32m    568\u001b[0m         \u001b[0mdiv\u001b[0m \u001b[0;34m=\u001b[0m \u001b[0;34m'='\u001b[0m\u001b[0;34m*\u001b[0m\u001b[0;36m75\u001b[0m\u001b[0;34m\u001b[0m\u001b[0;34m\u001b[0m\u001b[0m\n\u001b[0;32m--> 569\u001b[0;31m         \u001b[0;32mraise\u001b[0m \u001b[0mLookupError\u001b[0m\u001b[0;34m(\u001b[0m\u001b[0;34m'\\n\\n%s\\n%s\\n%s'\u001b[0m \u001b[0;34m%\u001b[0m \u001b[0;34m(\u001b[0m\u001b[0mdiv\u001b[0m\u001b[0;34m,\u001b[0m \u001b[0mmsg\u001b[0m\u001b[0;34m,\u001b[0m \u001b[0mdiv\u001b[0m\u001b[0;34m)\u001b[0m\u001b[0;34m)\u001b[0m\u001b[0;34m\u001b[0m\u001b[0;34m\u001b[0m\u001b[0m\n\u001b[0m\u001b[1;32m    570\u001b[0m \u001b[0;34m\u001b[0m\u001b[0m\n\u001b[1;32m    571\u001b[0m \u001b[0;34m\u001b[0m\u001b[0m\n",
            "\u001b[0;31mLookupError\u001b[0m: \n\n===========================================================================\nNLTK was unable to find the prover9 file!\nUse software specific configuration paramaters or set the PROVER9 environment variable.\n\n  Searched in:\n    - /usr/local/bin/prover9\n    - /usr/local/bin/prover9/bin\n    - /usr/local/bin\n    - /usr/bin\n    - /usr/local/prover9\n    - /usr/local/share/prover9\n\n  For more information on prover9, see:\n    <http://www.cs.unm.edu/~mccune/prover9/>\n==========================================================================="
          ]
        }
      ]
    },
    {
      "cell_type": "code",
      "source": [
        "val = nltk.Valuation([('P', True), ('Q', True), ('R', False)])"
      ],
      "metadata": {
        "id": "f2dWNqylfzV4"
      },
      "execution_count": null,
      "outputs": []
    },
    {
      "cell_type": "code",
      "source": [
        "val['P']"
      ],
      "metadata": {
        "colab": {
          "base_uri": "https://localhost:8080/"
        },
        "id": "OWpps6iEf-jI",
        "outputId": "2491e395-b9b9-4c27-fbac-8b5aeb3f2bc7"
      },
      "execution_count": null,
      "outputs": [
        {
          "output_type": "execute_result",
          "data": {
            "text/plain": [
              "True"
            ]
          },
          "metadata": {},
          "execution_count": 20
        }
      ]
    },
    {
      "cell_type": "code",
      "source": [
        "dom = set()\n",
        "g = nltk.Assignment(dom)"
      ],
      "metadata": {
        "id": "i1buNLckf_Rz"
      },
      "execution_count": null,
      "outputs": []
    },
    {
      "cell_type": "code",
      "source": [
        "m = nltk.Model(dom, val)"
      ],
      "metadata": {
        "id": "jJDgt0RWgLK4"
      },
      "execution_count": null,
      "outputs": []
    },
    {
      "cell_type": "code",
      "source": [
        "m.evaluate('(P & Q)', g)"
      ],
      "metadata": {
        "colab": {
          "base_uri": "https://localhost:8080/"
        },
        "id": "28VGucyXgM5w",
        "outputId": "bd36d555-c9be-4954-9af6-a2ac083b7073"
      },
      "execution_count": null,
      "outputs": [
        {
          "output_type": "execute_result",
          "data": {
            "text/plain": [
              "True"
            ]
          },
          "metadata": {},
          "execution_count": 23
        }
      ]
    },
    {
      "cell_type": "code",
      "source": [
        "m.evaluate('-(P & Q)', g)"
      ],
      "metadata": {
        "colab": {
          "base_uri": "https://localhost:8080/"
        },
        "id": "4wmRQiBEgWjJ",
        "outputId": "6c522f26-7c65-4fed-bc10-072941905be1"
      },
      "execution_count": null,
      "outputs": [
        {
          "output_type": "execute_result",
          "data": {
            "text/plain": [
              "False"
            ]
          },
          "metadata": {},
          "execution_count": 24
        }
      ]
    },
    {
      "cell_type": "code",
      "source": [
        "m.evaluate('(P & R)', g)"
      ],
      "metadata": {
        "colab": {
          "base_uri": "https://localhost:8080/"
        },
        "id": "kMfyLGvCgaI6",
        "outputId": "508b2de1-c3ba-4d2b-9bc9-3f5e2ffddcae"
      },
      "execution_count": null,
      "outputs": [
        {
          "output_type": "execute_result",
          "data": {
            "text/plain": [
              "False"
            ]
          },
          "metadata": {},
          "execution_count": 25
        }
      ]
    },
    {
      "cell_type": "code",
      "source": [
        "m.evaluate('(P | R)', g)"
      ],
      "metadata": {
        "colab": {
          "base_uri": "https://localhost:8080/"
        },
        "id": "MgkKmeOKgelV",
        "outputId": "f53113f6-34c2-4621-9a61-78e6d3944bd5"
      },
      "execution_count": null,
      "outputs": [
        {
          "output_type": "execute_result",
          "data": {
            "text/plain": [
              "True"
            ]
          },
          "metadata": {},
          "execution_count": 26
        }
      ]
    },
    {
      "cell_type": "markdown",
      "source": [
        "## 3. First-Order Logic"
      ],
      "metadata": {
        "id": "iMCKBcA-gyFC"
      }
    },
    {
      "cell_type": "markdown",
      "source": [
        "### Syntax"
      ],
      "metadata": {
        "id": "nB6Nhpdgg-Z1"
      }
    },
    {
      "cell_type": "code",
      "source": [
        "\"\"\"\n",
        "Unary/Binary Predicate\n",
        "\n",
        "walk(angus) : unary predicate\n",
        "love(margrietje, brunoke) : binary predicate\n",
        "\n",
        "###\n",
        "\n",
        "non-logical constants : 참/거짓을 판단할 수 없는 -> see, angus and bertie\n",
        "logical constants : 참/거짓을 판단할 수 있는 -> boolean opr\n",
        "\n",
        "###\n",
        "\n",
        "e : the type of entities\n",
        "t : the type of formulas (expression which have truth values)\n",
        "\n",
        "\"\"\""
      ],
      "metadata": {
        "id": "hrSY_rVjitR5"
      },
      "execution_count": null,
      "outputs": []
    },
    {
      "cell_type": "code",
      "source": [
        "import nltk"
      ],
      "metadata": {
        "id": "q21dsL2OFkn1"
      },
      "execution_count": 1,
      "outputs": []
    },
    {
      "cell_type": "code",
      "source": [
        "read_expr = nltk.sem.Expression.fromstring\n",
        "expr = read_expr('walk(angus)', type_check=True)\n",
        "expr.argument"
      ],
      "metadata": {
        "colab": {
          "base_uri": "https://localhost:8080/"
        },
        "id": "PP65iz1SFmTQ",
        "outputId": "ff07e7c3-c8b6-4b35-f136-541c86faaa98"
      },
      "execution_count": 2,
      "outputs": [
        {
          "output_type": "execute_result",
          "data": {
            "text/plain": [
              "<ConstantExpression angus>"
            ]
          },
          "metadata": {},
          "execution_count": 2
        }
      ]
    },
    {
      "cell_type": "code",
      "source": [
        "expr.argument.type"
      ],
      "metadata": {
        "colab": {
          "base_uri": "https://localhost:8080/"
        },
        "id": "5WmSHJPtFwoI",
        "outputId": "33a40699-af66-4819-fab9-3f66dd3bcd46"
      },
      "execution_count": 3,
      "outputs": [
        {
          "output_type": "execute_result",
          "data": {
            "text/plain": [
              "e"
            ]
          },
          "metadata": {},
          "execution_count": 3
        }
      ]
    },
    {
      "cell_type": "code",
      "source": [
        "expr.function"
      ],
      "metadata": {
        "colab": {
          "base_uri": "https://localhost:8080/"
        },
        "id": "sveRUBgyFzmH",
        "outputId": "ce19669e-bc7d-4971-e5f3-e78d609e40e6"
      },
      "execution_count": 4,
      "outputs": [
        {
          "output_type": "execute_result",
          "data": {
            "text/plain": [
              "<ConstantExpression walk>"
            ]
          },
          "metadata": {},
          "execution_count": 4
        }
      ]
    },
    {
      "cell_type": "code",
      "source": [
        "expr.function.type"
      ],
      "metadata": {
        "colab": {
          "base_uri": "https://localhost:8080/"
        },
        "id": "iLxYzUQHF3ca",
        "outputId": "67da42a2-df9a-459d-b64b-7d24407aef84"
      },
      "execution_count": 5,
      "outputs": [
        {
          "output_type": "execute_result",
          "data": {
            "text/plain": [
              "<e,?>"
            ]
          },
          "metadata": {},
          "execution_count": 5
        }
      ]
    },
    {
      "cell_type": "code",
      "source": [
        "sig = {'walk': '<e, t>'}"
      ],
      "metadata": {
        "id": "7F5ubkxBF5Qh"
      },
      "execution_count": 6,
      "outputs": []
    },
    {
      "cell_type": "code",
      "source": [
        "expr = read_expr('walk(angus)', signature=sig)"
      ],
      "metadata": {
        "id": "X3IEreMgGI39"
      },
      "execution_count": 7,
      "outputs": []
    },
    {
      "cell_type": "code",
      "source": [
        "expr.function.type"
      ],
      "metadata": {
        "colab": {
          "base_uri": "https://localhost:8080/"
        },
        "id": "cZqwDqqdGNNi",
        "outputId": "413c2887-a1e9-41da-f419-52af26b87d08"
      },
      "execution_count": 8,
      "outputs": [
        {
          "output_type": "execute_result",
          "data": {
            "text/plain": [
              "e"
            ]
          },
          "metadata": {},
          "execution_count": 8
        }
      ]
    },
    {
      "cell_type": "code",
      "source": [
        "# exists x.(dog(x) & disappear(x))\n",
        "# all x.(dog(x) -> disappear(x))\n",
        "\n",
        "# ((exists x. dog(x)) -> bark(x))\n",
        "# all x.((exists x. dog(x)) -> bark(x))"
      ],
      "metadata": {
        "id": "MI625VJzGOiT"
      },
      "execution_count": null,
      "outputs": []
    },
    {
      "cell_type": "code",
      "source": [
        "read_expr = nltk.sem.Expression.fromstring\n",
        "read_expr('dog(cyril)').free()"
      ],
      "metadata": {
        "colab": {
          "base_uri": "https://localhost:8080/"
        },
        "id": "oXkhUyGUKjHN",
        "outputId": "c9f1d9ac-d6d2-41f3-f559-2d6ee43d88b0"
      },
      "execution_count": 9,
      "outputs": [
        {
          "output_type": "execute_result",
          "data": {
            "text/plain": [
              "set()"
            ]
          },
          "metadata": {},
          "execution_count": 9
        }
      ]
    },
    {
      "cell_type": "code",
      "source": [
        "read_expr('dog(x)').free()"
      ],
      "metadata": {
        "colab": {
          "base_uri": "https://localhost:8080/"
        },
        "id": "atrf1dJjKq81",
        "outputId": "6e70a246-1125-44f2-c5c1-bae978a961e9"
      },
      "execution_count": 10,
      "outputs": [
        {
          "output_type": "execute_result",
          "data": {
            "text/plain": [
              "{Variable('x')}"
            ]
          },
          "metadata": {},
          "execution_count": 10
        }
      ]
    },
    {
      "cell_type": "code",
      "source": [
        "read_expr('own(angus, cyril)').free()"
      ],
      "metadata": {
        "colab": {
          "base_uri": "https://localhost:8080/"
        },
        "id": "78EgqI_GKtn6",
        "outputId": "6fddb672-64e3-49a2-b02e-54a5104be45d"
      },
      "execution_count": 11,
      "outputs": [
        {
          "output_type": "execute_result",
          "data": {
            "text/plain": [
              "set()"
            ]
          },
          "metadata": {},
          "execution_count": 11
        }
      ]
    },
    {
      "cell_type": "code",
      "source": [
        "read_expr('exists x.dog(x)').free()"
      ],
      "metadata": {
        "colab": {
          "base_uri": "https://localhost:8080/"
        },
        "id": "PZj4apNtKx__",
        "outputId": "3f79b0fe-f9c0-48fc-967a-1adc2f8a1f60"
      },
      "execution_count": 12,
      "outputs": [
        {
          "output_type": "execute_result",
          "data": {
            "text/plain": [
              "set()"
            ]
          },
          "metadata": {},
          "execution_count": 12
        }
      ]
    },
    {
      "cell_type": "code",
      "source": [
        "read_expr('all x.dog(x)').free()"
      ],
      "metadata": {
        "colab": {
          "base_uri": "https://localhost:8080/"
        },
        "id": "WJaL2H3AK2_L",
        "outputId": "2622b873-9e24-482e-d6d6-29fa811f2b38"
      },
      "execution_count": 13,
      "outputs": [
        {
          "output_type": "execute_result",
          "data": {
            "text/plain": [
              "set()"
            ]
          },
          "metadata": {},
          "execution_count": 13
        }
      ]
    },
    {
      "cell_type": "code",
      "source": [
        "read_expr('((some x. walk(x)) -> sing(x))').free()"
      ],
      "metadata": {
        "colab": {
          "base_uri": "https://localhost:8080/"
        },
        "id": "dTjhawpMK9UK",
        "outputId": "e51b144f-9ec0-41f0-c0ec-84d257cdb64e"
      },
      "execution_count": 14,
      "outputs": [
        {
          "output_type": "execute_result",
          "data": {
            "text/plain": [
              "{Variable('x')}"
            ]
          },
          "metadata": {},
          "execution_count": 14
        }
      ]
    },
    {
      "cell_type": "code",
      "source": [
        "read_expr('exists x.own(y, x)').free()"
      ],
      "metadata": {
        "colab": {
          "base_uri": "https://localhost:8080/"
        },
        "id": "5kPnoHn7LFcO",
        "outputId": "8f66d34f-90b8-4685-bad4-25ff524c6952"
      },
      "execution_count": 15,
      "outputs": [
        {
          "output_type": "execute_result",
          "data": {
            "text/plain": [
              "{Variable('y')}"
            ]
          },
          "metadata": {},
          "execution_count": 15
        }
      ]
    },
    {
      "cell_type": "markdown",
      "source": [
        "### First Order Theorem Proving"
      ],
      "metadata": {
        "id": "BjruDkJ8LMsM"
      }
    },
    {
      "cell_type": "code",
      "source": [
        "# all x. all y.(north_of(x, y) -> -north_of(y, x))\n",
        "\n",
        "NotFnS = read_expr('-north_of(f, s)')\n",
        "SnF = read_expr('north_of(s, f)')\n",
        "R = read_expr('all x. all y. (north_of(x, y) -> -north_of(y, x))')\n",
        "prover = nltk.Prover9()\n",
        "prover.prove(NotFnS, [SnF, R])"
      ],
      "metadata": {
        "colab": {
          "base_uri": "https://localhost:8080/",
          "height": 613
        },
        "id": "9df0ZKQuLbLz",
        "outputId": "0437d409-048d-4d70-c052-c4a70d36418f"
      },
      "execution_count": 16,
      "outputs": [
        {
          "output_type": "error",
          "ename": "LookupError",
          "evalue": "ignored",
          "traceback": [
            "\u001b[0;31m---------------------------------------------------------------------------\u001b[0m",
            "\u001b[0;31mLookupError\u001b[0m                               Traceback (most recent call last)",
            "\u001b[0;32m<ipython-input-16-39831edb3829>\u001b[0m in \u001b[0;36m<module>\u001b[0;34m()\u001b[0m\n\u001b[1;32m      5\u001b[0m \u001b[0mR\u001b[0m \u001b[0;34m=\u001b[0m \u001b[0mread_expr\u001b[0m\u001b[0;34m(\u001b[0m\u001b[0;34m'all x. all y. (north_of(x, y) -> -north_of(y, x))'\u001b[0m\u001b[0;34m)\u001b[0m\u001b[0;34m\u001b[0m\u001b[0;34m\u001b[0m\u001b[0m\n\u001b[1;32m      6\u001b[0m \u001b[0mprover\u001b[0m \u001b[0;34m=\u001b[0m \u001b[0mnltk\u001b[0m\u001b[0;34m.\u001b[0m\u001b[0mProver9\u001b[0m\u001b[0;34m(\u001b[0m\u001b[0;34m)\u001b[0m\u001b[0;34m\u001b[0m\u001b[0;34m\u001b[0m\u001b[0m\n\u001b[0;32m----> 7\u001b[0;31m \u001b[0mprover\u001b[0m\u001b[0;34m.\u001b[0m\u001b[0mprove\u001b[0m\u001b[0;34m(\u001b[0m\u001b[0mNotFnS\u001b[0m\u001b[0;34m,\u001b[0m \u001b[0;34m[\u001b[0m\u001b[0mSnF\u001b[0m\u001b[0;34m,\u001b[0m \u001b[0mR\u001b[0m\u001b[0;34m]\u001b[0m\u001b[0;34m)\u001b[0m\u001b[0;34m\u001b[0m\u001b[0;34m\u001b[0m\u001b[0m\n\u001b[0m",
            "\u001b[0;32m/usr/local/lib/python3.7/dist-packages/nltk/inference/api.py\u001b[0m in \u001b[0;36mprove\u001b[0;34m(self, goal, assumptions, verbose)\u001b[0m\n\u001b[1;32m     37\u001b[0m         \u001b[0;34m:\u001b[0m\u001b[0mrtype\u001b[0m\u001b[0;34m:\u001b[0m \u001b[0mbool\u001b[0m\u001b[0;34m\u001b[0m\u001b[0;34m\u001b[0m\u001b[0m\n\u001b[1;32m     38\u001b[0m         \"\"\"\n\u001b[0;32m---> 39\u001b[0;31m         \u001b[0;32mreturn\u001b[0m \u001b[0mself\u001b[0m\u001b[0;34m.\u001b[0m\u001b[0m_prove\u001b[0m\u001b[0;34m(\u001b[0m\u001b[0mgoal\u001b[0m\u001b[0;34m,\u001b[0m \u001b[0massumptions\u001b[0m\u001b[0;34m,\u001b[0m \u001b[0mverbose\u001b[0m\u001b[0;34m)\u001b[0m\u001b[0;34m[\u001b[0m\u001b[0;36m0\u001b[0m\u001b[0;34m]\u001b[0m\u001b[0;34m\u001b[0m\u001b[0;34m\u001b[0m\u001b[0m\n\u001b[0m\u001b[1;32m     40\u001b[0m \u001b[0;34m\u001b[0m\u001b[0m\n\u001b[1;32m     41\u001b[0m     \u001b[0;34m@\u001b[0m\u001b[0mabstractmethod\u001b[0m\u001b[0;34m\u001b[0m\u001b[0;34m\u001b[0m\u001b[0m\n",
            "\u001b[0;32m/usr/local/lib/python3.7/dist-packages/nltk/inference/prover9.py\u001b[0m in \u001b[0;36m_prove\u001b[0;34m(self, goal, assumptions, verbose)\u001b[0m\n\u001b[1;32m    270\u001b[0m \u001b[0;34m\u001b[0m\u001b[0m\n\u001b[1;32m    271\u001b[0m         stdout, returncode = self._call_prover9(self.prover9_input(goal, assumptions),\n\u001b[0;32m--> 272\u001b[0;31m                                                 verbose=verbose)\n\u001b[0m\u001b[1;32m    273\u001b[0m         \u001b[0;32mreturn\u001b[0m \u001b[0;34m(\u001b[0m\u001b[0mreturncode\u001b[0m \u001b[0;34m==\u001b[0m \u001b[0;36m0\u001b[0m\u001b[0;34m,\u001b[0m \u001b[0mstdout\u001b[0m\u001b[0;34m)\u001b[0m\u001b[0;34m\u001b[0m\u001b[0;34m\u001b[0m\u001b[0m\n\u001b[1;32m    274\u001b[0m \u001b[0;34m\u001b[0m\u001b[0m\n",
            "\u001b[0;32m/usr/local/lib/python3.7/dist-packages/nltk/inference/prover9.py\u001b[0m in \u001b[0;36m_call_prover9\u001b[0;34m(self, input_str, args, verbose)\u001b[0m\n\u001b[1;32m    290\u001b[0m         \"\"\"\n\u001b[1;32m    291\u001b[0m         \u001b[0;32mif\u001b[0m \u001b[0mself\u001b[0m\u001b[0;34m.\u001b[0m\u001b[0m_prover9_bin\u001b[0m \u001b[0;32mis\u001b[0m \u001b[0;32mNone\u001b[0m\u001b[0;34m:\u001b[0m\u001b[0;34m\u001b[0m\u001b[0;34m\u001b[0m\u001b[0m\n\u001b[0;32m--> 292\u001b[0;31m             \u001b[0mself\u001b[0m\u001b[0;34m.\u001b[0m\u001b[0m_prover9_bin\u001b[0m \u001b[0;34m=\u001b[0m \u001b[0mself\u001b[0m\u001b[0;34m.\u001b[0m\u001b[0m_find_binary\u001b[0m\u001b[0;34m(\u001b[0m\u001b[0;34m'prover9'\u001b[0m\u001b[0;34m,\u001b[0m \u001b[0mverbose\u001b[0m\u001b[0;34m)\u001b[0m\u001b[0;34m\u001b[0m\u001b[0;34m\u001b[0m\u001b[0m\n\u001b[0m\u001b[1;32m    293\u001b[0m \u001b[0;34m\u001b[0m\u001b[0m\n\u001b[1;32m    294\u001b[0m         \u001b[0mupdated_input_str\u001b[0m \u001b[0;34m=\u001b[0m \u001b[0;34m''\u001b[0m\u001b[0;34m\u001b[0m\u001b[0;34m\u001b[0m\u001b[0m\n",
            "\u001b[0;32m/usr/local/lib/python3.7/dist-packages/nltk/inference/prover9.py\u001b[0m in \u001b[0;36m_find_binary\u001b[0;34m(self, name, verbose)\u001b[0m\n\u001b[1;32m    164\u001b[0m             \u001b[0murl\u001b[0m\u001b[0;34m=\u001b[0m\u001b[0;34m'http://www.cs.unm.edu/~mccune/prover9/'\u001b[0m\u001b[0;34m,\u001b[0m\u001b[0;34m\u001b[0m\u001b[0;34m\u001b[0m\u001b[0m\n\u001b[1;32m    165\u001b[0m             \u001b[0mbinary_names\u001b[0m\u001b[0;34m=\u001b[0m\u001b[0;34m[\u001b[0m\u001b[0mname\u001b[0m\u001b[0;34m,\u001b[0m \u001b[0mname\u001b[0m \u001b[0;34m+\u001b[0m \u001b[0;34m'.exe'\u001b[0m\u001b[0;34m]\u001b[0m\u001b[0;34m,\u001b[0m\u001b[0;34m\u001b[0m\u001b[0;34m\u001b[0m\u001b[0m\n\u001b[0;32m--> 166\u001b[0;31m             verbose=verbose)\n\u001b[0m\u001b[1;32m    167\u001b[0m \u001b[0;34m\u001b[0m\u001b[0m\n\u001b[1;32m    168\u001b[0m     \u001b[0;32mdef\u001b[0m \u001b[0m_call\u001b[0m\u001b[0;34m(\u001b[0m\u001b[0mself\u001b[0m\u001b[0;34m,\u001b[0m \u001b[0minput_str\u001b[0m\u001b[0;34m,\u001b[0m \u001b[0mbinary\u001b[0m\u001b[0;34m,\u001b[0m \u001b[0margs\u001b[0m\u001b[0;34m=\u001b[0m\u001b[0;34m[\u001b[0m\u001b[0;34m]\u001b[0m\u001b[0;34m,\u001b[0m \u001b[0mverbose\u001b[0m\u001b[0;34m=\u001b[0m\u001b[0;32mFalse\u001b[0m\u001b[0;34m)\u001b[0m\u001b[0;34m:\u001b[0m\u001b[0;34m\u001b[0m\u001b[0;34m\u001b[0m\u001b[0m\n",
            "\u001b[0;32m/usr/local/lib/python3.7/dist-packages/nltk/__init__.py\u001b[0m in \u001b[0;36mfind_binary\u001b[0;34m(name, path_to_bin, env_vars, searchpath, binary_names, url, verbose)\u001b[0m\n\u001b[1;32m    602\u001b[0m                 binary_names=None, url=None, verbose=False):\n\u001b[1;32m    603\u001b[0m     return next(find_binary_iter(name, path_to_bin, env_vars, searchpath,\n\u001b[0;32m--> 604\u001b[0;31m                                  binary_names, url, verbose))\n\u001b[0m\u001b[1;32m    605\u001b[0m \u001b[0;34m\u001b[0m\u001b[0m\n\u001b[1;32m    606\u001b[0m def find_jar_iter(name_pattern, path_to_jar=None, env_vars=(),\n",
            "\u001b[0;32m/usr/local/lib/python3.7/dist-packages/nltk/__init__.py\u001b[0m in \u001b[0;36mfind_binary_iter\u001b[0;34m(name, path_to_bin, env_vars, searchpath, binary_names, url, verbose)\u001b[0m\n\u001b[1;32m    596\u001b[0m     \"\"\"\n\u001b[1;32m    597\u001b[0m     for file in  find_file_iter(path_to_bin or name, env_vars, searchpath, binary_names,\n\u001b[0;32m--> 598\u001b[0;31m                      url, verbose):\n\u001b[0m\u001b[1;32m    599\u001b[0m         \u001b[0;32myield\u001b[0m \u001b[0mfile\u001b[0m\u001b[0;34m\u001b[0m\u001b[0;34m\u001b[0m\u001b[0m\n\u001b[1;32m    600\u001b[0m \u001b[0;34m\u001b[0m\u001b[0m\n",
            "\u001b[0;32m/usr/local/lib/python3.7/dist-packages/nltk/__init__.py\u001b[0m in \u001b[0;36mfind_file_iter\u001b[0;34m(filename, env_vars, searchpath, file_names, url, verbose, finding_dir)\u001b[0m\n\u001b[1;32m    567\u001b[0m                         (filename, url))\n\u001b[1;32m    568\u001b[0m         \u001b[0mdiv\u001b[0m \u001b[0;34m=\u001b[0m \u001b[0;34m'='\u001b[0m\u001b[0;34m*\u001b[0m\u001b[0;36m75\u001b[0m\u001b[0;34m\u001b[0m\u001b[0;34m\u001b[0m\u001b[0m\n\u001b[0;32m--> 569\u001b[0;31m         \u001b[0;32mraise\u001b[0m \u001b[0mLookupError\u001b[0m\u001b[0;34m(\u001b[0m\u001b[0;34m'\\n\\n%s\\n%s\\n%s'\u001b[0m \u001b[0;34m%\u001b[0m \u001b[0;34m(\u001b[0m\u001b[0mdiv\u001b[0m\u001b[0;34m,\u001b[0m \u001b[0mmsg\u001b[0m\u001b[0;34m,\u001b[0m \u001b[0mdiv\u001b[0m\u001b[0;34m)\u001b[0m\u001b[0;34m)\u001b[0m\u001b[0;34m\u001b[0m\u001b[0;34m\u001b[0m\u001b[0m\n\u001b[0m\u001b[1;32m    570\u001b[0m \u001b[0;34m\u001b[0m\u001b[0m\n\u001b[1;32m    571\u001b[0m \u001b[0;34m\u001b[0m\u001b[0m\n",
            "\u001b[0;31mLookupError\u001b[0m: \n\n===========================================================================\nNLTK was unable to find the prover9 file!\nUse software specific configuration paramaters or set the PROVER9 environment variable.\n\n  Searched in:\n    - /usr/local/bin/prover9\n    - /usr/local/bin/prover9/bin\n    - /usr/local/bin\n    - /usr/bin\n    - /usr/local/prover9\n    - /usr/local/share/prover9\n\n  For more information on prover9, see:\n    <http://www.cs.unm.edu/~mccune/prover9/>\n==========================================================================="
          ]
        }
      ]
    },
    {
      "cell_type": "markdown",
      "source": [
        "### Summarizing the Language of First Order Logic"
      ],
      "metadata": {
        "id": "qcBbh9mjMd25"
      }
    },
    {
      "cell_type": "markdown",
      "source": [
        "### Truth in Model"
      ],
      "metadata": {
        "id": "F2F8kuZxNUKp"
      }
    },
    {
      "cell_type": "code",
      "source": [
        "dom = {'b', 'o', 'c'}\n",
        "\n",
        "v = \"\"\"\n",
        "bertie => b\n",
        "olive => o\n",
        "cyril => c\n",
        "boy => {b}\n",
        "girl => {o}\n",
        "dog => {c}\n",
        "walk => {o, c}\n",
        "see => {(b, o), (c, b), (o, c)}\n",
        "\"\"\""
      ],
      "metadata": {
        "id": "zzLVk--EN3zY"
      },
      "execution_count": 17,
      "outputs": []
    },
    {
      "cell_type": "code",
      "source": [
        "val = nltk.Valuation.fromstring(v)\n",
        "print(val)"
      ],
      "metadata": {
        "colab": {
          "base_uri": "https://localhost:8080/"
        },
        "id": "rGXQM_OAONx3",
        "outputId": "86c5af27-5dab-4b15-fb58-eef8610506f7"
      },
      "execution_count": 18,
      "outputs": [
        {
          "output_type": "stream",
          "name": "stdout",
          "text": [
            "{'bertie': 'b',\n",
            " 'boy': {('b',)},\n",
            " 'cyril': 'c',\n",
            " 'dog': {('c',)},\n",
            " 'girl': {('o',)},\n",
            " 'olive': 'o',\n",
            " 'see': {('o', 'c'), ('b', 'o'), ('c', 'b')},\n",
            " 'walk': {('o',), ('c',)}}\n"
          ]
        }
      ]
    },
    {
      "cell_type": "code",
      "source": [
        "('o', 'c') in val['see']"
      ],
      "metadata": {
        "colab": {
          "base_uri": "https://localhost:8080/"
        },
        "id": "X5fpYNR4OTkm",
        "outputId": "f485cd98-273d-467e-ce4d-352c5367b43e"
      },
      "execution_count": 19,
      "outputs": [
        {
          "output_type": "execute_result",
          "data": {
            "text/plain": [
              "True"
            ]
          },
          "metadata": {},
          "execution_count": 19
        }
      ]
    },
    {
      "cell_type": "code",
      "source": [
        "('b', ) in val['boy']"
      ],
      "metadata": {
        "colab": {
          "base_uri": "https://localhost:8080/"
        },
        "id": "_HfquH73OkCc",
        "outputId": "f51fb5f0-9ac7-47fe-baba-c1c1b274f8f6"
      },
      "execution_count": 20,
      "outputs": [
        {
          "output_type": "execute_result",
          "data": {
            "text/plain": [
              "True"
            ]
          },
          "metadata": {},
          "execution_count": 20
        }
      ]
    },
    {
      "cell_type": "markdown",
      "source": [
        "### Individual Variables and Assignments"
      ],
      "metadata": {
        "id": "xckAEqlZOos1"
      }
    },
    {
      "cell_type": "code",
      "source": [
        "g = nltk.Assignment(dom, [('x', 'o'), ('y', 'c')])\n",
        "g"
      ],
      "metadata": {
        "colab": {
          "base_uri": "https://localhost:8080/"
        },
        "id": "N9Bjy4YoO2J2",
        "outputId": "237c957a-6b25-4c02-c516-2e1f72e843f1"
      },
      "execution_count": 22,
      "outputs": [
        {
          "output_type": "execute_result",
          "data": {
            "text/plain": [
              "{'x': 'o', 'y': 'c'}"
            ]
          },
          "metadata": {},
          "execution_count": 22
        }
      ]
    },
    {
      "cell_type": "code",
      "source": [
        "print(g)"
      ],
      "metadata": {
        "colab": {
          "base_uri": "https://localhost:8080/"
        },
        "id": "pj8y2h-AO7PR",
        "outputId": "284a9542-12cb-4cdf-c6ef-45e9b150fb8d"
      },
      "execution_count": 23,
      "outputs": [
        {
          "output_type": "stream",
          "name": "stdout",
          "text": [
            "g[c/y][o/x]\n"
          ]
        }
      ]
    },
    {
      "cell_type": "code",
      "source": [
        "m = nltk.Model(dom, val)\n",
        "m.evaluate('see(olive, y)', g)"
      ],
      "metadata": {
        "colab": {
          "base_uri": "https://localhost:8080/"
        },
        "id": "OUnXMxpNO-rB",
        "outputId": "c7707c8a-792c-40e7-8ea4-258427b422d2"
      },
      "execution_count": 24,
      "outputs": [
        {
          "output_type": "execute_result",
          "data": {
            "text/plain": [
              "True"
            ]
          },
          "metadata": {},
          "execution_count": 24
        }
      ]
    },
    {
      "cell_type": "code",
      "source": [
        "g['y']"
      ],
      "metadata": {
        "colab": {
          "base_uri": "https://localhost:8080/",
          "height": 37
        },
        "id": "vZHpwY4APGFk",
        "outputId": "d5453bcd-bbde-4ba2-81a1-c40ad03d75cf"
      },
      "execution_count": 25,
      "outputs": [
        {
          "output_type": "execute_result",
          "data": {
            "application/vnd.google.colaboratory.intrinsic+json": {
              "type": "string"
            },
            "text/plain": [
              "'c'"
            ]
          },
          "metadata": {},
          "execution_count": 25
        }
      ]
    },
    {
      "cell_type": "code",
      "source": [
        "# y -> c, x -> o : see(c, o)가 존재하는가? -> No\n",
        "# see(o, c)는 존재함\n",
        "m.evaluate('see(y, x)', g)"
      ],
      "metadata": {
        "colab": {
          "base_uri": "https://localhost:8080/"
        },
        "id": "H1Kr9inlPRTB",
        "outputId": "2a327508-2f84-47a0-858c-9ea56146ddc5"
      },
      "execution_count": 26,
      "outputs": [
        {
          "output_type": "execute_result",
          "data": {
            "text/plain": [
              "False"
            ]
          },
          "metadata": {},
          "execution_count": 26
        }
      ]
    },
    {
      "cell_type": "code",
      "source": [
        "m.evaluate('see(x, y)', g)"
      ],
      "metadata": {
        "colab": {
          "base_uri": "https://localhost:8080/"
        },
        "id": "1snc5snJPjkm",
        "outputId": "66363007-5248-43fa-9ce7-bdd91f040a8b"
      },
      "execution_count": 27,
      "outputs": [
        {
          "output_type": "execute_result",
          "data": {
            "text/plain": [
              "True"
            ]
          },
          "metadata": {},
          "execution_count": 27
        }
      ]
    },
    {
      "cell_type": "code",
      "source": [
        "g.purge()"
      ],
      "metadata": {
        "id": "1nMw7b6WPm1N"
      },
      "execution_count": 28,
      "outputs": []
    },
    {
      "cell_type": "code",
      "source": [
        "g"
      ],
      "metadata": {
        "colab": {
          "base_uri": "https://localhost:8080/"
        },
        "id": "-ziuulicPtEW",
        "outputId": "c17f45de-6a95-4635-ff11-eb0ec2ba2c2f"
      },
      "execution_count": 29,
      "outputs": [
        {
          "output_type": "execute_result",
          "data": {
            "text/plain": [
              "{}"
            ]
          },
          "metadata": {},
          "execution_count": 29
        }
      ]
    },
    {
      "cell_type": "code",
      "source": [
        "m.evaluate('see(olive, y)', g)"
      ],
      "metadata": {
        "colab": {
          "base_uri": "https://localhost:8080/",
          "height": 37
        },
        "id": "58BPl2BLPtZJ",
        "outputId": "13568f77-a078-4917-a7be-c46def99407c"
      },
      "execution_count": 30,
      "outputs": [
        {
          "output_type": "execute_result",
          "data": {
            "application/vnd.google.colaboratory.intrinsic+json": {
              "type": "string"
            },
            "text/plain": [
              "'Undefined'"
            ]
          },
          "metadata": {},
          "execution_count": 30
        }
      ]
    },
    {
      "cell_type": "code",
      "source": [
        "m.evaluate('see(bertie, olive) & boy(bertie) & -walk(bertie)', g)"
      ],
      "metadata": {
        "colab": {
          "base_uri": "https://localhost:8080/"
        },
        "id": "s_3V0G3DPwW_",
        "outputId": "7bdaee42-6903-40d0-8bc8-053a01af9b52"
      },
      "execution_count": 31,
      "outputs": [
        {
          "output_type": "execute_result",
          "data": {
            "text/plain": [
              "True"
            ]
          },
          "metadata": {},
          "execution_count": 31
        }
      ]
    },
    {
      "cell_type": "markdown",
      "source": [
        "### Quantification"
      ],
      "metadata": {
        "id": "KJ_urg3pQFzQ"
      }
    },
    {
      "cell_type": "code",
      "source": [
        "m.evaluate('exists x.(girl(x) & walk(x))', g)"
      ],
      "metadata": {
        "colab": {
          "base_uri": "https://localhost:8080/"
        },
        "id": "KFv9ZjruQTv9",
        "outputId": "8f6511d0-0fc5-440e-da5f-48dac9f292fa"
      },
      "execution_count": 33,
      "outputs": [
        {
          "output_type": "execute_result",
          "data": {
            "text/plain": [
              "True"
            ]
          },
          "metadata": {},
          "execution_count": 33
        }
      ]
    },
    {
      "cell_type": "code",
      "source": [
        "m.evaluate('girl(x) & walk(x)', g.add('x', 'o'))"
      ],
      "metadata": {
        "colab": {
          "base_uri": "https://localhost:8080/"
        },
        "id": "sAbHB7xFQbAC",
        "outputId": "84e6aa83-d01c-4490-fced-6b9f430f03de"
      },
      "execution_count": 34,
      "outputs": [
        {
          "output_type": "execute_result",
          "data": {
            "text/plain": [
              "True"
            ]
          },
          "metadata": {},
          "execution_count": 34
        }
      ]
    },
    {
      "cell_type": "code",
      "source": [
        "fmla1 = read_expr('girl(x) | boy(x)')\n",
        "m.satisfiers(fmla1, 'x', g)"
      ],
      "metadata": {
        "colab": {
          "base_uri": "https://localhost:8080/"
        },
        "id": "ABc-9-H3Qfx6",
        "outputId": "236b48b6-87d9-4402-db34-a450526965e6"
      },
      "execution_count": 35,
      "outputs": [
        {
          "output_type": "execute_result",
          "data": {
            "text/plain": [
              "{'b', 'o'}"
            ]
          },
          "metadata": {},
          "execution_count": 35
        }
      ]
    },
    {
      "cell_type": "code",
      "source": [
        "fmla2 = read_expr('girl(x) -> walk(x)')\n",
        "m.satisfiers(fmla2, 'x', g)"
      ],
      "metadata": {
        "colab": {
          "base_uri": "https://localhost:8080/"
        },
        "id": "drq9vKP6Qq4H",
        "outputId": "cadc222b-24cf-4d59-a4a4-aeaf49814893"
      },
      "execution_count": 36,
      "outputs": [
        {
          "output_type": "execute_result",
          "data": {
            "text/plain": [
              "{'b', 'c', 'o'}"
            ]
          },
          "metadata": {},
          "execution_count": 36
        }
      ]
    },
    {
      "cell_type": "code",
      "source": [
        "fmla3 = read_expr('walk(x) -> girl(x)')\n",
        "m.satisfiers(fmla3, 'x', g)"
      ],
      "metadata": {
        "colab": {
          "base_uri": "https://localhost:8080/"
        },
        "id": "d0tchxlVQ3Et",
        "outputId": "671958b1-4b60-462d-81db-4f80e1df27ea"
      },
      "execution_count": 37,
      "outputs": [
        {
          "output_type": "execute_result",
          "data": {
            "text/plain": [
              "{'b', 'o'}"
            ]
          },
          "metadata": {},
          "execution_count": 37
        }
      ]
    },
    {
      "cell_type": "code",
      "source": [
        "m.evaluate('all x.(girl(x) -> walk(x))', g)"
      ],
      "metadata": {
        "colab": {
          "base_uri": "https://localhost:8080/"
        },
        "id": "q_wmScMlQ9XT",
        "outputId": "81a9da27-2a8c-455f-ef88-7f3f83cf8b36"
      },
      "execution_count": 39,
      "outputs": [
        {
          "output_type": "execute_result",
          "data": {
            "text/plain": [
              "True"
            ]
          },
          "metadata": {},
          "execution_count": 39
        }
      ]
    },
    {
      "cell_type": "markdown",
      "source": [
        "### Quantifier Scope Ambiguity"
      ],
      "metadata": {
        "id": "r9iirttlRXKJ"
      }
    },
    {
      "cell_type": "code",
      "source": [
        "v2 = \"\"\"\n",
        "bruce => b\n",
        "elspeth => e\n",
        "julia => j\n",
        "matthew => m\n",
        "person => {b, e, j, m}\n",
        "admire => {(j, b), (b, b), (m, e), (e, m)}\n",
        "\"\"\"\n",
        "val2 = nltk.Valuation.fromstring(v2)"
      ],
      "metadata": {
        "id": "rqrGvjC6SFzh"
      },
      "execution_count": 44,
      "outputs": []
    },
    {
      "cell_type": "code",
      "source": [
        "dom2 = val2.domain\n",
        "m2 = nltk.Model(dom2, val2)\n",
        "g2 = nltk.Assignment(dom2)\n",
        "fmla4 = read_expr('(person(x) -> exists y.(person(y) & admire(x, y)))')\n",
        "m2.satisfiers(fmla4, 'x', g2)"
      ],
      "metadata": {
        "colab": {
          "base_uri": "https://localhost:8080/"
        },
        "id": "e4Fgb8s8STyp",
        "outputId": "95fc0c13-b788-4344-8ef7-83d8d5f23094"
      },
      "execution_count": 45,
      "outputs": [
        {
          "output_type": "execute_result",
          "data": {
            "text/plain": [
              "{'b', 'e', 'j', 'm'}"
            ]
          },
          "metadata": {},
          "execution_count": 45
        }
      ]
    },
    {
      "cell_type": "code",
      "source": [
        "fmla5 = read_expr('(person(y) & all x.(person(x) -> admire(x, y)))')\n",
        "m2.satisfiers(fmla5, 'y', g2)"
      ],
      "metadata": {
        "colab": {
          "base_uri": "https://localhost:8080/"
        },
        "id": "FYDqRYNOS2NY",
        "outputId": "386585db-668d-4c28-8972-3f910ba553d5"
      },
      "execution_count": 46,
      "outputs": [
        {
          "output_type": "execute_result",
          "data": {
            "text/plain": [
              "set()"
            ]
          },
          "metadata": {},
          "execution_count": 46
        }
      ]
    },
    {
      "cell_type": "code",
      "source": [
        "fmla6 = read_expr('(person(y) & all x.((x = bruce | x = julia) -> admire(x, y)))')\n",
        "m2.satisfiers(fmla6, 'y', g2)"
      ],
      "metadata": {
        "colab": {
          "base_uri": "https://localhost:8080/"
        },
        "id": "apgOjE5ITKvj",
        "outputId": "6319e2b7-3b31-45c0-a267-d037dc45e928"
      },
      "execution_count": 47,
      "outputs": [
        {
          "output_type": "execute_result",
          "data": {
            "text/plain": [
              "{'b'}"
            ]
          },
          "metadata": {},
          "execution_count": 47
        }
      ]
    },
    {
      "cell_type": "markdown",
      "source": [
        "### Model Building"
      ],
      "metadata": {
        "id": "clwwO8IVTcul"
      }
    },
    {
      "cell_type": "code",
      "source": [
        "a3 = read_expr('exists x.(man(x) & walk(x))')\n",
        "c1 = read_expr('mortal(socrates)')\n",
        "c2 = read_expr('-mortal(socrates)')\n",
        "mb = nltk.Mace(5)"
      ],
      "metadata": {
        "id": "UCfep6KcTqmg"
      },
      "execution_count": 48,
      "outputs": []
    },
    {
      "cell_type": "code",
      "source": [
        "\"\"\"http://www.cs.unm.edu/~mccune/prover9/\"\"\"\n",
        "# mb.build_model(None, [a3, c1]) -> True\n",
        "# mb.build_model(None, [a3, c2]) -> True\n",
        "# mb.build_model(None, [c1, c2]) -> False"
      ],
      "metadata": {
        "colab": {
          "base_uri": "https://localhost:8080/",
          "height": 37
        },
        "id": "MKKH1SYdT2kH",
        "outputId": "37aad672-f794-4862-b286-caa9eed79f0d"
      },
      "execution_count": 52,
      "outputs": [
        {
          "output_type": "execute_result",
          "data": {
            "application/vnd.google.colaboratory.intrinsic+json": {
              "type": "string"
            },
            "text/plain": [
              "'http://www.cs.unm.edu/~mccune/prover9/'"
            ]
          },
          "metadata": {},
          "execution_count": 52
        }
      ]
    },
    {
      "cell_type": "code",
      "source": [
        "a4 = read_expr('exists y. (woman(y) & all x. (man(x) -> love(x, y)))')\n",
        "a5 = read_expr('man(adam)')\n",
        "a6 = read_expr('woman(eve)')\n",
        "g = read_expr('love(adam, eve)')\n",
        "mc = nltk.MaceCommand(g, assumptions=[a4, a5, a6])\n",
        "mc.build_model()"
      ],
      "metadata": {
        "id": "MoQn6AZtT6OC"
      },
      "execution_count": null,
      "outputs": []
    },
    {
      "cell_type": "code",
      "source": [
        "\"\"\"\n",
        "mc.valuation\n",
        "\n",
        "{'C1': 'b',\n",
        " 'adam': 'a',\n",
        " 'eve': 'a',\n",
        " 'love': {('a', 'b')},\n",
        " 'man': {('a',)},\n",
        " 'woman': {('a',), ('b',)}}\n",
        "\n",
        "\"\"\""
      ],
      "metadata": {
        "id": "iIjC6cLUVH_t"
      },
      "execution_count": null,
      "outputs": []
    },
    {
      "cell_type": "code",
      "source": [
        "# man과 woman은 서로 disjoint set이라는 것을 명시해주어야 adam과 eve가 같은 'a'로 mapping되지 않음\n",
        "a7 = read_expr('all x. (man(x) -> -woman(x))')\n",
        "\n",
        "g = read_expr('love(adam, eve)')\n",
        "mc = nltk.MaceCommand(g, assumptions=[a4, a5, a6, a7])\n",
        "mc.build_model()"
      ],
      "metadata": {
        "id": "YteJ_cCvV-xa"
      },
      "execution_count": null,
      "outputs": []
    },
    {
      "cell_type": "code",
      "source": [
        "\"\"\"\n",
        "mc.valuation\n",
        "\n",
        "{'C1': 'c',\n",
        " 'adam': 'a',\n",
        " 'eve': 'b',\n",
        " 'love': {('a', 'c')},\n",
        " 'man': {('a',)},\n",
        " 'woman': {('c',), ('b',)}}\n",
        "\n",
        "\"\"\""
      ],
      "metadata": {
        "id": "JMxzAfIBWVPz"
      },
      "execution_count": null,
      "outputs": []
    },
    {
      "cell_type": "markdown",
      "source": [
        "## 4. The Semantics of English Sentences"
      ],
      "metadata": {
        "id": "sMpVIsTFWdDz"
      }
    },
    {
      "cell_type": "markdown",
      "source": [
        "### Compositional Semantics  in Feature-Based Grammar"
      ],
      "metadata": {
        "id": "Tgs1K46Gg1yE"
      }
    },
    {
      "cell_type": "code",
      "source": [
        "# S[SEM=<?vp(?np)>] -> NP[SEM=?np] VP[SEM=?vp]\n",
        "\n",
        "# VP[SEM=?v] -> IV[SEM=?v]\n",
        "# NP[SEM=<cyril>] -> 'Cyril'\n",
        "# IV[SEM=<\\x.bark(x)>] -> 'barks'"
      ],
      "metadata": {
        "id": "-L1ZrDfuht2x"
      },
      "execution_count": null,
      "outputs": []
    },
    {
      "cell_type": "markdown",
      "source": [
        "### The λ-Calculus"
      ],
      "metadata": {
        "id": "3_q0L362iViJ"
      }
    },
    {
      "cell_type": "code",
      "source": [
        "read_expr = nltk.sem.Expression.fromstring\n",
        "expr = read_expr(r'\\x.(walk(x) & chew_gum(x))')\n",
        "expr"
      ],
      "metadata": {
        "colab": {
          "base_uri": "https://localhost:8080/"
        },
        "id": "LSmbbYgUi6M8",
        "outputId": "c664054f-c61b-4155-a5ed-c98a286e7afa"
      },
      "execution_count": 54,
      "outputs": [
        {
          "output_type": "execute_result",
          "data": {
            "text/plain": [
              "<LambdaExpression \\x.(walk(x) & chew_gum(x))>"
            ]
          },
          "metadata": {},
          "execution_count": 54
        }
      ]
    },
    {
      "cell_type": "code",
      "source": [
        "expr.free()"
      ],
      "metadata": {
        "colab": {
          "base_uri": "https://localhost:8080/"
        },
        "id": "0gnCv5rxjExQ",
        "outputId": "49684394-90b3-4bb8-adf9-88ea762baa05"
      },
      "execution_count": 55,
      "outputs": [
        {
          "output_type": "execute_result",
          "data": {
            "text/plain": [
              "set()"
            ]
          },
          "metadata": {},
          "execution_count": 55
        }
      ]
    },
    {
      "cell_type": "code",
      "source": [
        "expr = read_expr(r'\\x.(walk(x) & chew_gum(x))(gerald)')\n",
        "print(expr)"
      ],
      "metadata": {
        "colab": {
          "base_uri": "https://localhost:8080/"
        },
        "id": "W726FE9CjGyC",
        "outputId": "7dd5c712-d15e-4ad8-b0e6-174579d1c08e"
      },
      "execution_count": 57,
      "outputs": [
        {
          "output_type": "stream",
          "name": "stdout",
          "text": [
            "\\x.(walk(x) & chew_gum(x))(gerald)\n"
          ]
        }
      ]
    },
    {
      "cell_type": "code",
      "source": [
        "print(expr.simplify())"
      ],
      "metadata": {
        "colab": {
          "base_uri": "https://localhost:8080/"
        },
        "id": "n2CQggzZkhsP",
        "outputId": "d8126123-3ba7-44fe-bc12-19462c25c9dc"
      },
      "execution_count": 58,
      "outputs": [
        {
          "output_type": "stream",
          "name": "stdout",
          "text": [
            "(walk(gerald) & chew_gum(gerald))\n"
          ]
        }
      ]
    },
    {
      "cell_type": "code",
      "source": [
        "print(read_expr(r'\\x.\\y.(dog(x) & own(y, x))(cyril)').simplify())"
      ],
      "metadata": {
        "colab": {
          "base_uri": "https://localhost:8080/"
        },
        "id": "pR3GATK4kn5F",
        "outputId": "f113e7bf-336a-4c08-9b40-a49b41a1a0ec"
      },
      "execution_count": 60,
      "outputs": [
        {
          "output_type": "stream",
          "name": "stdout",
          "text": [
            "\\y.(dog(cyril) & own(y,cyril))\n"
          ]
        }
      ]
    },
    {
      "cell_type": "code",
      "source": [
        "print(read_expr(r'\\x y.(dog(x) & own(y, x))(cyril, angus)').simplify())"
      ],
      "metadata": {
        "colab": {
          "base_uri": "https://localhost:8080/"
        },
        "id": "LO1hH1Jdk_Pg",
        "outputId": "7496e82c-ec17-496b-e2ab-578f97dda2b7"
      },
      "execution_count": 61,
      "outputs": [
        {
          "output_type": "stream",
          "name": "stdout",
          "text": [
            "(dog(cyril) & own(angus,cyril))\n"
          ]
        }
      ]
    },
    {
      "cell_type": "code",
      "source": [
        "expr1 = read_expr('exists x.P(x)')\n",
        "print(expr1)"
      ],
      "metadata": {
        "colab": {
          "base_uri": "https://localhost:8080/"
        },
        "id": "7z2MsNOmlL0X",
        "outputId": "ad22f488-51f9-4721-9293-09ae60db55a8"
      },
      "execution_count": 62,
      "outputs": [
        {
          "output_type": "stream",
          "name": "stdout",
          "text": [
            "exists x.P(x)\n"
          ]
        }
      ]
    },
    {
      "cell_type": "code",
      "source": [
        "expr2 = expr1.alpha_convert(nltk.sem.Variable('z'))\n",
        "print(expr2)"
      ],
      "metadata": {
        "colab": {
          "base_uri": "https://localhost:8080/"
        },
        "id": "S-h4qkbMl8sr",
        "outputId": "e0cc9ee6-294b-4b9f-f50f-24ba81dd20ac"
      },
      "execution_count": 63,
      "outputs": [
        {
          "output_type": "stream",
          "name": "stdout",
          "text": [
            "exists z.P(z)\n"
          ]
        }
      ]
    },
    {
      "cell_type": "code",
      "source": [
        "expr1 == expr2"
      ],
      "metadata": {
        "colab": {
          "base_uri": "https://localhost:8080/"
        },
        "id": "ySOriQrTmBoc",
        "outputId": "ab9028cb-7bca-4a6b-fb9f-032ecd92c178"
      },
      "execution_count": 64,
      "outputs": [
        {
          "output_type": "execute_result",
          "data": {
            "text/plain": [
              "True"
            ]
          },
          "metadata": {},
          "execution_count": 64
        }
      ]
    },
    {
      "cell_type": "code",
      "source": [
        "expr3 = read_expr('\\P.(exists x.P(x))(\\y.see(y, x))')\n",
        "print(expr3)"
      ],
      "metadata": {
        "colab": {
          "base_uri": "https://localhost:8080/"
        },
        "id": "hZmq6lxhmDsf",
        "outputId": "5e70c360-9112-4b92-8c86-cea168883769"
      },
      "execution_count": 65,
      "outputs": [
        {
          "output_type": "stream",
          "name": "stdout",
          "text": [
            "(\\P.exists x.P(x))(\\y.see(y,x))\n"
          ]
        }
      ]
    },
    {
      "cell_type": "code",
      "source": [
        "print(expr3.simplify())"
      ],
      "metadata": {
        "colab": {
          "base_uri": "https://localhost:8080/"
        },
        "id": "QnkZaUG3mMA_",
        "outputId": "a87ac821-d54d-4b7e-cb7b-aaa8de962dba"
      },
      "execution_count": 66,
      "outputs": [
        {
          "output_type": "stream",
          "name": "stdout",
          "text": [
            "exists z1.see(z1,x)\n"
          ]
        }
      ]
    },
    {
      "cell_type": "markdown",
      "source": [
        "### Quantified NPs"
      ],
      "metadata": {
        "id": "ZfaRl7crn3Fx"
      }
    },
    {
      "cell_type": "code",
      "source": [
        "\"\"\"\n",
        "exists x.(dog(x) & bark(x))\n",
        "\n",
        "\\P.exists x.(dog(x) & P(x))\n",
        "\n",
        "\\P.all x.(dog(x) -> P(x))\n",
        "\n",
        "\\Q P.exists x.(Q(x) & P(x))\n",
        "\"\"\""
      ],
      "metadata": {
        "id": "LckydarhmRBj"
      },
      "execution_count": null,
      "outputs": []
    },
    {
      "cell_type": "markdown",
      "source": [
        "### Transitive Verbs"
      ],
      "metadata": {
        "id": "wYBtVxMnny77"
      }
    },
    {
      "cell_type": "code",
      "source": [
        "\"\"\"\n",
        "Angus chases a dog\n",
        "\n",
        "\\y.exists x.(dog(x) & chase(y, x))\n",
        "\n",
        "\\P.exists x.(dog(x) & P(x))(\\z.chase(y, z))\n",
        "-> exists x.(dog(x) & chase(y, x))\n",
        "\n",
        "X(\\z.cahse(y, z))\n",
        "\\X y.X(\\x.chase(y, x))\n",
        "\"\"\""
      ],
      "metadata": {
        "id": "uoquS5bHoNtW"
      },
      "execution_count": null,
      "outputs": []
    },
    {
      "cell_type": "code",
      "source": [
        "read_expr = nltk.sem.Expression.fromstring\n",
        "tvp = read_expr(r'\\X x.X(\\y.chase(x,y))')\n",
        "np = read_expr(r'(\\P.exists x.(dog(x) & P(x)))')\n",
        "vp = nltk.sem.ApplicationExpression(tvp, np)\n",
        "print(vp)"
      ],
      "metadata": {
        "colab": {
          "base_uri": "https://localhost:8080/"
        },
        "id": "HjX8b8w1pFjO",
        "outputId": "a5aa614f-6033-49d5-cb0f-456188e969de"
      },
      "execution_count": 68,
      "outputs": [
        {
          "output_type": "stream",
          "name": "stdout",
          "text": [
            "(\\X x.X(\\y.chase(x,y)))(\\P.exists x.(dog(x) & P(x)))\n"
          ]
        }
      ]
    },
    {
      "cell_type": "code",
      "source": [
        "print(vp.simplify())"
      ],
      "metadata": {
        "colab": {
          "base_uri": "https://localhost:8080/"
        },
        "id": "ZW_DYPbrpauZ",
        "outputId": "90712bab-f121-4200-cbe2-f262cc4420f5"
      },
      "execution_count": 69,
      "outputs": [
        {
          "output_type": "stream",
          "name": "stdout",
          "text": [
            "\\x.exists z2.(dog(z2) & chase(x,z2))\n"
          ]
        }
      ]
    },
    {
      "cell_type": "code",
      "source": [
        "nltk.download('book_grammars')"
      ],
      "metadata": {
        "colab": {
          "base_uri": "https://localhost:8080/"
        },
        "id": "yFMbTXKXqjrX",
        "outputId": "5bf07572-bbd7-41b7-c6e5-58ffeb9ff99c"
      },
      "execution_count": 71,
      "outputs": [
        {
          "output_type": "stream",
          "name": "stdout",
          "text": [
            "[nltk_data] Downloading package book_grammars to /root/nltk_data...\n",
            "[nltk_data]   Unzipping grammars/book_grammars.zip.\n"
          ]
        },
        {
          "output_type": "execute_result",
          "data": {
            "text/plain": [
              "True"
            ]
          },
          "metadata": {},
          "execution_count": 71
        }
      ]
    },
    {
      "cell_type": "code",
      "source": [
        "from nltk import load_parser\n",
        "parser = load_parser('grammars/book_grammars/simple-sem.fcfg', trace=0)\n",
        "sentence = 'Angus gives a bone to every dog'\n",
        "tokens = sentence.split()\n",
        "for tree in parser.parse(tokens):\n",
        "  print(tree.label()['SEM'])"
      ],
      "metadata": {
        "colab": {
          "base_uri": "https://localhost:8080/"
        },
        "id": "fHh_lYfipil3",
        "outputId": "1fe5b603-0d92-40d8-e3b5-586c71515785"
      },
      "execution_count": 72,
      "outputs": [
        {
          "output_type": "stream",
          "name": "stdout",
          "text": [
            "all z4.(dog(z4) -> exists z3.(bone(z3) & give(angus,z3,z4)))\n"
          ]
        }
      ]
    },
    {
      "cell_type": "code",
      "source": [
        "sents = ['Irene walks', 'Cyril bites an ankle']\n",
        "grammar_file = 'grammars/book_grammars/simple-sem.fcfg'\n",
        "for results in nltk.interpret_sents(sents, grammar_file):\n",
        "  for (synrep, semrep) in results:\n",
        "    print(synrep)"
      ],
      "metadata": {
        "colab": {
          "base_uri": "https://localhost:8080/"
        },
        "id": "ERgm6SSIqic_",
        "outputId": "b9a410cf-d0a3-42ae-fb3e-1e9fd8ec3761"
      },
      "execution_count": 73,
      "outputs": [
        {
          "output_type": "stream",
          "name": "stdout",
          "text": [
            "(S[SEM=<walk(irene)>]\n",
            "  (NP[-LOC, NUM='sg', SEM=<\\P.P(irene)>]\n",
            "    (PropN[-LOC, NUM='sg', SEM=<\\P.P(irene)>] Irene))\n",
            "  (VP[NUM='sg', SEM=<\\x.walk(x)>]\n",
            "    (IV[NUM='sg', SEM=<\\x.walk(x)>, TNS='pres'] walks)))\n",
            "(S[SEM=<exists z5.(ankle(z5) & bite(cyril,z5))>]\n",
            "  (NP[-LOC, NUM='sg', SEM=<\\P.P(cyril)>]\n",
            "    (PropN[-LOC, NUM='sg', SEM=<\\P.P(cyril)>] Cyril))\n",
            "  (VP[NUM='sg', SEM=<\\x.exists z5.(ankle(z5) & bite(x,z5))>]\n",
            "    (TV[NUM='sg', SEM=<\\X x.X(\\y.bite(x,y))>, TNS='pres'] bites)\n",
            "    (NP[NUM='sg', SEM=<\\Q.exists x.(ankle(x) & Q(x))>]\n",
            "      (Det[NUM='sg', SEM=<\\P Q.exists x.(P(x) & Q(x))>] an)\n",
            "      (Nom[NUM='sg', SEM=<\\x.ankle(x)>]\n",
            "        (N[NUM='sg', SEM=<\\x.ankle(x)>] ankle)))))\n"
          ]
        }
      ]
    },
    {
      "cell_type": "code",
      "source": [
        "v = \"\"\"\n",
        "bertie => b\n",
        "olive => o\n",
        "cyril => c\n",
        "boy => {b}\n",
        "girl => {o}\n",
        "dog => {c}\n",
        "walk => {o, c}\n",
        "see => {(b, o), (c, b), (o, c)}\n",
        "\"\"\""
      ],
      "metadata": {
        "id": "5OjodgEtrGiw"
      },
      "execution_count": 74,
      "outputs": []
    },
    {
      "cell_type": "code",
      "source": [
        "val = nltk.Valuation.fromstring(v)\n",
        "g = nltk.Assignment(val.domain)\n",
        "m = nltk.Model(val.domain, val)\n",
        "sent = 'Cyril sees every boy'\n",
        "grammar_file = 'grammars/book_grammars/simple-sem.fcfg'\n",
        "results = nltk.evaluate_sents([sent], grammar_file, m, g)[0]\n",
        "for (syntree, semrep, value) in results:\n",
        "  print(semrep)\n",
        "  print(value)"
      ],
      "metadata": {
        "colab": {
          "base_uri": "https://localhost:8080/"
        },
        "id": "6WNDZqymrbyM",
        "outputId": "b28792a6-270b-4138-ee5d-aae9bff05483"
      },
      "execution_count": 75,
      "outputs": [
        {
          "output_type": "stream",
          "name": "stdout",
          "text": [
            "all z6.(boy(z6) -> see(cyril,z6))\n",
            "True\n"
          ]
        }
      ]
    },
    {
      "cell_type": "markdown",
      "source": [
        "### Quantifier Ambiguity Revisited"
      ],
      "metadata": {
        "id": "_FVmezNcr6Gg"
      }
    },
    {
      "cell_type": "code",
      "source": [
        "from nltk.sem import cooper_storage as cs\n",
        "sentence = 'every girl chases a dog'\n",
        "trees = cs.parse_with_bindops(sentence, grammar='grammars/book_grammars/storage.fcfg')\n",
        "semrep = trees[0].label()['SEM']\n",
        "cs_semrep = cs.CooperStore(semrep)\n",
        "print(cs_semrep.core)"
      ],
      "metadata": {
        "colab": {
          "base_uri": "https://localhost:8080/"
        },
        "id": "5DiuimKxsnJ1",
        "outputId": "dd349204-7328-4f3d-855c-2506059e1d09"
      },
      "execution_count": 76,
      "outputs": [
        {
          "output_type": "stream",
          "name": "stdout",
          "text": [
            "chase(z2,z3)\n"
          ]
        }
      ]
    },
    {
      "cell_type": "code",
      "source": [
        "for bo in cs_semrep.store:\n",
        "  print(bo)"
      ],
      "metadata": {
        "colab": {
          "base_uri": "https://localhost:8080/"
        },
        "id": "WHdKFIQFs5mU",
        "outputId": "bf1f199b-7fff-491e-a190-96d890dd51ac"
      },
      "execution_count": 77,
      "outputs": [
        {
          "output_type": "stream",
          "name": "stdout",
          "text": [
            "bo(\\P.all x.(girl(x) -> P(x)),z2)\n",
            "bo(\\P.exists x.(dog(x) & P(x)),z3)\n"
          ]
        }
      ]
    },
    {
      "cell_type": "code",
      "source": [
        "cs_semrep.s_retrieve(trace=True)"
      ],
      "metadata": {
        "colab": {
          "base_uri": "https://localhost:8080/"
        },
        "id": "0T6xXOJ1tBg7",
        "outputId": "af411037-8612-4a55-c8bc-9d6bd2eee36e"
      },
      "execution_count": 78,
      "outputs": [
        {
          "output_type": "stream",
          "name": "stdout",
          "text": [
            "Permutation 1\n",
            "   (\\P.all x.(girl(x) -> P(x)))(\\z2.chase(z2,z3))\n",
            "   (\\P.exists x.(dog(x) & P(x)))(\\z3.all x.(girl(x) -> chase(x,z3)))\n",
            "Permutation 2\n",
            "   (\\P.exists x.(dog(x) & P(x)))(\\z3.chase(z2,z3))\n",
            "   (\\P.all x.(girl(x) -> P(x)))(\\z2.exists x.(dog(x) & chase(z2,x)))\n"
          ]
        }
      ]
    },
    {
      "cell_type": "code",
      "source": [
        "for reading in cs_semrep.readings:\n",
        "  print(reading)"
      ],
      "metadata": {
        "colab": {
          "base_uri": "https://localhost:8080/"
        },
        "id": "97DqMQAptNtS",
        "outputId": "af8acdd8-7ee0-4bee-bec6-c74a11943aa1"
      },
      "execution_count": 80,
      "outputs": [
        {
          "output_type": "stream",
          "name": "stdout",
          "text": [
            "exists x.(dog(x) & all z9.(girl(z9) -> chase(z9,x)))\n",
            "all x.(girl(x) -> exists z10.(dog(z10) & chase(x,z10)))\n"
          ]
        }
      ]
    },
    {
      "cell_type": "markdown",
      "source": [
        "## 5. Discoure Semantics"
      ],
      "metadata": {
        "id": "3Us72kF1zqUm"
      }
    },
    {
      "cell_type": "markdown",
      "source": [
        "### Discourse Representation Theory"
      ],
      "metadata": {
        "id": "LLTwup00z97q"
      }
    },
    {
      "cell_type": "code",
      "source": [
        "read_dexpr = nltk.sem.DrtExpression.fromstring\n",
        "drs1 = read_dexpr('([x, y], [angus(x), dog(y), own(x, y)])')\n",
        "print(drs1)"
      ],
      "metadata": {
        "colab": {
          "base_uri": "https://localhost:8080/"
        },
        "id": "q_vT92pU04Se",
        "outputId": "63b50c3b-50a2-499f-b53d-f575d3a3aa93"
      },
      "execution_count": 81,
      "outputs": [
        {
          "output_type": "stream",
          "name": "stdout",
          "text": [
            "([x,y],[angus(x), dog(y), own(x,y)])\n"
          ]
        }
      ]
    },
    {
      "cell_type": "code",
      "source": [
        "drs1.draw()"
      ],
      "metadata": {
        "colab": {
          "base_uri": "https://localhost:8080/",
          "height": 307
        },
        "id": "PKIsJx7j1EQR",
        "outputId": "9b857137-e829-447f-b1d1-5bd53799adfa"
      },
      "execution_count": 82,
      "outputs": [
        {
          "output_type": "error",
          "ename": "TclError",
          "evalue": "ignored",
          "traceback": [
            "\u001b[0;31m---------------------------------------------------------------------------\u001b[0m",
            "\u001b[0;31mTclError\u001b[0m                                  Traceback (most recent call last)",
            "\u001b[0;32m<ipython-input-82-db587efb63d0>\u001b[0m in \u001b[0;36m<module>\u001b[0;34m()\u001b[0m\n\u001b[0;32m----> 1\u001b[0;31m \u001b[0mdrs1\u001b[0m\u001b[0;34m.\u001b[0m\u001b[0mdraw\u001b[0m\u001b[0;34m(\u001b[0m\u001b[0;34m)\u001b[0m\u001b[0;34m\u001b[0m\u001b[0;34m\u001b[0m\u001b[0m\n\u001b[0m",
            "\u001b[0;32m/usr/local/lib/python3.7/dist-packages/nltk/sem/drt.py\u001b[0m in \u001b[0;36mdraw\u001b[0;34m(self)\u001b[0m\n\u001b[1;32m    271\u001b[0m \u001b[0;34m\u001b[0m\u001b[0m\n\u001b[1;32m    272\u001b[0m     \u001b[0;32mdef\u001b[0m \u001b[0mdraw\u001b[0m\u001b[0;34m(\u001b[0m\u001b[0mself\u001b[0m\u001b[0;34m)\u001b[0m\u001b[0;34m:\u001b[0m\u001b[0;34m\u001b[0m\u001b[0;34m\u001b[0m\u001b[0m\n\u001b[0;32m--> 273\u001b[0;31m         \u001b[0mDrsDrawer\u001b[0m\u001b[0;34m(\u001b[0m\u001b[0mself\u001b[0m\u001b[0;34m)\u001b[0m\u001b[0;34m.\u001b[0m\u001b[0mdraw\u001b[0m\u001b[0;34m(\u001b[0m\u001b[0;34m)\u001b[0m\u001b[0;34m\u001b[0m\u001b[0;34m\u001b[0m\u001b[0m\n\u001b[0m\u001b[1;32m    274\u001b[0m \u001b[0;34m\u001b[0m\u001b[0m\n\u001b[1;32m    275\u001b[0m \u001b[0;34m\u001b[0m\u001b[0m\n",
            "\u001b[0;32m/usr/local/lib/python3.7/dist-packages/nltk/sem/drt.py\u001b[0m in \u001b[0;36m__init__\u001b[0;34m(self, drs, size_canvas, canvas)\u001b[0m\n\u001b[1;32m    933\u001b[0m         \u001b[0mmaster\u001b[0m \u001b[0;34m=\u001b[0m \u001b[0;32mNone\u001b[0m\u001b[0;34m\u001b[0m\u001b[0;34m\u001b[0m\u001b[0m\n\u001b[1;32m    934\u001b[0m         \u001b[0;32mif\u001b[0m \u001b[0;32mnot\u001b[0m \u001b[0mcanvas\u001b[0m\u001b[0;34m:\u001b[0m\u001b[0;34m\u001b[0m\u001b[0;34m\u001b[0m\u001b[0m\n\u001b[0;32m--> 935\u001b[0;31m             \u001b[0mmaster\u001b[0m \u001b[0;34m=\u001b[0m \u001b[0mTk\u001b[0m\u001b[0;34m(\u001b[0m\u001b[0;34m)\u001b[0m\u001b[0;34m\u001b[0m\u001b[0;34m\u001b[0m\u001b[0m\n\u001b[0m\u001b[1;32m    936\u001b[0m             \u001b[0mmaster\u001b[0m\u001b[0;34m.\u001b[0m\u001b[0mtitle\u001b[0m\u001b[0;34m(\u001b[0m\u001b[0;34m\"DRT\"\u001b[0m\u001b[0;34m)\u001b[0m\u001b[0;34m\u001b[0m\u001b[0;34m\u001b[0m\u001b[0m\n\u001b[1;32m    937\u001b[0m \u001b[0;34m\u001b[0m\u001b[0m\n",
            "\u001b[0;32m/usr/lib/python3.7/tkinter/__init__.py\u001b[0m in \u001b[0;36m__init__\u001b[0;34m(self, screenName, baseName, className, useTk, sync, use)\u001b[0m\n\u001b[1;32m   2021\u001b[0m                 \u001b[0mbaseName\u001b[0m \u001b[0;34m=\u001b[0m \u001b[0mbaseName\u001b[0m \u001b[0;34m+\u001b[0m \u001b[0mext\u001b[0m\u001b[0;34m\u001b[0m\u001b[0;34m\u001b[0m\u001b[0m\n\u001b[1;32m   2022\u001b[0m         \u001b[0minteractive\u001b[0m \u001b[0;34m=\u001b[0m \u001b[0;36m0\u001b[0m\u001b[0;34m\u001b[0m\u001b[0;34m\u001b[0m\u001b[0m\n\u001b[0;32m-> 2023\u001b[0;31m         \u001b[0mself\u001b[0m\u001b[0;34m.\u001b[0m\u001b[0mtk\u001b[0m \u001b[0;34m=\u001b[0m \u001b[0m_tkinter\u001b[0m\u001b[0;34m.\u001b[0m\u001b[0mcreate\u001b[0m\u001b[0;34m(\u001b[0m\u001b[0mscreenName\u001b[0m\u001b[0;34m,\u001b[0m \u001b[0mbaseName\u001b[0m\u001b[0;34m,\u001b[0m \u001b[0mclassName\u001b[0m\u001b[0;34m,\u001b[0m \u001b[0minteractive\u001b[0m\u001b[0;34m,\u001b[0m \u001b[0mwantobjects\u001b[0m\u001b[0;34m,\u001b[0m \u001b[0museTk\u001b[0m\u001b[0;34m,\u001b[0m \u001b[0msync\u001b[0m\u001b[0;34m,\u001b[0m \u001b[0muse\u001b[0m\u001b[0;34m)\u001b[0m\u001b[0;34m\u001b[0m\u001b[0;34m\u001b[0m\u001b[0m\n\u001b[0m\u001b[1;32m   2024\u001b[0m         \u001b[0;32mif\u001b[0m \u001b[0museTk\u001b[0m\u001b[0;34m:\u001b[0m\u001b[0;34m\u001b[0m\u001b[0;34m\u001b[0m\u001b[0m\n\u001b[1;32m   2025\u001b[0m             \u001b[0mself\u001b[0m\u001b[0;34m.\u001b[0m\u001b[0m_loadtk\u001b[0m\u001b[0;34m(\u001b[0m\u001b[0;34m)\u001b[0m\u001b[0;34m\u001b[0m\u001b[0;34m\u001b[0m\u001b[0m\n",
            "\u001b[0;31mTclError\u001b[0m: no display name and no $DISPLAY environment variable"
          ]
        }
      ]
    },
    {
      "cell_type": "code",
      "source": [
        "print(drs1.fol())"
      ],
      "metadata": {
        "colab": {
          "base_uri": "https://localhost:8080/"
        },
        "id": "wDGxCC3-1Gkp",
        "outputId": "e68a279a-2744-4326-df67-49177d245508"
      },
      "execution_count": 83,
      "outputs": [
        {
          "output_type": "stream",
          "name": "stdout",
          "text": [
            "exists x y.(angus(x) & dog(y) & own(x,y))\n"
          ]
        }
      ]
    },
    {
      "cell_type": "code",
      "source": [
        "drs2 = read_dexpr('([x], [walk(x)]) + ([y], [run(y)])')\n",
        "print(drs2)"
      ],
      "metadata": {
        "colab": {
          "base_uri": "https://localhost:8080/"
        },
        "id": "5nS92ht51PW_",
        "outputId": "e0fbb4ed-0e4c-4dca-dd77-f2e1115dba25"
      },
      "execution_count": 84,
      "outputs": [
        {
          "output_type": "stream",
          "name": "stdout",
          "text": [
            "(([x],[walk(x)]) + ([y],[run(y)]))\n"
          ]
        }
      ]
    },
    {
      "cell_type": "code",
      "source": [
        "print(drs2.simplify())"
      ],
      "metadata": {
        "colab": {
          "base_uri": "https://localhost:8080/"
        },
        "id": "Qf4dJkBt1doA",
        "outputId": "d49a3cb5-bfed-4746-ecda-6adcbea7bb12"
      },
      "execution_count": 85,
      "outputs": [
        {
          "output_type": "stream",
          "name": "stdout",
          "text": [
            "([x,y],[walk(x), run(y)])\n"
          ]
        }
      ]
    },
    {
      "cell_type": "code",
      "source": [
        "drs3 = read_dexpr('([], [(([x], [dog(x)]) -> ([y],[ankle(y), bite(x, y)]))])')\n",
        "print(drs3.fol())"
      ],
      "metadata": {
        "colab": {
          "base_uri": "https://localhost:8080/"
        },
        "id": "2CtesDvh1f2M",
        "outputId": "88598dd8-74cc-43d8-d232-e6ed33da7eb7"
      },
      "execution_count": 86,
      "outputs": [
        {
          "output_type": "stream",
          "name": "stdout",
          "text": [
            "all x.(dog(x) -> exists y.(ankle(y) & bite(x,y)))\n"
          ]
        }
      ]
    },
    {
      "cell_type": "code",
      "source": [
        "drs4 = read_dexpr('([x, y], [angus(x), dog(y), own(x, y)])')\n",
        "drs5 = read_dexpr('([u, z], [PRO(u), irene(z), bite(u, z)])')\n",
        "drs6 = drs4 + drs5\n",
        "print(drs6.simplify())"
      ],
      "metadata": {
        "colab": {
          "base_uri": "https://localhost:8080/"
        },
        "id": "QcjuD9gP1vOD",
        "outputId": "6ce3c96c-d84d-4a37-ec62-2c0166a1612e"
      },
      "execution_count": 87,
      "outputs": [
        {
          "output_type": "stream",
          "name": "stdout",
          "text": [
            "([u,x,y,z],[angus(x), dog(y), own(x,y), PRO(u), irene(z), bite(u,z)])\n"
          ]
        }
      ]
    },
    {
      "cell_type": "code",
      "source": [
        "print(drs6.simplify().resolve_anaphora())"
      ],
      "metadata": {
        "colab": {
          "base_uri": "https://localhost:8080/"
        },
        "id": "lfgzzcs72Mw_",
        "outputId": "3dc75995-e57a-469a-e6ea-fe4eb7d0ce6a"
      },
      "execution_count": 88,
      "outputs": [
        {
          "output_type": "stream",
          "name": "stdout",
          "text": [
            "([u,x,y,z],[angus(x), dog(y), own(x,y), (u = [x,y,z]), irene(z), bite(u,z)])\n"
          ]
        }
      ]
    },
    {
      "cell_type": "code",
      "source": [
        "from nltk import load_parser\n",
        "parser = load_parser('grammars/book_grammars/drt.fcfg', logic_parser=nltk.sem.drt.DrtParser())\n",
        "trees = list(parser.parse('Angus owns a dog'.split()))\n",
        "print(trees[0].label()['SEM'].simplify())"
      ],
      "metadata": {
        "colab": {
          "base_uri": "https://localhost:8080/"
        },
        "id": "v0J7Xouk2UyO",
        "outputId": "9f939f2f-512d-42a7-f5e2-aafdf6e2f784"
      },
      "execution_count": 89,
      "outputs": [
        {
          "output_type": "stream",
          "name": "stdout",
          "text": [
            "([x,z12],[Angus(x), dog(z12), own(x,z12)])\n"
          ]
        }
      ]
    },
    {
      "cell_type": "markdown",
      "source": [
        "### Discourse Processing"
      ],
      "metadata": {
        "id": "MJS0cZ-o3N_X"
      }
    },
    {
      "cell_type": "code",
      "source": [
        "dt = nltk.DiscourseTester(['A student dances', 'Every student is a person'])\n",
        "dt.readings()"
      ],
      "metadata": {
        "id": "tMYZt9b93bN4"
      },
      "execution_count": null,
      "outputs": []
    },
    {
      "cell_type": "code",
      "source": [
        "# s0 readings:\n",
        "\n",
        "# s0-r0: exists x.(student(x) & dance(x))\n",
        "\n",
        "# s1 readings:\n",
        "\n",
        "# s1-r0: all x.(student(x) -> person(x))"
      ],
      "metadata": {
        "id": "KNzpN4bh3iSp"
      },
      "execution_count": null,
      "outputs": []
    },
    {
      "cell_type": "code",
      "source": [
        "dt.add_sentence('No person dances', consistchk=True)\n",
        "\n",
        "# Inconsistent discourse: d0 ['s0-r0', 's1-r0', 's2-r0']:\n",
        "#     s0-r0: exists x.(student(x) & dance(x))\n",
        "#     s1-r0: all x.(student(x) -> person(x))\n",
        "#     s2-r0: -exists x.(person(x) & dance(x))"
      ],
      "metadata": {
        "id": "e5vZAjKU3pbJ"
      },
      "execution_count": null,
      "outputs": []
    },
    {
      "cell_type": "code",
      "source": [
        "dt.retract_sentence('No person dances', verbose=True)\n",
        "\n",
        "# Current sentences are\n",
        "# s0: A student dances\n",
        "# s1: Every student is a person"
      ],
      "metadata": {
        "id": "-7usE0vR4dSV"
      },
      "execution_count": null,
      "outputs": []
    },
    {
      "cell_type": "code",
      "source": [
        "dt.add_sentence('A person dances', informchk=True)\n",
        "\n",
        "# Sentence 'A person dances' under reading 'exists x.(person(x) & dance(x))':\n",
        "# Not informative relative to thread 'd0'"
      ],
      "metadata": {
        "id": "4HkD9TuL4s_L"
      },
      "execution_count": null,
      "outputs": []
    },
    {
      "cell_type": "code",
      "source": [
        "from nltk.tag import RegexpTagger\n",
        "tagger = RegexpTagger(\n",
        "[('^(chases|runs)$', 'VB'),\n",
        "('^(a)$', 'ex_quant'),\n",
        "('^(every)$', 'univ_quant'),\n",
        "('^(dog|boy)$', 'NN'),\n",
        "('^(He)$', 'PRP')])\n",
        "\n",
        "rc = nltk.DrtGlueReadingCommand(depparser=nltk.MaltParser(tagger=tagger))\n",
        "dt = nltk.DiscourseTester(['Every dog chases a boy', 'He runs'], rc)\n",
        "dt.readings()\n",
        "\n",
        "# s0 readings:\n",
        "\n",
        "# s0-r0: ([],[(([x],[dog(x)]) -> ([z3],[boy(z3), chases(x,z3)]))])\n",
        "# s0-r1: ([z4],[boy(z4), (([x],[dog(x)]) -> ([],[chases(x,z4)]))])\n",
        "\n",
        "# s1 readings:\n",
        "\n",
        "# s1-r0: ([x],[PRO(x), runs(x)])"
      ],
      "metadata": {
        "id": "CohTGXzV5Baa"
      },
      "execution_count": null,
      "outputs": []
    },
    {
      "cell_type": "code",
      "source": [
        "dt.readings(show_thread_readings=True)\n",
        "# d0: ['s0-r0', 's1-r0'] : INVALID: AnaphoraResolutionException\n",
        "# d1: ['s0-r1', 's1-r0'] : ([z6,z10],[boy(z6), (([x],[dog(x)]) ->\n",
        "# ([],[chases(x,z6)])), (z10 = z6), runs(z10)])"
      ],
      "metadata": {
        "id": "kA-lHXFE5VIS"
      },
      "execution_count": null,
      "outputs": []
    },
    {
      "cell_type": "code",
      "source": [
        "dt.readings(show_thread_readings=True, filter=True)\n",
        "# d1: ['s0-r1', 's1-r0'] : ([z12,z15],[boy(z12), (([x],[dog(x)]) ->\n",
        "# ([],[chases(x,z12)])), (z17 = z12), runs(z15)])"
      ],
      "metadata": {
        "id": "zdd05UgM5kH-"
      },
      "execution_count": null,
      "outputs": []
    }
  ]
}