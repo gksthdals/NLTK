{
  "nbformat": 4,
  "nbformat_minor": 0,
  "metadata": {
    "colab": {
      "name": "02. Accessing Text Corpora and Lexical Resources.ipynb",
      "provenance": [],
      "collapsed_sections": [],
      "authorship_tag": "ABX9TyPokYjF+Bj39LRu0XgUZaTu",
      "include_colab_link": true
    },
    "kernelspec": {
      "name": "python3",
      "display_name": "Python 3"
    },
    "language_info": {
      "name": "python"
    }
  },
  "cells": [
    {
      "cell_type": "markdown",
      "metadata": {
        "id": "view-in-github",
        "colab_type": "text"
      },
      "source": [
        "<a href=\"https://colab.research.google.com/github/gksthdals/NLTK/blob/main/02.%20Accessing_Text_Corpora_and_Lexical_Resources.ipynb\" target=\"_parent\"><img src=\"https://colab.research.google.com/assets/colab-badge.svg\" alt=\"Open In Colab\"/></a>"
      ]
    },
    {
      "cell_type": "markdown",
      "source": [
        "# 1. Accessing Text Corpora"
      ],
      "metadata": {
        "id": "QGdVxLPPc46n"
      }
    },
    {
      "cell_type": "code",
      "execution_count": null,
      "metadata": {
        "id": "9046eKzKbVKq"
      },
      "outputs": [],
      "source": [
        "import nltk\n",
        "nltk.download()"
      ]
    },
    {
      "cell_type": "code",
      "source": [
        "from nltk.book import *"
      ],
      "metadata": {
        "colab": {
          "base_uri": "https://localhost:8080/"
        },
        "id": "9HoU6mTVfQtP",
        "outputId": "62873b09-192c-4b06-c3b9-eb188c91e860"
      },
      "execution_count": null,
      "outputs": [
        {
          "output_type": "stream",
          "name": "stdout",
          "text": [
            "*** Introductory Examples for the NLTK Book ***\n",
            "Loading text1, ..., text9 and sent1, ..., sent9\n",
            "Type the name of the text or sentence to view it.\n",
            "Type: 'texts()' or 'sents()' to list the materials.\n",
            "text1: Moby Dick by Herman Melville 1851\n",
            "text2: Sense and Sensibility by Jane Austen 1811\n",
            "text3: The Book of Genesis\n",
            "text4: Inaugural Address Corpus\n",
            "text5: Chat Corpus\n",
            "text6: Monty Python and the Holy Grail\n",
            "text7: Wall Street Journal\n",
            "text8: Personals Corpus\n",
            "text9: The Man Who Was Thursday by G . K . Chesterton 1908\n"
          ]
        }
      ]
    },
    {
      "cell_type": "code",
      "source": [
        "from nltk.corpus import gutenberg\n",
        "emma = gutenberg.words('austen-emma.txt')\n",
        "len(emma)"
      ],
      "metadata": {
        "colab": {
          "base_uri": "https://localhost:8080/"
        },
        "id": "MpBy9yVveBvZ",
        "outputId": "63beb0d2-a852-4e2b-cbbe-8c30ffa53bb7"
      },
      "execution_count": null,
      "outputs": [
        {
          "output_type": "execute_result",
          "data": {
            "text/plain": [
              "192427"
            ]
          },
          "metadata": {},
          "execution_count": 4
        }
      ]
    },
    {
      "cell_type": "code",
      "source": [
        "for fileid in gutenberg.fileids():\n",
        "  num_chars = len(gutenberg.raw(fileid))\n",
        "  num_words = len(gutenberg.words(fileid))\n",
        "  num_sents = len(gutenberg.sents(fileid))\n",
        "  num_vocab = len(set(w.lower() for w in gutenberg.words(fileid)))\n",
        "  print(round(num_chars/num_words), round(num_words/num_sents), round(num_words/num_vocab), fileid)"
      ],
      "metadata": {
        "colab": {
          "base_uri": "https://localhost:8080/"
        },
        "id": "VqMlOYUEeGye",
        "outputId": "14ebb9dd-8c89-4864-a5bd-ef3b83b7135f"
      },
      "execution_count": null,
      "outputs": [
        {
          "output_type": "stream",
          "name": "stdout",
          "text": [
            "5 25 26 austen-emma.txt\n",
            "5 26 17 austen-persuasion.txt\n",
            "5 28 22 austen-sense.txt\n",
            "4 34 79 bible-kjv.txt\n",
            "5 19 5 blake-poems.txt\n",
            "4 19 14 bryant-stories.txt\n",
            "4 18 12 burgess-busterbrown.txt\n",
            "4 20 13 carroll-alice.txt\n",
            "5 20 12 chesterton-ball.txt\n",
            "5 23 11 chesterton-brown.txt\n",
            "5 18 11 chesterton-thursday.txt\n",
            "4 21 25 edgeworth-parents.txt\n",
            "5 26 15 melville-moby_dick.txt\n",
            "5 52 11 milton-paradise.txt\n",
            "4 12 9 shakespeare-caesar.txt\n",
            "4 12 8 shakespeare-hamlet.txt\n",
            "4 12 7 shakespeare-macbeth.txt\n",
            "5 36 12 whitman-leaves.txt\n"
          ]
        }
      ]
    },
    {
      "cell_type": "code",
      "source": [
        "macbeth_sentences = gutenberg.sents('shakespeare-macbeth.txt')\n",
        "macbeth_sentences"
      ],
      "metadata": {
        "colab": {
          "base_uri": "https://localhost:8080/"
        },
        "id": "RY-4fP6-fAff",
        "outputId": "73b64fca-9619-4631-d25a-f04295110736"
      },
      "execution_count": null,
      "outputs": [
        {
          "output_type": "execute_result",
          "data": {
            "text/plain": [
              "[['[', 'The', 'Tragedie', 'of', 'Macbeth', 'by', 'William', 'Shakespeare', '1603', ']'], ['Actus', 'Primus', '.'], ...]"
            ]
          },
          "metadata": {},
          "execution_count": 9
        }
      ]
    },
    {
      "cell_type": "code",
      "source": [
        "' '.join(macbeth_sentences[1116])"
      ],
      "metadata": {
        "colab": {
          "base_uri": "https://localhost:8080/",
          "height": 37
        },
        "id": "-oBJwiEYhWDJ",
        "outputId": "a192df0f-c82e-4d4e-f4cc-890b6dc43f1c"
      },
      "execution_count": null,
      "outputs": [
        {
          "output_type": "execute_result",
          "data": {
            "application/vnd.google.colaboratory.intrinsic+json": {
              "type": "string"
            },
            "text/plain": [
              "'Double , double , toile and trouble ; Fire burne , and Cauldron bubble'"
            ]
          },
          "metadata": {},
          "execution_count": 11
        }
      ]
    },
    {
      "cell_type": "code",
      "source": [
        "from nltk.corpus import webtext\n",
        "for fileid in webtext.fileids():\n",
        "  print(fileid, webtext.raw(fileid)[:65], '...')"
      ],
      "metadata": {
        "colab": {
          "base_uri": "https://localhost:8080/"
        },
        "id": "Tsh1ytmvhZRi",
        "outputId": "2b27545a-0557-4583-ce0d-4d4c8cbfe241"
      },
      "execution_count": null,
      "outputs": [
        {
          "output_type": "stream",
          "name": "stdout",
          "text": [
            "firefox.txt Cookie Manager: \"Don't allow sites that set removed cookies to se ...\n",
            "grail.txt SCENE 1: [wind] [clop clop clop] \n",
            "KING ARTHUR: Whoa there!  [clop ...\n",
            "overheard.txt White guy: So, do you have any plans for this evening?\n",
            "Asian girl ...\n",
            "pirates.txt PIRATES OF THE CARRIBEAN: DEAD MAN'S CHEST, by Ted Elliott & Terr ...\n",
            "singles.txt 25 SEXY MALE, seeks attrac older single lady, for discreet encoun ...\n",
            "wine.txt Lovely delicate, fragrant Rhone wine. Polished leather and strawb ...\n"
          ]
        }
      ]
    },
    {
      "cell_type": "code",
      "source": [
        "from nltk.corpus import nps_chat\n",
        "chatroom = nps_chat.posts('10-19-20s_706posts.xml')\n",
        "' '.join(chatroom[123])"
      ],
      "metadata": {
        "colab": {
          "base_uri": "https://localhost:8080/",
          "height": 37
        },
        "id": "oIUo5Xd6h48h",
        "outputId": "508704a2-d4df-42a9-9173-d899f33b5d95"
      },
      "execution_count": null,
      "outputs": [
        {
          "output_type": "execute_result",
          "data": {
            "application/vnd.google.colaboratory.intrinsic+json": {
              "type": "string"
            },
            "text/plain": [
              "\"i do n't want hot pics of a female , I can look in a mirror .\""
            ]
          },
          "metadata": {},
          "execution_count": 14
        }
      ]
    },
    {
      "cell_type": "code",
      "source": [
        "from nltk.corpus import brown\n",
        "brown.categories()"
      ],
      "metadata": {
        "colab": {
          "base_uri": "https://localhost:8080/"
        },
        "id": "hKDiI3jsiWt8",
        "outputId": "03d82c7f-848c-4b33-e4bb-1cae3db69eff"
      },
      "execution_count": null,
      "outputs": [
        {
          "output_type": "execute_result",
          "data": {
            "text/plain": [
              "['adventure',\n",
              " 'belles_lettres',\n",
              " 'editorial',\n",
              " 'fiction',\n",
              " 'government',\n",
              " 'hobbies',\n",
              " 'humor',\n",
              " 'learned',\n",
              " 'lore',\n",
              " 'mystery',\n",
              " 'news',\n",
              " 'religion',\n",
              " 'reviews',\n",
              " 'romance',\n",
              " 'science_fiction']"
            ]
          },
          "metadata": {},
          "execution_count": 15
        }
      ]
    },
    {
      "cell_type": "code",
      "source": [
        "brown.words(categories='news')"
      ],
      "metadata": {
        "colab": {
          "base_uri": "https://localhost:8080/"
        },
        "id": "0s2l08q2iu0-",
        "outputId": "f72cf917-1d29-43ae-eb8a-c451bf74b556"
      },
      "execution_count": null,
      "outputs": [
        {
          "output_type": "execute_result",
          "data": {
            "text/plain": [
              "['The', 'Fulton', 'County', 'Grand', 'Jury', 'said', ...]"
            ]
          },
          "metadata": {},
          "execution_count": 16
        }
      ]
    },
    {
      "cell_type": "code",
      "source": [
        "brown.words(fileids=['cg22'])"
      ],
      "metadata": {
        "colab": {
          "base_uri": "https://localhost:8080/"
        },
        "id": "488cizaNizTY",
        "outputId": "2749a3ee-66ed-492d-d7dc-7d13e9d76444"
      },
      "execution_count": null,
      "outputs": [
        {
          "output_type": "execute_result",
          "data": {
            "text/plain": [
              "['Does', 'our', 'society', 'have', 'a', 'runaway', ',', ...]"
            ]
          },
          "metadata": {},
          "execution_count": 17
        }
      ]
    },
    {
      "cell_type": "code",
      "source": [
        "brown.sents(categories=['news', 'editorial', 'reviews'])"
      ],
      "metadata": {
        "colab": {
          "base_uri": "https://localhost:8080/"
        },
        "id": "8mG8mKY4i8TV",
        "outputId": "23ffa34a-b402-4ab9-f6c5-1346a12b2d3a"
      },
      "execution_count": null,
      "outputs": [
        {
          "output_type": "execute_result",
          "data": {
            "text/plain": [
              "[['The', 'Fulton', 'County', 'Grand', 'Jury', 'said', 'Friday', 'an', 'investigation', 'of', \"Atlanta's\", 'recent', 'primary', 'election', 'produced', '``', 'no', 'evidence', \"''\", 'that', 'any', 'irregularities', 'took', 'place', '.'], ['The', 'jury', 'further', 'said', 'in', 'term-end', 'presentments', 'that', 'the', 'City', 'Executive', 'Committee', ',', 'which', 'had', 'over-all', 'charge', 'of', 'the', 'election', ',', '``', 'deserves', 'the', 'praise', 'and', 'thanks', 'of', 'the', 'City', 'of', 'Atlanta', \"''\", 'for', 'the', 'manner', 'in', 'which', 'the', 'election', 'was', 'conducted', '.'], ...]"
            ]
          },
          "metadata": {},
          "execution_count": 18
        }
      ]
    },
    {
      "cell_type": "code",
      "source": [
        "news_text = brown.words(categories='news')\n",
        "fdist = nltk.FreqDist(w.lower() for w in news_text)\n",
        "modals = ['can', 'could', 'may', 'might', 'must', 'will']\n",
        "for m in modals:\n",
        "  print(m+ ':', fdist[m], end=' ')"
      ],
      "metadata": {
        "colab": {
          "base_uri": "https://localhost:8080/"
        },
        "id": "Cq1lo8XBjDSh",
        "outputId": "e7c9367b-fb86-495c-dd06-c6fc71e08263"
      },
      "execution_count": null,
      "outputs": [
        {
          "output_type": "stream",
          "name": "stdout",
          "text": [
            "can: 94 could: 87 may: 93 might: 38 must: 53 will: 389 "
          ]
        }
      ]
    },
    {
      "cell_type": "code",
      "source": [
        "cfd = nltk.ConditionalFreqDist(\n",
        "    (genre, word)\n",
        "    for genre in brown.categories()\n",
        "    for word in brown.words(categories=genre)\n",
        ")\n",
        "genres = ['news', 'religion', 'hobbies', 'science_fiction', 'romance', 'humor']\n",
        "modals = ['can', 'could', 'may', 'might', 'must', 'will']\n",
        "cfd.tabulate(conditions=genres, samples=modals)"
      ],
      "metadata": {
        "colab": {
          "base_uri": "https://localhost:8080/"
        },
        "id": "c7E7RHyIjgNX",
        "outputId": "55e12ea8-6239-410d-82a4-e890e69f7d89"
      },
      "execution_count": null,
      "outputs": [
        {
          "output_type": "stream",
          "name": "stdout",
          "text": [
            "                  can could   may might  must  will \n",
            "           news    93    86    66    38    50   389 \n",
            "       religion    82    59    78    12    54    71 \n",
            "        hobbies   268    58   131    22    83   264 \n",
            "science_fiction    16    49     4    12     8    16 \n",
            "        romance    74   193    11    51    45    43 \n",
            "          humor    16    30     8     8     9    13 \n"
          ]
        }
      ]
    },
    {
      "cell_type": "code",
      "source": [
        "nltk.download()"
      ],
      "metadata": {
        "id": "T9-oMH9RncZV"
      },
      "execution_count": null,
      "outputs": []
    },
    {
      "cell_type": "code",
      "source": [
        "!unzip /root/nltk_data/corpora/reuters.zip -d /root/nltk_data/corpora"
      ],
      "metadata": {
        "id": "zi1dNfhNonj2"
      },
      "execution_count": null,
      "outputs": []
    },
    {
      "cell_type": "code",
      "source": [
        "reuters = reuters"
      ],
      "metadata": {
        "id": "uOo70JfApHWb"
      },
      "execution_count": null,
      "outputs": []
    },
    {
      "cell_type": "code",
      "source": [
        "reuters.categories()"
      ],
      "metadata": {
        "id": "amLdkHqvpPJg"
      },
      "execution_count": null,
      "outputs": []
    },
    {
      "cell_type": "code",
      "source": [
        "print(reuters.categories('training/9865'))\n",
        "print(reuters.categories(['training/9865', 'training/9880']))\n",
        "print(reuters.fileids('barley'))"
      ],
      "metadata": {
        "colab": {
          "base_uri": "https://localhost:8080/"
        },
        "id": "Y_lBlkRGpRvd",
        "outputId": "3749e823-b8e1-4611-a92e-a9353a29b46f"
      },
      "execution_count": null,
      "outputs": [
        {
          "output_type": "stream",
          "name": "stdout",
          "text": [
            "['barley', 'corn', 'grain', 'wheat']\n",
            "['barley', 'corn', 'grain', 'money-fx', 'wheat']\n",
            "['test/15618', 'test/15649', 'test/15676', 'test/15728', 'test/15871', 'test/15875', 'test/15952', 'test/17767', 'test/17769', 'test/18024', 'test/18263', 'test/18908', 'test/19275', 'test/19668', 'training/10175', 'training/1067', 'training/11208', 'training/11316', 'training/11885', 'training/12428', 'training/13099', 'training/13744', 'training/13795', 'training/13852', 'training/13856', 'training/1652', 'training/1970', 'training/2044', 'training/2171', 'training/2172', 'training/2191', 'training/2217', 'training/2232', 'training/3132', 'training/3324', 'training/395', 'training/4280', 'training/4296', 'training/5', 'training/501', 'training/5467', 'training/5610', 'training/5640', 'training/6626', 'training/7205', 'training/7579', 'training/8213', 'training/8257', 'training/8759', 'training/9865', 'training/9958']\n"
          ]
        }
      ]
    },
    {
      "cell_type": "code",
      "source": [
        "print(reuters.words('training/9865')[:14])\n",
        "print(reuters.words(['training/9865', 'training/9880']))\n",
        "print(reuters.words(categories='barley'))"
      ],
      "metadata": {
        "colab": {
          "base_uri": "https://localhost:8080/"
        },
        "id": "4c2CezjIppvU",
        "outputId": "e4cfdd12-33f1-4ebf-adb0-f06f508badf0"
      },
      "execution_count": null,
      "outputs": [
        {
          "output_type": "stream",
          "name": "stdout",
          "text": [
            "['FRENCH', 'FREE', 'MARKET', 'CEREAL', 'EXPORT', 'BIDS', 'DETAILED', 'French', 'operators', 'have', 'requested', 'licences', 'to', 'export']\n",
            "['FRENCH', 'FREE', 'MARKET', 'CEREAL', 'EXPORT', ...]\n",
            "['FRENCH', 'FREE', 'MARKET', 'CEREAL', 'EXPORT', ...]\n"
          ]
        }
      ]
    },
    {
      "cell_type": "code",
      "source": [
        "from nltk.corpus import inaugural\n",
        "print(inaugural.fileids())\n",
        "print([fileid[:4] for fileid in inaugural.fileids()])"
      ],
      "metadata": {
        "colab": {
          "base_uri": "https://localhost:8080/"
        },
        "id": "HmlKeg_Dp71c",
        "outputId": "1ab586a6-ec1c-42fa-f97a-45d0502b2d15"
      },
      "execution_count": null,
      "outputs": [
        {
          "output_type": "stream",
          "name": "stdout",
          "text": [
            "['1789-Washington.txt', '1793-Washington.txt', '1797-Adams.txt', '1801-Jefferson.txt', '1805-Jefferson.txt', '1809-Madison.txt', '1813-Madison.txt', '1817-Monroe.txt', '1821-Monroe.txt', '1825-Adams.txt', '1829-Jackson.txt', '1833-Jackson.txt', '1837-VanBuren.txt', '1841-Harrison.txt', '1845-Polk.txt', '1849-Taylor.txt', '1853-Pierce.txt', '1857-Buchanan.txt', '1861-Lincoln.txt', '1865-Lincoln.txt', '1869-Grant.txt', '1873-Grant.txt', '1877-Hayes.txt', '1881-Garfield.txt', '1885-Cleveland.txt', '1889-Harrison.txt', '1893-Cleveland.txt', '1897-McKinley.txt', '1901-McKinley.txt', '1905-Roosevelt.txt', '1909-Taft.txt', '1913-Wilson.txt', '1917-Wilson.txt', '1921-Harding.txt', '1925-Coolidge.txt', '1929-Hoover.txt', '1933-Roosevelt.txt', '1937-Roosevelt.txt', '1941-Roosevelt.txt', '1945-Roosevelt.txt', '1949-Truman.txt', '1953-Eisenhower.txt', '1957-Eisenhower.txt', '1961-Kennedy.txt', '1965-Johnson.txt', '1969-Nixon.txt', '1973-Nixon.txt', '1977-Carter.txt', '1981-Reagan.txt', '1985-Reagan.txt', '1989-Bush.txt', '1993-Clinton.txt', '1997-Clinton.txt', '2001-Bush.txt', '2005-Bush.txt', '2009-Obama.txt', '2013-Obama.txt', '2017-Trump.txt', '2021-Biden.txt']\n",
            "['1789', '1793', '1797', '1801', '1805', '1809', '1813', '1817', '1821', '1825', '1829', '1833', '1837', '1841', '1845', '1849', '1853', '1857', '1861', '1865', '1869', '1873', '1877', '1881', '1885', '1889', '1893', '1897', '1901', '1905', '1909', '1913', '1917', '1921', '1925', '1929', '1933', '1937', '1941', '1945', '1949', '1953', '1957', '1961', '1965', '1969', '1973', '1977', '1981', '1985', '1989', '1993', '1997', '2001', '2005', '2009', '2013', '2017', '2021']\n"
          ]
        }
      ]
    },
    {
      "cell_type": "code",
      "source": [
        "cfd = nltk.ConditionalFreqDist(\n",
        "    (target, fileid[:4])\n",
        "    for fileid in inaugural.fileids()\n",
        "    for w in inaugural.words(fileid)\n",
        "    for target in ['america', 'citizen']\n",
        "    if w.lower().startswith(target)\n",
        ")\n",
        "cfd.plot()"
      ],
      "metadata": {
        "colab": {
          "base_uri": "https://localhost:8080/",
          "height": 295
        },
        "id": "cdxkExWDrkLv",
        "outputId": "663ef7aa-c4be-4e37-d5c0-60e49d1719ff"
      },
      "execution_count": null,
      "outputs": [
        {
          "output_type": "display_data",
          "data": {
            "image/png": "[encoded data removed]",
            "text/plain": [
              "<Figure size 432x288 with 1 Axes>"
            ]
          },
          "metadata": {
            "needs_background": "light"
          }
        }
      ]
    },
    {
      "cell_type": "code",
      "source": [
        "from nltk.corpus import udhr\n",
        "languages = ['Chickasaw', 'English', 'German_Deutsch', 'Greenlandic_Inuktikut', 'Hungarian_Magyar', 'Ibibio_Efik']\n",
        "cfd = nltk.ConditionalFreqDist(\n",
        "    (lang, len(word))\n",
        "    for lang in languages\n",
        "     for word in udhr.words(lang+ '-Latin1')\n",
        ")\n",
        "cfd.plot()"
      ],
      "metadata": {
        "colab": {
          "base_uri": "https://localhost:8080/",
          "height": 282
        },
        "id": "YaLQvJYYr-UW",
        "outputId": "87a54b54-5ad8-47c6-f07c-3660c40eae19"
      },
      "execution_count": null,
      "outputs": [
        {
          "output_type": "display_data",
          "data": {
            "image/png": "[encoded data removed]",
            "text/plain": [
              "<Figure size 432x288 with 1 Axes>"
            ]
          },
          "metadata": {
            "needs_background": "light"
          }
        }
      ]
    },
    {
      "cell_type": "markdown",
      "source": [
        "# 2. Conditional Frequency Distributions"
      ],
      "metadata": {
        "id": "SW49PcDeCwus"
      }
    },
    {
      "cell_type": "code",
      "source": [
        "from nltk.corpus import brown\n",
        "cfd = nltk.ConditionalFreqDist(\n",
        "    (genre, word)\n",
        "    for genre in brown.categories()\n",
        "    for word in brown.words(categories=genre)\n",
        "    )"
      ],
      "metadata": {
        "id": "oQucZuJxC08q"
      },
      "execution_count": null,
      "outputs": []
    },
    {
      "cell_type": "code",
      "source": [
        "genre_word = [(genre, word)\n",
        "              for genre in ['news', 'romance']\n",
        "              for word in brown.words(categories=genre)]\n",
        "len(genre_word)"
      ],
      "metadata": {
        "colab": {
          "base_uri": "https://localhost:8080/"
        },
        "id": "W-fGSX4fD0lm",
        "outputId": "30ae32b9-cb35-4e32-a3c2-6ca7f43369cd"
      },
      "execution_count": null,
      "outputs": [
        {
          "output_type": "execute_result",
          "data": {
            "text/plain": [
              "170576"
            ]
          },
          "metadata": {},
          "execution_count": 53
        }
      ]
    },
    {
      "cell_type": "code",
      "source": [
        "cfd = nltk.ConditionalFreqDist(genre_word)\n",
        "cfd.conditions()"
      ],
      "metadata": {
        "colab": {
          "base_uri": "https://localhost:8080/"
        },
        "id": "bvG-kCdsEQ83",
        "outputId": "d91b6a52-51d0-4470-ee07-959f6dbada1a"
      },
      "execution_count": null,
      "outputs": [
        {
          "output_type": "execute_result",
          "data": {
            "text/plain": [
              "['news', 'romance']"
            ]
          },
          "metadata": {},
          "execution_count": 55
        }
      ]
    },
    {
      "cell_type": "code",
      "source": [
        "print(cfd['news'])\n",
        "print(cfd['romance'])\n",
        "print(cfd['romance'].most_common(5))\n",
        "print(cfd['romance']['could'])"
      ],
      "metadata": {
        "colab": {
          "base_uri": "https://localhost:8080/"
        },
        "id": "gRG76XWDEf77",
        "outputId": "b211201e-5d75-4807-babb-9ce57a26f00c"
      },
      "execution_count": null,
      "outputs": [
        {
          "output_type": "stream",
          "name": "stdout",
          "text": [
            "<FreqDist with 14394 samples and 100554 outcomes>\n",
            "<FreqDist with 8452 samples and 70022 outcomes>\n",
            "[(',', 3899), ('.', 3736), ('the', 2758), ('and', 1776), ('to', 1502)]\n",
            "193\n"
          ]
        }
      ]
    },
    {
      "cell_type": "code",
      "source": [
        "from nltk.corpus import inaugural\n",
        "cfd = nltk.ConditionalFreqDist(\n",
        "    (target, fileid[:4])\n",
        "    for fileid in inaugural.fileids()\n",
        "    for w in inaugural.words(fileid)\n",
        "    for target in ['america', 'citizen']\n",
        "    if w.lower().startswith(target)\n",
        ")\n",
        "cfd.plot()"
      ],
      "metadata": {
        "colab": {
          "base_uri": "https://localhost:8080/",
          "height": 295
        },
        "id": "bqPEfYKNE0lV",
        "outputId": "f0729244-9fe0-41fa-aacf-14c8206a8f8f"
      },
      "execution_count": null,
      "outputs": [
        {
          "output_type": "display_data",
          "data": {
            "image/png": "[encoded data removed]",
            "text/plain": [
              "<Figure size 432x288 with 1 Axes>"
            ]
          },
          "metadata": {
            "needs_background": "light"
          }
        }
      ]
    },
    {
      "cell_type": "code",
      "source": [
        "sent = ['In', 'the', 'beginning', 'God', 'created', 'the', 'heaven', 'and', 'the', 'earth', '.']\n",
        "list(nltk.bigrams(sent))"
      ],
      "metadata": {
        "colab": {
          "base_uri": "https://localhost:8080/"
        },
        "id": "Wp2gVwJpFZzt",
        "outputId": "fb563a6b-18f3-4749-9621-49fcb7b21cc9"
      },
      "execution_count": null,
      "outputs": [
        {
          "output_type": "execute_result",
          "data": {
            "text/plain": [
              "[('In', 'the'),\n",
              " ('the', 'beginning'),\n",
              " ('beginning', 'God'),\n",
              " ('God', 'created'),\n",
              " ('created', 'the'),\n",
              " ('the', 'heaven'),\n",
              " ('heaven', 'and'),\n",
              " ('and', 'the'),\n",
              " ('the', 'earth'),\n",
              " ('earth', '.')]"
            ]
          },
          "metadata": {},
          "execution_count": 62
        }
      ]
    },
    {
      "cell_type": "code",
      "source": [
        "bigrams = list(nltk.bigrams(sent))\n",
        "cfd_example = nltk.ConditionalFreqDist(bigrams)\n",
        "print(cfd_example)\n",
        "print(cfd_example['the'].max())"
      ],
      "metadata": {
        "colab": {
          "base_uri": "https://localhost:8080/"
        },
        "id": "4139x_Y8HGrz",
        "outputId": "2cffd970-e4a3-43e2-e6eb-e9aa340039c3"
      },
      "execution_count": null,
      "outputs": [
        {
          "output_type": "stream",
          "name": "stdout",
          "text": [
            "<ConditionalFreqDist with 8 conditions>\n",
            "beginning\n"
          ]
        }
      ]
    },
    {
      "cell_type": "code",
      "source": [
        "def generate_model(cfdist, word, num=15):\n",
        "  for i in range(num):\n",
        "    print(word, end=' ')\n",
        "    word = cfdist[word].max()\n",
        "\n",
        "text = nltk.corpus.genesis.words('english-kjv.txt')\n",
        "bigrams = nltk.bigrams(text)\n",
        "cfd = nltk.ConditionalFreqDist(bigrams)"
      ],
      "metadata": {
        "id": "4UVZhsjvGEwc"
      },
      "execution_count": null,
      "outputs": []
    },
    {
      "cell_type": "code",
      "source": [
        "cfd['living']"
      ],
      "metadata": {
        "colab": {
          "base_uri": "https://localhost:8080/"
        },
        "id": "9bXRk4tgHAmB",
        "outputId": "20000314-ae6e-4aab-fcaa-defdf757aa3f"
      },
      "execution_count": null,
      "outputs": [
        {
          "output_type": "execute_result",
          "data": {
            "text/plain": [
              "FreqDist({',': 1,\n",
              "          '.': 1,\n",
              "          'creature': 7,\n",
              "          'soul': 1,\n",
              "          'substance': 2,\n",
              "          'thing': 4})"
            ]
          },
          "metadata": {},
          "execution_count": 70
        }
      ]
    },
    {
      "cell_type": "code",
      "source": [
        "generate_model(cfd, 'living')"
      ],
      "metadata": {
        "colab": {
          "base_uri": "https://localhost:8080/"
        },
        "id": "IK7AxlL9HjJG",
        "outputId": "496d6a0f-1a65-4ae5-fa63-2c966bd09b0e"
      },
      "execution_count": null,
      "outputs": [
        {
          "output_type": "stream",
          "name": "stdout",
          "text": [
            "living creature that he said , and the land of the land of the land "
          ]
        }
      ]
    },
    {
      "cell_type": "code",
      "source": [
        "cfd['the'].max()"
      ],
      "metadata": {
        "colab": {
          "base_uri": "https://localhost:8080/",
          "height": 37
        },
        "id": "n0znSP7PHmwh",
        "outputId": "a592437f-ad70-49dd-a9d7-317d44e10482"
      },
      "execution_count": null,
      "outputs": [
        {
          "output_type": "execute_result",
          "data": {
            "application/vnd.google.colaboratory.intrinsic+json": {
              "type": "string"
            },
            "text/plain": [
              "'land'"
            ]
          },
          "metadata": {},
          "execution_count": 74
        }
      ]
    },
    {
      "cell_type": "code",
      "source": [
        "cfd['land'].max()"
      ],
      "metadata": {
        "colab": {
          "base_uri": "https://localhost:8080/",
          "height": 37
        },
        "id": "zq1PvuAxHw1Y",
        "outputId": "fc33c303-b885-45d3-fb71-c06221a609c0"
      },
      "execution_count": null,
      "outputs": [
        {
          "output_type": "execute_result",
          "data": {
            "application/vnd.google.colaboratory.intrinsic+json": {
              "type": "string"
            },
            "text/plain": [
              "'of'"
            ]
          },
          "metadata": {},
          "execution_count": 75
        }
      ]
    },
    {
      "cell_type": "code",
      "source": [
        "cfd['of'].max()"
      ],
      "metadata": {
        "colab": {
          "base_uri": "https://localhost:8080/",
          "height": 37
        },
        "id": "XUHAbV6SHyh5",
        "outputId": "313567e2-4df2-4571-c1c7-07d6ca9d8eb6"
      },
      "execution_count": null,
      "outputs": [
        {
          "output_type": "execute_result",
          "data": {
            "application/vnd.google.colaboratory.intrinsic+json": {
              "type": "string"
            },
            "text/plain": [
              "'the'"
            ]
          },
          "metadata": {},
          "execution_count": 76
        }
      ]
    },
    {
      "cell_type": "code",
      "source": [
        "# cycle 발생 : the land of the land of the land ..."
      ],
      "metadata": {
        "id": "3aY_eXuvH1CJ"
      },
      "execution_count": null,
      "outputs": []
    },
    {
      "cell_type": "markdown",
      "source": [
        "# 3. More Python: Reusing Code"
      ],
      "metadata": {
        "id": "iMGergo4IIg3"
      }
    },
    {
      "cell_type": "markdown",
      "source": [
        "# 4. Lexical Resources"
      ],
      "metadata": {
        "id": "EiiG-crTIvmQ"
      }
    },
    {
      "cell_type": "code",
      "source": [
        " def unusual_words(text):\n",
        "   text_vocab = set(w.lower() for w in text if w.isalpha())\n",
        "   english_vocab = set(w.lower() for w in nltk.corpus.words.words())\n",
        "   unusual = text_vocab - english_vocab\n",
        "   return sorted(unusual)"
      ],
      "metadata": {
        "id": "SGEMIrrYIzjj"
      },
      "execution_count": null,
      "outputs": []
    },
    {
      "cell_type": "code",
      "source": [
        "unusual_words(nltk.corpus.gutenberg.words('austen-sense.txt'))[:10]"
      ],
      "metadata": {
        "colab": {
          "base_uri": "https://localhost:8080/"
        },
        "id": "dVE3VGaTKC55",
        "outputId": "e819fc19-76e5-4f85-96a8-4212e807eaf2"
      },
      "execution_count": null,
      "outputs": [
        {
          "output_type": "execute_result",
          "data": {
            "text/plain": [
              "['abbeyland',\n",
              " 'abhorred',\n",
              " 'abilities',\n",
              " 'abounded',\n",
              " 'abridgement',\n",
              " 'abused',\n",
              " 'abuses',\n",
              " 'accents',\n",
              " 'accepting',\n",
              " 'accommodations']"
            ]
          },
          "metadata": {},
          "execution_count": 81
        }
      ]
    },
    {
      "cell_type": "code",
      "source": [
        "from nltk.corpus import stopwords\n",
        "stopwords.words('english')"
      ],
      "metadata": {
        "colab": {
          "base_uri": "https://localhost:8080/"
        },
        "id": "bz2pP4QuKNax",
        "outputId": "83a697e4-5ed3-4bb3-9fab-39eb06b6b294"
      },
      "execution_count": null,
      "outputs": [
        {
          "output_type": "execute_result",
          "data": {
            "text/plain": [
              "['i',\n",
              " 'me',\n",
              " 'my',\n",
              " 'myself',\n",
              " 'we',\n",
              " 'our',\n",
              " 'ours',\n",
              " 'ourselves',\n",
              " 'you',\n",
              " \"you're\",\n",
              " \"you've\",\n",
              " \"you'll\",\n",
              " \"you'd\",\n",
              " 'your',\n",
              " 'yours',\n",
              " 'yourself',\n",
              " 'yourselves',\n",
              " 'he',\n",
              " 'him',\n",
              " 'his',\n",
              " 'himself',\n",
              " 'she',\n",
              " \"she's\",\n",
              " 'her',\n",
              " 'hers',\n",
              " 'herself',\n",
              " 'it',\n",
              " \"it's\",\n",
              " 'its',\n",
              " 'itself',\n",
              " 'they',\n",
              " 'them',\n",
              " 'their',\n",
              " 'theirs',\n",
              " 'themselves',\n",
              " 'what',\n",
              " 'which',\n",
              " 'who',\n",
              " 'whom',\n",
              " 'this',\n",
              " 'that',\n",
              " \"that'll\",\n",
              " 'these',\n",
              " 'those',\n",
              " 'am',\n",
              " 'is',\n",
              " 'are',\n",
              " 'was',\n",
              " 'were',\n",
              " 'be',\n",
              " 'been',\n",
              " 'being',\n",
              " 'have',\n",
              " 'has',\n",
              " 'had',\n",
              " 'having',\n",
              " 'do',\n",
              " 'does',\n",
              " 'did',\n",
              " 'doing',\n",
              " 'a',\n",
              " 'an',\n",
              " 'the',\n",
              " 'and',\n",
              " 'but',\n",
              " 'if',\n",
              " 'or',\n",
              " 'because',\n",
              " 'as',\n",
              " 'until',\n",
              " 'while',\n",
              " 'of',\n",
              " 'at',\n",
              " 'by',\n",
              " 'for',\n",
              " 'with',\n",
              " 'about',\n",
              " 'against',\n",
              " 'between',\n",
              " 'into',\n",
              " 'through',\n",
              " 'during',\n",
              " 'before',\n",
              " 'after',\n",
              " 'above',\n",
              " 'below',\n",
              " 'to',\n",
              " 'from',\n",
              " 'up',\n",
              " 'down',\n",
              " 'in',\n",
              " 'out',\n",
              " 'on',\n",
              " 'off',\n",
              " 'over',\n",
              " 'under',\n",
              " 'again',\n",
              " 'further',\n",
              " 'then',\n",
              " 'once',\n",
              " 'here',\n",
              " 'there',\n",
              " 'when',\n",
              " 'where',\n",
              " 'why',\n",
              " 'how',\n",
              " 'all',\n",
              " 'any',\n",
              " 'both',\n",
              " 'each',\n",
              " 'few',\n",
              " 'more',\n",
              " 'most',\n",
              " 'other',\n",
              " 'some',\n",
              " 'such',\n",
              " 'no',\n",
              " 'nor',\n",
              " 'not',\n",
              " 'only',\n",
              " 'own',\n",
              " 'same',\n",
              " 'so',\n",
              " 'than',\n",
              " 'too',\n",
              " 'very',\n",
              " 's',\n",
              " 't',\n",
              " 'can',\n",
              " 'will',\n",
              " 'just',\n",
              " 'don',\n",
              " \"don't\",\n",
              " 'should',\n",
              " \"should've\",\n",
              " 'now',\n",
              " 'd',\n",
              " 'll',\n",
              " 'm',\n",
              " 'o',\n",
              " 're',\n",
              " 've',\n",
              " 'y',\n",
              " 'ain',\n",
              " 'aren',\n",
              " \"aren't\",\n",
              " 'couldn',\n",
              " \"couldn't\",\n",
              " 'didn',\n",
              " \"didn't\",\n",
              " 'doesn',\n",
              " \"doesn't\",\n",
              " 'hadn',\n",
              " \"hadn't\",\n",
              " 'hasn',\n",
              " \"hasn't\",\n",
              " 'haven',\n",
              " \"haven't\",\n",
              " 'isn',\n",
              " \"isn't\",\n",
              " 'ma',\n",
              " 'mightn',\n",
              " \"mightn't\",\n",
              " 'mustn',\n",
              " \"mustn't\",\n",
              " 'needn',\n",
              " \"needn't\",\n",
              " 'shan',\n",
              " \"shan't\",\n",
              " 'shouldn',\n",
              " \"shouldn't\",\n",
              " 'wasn',\n",
              " \"wasn't\",\n",
              " 'weren',\n",
              " \"weren't\",\n",
              " 'won',\n",
              " \"won't\",\n",
              " 'wouldn',\n",
              " \"wouldn't\"]"
            ]
          },
          "metadata": {},
          "execution_count": 82
        }
      ]
    },
    {
      "cell_type": "code",
      "source": [
        "def content_fraction(text):\n",
        "  stopwords = nltk.corpus.stopwords.words('english')\n",
        "  content = [w for w in text if w.lower() not in stopwords]\n",
        "  return len(content) / len(text)\n",
        "\n",
        "content_fraction(nltk.corpus.reuters.words())"
      ],
      "metadata": {
        "colab": {
          "base_uri": "https://localhost:8080/"
        },
        "id": "3nR5RdcQKYkm",
        "outputId": "0cd6c53f-6ab7-437a-9e03-77b9efc0c05c"
      },
      "execution_count": null,
      "outputs": [
        {
          "output_type": "execute_result",
          "data": {
            "text/plain": [
              "0.735240435097661"
            ]
          },
          "metadata": {},
          "execution_count": 83
        }
      ]
    },
    {
      "cell_type": "code",
      "source": [
        "puzzle_letters = nltk.FreqDist('egivrvonl')\n",
        "obligatory = 'r'\n",
        "wordlist = nltk.corpus.words.words()\n",
        "[w for w in wordlist if len(w) > 6 and obligatory in w and nltk.FreqDist(w) <= puzzle_letters]"
      ],
      "metadata": {
        "colab": {
          "base_uri": "https://localhost:8080/"
        },
        "id": "GVF9KBs8KrVn",
        "outputId": "9fbd9f64-c297-4044-e718-dfcc1c16edca"
      },
      "execution_count": null,
      "outputs": [
        {
          "output_type": "execute_result",
          "data": {
            "text/plain": [
              "['involver', 'lovering', 'overling', 'revolving']"
            ]
          },
          "metadata": {},
          "execution_count": 84
        }
      ]
    },
    {
      "cell_type": "code",
      "source": [
        "names = nltk.corpus.names\n",
        "names.fileids()\n",
        "male_names = names.words('male.txt')\n",
        "female_names = names.words('female.txt')\n",
        "[w for w in male_names if w in female_names]"
      ],
      "metadata": {
        "colab": {
          "base_uri": "https://localhost:8080/"
        },
        "id": "tn8u6BtJLQIg",
        "outputId": "28ab08e1-2fe9-4d1d-eb3f-deaac3af4a06"
      },
      "execution_count": null,
      "outputs": [
        {
          "output_type": "execute_result",
          "data": {
            "text/plain": [
              "['Abbey',\n",
              " 'Abbie',\n",
              " 'Abby',\n",
              " 'Addie',\n",
              " 'Adrian',\n",
              " 'Adrien',\n",
              " 'Ajay',\n",
              " 'Alex',\n",
              " 'Alexis',\n",
              " 'Alfie',\n",
              " 'Ali',\n",
              " 'Alix',\n",
              " 'Allie',\n",
              " 'Allyn',\n",
              " 'Andie',\n",
              " 'Andrea',\n",
              " 'Andy',\n",
              " 'Angel',\n",
              " 'Angie',\n",
              " 'Ariel',\n",
              " 'Ashley',\n",
              " 'Aubrey',\n",
              " 'Augustine',\n",
              " 'Austin',\n",
              " 'Averil',\n",
              " 'Barrie',\n",
              " 'Barry',\n",
              " 'Beau',\n",
              " 'Bennie',\n",
              " 'Benny',\n",
              " 'Bernie',\n",
              " 'Bert',\n",
              " 'Bertie',\n",
              " 'Bill',\n",
              " 'Billie',\n",
              " 'Billy',\n",
              " 'Blair',\n",
              " 'Blake',\n",
              " 'Bo',\n",
              " 'Bobbie',\n",
              " 'Bobby',\n",
              " 'Brandy',\n",
              " 'Brett',\n",
              " 'Britt',\n",
              " 'Brook',\n",
              " 'Brooke',\n",
              " 'Brooks',\n",
              " 'Bryn',\n",
              " 'Cal',\n",
              " 'Cam',\n",
              " 'Cammy',\n",
              " 'Carey',\n",
              " 'Carlie',\n",
              " 'Carlin',\n",
              " 'Carmine',\n",
              " 'Carroll',\n",
              " 'Cary',\n",
              " 'Caryl',\n",
              " 'Casey',\n",
              " 'Cass',\n",
              " 'Cat',\n",
              " 'Cecil',\n",
              " 'Chad',\n",
              " 'Chris',\n",
              " 'Chrissy',\n",
              " 'Christian',\n",
              " 'Christie',\n",
              " 'Christy',\n",
              " 'Clair',\n",
              " 'Claire',\n",
              " 'Clare',\n",
              " 'Claude',\n",
              " 'Clem',\n",
              " 'Clemmie',\n",
              " 'Cody',\n",
              " 'Connie',\n",
              " 'Constantine',\n",
              " 'Corey',\n",
              " 'Corrie',\n",
              " 'Cory',\n",
              " 'Courtney',\n",
              " 'Cris',\n",
              " 'Daffy',\n",
              " 'Dale',\n",
              " 'Dallas',\n",
              " 'Dana',\n",
              " 'Dani',\n",
              " 'Daniel',\n",
              " 'Dannie',\n",
              " 'Danny',\n",
              " 'Darby',\n",
              " 'Darcy',\n",
              " 'Darryl',\n",
              " 'Daryl',\n",
              " 'Deane',\n",
              " 'Del',\n",
              " 'Dell',\n",
              " 'Demetris',\n",
              " 'Dennie',\n",
              " 'Denny',\n",
              " 'Devin',\n",
              " 'Devon',\n",
              " 'Dion',\n",
              " 'Dionis',\n",
              " 'Dominique',\n",
              " 'Donnie',\n",
              " 'Donny',\n",
              " 'Dorian',\n",
              " 'Dory',\n",
              " 'Drew',\n",
              " 'Eddie',\n",
              " 'Eddy',\n",
              " 'Edie',\n",
              " 'Elisha',\n",
              " 'Emmy',\n",
              " 'Erin',\n",
              " 'Esme',\n",
              " 'Evelyn',\n",
              " 'Felice',\n",
              " 'Fran',\n",
              " 'Francis',\n",
              " 'Frank',\n",
              " 'Frankie',\n",
              " 'Franky',\n",
              " 'Fred',\n",
              " 'Freddie',\n",
              " 'Freddy',\n",
              " 'Gabriel',\n",
              " 'Gabriell',\n",
              " 'Gail',\n",
              " 'Gale',\n",
              " 'Gay',\n",
              " 'Gayle',\n",
              " 'Gene',\n",
              " 'George',\n",
              " 'Georgia',\n",
              " 'Georgie',\n",
              " 'Geri',\n",
              " 'Germaine',\n",
              " 'Gerri',\n",
              " 'Gerry',\n",
              " 'Gill',\n",
              " 'Ginger',\n",
              " 'Glen',\n",
              " 'Glenn',\n",
              " 'Grace',\n",
              " 'Gretchen',\n",
              " 'Gus',\n",
              " 'Haleigh',\n",
              " 'Haley',\n",
              " 'Hannibal',\n",
              " 'Harley',\n",
              " 'Hazel',\n",
              " 'Heath',\n",
              " 'Henrie',\n",
              " 'Hilary',\n",
              " 'Hillary',\n",
              " 'Holly',\n",
              " 'Ike',\n",
              " 'Ikey',\n",
              " 'Ira',\n",
              " 'Isa',\n",
              " 'Isador',\n",
              " 'Isadore',\n",
              " 'Jackie',\n",
              " 'Jaime',\n",
              " 'Jamie',\n",
              " 'Jan',\n",
              " 'Jean',\n",
              " 'Jere',\n",
              " 'Jermaine',\n",
              " 'Jerrie',\n",
              " 'Jerry',\n",
              " 'Jess',\n",
              " 'Jesse',\n",
              " 'Jessie',\n",
              " 'Jo',\n",
              " 'Jodi',\n",
              " 'Jodie',\n",
              " 'Jody',\n",
              " 'Joey',\n",
              " 'Jordan',\n",
              " 'Juanita',\n",
              " 'Jude',\n",
              " 'Judith',\n",
              " 'Judy',\n",
              " 'Julie',\n",
              " 'Justin',\n",
              " 'Karel',\n",
              " 'Kellen',\n",
              " 'Kelley',\n",
              " 'Kelly',\n",
              " 'Kelsey',\n",
              " 'Kerry',\n",
              " 'Kim',\n",
              " 'Kip',\n",
              " 'Kirby',\n",
              " 'Kit',\n",
              " 'Kris',\n",
              " 'Kyle',\n",
              " 'Lane',\n",
              " 'Lanny',\n",
              " 'Lauren',\n",
              " 'Laurie',\n",
              " 'Lee',\n",
              " 'Leigh',\n",
              " 'Leland',\n",
              " 'Lesley',\n",
              " 'Leslie',\n",
              " 'Lin',\n",
              " 'Lind',\n",
              " 'Lindsay',\n",
              " 'Lindsey',\n",
              " 'Lindy',\n",
              " 'Lonnie',\n",
              " 'Loren',\n",
              " 'Lorne',\n",
              " 'Lorrie',\n",
              " 'Lou',\n",
              " 'Luce',\n",
              " 'Lyn',\n",
              " 'Lynn',\n",
              " 'Maddie',\n",
              " 'Maddy',\n",
              " 'Marietta',\n",
              " 'Marion',\n",
              " 'Marlo',\n",
              " 'Martie',\n",
              " 'Marty',\n",
              " 'Mattie',\n",
              " 'Matty',\n",
              " 'Maurise',\n",
              " 'Max',\n",
              " 'Maxie',\n",
              " 'Mead',\n",
              " 'Meade',\n",
              " 'Mel',\n",
              " 'Meredith',\n",
              " 'Merle',\n",
              " 'Merrill',\n",
              " 'Merry',\n",
              " 'Meryl',\n",
              " 'Michal',\n",
              " 'Michel',\n",
              " 'Michele',\n",
              " 'Mickie',\n",
              " 'Micky',\n",
              " 'Millicent',\n",
              " 'Morgan',\n",
              " 'Morlee',\n",
              " 'Muffin',\n",
              " 'Nat',\n",
              " 'Nichole',\n",
              " 'Nickie',\n",
              " 'Nicky',\n",
              " 'Niki',\n",
              " 'Nikki',\n",
              " 'Noel',\n",
              " 'Ollie',\n",
              " 'Page',\n",
              " 'Paige',\n",
              " 'Pat',\n",
              " 'Patrice',\n",
              " 'Patsy',\n",
              " 'Pattie',\n",
              " 'Patty',\n",
              " 'Pen',\n",
              " 'Pennie',\n",
              " 'Penny',\n",
              " 'Perry',\n",
              " 'Phil',\n",
              " 'Pooh',\n",
              " 'Quentin',\n",
              " 'Quinn',\n",
              " 'Randi',\n",
              " 'Randie',\n",
              " 'Randy',\n",
              " 'Ray',\n",
              " 'Regan',\n",
              " 'Reggie',\n",
              " 'Rene',\n",
              " 'Rey',\n",
              " 'Ricki',\n",
              " 'Rickie',\n",
              " 'Ricky',\n",
              " 'Rikki',\n",
              " 'Robbie',\n",
              " 'Robin',\n",
              " 'Ronnie',\n",
              " 'Ronny',\n",
              " 'Rory',\n",
              " 'Ruby',\n",
              " 'Sal',\n",
              " 'Sam',\n",
              " 'Sammy',\n",
              " 'Sandy',\n",
              " 'Sascha',\n",
              " 'Sasha',\n",
              " 'Saundra',\n",
              " 'Sayre',\n",
              " 'Scotty',\n",
              " 'Sean',\n",
              " 'Shaine',\n",
              " 'Shane',\n",
              " 'Shannon',\n",
              " 'Shaun',\n",
              " 'Shawn',\n",
              " 'Shay',\n",
              " 'Shayne',\n",
              " 'Shea',\n",
              " 'Shelby',\n",
              " 'Shell',\n",
              " 'Shelley',\n",
              " 'Sibyl',\n",
              " 'Simone',\n",
              " 'Sonnie',\n",
              " 'Sonny',\n",
              " 'Stacy',\n",
              " 'Sunny',\n",
              " 'Sydney',\n",
              " 'Tabbie',\n",
              " 'Tabby',\n",
              " 'Tallie',\n",
              " 'Tally',\n",
              " 'Tammie',\n",
              " 'Tammy',\n",
              " 'Tate',\n",
              " 'Ted',\n",
              " 'Teddie',\n",
              " 'Teddy',\n",
              " 'Terri',\n",
              " 'Terry',\n",
              " 'Theo',\n",
              " 'Tim',\n",
              " 'Timmie',\n",
              " 'Timmy',\n",
              " 'Tobe',\n",
              " 'Tobie',\n",
              " 'Toby',\n",
              " 'Tommie',\n",
              " 'Tommy',\n",
              " 'Tony',\n",
              " 'Torey',\n",
              " 'Trace',\n",
              " 'Tracey',\n",
              " 'Tracie',\n",
              " 'Tracy',\n",
              " 'Val',\n",
              " 'Vale',\n",
              " 'Valentine',\n",
              " 'Van',\n",
              " 'Vin',\n",
              " 'Vinnie',\n",
              " 'Vinny',\n",
              " 'Virgie',\n",
              " 'Wallie',\n",
              " 'Wallis',\n",
              " 'Wally',\n",
              " 'Whitney',\n",
              " 'Willi',\n",
              " 'Willie',\n",
              " 'Willy',\n",
              " 'Winnie',\n",
              " 'Winny',\n",
              " 'Wynn']"
            ]
          },
          "metadata": {},
          "execution_count": 86
        }
      ]
    },
    {
      "cell_type": "code",
      "source": [
        "cfd = nltk.ConditionalFreqDist(\n",
        "    (fileid, name[-1])\n",
        "    for fileid in names.fileids()\n",
        "    for name in names.words(fileid)\n",
        ")\n",
        "cfd.plot()"
      ],
      "metadata": {
        "colab": {
          "base_uri": "https://localhost:8080/",
          "height": 279
        },
        "id": "PWGCV_s3LqxU",
        "outputId": "3babb6ce-f2e0-4e76-ff7e-f7bb07843090"
      },
      "execution_count": null,
      "outputs": [
        {
          "output_type": "display_data",
          "data": {
            "image/png": "[encoded data removed]",
            "text/plain": [
              "<Figure size 432x288 with 1 Axes>"
            ]
          },
          "metadata": {
            "needs_background": "light"
          }
        }
      ]
    },
    {
      "cell_type": "code",
      "source": [
        "# 이름이 a로 끝나면 female일 가능성이 매우 높다!"
      ],
      "metadata": {
        "id": "A0gyZ6VFL33Z"
      },
      "execution_count": null,
      "outputs": []
    },
    {
      "cell_type": "code",
      "source": [
        "entries = nltk.corpus.cmudict.entries()\n",
        "entries[:10]"
      ],
      "metadata": {
        "colab": {
          "base_uri": "https://localhost:8080/"
        },
        "id": "RQf3wowbMDG7",
        "outputId": "25acb0d3-97ee-40bb-fa69-33b5c49031a6"
      },
      "execution_count": null,
      "outputs": [
        {
          "output_type": "execute_result",
          "data": {
            "text/plain": [
              "[('a', ['AH0']),\n",
              " ('a.', ['EY1']),\n",
              " ('a', ['EY1']),\n",
              " ('a42128',\n",
              "  ['EY1',\n",
              "   'F',\n",
              "   'AO1',\n",
              "   'R',\n",
              "   'T',\n",
              "   'UW1',\n",
              "   'W',\n",
              "   'AH1',\n",
              "   'N',\n",
              "   'T',\n",
              "   'UW1',\n",
              "   'EY1',\n",
              "   'T']),\n",
              " ('aaa', ['T', 'R', 'IH2', 'P', 'AH0', 'L', 'EY1']),\n",
              " ('aaberg', ['AA1', 'B', 'ER0', 'G']),\n",
              " ('aachen', ['AA1', 'K', 'AH0', 'N']),\n",
              " ('aachener', ['AA1', 'K', 'AH0', 'N', 'ER0']),\n",
              " ('aaker', ['AA1', 'K', 'ER0']),\n",
              " ('aalseth', ['AA1', 'L', 'S', 'EH0', 'TH'])]"
            ]
          },
          "metadata": {},
          "execution_count": 89
        }
      ]
    },
    {
      "cell_type": "code",
      "source": [
        "for entry in entries[42371:42379]:\n",
        "  print(entry)"
      ],
      "metadata": {
        "colab": {
          "base_uri": "https://localhost:8080/"
        },
        "id": "AvkVtfCSMtoW",
        "outputId": "e9fdf293-6bb8-41c6-9fc2-4a19f4c9045d"
      },
      "execution_count": null,
      "outputs": [
        {
          "output_type": "stream",
          "name": "stdout",
          "text": [
            "('fir', ['F', 'ER1'])\n",
            "('fire', ['F', 'AY1', 'ER0'])\n",
            "('fire', ['F', 'AY1', 'R'])\n",
            "('firearm', ['F', 'AY1', 'ER0', 'AA2', 'R', 'M'])\n",
            "('firearm', ['F', 'AY1', 'R', 'AA2', 'R', 'M'])\n",
            "('firearms', ['F', 'AY1', 'ER0', 'AA2', 'R', 'M', 'Z'])\n",
            "('firearms', ['F', 'AY1', 'R', 'AA2', 'R', 'M', 'Z'])\n",
            "('fireball', ['F', 'AY1', 'ER0', 'B', 'AO2', 'L'])\n"
          ]
        }
      ]
    },
    {
      "cell_type": "code",
      "source": [
        "for word, pron in entries:\n",
        "  if len(pron) == 3:\n",
        "    ph1, ph2, ph3 = pron\n",
        "    if ph1 == 'P' and ph3 == 'T':\n",
        "      print(word, ph2, end=' ')"
      ],
      "metadata": {
        "colab": {
          "base_uri": "https://localhost:8080/"
        },
        "id": "xQ5uKLZbMy1w",
        "outputId": "c99f6b07-6b8b-4310-be68-c7d24f66344a"
      },
      "execution_count": null,
      "outputs": [
        {
          "output_type": "stream",
          "name": "stdout",
          "text": [
            "pait EY1 pat AE1 pate EY1 patt AE1 peart ER1 peat IY1 peet IY1 peete IY1 pert ER1 pet EH1 pete IY1 pett EH1 piet IY1 piette IY1 pit IH1 pitt IH1 pot AA1 pote OW1 pott AA1 pout AW1 puett UW1 purt ER1 put UH1 putt AH1 "
          ]
        }
      ]
    },
    {
      "cell_type": "code",
      "source": [
        "# 단어의 마지막 발음이 nicks으로 끝나는 단어들\n",
        "syllable = ['N', 'IH0', 'K', 'S']\n",
        "[word for word, pron in entries if pron[-4:] == syllable]"
      ],
      "metadata": {
        "colab": {
          "base_uri": "https://localhost:8080/"
        },
        "id": "Wy0rwzDqNRBv",
        "outputId": "0465e817-08d2-4792-d8e2-1e0d8c2577c0"
      },
      "execution_count": null,
      "outputs": [
        {
          "output_type": "execute_result",
          "data": {
            "text/plain": [
              "[\"atlantic's\",\n",
              " 'audiotronics',\n",
              " 'avionics',\n",
              " 'beatniks',\n",
              " 'calisthenics',\n",
              " 'centronics',\n",
              " 'chamonix',\n",
              " 'chetniks',\n",
              " \"clinic's\",\n",
              " 'clinics',\n",
              " 'conics',\n",
              " 'conics',\n",
              " 'cryogenics',\n",
              " 'cynics',\n",
              " 'diasonics',\n",
              " \"dominic's\",\n",
              " 'ebonics',\n",
              " 'electronics',\n",
              " \"electronics'\",\n",
              " \"endotronics'\",\n",
              " 'endotronics',\n",
              " 'enix',\n",
              " 'environics',\n",
              " 'ethnics',\n",
              " 'eugenics',\n",
              " 'fibronics',\n",
              " 'flextronics',\n",
              " 'harmonics',\n",
              " 'hispanics',\n",
              " 'histrionics',\n",
              " 'identics',\n",
              " 'ionics',\n",
              " 'kibbutzniks',\n",
              " 'lasersonics',\n",
              " 'lumonics',\n",
              " 'mannix',\n",
              " 'mechanics',\n",
              " \"mechanics'\",\n",
              " 'microelectronics',\n",
              " 'minix',\n",
              " 'minnix',\n",
              " 'mnemonics',\n",
              " 'mnemonics',\n",
              " 'molonicks',\n",
              " 'mullenix',\n",
              " 'mullenix',\n",
              " 'mullinix',\n",
              " 'mulnix',\n",
              " \"munich's\",\n",
              " 'nucleonics',\n",
              " 'onyx',\n",
              " 'organics',\n",
              " \"panic's\",\n",
              " 'panics',\n",
              " 'penix',\n",
              " 'pennix',\n",
              " 'personics',\n",
              " 'phenix',\n",
              " \"philharmonic's\",\n",
              " 'phoenix',\n",
              " 'phonics',\n",
              " 'photronics',\n",
              " 'pinnix',\n",
              " 'plantronics',\n",
              " 'pyrotechnics',\n",
              " 'refuseniks',\n",
              " \"resnick's\",\n",
              " 'respironics',\n",
              " 'sconnix',\n",
              " 'siliconix',\n",
              " 'skolniks',\n",
              " 'sonics',\n",
              " 'sputniks',\n",
              " 'technics',\n",
              " 'tectonics',\n",
              " 'tektronix',\n",
              " 'telectronics',\n",
              " 'telephonics',\n",
              " 'tonics',\n",
              " 'unix',\n",
              " \"vinick's\",\n",
              " \"vinnick's\",\n",
              " 'vitronics']"
            ]
          },
          "metadata": {},
          "execution_count": 92
        }
      ]
    },
    {
      "cell_type": "code",
      "source": [
        "[w for w, pron in entries if pron[-1] == 'M' and w[-1] == 'n']"
      ],
      "metadata": {
        "colab": {
          "base_uri": "https://localhost:8080/"
        },
        "id": "4Iikgo37NdLJ",
        "outputId": "cabb23e3-c205-4d9b-f40a-5a1b828ff001"
      },
      "execution_count": null,
      "outputs": [
        {
          "output_type": "execute_result",
          "data": {
            "text/plain": [
              "['autumn', 'column', 'condemn', 'damn', 'goddamn', 'hymn', 'solemn']"
            ]
          },
          "metadata": {},
          "execution_count": 93
        }
      ]
    },
    {
      "cell_type": "code",
      "source": [
        "sorted(set(w[:2] for w, pron in entries if pron[0] == 'N' and w[0] != 'n'))"
      ],
      "metadata": {
        "colab": {
          "base_uri": "https://localhost:8080/"
        },
        "id": "OA88yTIFNzKL",
        "outputId": "0c3878f4-e0b5-436f-e4f6-075f87415a98"
      },
      "execution_count": null,
      "outputs": [
        {
          "output_type": "execute_result",
          "data": {
            "text/plain": [
              "['gn', 'kn', 'mn', 'pn']"
            ]
          },
          "metadata": {},
          "execution_count": 96
        }
      ]
    },
    {
      "cell_type": "code",
      "source": [
        "# knock의 경우 발음이 'N'으로 시작하지만, n으로 시작하지 않는 단어"
      ],
      "metadata": {
        "id": "301RR7vgN9mK"
      },
      "execution_count": null,
      "outputs": []
    },
    {
      "cell_type": "code",
      "source": [
        "# 발음의 강세\n",
        "def stress(pron):\n",
        "  return [char for phone in pron for char in phone if char.isdigit()]"
      ],
      "metadata": {
        "id": "CGYPJhqrOL5c"
      },
      "execution_count": null,
      "outputs": []
    },
    {
      "cell_type": "code",
      "source": [
        "[w for w, pron in entries if stress(pron) == ['0', '1', '0', '2', '0']][:10]"
      ],
      "metadata": {
        "colab": {
          "base_uri": "https://localhost:8080/"
        },
        "id": "TWupUH4kOYT6",
        "outputId": "ca8ad51d-12a5-4586-f9d8-ef4d5f352050"
      },
      "execution_count": null,
      "outputs": [
        {
          "output_type": "execute_result",
          "data": {
            "text/plain": [
              "['abbreviated',\n",
              " 'abbreviated',\n",
              " 'abbreviating',\n",
              " 'accelerated',\n",
              " 'accelerating',\n",
              " 'accelerator',\n",
              " 'accelerators',\n",
              " 'accentuated',\n",
              " 'accentuating',\n",
              " 'accommodated']"
            ]
          },
          "metadata": {},
          "execution_count": 101
        }
      ]
    },
    {
      "cell_type": "code",
      "source": [
        "[w for w, pron in entries if stress(pron) == ['0', '2', '0', '1', '0']][:10]"
      ],
      "metadata": {
        "colab": {
          "base_uri": "https://localhost:8080/"
        },
        "id": "TOJsGZ0wOvhZ",
        "outputId": "61c41588-6df4-4d95-c155-9f82012035d1"
      },
      "execution_count": null,
      "outputs": [
        {
          "output_type": "execute_result",
          "data": {
            "text/plain": [
              "['abbreviation',\n",
              " 'abbreviations',\n",
              " 'abomination',\n",
              " 'abortifacient',\n",
              " 'abortifacients',\n",
              " 'academicians',\n",
              " 'accommodation',\n",
              " 'accommodations',\n",
              " 'accreditation',\n",
              " 'accreditations']"
            ]
          },
          "metadata": {},
          "execution_count": 102
        }
      ]
    },
    {
      "cell_type": "code",
      "source": [
        "p3 = [(pron[0]+'-'+pron[2], word)\n",
        "      for (word, pron) in entries\n",
        "      if pron[0] == 'P' and len(pron) == 3]\n",
        "cfd = nltk.ConditionalFreqDist(p3)\n",
        "for template in sorted(cfd.conditions()):\n",
        "  if len(cfd[template]) > 10:\n",
        "    words = sorted(cfd[template])\n",
        "    wordstring = ' '.join(words)\n",
        "    print(template, wordstring[:70] + '...')"
      ],
      "metadata": {
        "colab": {
          "base_uri": "https://localhost:8080/"
        },
        "id": "3BdQ298wOjJD",
        "outputId": "a6ace6dc-e75a-465e-d302-49f6ee9d127e"
      },
      "execution_count": null,
      "outputs": [
        {
          "output_type": "stream",
          "name": "stdout",
          "text": [
            "P-CH patch pautsch peach perch petsch petsche piche piech pietsch pitch pit...\n",
            "P-K pac pack paek paik pak pake paque peak peake pech peck peek perc perk ...\n",
            "P-L pahl pail paille pal pale pall paul paule paull peal peale pearl pearl...\n",
            "P-N paign pain paine pan pane pawn payne peine pen penh penn pin pine pinn...\n",
            "P-P paap paape pap pape papp paup peep pep pip pipe pipp poop pop pope pop...\n",
            "P-R paar pair par pare parr pear peer pier poor poore por pore porr pour...\n",
            "P-S pace pass pasts peace pearse pease perce pers perse pesce piece piss p...\n",
            "P-T pait pat pate patt peart peat peet peete pert pet pete pett piet piett...\n",
            "P-UW1 peru peugh pew plew plue prew pru prue prugh pshew pugh...\n",
            "P-Z p's p.'s p.s pais paiz pao's pas pause paws pays paz peas pease pei's ...\n"
          ]
        }
      ]
    },
    {
      "cell_type": "code",
      "source": [
        "prondict = nltk.corpus.cmudict.dict()\n",
        "prondict['fire']"
      ],
      "metadata": {
        "colab": {
          "base_uri": "https://localhost:8080/"
        },
        "id": "kMnsj4-_P1qI",
        "outputId": "81c1e4d3-5fd0-4acd-d9a8-ed0cfcfd2543"
      },
      "execution_count": null,
      "outputs": [
        {
          "output_type": "execute_result",
          "data": {
            "text/plain": [
              "[['F', 'AY1', 'ER0'], ['F', 'AY1', 'R']]"
            ]
          },
          "metadata": {},
          "execution_count": 105
        }
      ]
    },
    {
      "cell_type": "code",
      "source": [
        "prondict['blog'] = [['B', 'L', 'AA1', 'G']]\n",
        "prondict['blog']"
      ],
      "metadata": {
        "colab": {
          "base_uri": "https://localhost:8080/"
        },
        "id": "O1yugGY6QKOV",
        "outputId": "d667cb91-588f-4b05-cef8-0aa7e9fd6202"
      },
      "execution_count": null,
      "outputs": [
        {
          "output_type": "execute_result",
          "data": {
            "text/plain": [
              "[['B', 'L', 'AA1', 'G']]"
            ]
          },
          "metadata": {},
          "execution_count": 107
        }
      ]
    },
    {
      "cell_type": "code",
      "source": [
        "text = ['natural', 'language', 'processing']\n",
        "[ph for w in text for ph in prondict[w][0]]"
      ],
      "metadata": {
        "colab": {
          "base_uri": "https://localhost:8080/"
        },
        "id": "K3ELJ05gQQyk",
        "outputId": "d5ecda76-44e9-4627-d08b-d9b475534e6b"
      },
      "execution_count": null,
      "outputs": [
        {
          "output_type": "execute_result",
          "data": {
            "text/plain": [
              "['N',\n",
              " 'AE1',\n",
              " 'CH',\n",
              " 'ER0',\n",
              " 'AH0',\n",
              " 'L',\n",
              " 'L',\n",
              " 'AE1',\n",
              " 'NG',\n",
              " 'G',\n",
              " 'W',\n",
              " 'AH0',\n",
              " 'JH',\n",
              " 'P',\n",
              " 'R',\n",
              " 'AA1',\n",
              " 'S',\n",
              " 'EH0',\n",
              " 'S',\n",
              " 'IH0',\n",
              " 'NG']"
            ]
          },
          "metadata": {},
          "execution_count": 108
        }
      ]
    },
    {
      "cell_type": "code",
      "source": [
        "from nltk.corpus import swadesh\n",
        "print(swadesh.fileids())"
      ],
      "metadata": {
        "colab": {
          "base_uri": "https://localhost:8080/"
        },
        "id": "GR4PckBgQl1f",
        "outputId": "683b921b-56fe-45ab-9ee5-1c9f7cb882f4"
      },
      "execution_count": null,
      "outputs": [
        {
          "output_type": "stream",
          "name": "stdout",
          "text": [
            "['be', 'bg', 'bs', 'ca', 'cs', 'cu', 'de', 'en', 'es', 'fr', 'hr', 'it', 'la', 'mk', 'nl', 'pl', 'pt', 'ro', 'ru', 'sk', 'sl', 'sr', 'sw', 'uk']\n"
          ]
        }
      ]
    },
    {
      "cell_type": "code",
      "source": [
        "print(swadesh.words('en'))"
      ],
      "metadata": {
        "colab": {
          "base_uri": "https://localhost:8080/"
        },
        "id": "k1VSgX0QQ5HR",
        "outputId": "5d622605-abd6-4ef6-e0a1-94f09650346c"
      },
      "execution_count": null,
      "outputs": [
        {
          "output_type": "stream",
          "name": "stdout",
          "text": [
            "['I', 'you (singular), thou', 'he', 'we', 'you (plural)', 'they', 'this', 'that', 'here', 'there', 'who', 'what', 'where', 'when', 'how', 'not', 'all', 'many', 'some', 'few', 'other', 'one', 'two', 'three', 'four', 'five', 'big', 'long', 'wide', 'thick', 'heavy', 'small', 'short', 'narrow', 'thin', 'woman', 'man (adult male)', 'man (human being)', 'child', 'wife', 'husband', 'mother', 'father', 'animal', 'fish', 'bird', 'dog', 'louse', 'snake', 'worm', 'tree', 'forest', 'stick', 'fruit', 'seed', 'leaf', 'root', 'bark (from tree)', 'flower', 'grass', 'rope', 'skin', 'meat', 'blood', 'bone', 'fat (noun)', 'egg', 'horn', 'tail', 'feather', 'hair', 'head', 'ear', 'eye', 'nose', 'mouth', 'tooth', 'tongue', 'fingernail', 'foot', 'leg', 'knee', 'hand', 'wing', 'belly', 'guts', 'neck', 'back', 'breast', 'heart', 'liver', 'drink', 'eat', 'bite', 'suck', 'spit', 'vomit', 'blow', 'breathe', 'laugh', 'see', 'hear', 'know (a fact)', 'think', 'smell', 'fear', 'sleep', 'live', 'die', 'kill', 'fight', 'hunt', 'hit', 'cut', 'split', 'stab', 'scratch', 'dig', 'swim', 'fly (verb)', 'walk', 'come', 'lie', 'sit', 'stand', 'turn', 'fall', 'give', 'hold', 'squeeze', 'rub', 'wash', 'wipe', 'pull', 'push', 'throw', 'tie', 'sew', 'count', 'say', 'sing', 'play', 'float', 'flow', 'freeze', 'swell', 'sun', 'moon', 'star', 'water', 'rain', 'river', 'lake', 'sea', 'salt', 'stone', 'sand', 'dust', 'earth', 'cloud', 'fog', 'sky', 'wind', 'snow', 'ice', 'smoke', 'fire', 'ashes', 'burn', 'road', 'mountain', 'red', 'green', 'yellow', 'white', 'black', 'night', 'day', 'year', 'warm', 'cold', 'full', 'new', 'old', 'good', 'bad', 'rotten', 'dirty', 'straight', 'round', 'sharp', 'dull', 'smooth', 'wet', 'dry', 'correct', 'near', 'far', 'right', 'left', 'at', 'in', 'with', 'and', 'if', 'because', 'name']\n"
          ]
        }
      ]
    },
    {
      "cell_type": "code",
      "source": [
        "fr2en = swadesh.entries(['fr', 'en'])\n",
        "print(list(fr2en))"
      ],
      "metadata": {
        "colab": {
          "base_uri": "https://localhost:8080/"
        },
        "id": "SNmLRqkpROwW",
        "outputId": "0bb3da83-cb63-42ad-a8fc-795ea3adf14e"
      },
      "execution_count": null,
      "outputs": [
        {
          "output_type": "stream",
          "name": "stdout",
          "text": [
            "[('je', 'I'), ('tu, vous', 'you (singular), thou'), ('il', 'he'), ('nous', 'we'), ('vous', 'you (plural)'), ('ils, elles', 'they'), ('ceci', 'this'), ('cela', 'that'), ('ici', 'here'), ('là', 'there'), ('qui', 'who'), ('quoi', 'what'), ('où', 'where'), ('quand', 'when'), ('comment', 'how'), ('ne...pas', 'not'), ('tout', 'all'), ('plusieurs', 'many'), ('quelques', 'some'), ('peu', 'few'), ('autre', 'other'), ('un', 'one'), ('deux', 'two'), ('trois', 'three'), ('quatre', 'four'), ('cinq', 'five'), ('grand', 'big'), ('long', 'long'), ('large', 'wide'), ('épais', 'thick'), ('lourd', 'heavy'), ('petit', 'small'), ('court', 'short'), ('étroit', 'narrow'), ('mince', 'thin'), ('femme', 'woman'), ('homme', 'man (adult male)'), ('homme', 'man (human being)'), ('enfant', 'child'), ('femme, épouse', 'wife'), ('mari, époux', 'husband'), ('mère', 'mother'), ('père', 'father'), ('animal', 'animal'), ('poisson', 'fish'), ('oiseau', 'bird'), ('chien', 'dog'), ('pou', 'louse'), ('serpent', 'snake'), ('ver', 'worm'), ('arbre', 'tree'), ('forêt', 'forest'), ('bâton', 'stick'), ('fruit', 'fruit'), ('graine', 'seed'), ('feuille', 'leaf'), ('racine', 'root'), ('écorce', 'bark (from tree)'), ('fleur', 'flower'), ('herbe', 'grass'), ('corde', 'rope'), ('peau', 'skin'), ('viande', 'meat'), ('sang', 'blood'), ('os', 'bone'), ('graisse', 'fat (noun)'), ('œuf', 'egg'), ('corne', 'horn'), ('queue', 'tail'), ('plume', 'feather'), ('cheveu', 'hair'), ('tête', 'head'), ('oreille', 'ear'), ('œil', 'eye'), ('nez', 'nose'), ('bouche', 'mouth'), ('dent', 'tooth'), ('langue', 'tongue'), ('ongle', 'fingernail'), ('pied', 'foot'), ('jambe', 'leg'), ('genou', 'knee'), ('main', 'hand'), ('aile', 'wing'), ('ventre', 'belly'), ('entrailles', 'guts'), ('cou', 'neck'), ('dos', 'back'), ('sein, poitrine', 'breast'), ('cœur', 'heart'), ('foie', 'liver'), ('boire', 'drink'), ('manger', 'eat'), ('mordre', 'bite'), ('sucer', 'suck'), ('cracher', 'spit'), ('vomir', 'vomit'), ('souffler', 'blow'), ('respirer', 'breathe'), ('rire', 'laugh'), ('voir', 'see'), ('entendre', 'hear'), ('savoir', 'know (a fact)'), ('penser', 'think'), ('sentir', 'smell'), ('craindre, avoir peur', 'fear'), ('dormir', 'sleep'), ('vivre', 'live'), ('mourir', 'die'), ('tuer', 'kill'), ('se battre', 'fight'), ('chasser', 'hunt'), ('frapper', 'hit'), ('couper', 'cut'), ('fendre', 'split'), ('poignarder', 'stab'), ('gratter', 'scratch'), ('creuser', 'dig'), ('nager', 'swim'), ('voler', 'fly (verb)'), ('marcher', 'walk'), ('venir', 'come'), (\"s'étendre\", 'lie'), (\"s'asseoir\", 'sit'), ('se lever', 'stand'), ('tourner', 'turn'), ('tomber', 'fall'), ('donner', 'give'), ('tenir', 'hold'), ('serrer', 'squeeze'), ('frotter', 'rub'), ('laver', 'wash'), ('essuyer', 'wipe'), ('tirer', 'pull'), ('pousser', 'push'), ('jeter', 'throw'), ('lier', 'tie'), ('coudre', 'sew'), ('compter', 'count'), ('dire', 'say'), ('chanter', 'sing'), ('jouer', 'play'), ('flotter', 'float'), ('couler', 'flow'), ('geler', 'freeze'), ('gonfler', 'swell'), ('soleil', 'sun'), ('lune', 'moon'), ('étoile', 'star'), ('eau', 'water'), ('pluie', 'rain'), ('rivière', 'river'), ('lac', 'lake'), ('mer', 'sea'), ('sel', 'salt'), ('pierre', 'stone'), ('sable', 'sand'), ('poussière', 'dust'), ('terre', 'earth'), ('nuage', 'cloud'), ('brouillard', 'fog'), ('ciel', 'sky'), ('vent', 'wind'), ('neige', 'snow'), ('glace', 'ice'), ('fumée', 'smoke'), ('feu', 'fire'), ('cendres', 'ashes'), ('brûler', 'burn'), ('route', 'road'), ('montagne', 'mountain'), ('rouge', 'red'), ('vert', 'green'), ('jaune', 'yellow'), ('blanc', 'white'), ('noir', 'black'), ('nuit', 'night'), ('jour', 'day'), ('an, année', 'year'), ('chaud', 'warm'), ('froid', 'cold'), ('plein', 'full'), ('nouveau', 'new'), ('vieux', 'old'), ('bon', 'good'), ('mauvais', 'bad'), ('pourri', 'rotten'), ('sale', 'dirty'), ('droit', 'straight'), ('rond', 'round'), ('tranchant, pointu, aigu', 'sharp'), ('émoussé', 'dull'), ('lisse', 'smooth'), ('mouillé', 'wet'), ('sec', 'dry'), ('juste, correct', 'correct'), ('proche', 'near'), ('loin', 'far'), ('à droite', 'right'), ('à gauche', 'left'), ('à', 'at'), ('dans', 'in'), ('avec', 'with'), ('et', 'and'), ('si', 'if'), ('parce que', 'because'), ('nom', 'name')]\n"
          ]
        }
      ]
    },
    {
      "cell_type": "code",
      "source": [
        "translate = dict(fr2en)\n",
        "print('chien -->', translate['chien'])\n",
        "print('jeter -->', translate['jeter'])"
      ],
      "metadata": {
        "colab": {
          "base_uri": "https://localhost:8080/"
        },
        "id": "jsbgtlgdRd1N",
        "outputId": "c043f888-dcf8-41f5-a00c-15f0d7411c75"
      },
      "execution_count": null,
      "outputs": [
        {
          "output_type": "stream",
          "name": "stdout",
          "text": [
            "chien --> dog\n",
            "jeter --> throw\n"
          ]
        }
      ]
    },
    {
      "cell_type": "code",
      "source": [
        "de2en = swadesh.entries(['de', 'en'])\n",
        "es2en = swadesh.entries(['es', 'en'])\n",
        "translate.update(dict(de2en))\n",
        "translate.update(dict(es2en))\n",
        "print(translate['Hund'])\n",
        "print(translate['perro'])"
      ],
      "metadata": {
        "colab": {
          "base_uri": "https://localhost:8080/"
        },
        "id": "cP7dGDyDRlAH",
        "outputId": "597d1c5b-2701-4a50-b174-8a9983a0f610"
      },
      "execution_count": null,
      "outputs": [
        {
          "output_type": "stream",
          "name": "stdout",
          "text": [
            "dog\n",
            "dog\n"
          ]
        }
      ]
    },
    {
      "cell_type": "code",
      "source": [
        "# 같은 의미를 가진 여러 국가의 단어들\n",
        "languages = ['en', 'de', 'nl', 'es', 'fr', 'pt', 'la']\n",
        "for i in [139, 140, 141, 142]:\n",
        "  print(swadesh.entries(languages)[i])"
      ],
      "metadata": {
        "colab": {
          "base_uri": "https://localhost:8080/"
        },
        "id": "2uDbmZsOSEGh",
        "outputId": "9b2a7407-805d-4cd9-86b1-9e525b902c13"
      },
      "execution_count": null,
      "outputs": [
        {
          "output_type": "stream",
          "name": "stdout",
          "text": [
            "('say', 'sagen', 'zeggen', 'decir', 'dire', 'dizer', 'dicere')\n",
            "('sing', 'singen', 'zingen', 'cantar', 'chanter', 'cantar', 'canere')\n",
            "('play', 'spielen', 'spelen', 'jugar', 'jouer', 'jogar, brincar', 'ludere')\n",
            "('float', 'schweben', 'zweven', 'flotar', 'flotter', 'flutuar, boiar', 'fluctuare')\n"
          ]
        }
      ]
    },
    {
      "cell_type": "code",
      "source": [
        "from nltk.corpus import toolbox\n",
        "toolbox.entries('rotokas.dic')[:3]"
      ],
      "metadata": {
        "colab": {
          "base_uri": "https://localhost:8080/"
        },
        "id": "Wz69aORcSYpW",
        "outputId": "ed8db994-5e52-433d-f11d-b4a27a304444"
      },
      "execution_count": null,
      "outputs": [
        {
          "output_type": "execute_result",
          "data": {
            "text/plain": [
              "[('kaa',\n",
              "  [('ps', 'V'),\n",
              "   ('pt', 'A'),\n",
              "   ('ge', 'gag'),\n",
              "   ('tkp', 'nek i pas'),\n",
              "   ('dcsv', 'true'),\n",
              "   ('vx', '1'),\n",
              "   ('sc', '???'),\n",
              "   ('dt', '29/Oct/2005'),\n",
              "   ('ex', 'Apoka ira kaaroi aioa-ia reoreopaoro.'),\n",
              "   ('xp', 'Kaikai i pas long nek bilong Apoka bikos em i kaikai na toktok.'),\n",
              "   ('xe', 'Apoka is gagging from food while talking.')]),\n",
              " ('kaa',\n",
              "  [('ps', 'V'),\n",
              "   ('pt', 'B'),\n",
              "   ('ge', 'strangle'),\n",
              "   ('tkp', 'pasim nek'),\n",
              "   ('arg', 'O'),\n",
              "   ('vx', '2'),\n",
              "   ('dt', '07/Oct/2006'),\n",
              "   ('ex', 'Rera rauroro rera kaarevoi.'),\n",
              "   ('xp', 'Em i holim pas em na nekim em.'),\n",
              "   ('xe', 'He is holding him and strangling him.'),\n",
              "   ('ex', 'Iroiro-ia oirato okoearo kaaivoi uvare rirovira kaureoparoveira.'),\n",
              "   ('xp', 'Ol i pasim nek bilong man long rop bikos em i save bikhet tumas.'),\n",
              "   ('xe',\n",
              "    \"They strangled the man's neck with rope because he was very stubborn and arrogant.\"),\n",
              "   ('ex',\n",
              "    'Oirato okoearo kaaivoi iroiro-ia. Uva viapau uvuiparoi ra vovouparo uva kopiiroi.'),\n",
              "   ('xp',\n",
              "    'Ol i pasim nek bilong man long rop. Olsem na em i no pulim win olsem na em i dai.'),\n",
              "   ('xe',\n",
              "    \"They strangled the man's neck with a rope. And he couldn't breathe and he died.\")]),\n",
              " ('kaa',\n",
              "  [('ps', 'N'),\n",
              "   ('pt', 'MASC'),\n",
              "   ('cl', 'isi'),\n",
              "   ('ge', 'cooking banana'),\n",
              "   ('tkp', 'banana bilong kukim'),\n",
              "   ('pt', 'itoo'),\n",
              "   ('sf', 'FLORA'),\n",
              "   ('dt', '12/Aug/2005'),\n",
              "   ('ex', 'Taeavi iria kaa isi kovopaueva kaparapasia.'),\n",
              "   ('xp', 'Taeavi i bin planim gaden banana bilong kukim tasol long paia.'),\n",
              "   ('xe', 'Taeavi planted banana in order to cook it.')])]"
            ]
          },
          "metadata": {},
          "execution_count": 120
        }
      ]
    },
    {
      "cell_type": "markdown",
      "source": [
        "# 5. WordNet"
      ],
      "metadata": {
        "id": "2jECFCVgTq7V"
      }
    },
    {
      "cell_type": "code",
      "source": [
        "# synonyms 동의어\n",
        "from nltk.corpus import wordnet as wn\n",
        "wn.synsets('motorcar')"
      ],
      "metadata": {
        "colab": {
          "base_uri": "https://localhost:8080/"
        },
        "id": "ZH920xpOTtsq",
        "outputId": "90269970-2d04-43fe-a764-89a487f7799b"
      },
      "execution_count": null,
      "outputs": [
        {
          "output_type": "execute_result",
          "data": {
            "text/plain": [
              "[Synset('car.n.01')]"
            ]
          },
          "metadata": {},
          "execution_count": 121
        }
      ]
    },
    {
      "cell_type": "code",
      "source": [
        "wn.synset('car.n.01').lemma_names()"
      ],
      "metadata": {
        "colab": {
          "base_uri": "https://localhost:8080/"
        },
        "id": "4Ht25StzZrCA",
        "outputId": "a5bf85e7-dac5-4b9a-dc39-53da056e89e7"
      },
      "execution_count": null,
      "outputs": [
        {
          "output_type": "execute_result",
          "data": {
            "text/plain": [
              "['car', 'auto', 'automobile', 'machine', 'motorcar']"
            ]
          },
          "metadata": {},
          "execution_count": 123
        }
      ]
    },
    {
      "cell_type": "code",
      "source": [
        "wn.synset('car.n.01').definition()"
      ],
      "metadata": {
        "colab": {
          "base_uri": "https://localhost:8080/",
          "height": 37
        },
        "id": "7mNPUaFbZzKf",
        "outputId": "22345551-22b8-40c8-ef62-f8da757f1e12"
      },
      "execution_count": null,
      "outputs": [
        {
          "output_type": "execute_result",
          "data": {
            "application/vnd.google.colaboratory.intrinsic+json": {
              "type": "string"
            },
            "text/plain": [
              "'a motor vehicle with four wheels; usually propelled by an internal combustion engine'"
            ]
          },
          "metadata": {},
          "execution_count": 124
        }
      ]
    },
    {
      "cell_type": "code",
      "source": [
        "wn.synset('car.n.01').examples()"
      ],
      "metadata": {
        "colab": {
          "base_uri": "https://localhost:8080/"
        },
        "id": "A4nE-QMEaAGD",
        "outputId": "1795cac4-ca1e-4604-8e75-ae06f059a03a"
      },
      "execution_count": null,
      "outputs": [
        {
          "output_type": "execute_result",
          "data": {
            "text/plain": [
              "['he needs a car to get to work']"
            ]
          },
          "metadata": {},
          "execution_count": 125
        }
      ]
    },
    {
      "cell_type": "code",
      "source": [
        "print(wn.synset('car.n.01').lemmas())\n",
        "print(wn.lemma('car.n.01.automobile'))\n",
        "print(wn.lemma('car.n.01.automobile').synset())\n",
        "print(wn.lemma('car.n.01.automobile').name())"
      ],
      "metadata": {
        "colab": {
          "base_uri": "https://localhost:8080/"
        },
        "id": "eWdvJswRaEr6",
        "outputId": "787d0d0e-e323-456f-9672-6a023c29f273"
      },
      "execution_count": null,
      "outputs": [
        {
          "output_type": "stream",
          "name": "stdout",
          "text": [
            "[Lemma('car.n.01.car'), Lemma('car.n.01.auto'), Lemma('car.n.01.automobile'), Lemma('car.n.01.machine'), Lemma('car.n.01.motorcar')]\n",
            "Lemma('car.n.01.automobile')\n",
            "Synset('car.n.01')\n",
            "automobile\n"
          ]
        }
      ]
    },
    {
      "cell_type": "code",
      "source": [
        "wn.synsets('car')"
      ],
      "metadata": {
        "colab": {
          "base_uri": "https://localhost:8080/"
        },
        "id": "7U5NRfsYah4r",
        "outputId": "ea649445-2faf-4e93-b6d5-6b709ad2656b"
      },
      "execution_count": null,
      "outputs": [
        {
          "output_type": "execute_result",
          "data": {
            "text/plain": [
              "[Synset('car.n.01'),\n",
              " Synset('car.n.02'),\n",
              " Synset('car.n.03'),\n",
              " Synset('car.n.04'),\n",
              " Synset('cable_car.n.01')]"
            ]
          },
          "metadata": {},
          "execution_count": 127
        }
      ]
    },
    {
      "cell_type": "code",
      "source": [
        "for synset in wn.synsets('car'):\n",
        "  print(synset.lemma_names())"
      ],
      "metadata": {
        "colab": {
          "base_uri": "https://localhost:8080/"
        },
        "id": "JMorxTTbaoDJ",
        "outputId": "4506c839-82a4-4c5a-cf37-672e022661e6"
      },
      "execution_count": null,
      "outputs": [
        {
          "output_type": "stream",
          "name": "stdout",
          "text": [
            "['car', 'auto', 'automobile', 'machine', 'motorcar']\n",
            "['car', 'railcar', 'railway_car', 'railroad_car']\n",
            "['car', 'gondola']\n",
            "['car', 'elevator_car']\n",
            "['cable_car', 'car']\n"
          ]
        }
      ]
    },
    {
      "cell_type": "code",
      "source": [
        "motorcar = wn.synset('car.n.01')\n",
        "types_of_motorcar = motorcar.hyponyms()\n",
        "types_of_motorcar[0]\n",
        "for synset in types_of_motorcar:\n",
        "  print(synset, ':', end=' ')\n",
        "  for lemma in synset.lemmas():\n",
        "    print(lemma.name(), end=', ')\n",
        "  print()"
      ],
      "metadata": {
        "colab": {
          "base_uri": "https://localhost:8080/"
        },
        "id": "QHvUbFW7atWX",
        "outputId": "71e3668e-fa7b-4881-9917-d16541abbcac"
      },
      "execution_count": null,
      "outputs": [
        {
          "output_type": "stream",
          "name": "stdout",
          "text": [
            "Synset('ambulance.n.01') : ambulance, \n",
            "Synset('beach_wagon.n.01') : beach_wagon, station_wagon, wagon, estate_car, beach_waggon, station_waggon, waggon, \n",
            "Synset('bus.n.04') : bus, jalopy, heap, \n",
            "Synset('cab.n.03') : cab, hack, taxi, taxicab, \n",
            "Synset('compact.n.03') : compact, compact_car, \n",
            "Synset('convertible.n.01') : convertible, \n",
            "Synset('coupe.n.01') : coupe, \n",
            "Synset('cruiser.n.01') : cruiser, police_cruiser, patrol_car, police_car, prowl_car, squad_car, \n",
            "Synset('electric.n.01') : electric, electric_automobile, electric_car, \n",
            "Synset('gas_guzzler.n.01') : gas_guzzler, \n",
            "Synset('hardtop.n.01') : hardtop, \n",
            "Synset('hatchback.n.01') : hatchback, \n",
            "Synset('horseless_carriage.n.01') : horseless_carriage, \n",
            "Synset('hot_rod.n.01') : hot_rod, hot-rod, \n",
            "Synset('jeep.n.01') : jeep, landrover, \n",
            "Synset('limousine.n.01') : limousine, limo, \n",
            "Synset('loaner.n.02') : loaner, \n",
            "Synset('minicar.n.01') : minicar, \n",
            "Synset('minivan.n.01') : minivan, \n",
            "Synset('model_t.n.01') : Model_T, \n",
            "Synset('pace_car.n.01') : pace_car, \n",
            "Synset('racer.n.02') : racer, race_car, racing_car, \n",
            "Synset('roadster.n.01') : roadster, runabout, two-seater, \n",
            "Synset('sedan.n.01') : sedan, saloon, \n",
            "Synset('sport_utility.n.01') : sport_utility, sport_utility_vehicle, S.U.V., SUV, \n",
            "Synset('sports_car.n.01') : sports_car, sport_car, \n",
            "Synset('stanley_steamer.n.01') : Stanley_Steamer, \n",
            "Synset('stock_car.n.01') : stock_car, \n",
            "Synset('subcompact.n.01') : subcompact, subcompact_car, \n",
            "Synset('touring_car.n.01') : touring_car, phaeton, tourer, \n",
            "Synset('used-car.n.01') : used-car, secondhand_car, \n"
          ]
        }
      ]
    },
    {
      "cell_type": "code",
      "source": [
        "motorcar.hypernyms()"
      ],
      "metadata": {
        "colab": {
          "base_uri": "https://localhost:8080/"
        },
        "id": "nmqP6oz5baMW",
        "outputId": "d8362206-b708-48e8-8d08-4a96f5683be4"
      },
      "execution_count": null,
      "outputs": [
        {
          "output_type": "execute_result",
          "data": {
            "text/plain": [
              "[Synset('motor_vehicle.n.01')]"
            ]
          },
          "metadata": {},
          "execution_count": 134
        }
      ]
    },
    {
      "cell_type": "code",
      "source": [
        "paths = motorcar.hypernym_paths()\n",
        "paths"
      ],
      "metadata": {
        "colab": {
          "base_uri": "https://localhost:8080/"
        },
        "id": "Fxwy_msAbsst",
        "outputId": "c20d9e9d-7d4f-4cd2-b594-8dff0af89717"
      },
      "execution_count": null,
      "outputs": [
        {
          "output_type": "execute_result",
          "data": {
            "text/plain": [
              "[[Synset('entity.n.01'),\n",
              "  Synset('physical_entity.n.01'),\n",
              "  Synset('object.n.01'),\n",
              "  Synset('whole.n.02'),\n",
              "  Synset('artifact.n.01'),\n",
              "  Synset('instrumentality.n.03'),\n",
              "  Synset('container.n.01'),\n",
              "  Synset('wheeled_vehicle.n.01'),\n",
              "  Synset('self-propelled_vehicle.n.01'),\n",
              "  Synset('motor_vehicle.n.01'),\n",
              "  Synset('car.n.01')],\n",
              " [Synset('entity.n.01'),\n",
              "  Synset('physical_entity.n.01'),\n",
              "  Synset('object.n.01'),\n",
              "  Synset('whole.n.02'),\n",
              "  Synset('artifact.n.01'),\n",
              "  Synset('instrumentality.n.03'),\n",
              "  Synset('conveyance.n.03'),\n",
              "  Synset('vehicle.n.01'),\n",
              "  Synset('wheeled_vehicle.n.01'),\n",
              "  Synset('self-propelled_vehicle.n.01'),\n",
              "  Synset('motor_vehicle.n.01'),\n",
              "  Synset('car.n.01')]]"
            ]
          },
          "metadata": {},
          "execution_count": 136
        }
      ]
    },
    {
      "cell_type": "code",
      "source": [
        "motorcar.root_hypernyms()"
      ],
      "metadata": {
        "colab": {
          "base_uri": "https://localhost:8080/"
        },
        "id": "B0MHfLwrbwds",
        "outputId": "b4036f0e-b269-4c66-a731-cc2965d4b9ff"
      },
      "execution_count": null,
      "outputs": [
        {
          "output_type": "execute_result",
          "data": {
            "text/plain": [
              "[Synset('entity.n.01')]"
            ]
          },
          "metadata": {},
          "execution_count": 137
        }
      ]
    },
    {
      "cell_type": "code",
      "source": [
        "# hyponyms : 하위 유형\n",
        "# hypernyms : 상위 유형\n",
        "\n",
        "# meronyms : 구성 요소 \n",
        "# holonyms : 전체"
      ],
      "metadata": {
        "id": "S3caX2Brb4nN"
      },
      "execution_count": null,
      "outputs": []
    },
    {
      "cell_type": "code",
      "source": [
        "wn.synset('tree.n.01').part_meronyms()"
      ],
      "metadata": {
        "colab": {
          "base_uri": "https://localhost:8080/"
        },
        "id": "ymumuAUJcgwd",
        "outputId": "3280d3ae-ace4-42d1-de1d-7d7a0388da5e"
      },
      "execution_count": null,
      "outputs": [
        {
          "output_type": "execute_result",
          "data": {
            "text/plain": [
              "[Synset('burl.n.02'),\n",
              " Synset('crown.n.07'),\n",
              " Synset('limb.n.02'),\n",
              " Synset('stump.n.01'),\n",
              " Synset('trunk.n.01')]"
            ]
          },
          "metadata": {},
          "execution_count": 138
        }
      ]
    },
    {
      "cell_type": "code",
      "source": [
        "wn.synset('tree.n.01').substance_meronyms()"
      ],
      "metadata": {
        "colab": {
          "base_uri": "https://localhost:8080/"
        },
        "id": "FkAzWCxecsBg",
        "outputId": "caa1fda1-8feb-4441-e5b9-bfee8dca52d3"
      },
      "execution_count": null,
      "outputs": [
        {
          "output_type": "execute_result",
          "data": {
            "text/plain": [
              "[Synset('heartwood.n.01'), Synset('sapwood.n.01')]"
            ]
          },
          "metadata": {},
          "execution_count": 139
        }
      ]
    },
    {
      "cell_type": "code",
      "source": [
        "wn.synset('tree.n.01').member_holonyms()"
      ],
      "metadata": {
        "colab": {
          "base_uri": "https://localhost:8080/"
        },
        "id": "2cYi02NGcwhf",
        "outputId": "42485d01-141f-405d-ddfa-f66354928e93"
      },
      "execution_count": null,
      "outputs": [
        {
          "output_type": "execute_result",
          "data": {
            "text/plain": [
              "[Synset('forest.n.01')]"
            ]
          },
          "metadata": {},
          "execution_count": 140
        }
      ]
    },
    {
      "cell_type": "code",
      "source": [
        "wn.synset('walk.v.01').entailments()"
      ],
      "metadata": {
        "colab": {
          "base_uri": "https://localhost:8080/"
        },
        "id": "UyLkZVxKc4tu",
        "outputId": "a7e60578-3a15-4a9d-815b-136d45810f41"
      },
      "execution_count": null,
      "outputs": [
        {
          "output_type": "execute_result",
          "data": {
            "text/plain": [
              "[Synset('step.v.01')]"
            ]
          },
          "metadata": {},
          "execution_count": 141
        }
      ]
    },
    {
      "cell_type": "code",
      "source": [
        "wn.synset('eat.v.01').entailments()"
      ],
      "metadata": {
        "colab": {
          "base_uri": "https://localhost:8080/"
        },
        "id": "Xcb9s53GdN8X",
        "outputId": "3a91caed-e4d2-4d93-faae-fa310b7ef6c4"
      },
      "execution_count": null,
      "outputs": [
        {
          "output_type": "execute_result",
          "data": {
            "text/plain": [
              "[Synset('chew.v.01'), Synset('swallow.v.01')]"
            ]
          },
          "metadata": {},
          "execution_count": 142
        }
      ]
    },
    {
      "cell_type": "code",
      "source": [
        "# 반의어\n",
        "wn.lemma('supply.n.02.supply').antonyms()"
      ],
      "metadata": {
        "colab": {
          "base_uri": "https://localhost:8080/"
        },
        "id": "n8aX84BQdSAq",
        "outputId": "efefc11e-792c-45c2-8b5f-4ef7be2cc47d"
      },
      "execution_count": null,
      "outputs": [
        {
          "output_type": "execute_result",
          "data": {
            "text/plain": [
              "[Lemma('demand.n.02.demand')]"
            ]
          },
          "metadata": {},
          "execution_count": 143
        }
      ]
    },
    {
      "cell_type": "code",
      "source": [
        "wn.lemma('horizontal.a.01.horizontal').antonyms()"
      ],
      "metadata": {
        "colab": {
          "base_uri": "https://localhost:8080/"
        },
        "id": "IJfjrAHAdgRE",
        "outputId": "b2ce99d3-8c0e-4936-98d6-64d5f3f7631b"
      },
      "execution_count": null,
      "outputs": [
        {
          "output_type": "execute_result",
          "data": {
            "text/plain": [
              "[Lemma('inclined.a.02.inclined'), Lemma('vertical.a.01.vertical')]"
            ]
          },
          "metadata": {},
          "execution_count": 144
        }
      ]
    },
    {
      "cell_type": "code",
      "source": [
        "right = wn.synset('right_whale.n.01')\n",
        "orca = wn.synset('orca.n.01')\n",
        "minke = wn.synset('minke_whale.n.01')\n",
        "tortoise = wn.synset('tortoise.n.01')\n",
        "novel = wn.synset('novel.n.01')"
      ],
      "metadata": {
        "id": "5pMxfZDKdkJw"
      },
      "execution_count": null,
      "outputs": []
    },
    {
      "cell_type": "code",
      "source": [
        "print(right.lowest_common_hypernyms(minke))\n",
        "print(right.lowest_common_hypernyms(orca))\n",
        "print(right.lowest_common_hypernyms(tortoise))\n",
        "print(right.lowest_common_hypernyms(novel))"
      ],
      "metadata": {
        "id": "FJ3jQCFcegzj",
        "colab": {
          "base_uri": "https://localhost:8080/"
        },
        "outputId": "d2c2cd2f-ca4a-4b7b-95e1-276228d383df"
      },
      "execution_count": 147,
      "outputs": [
        {
          "output_type": "stream",
          "name": "stdout",
          "text": [
            "[Synset('baleen_whale.n.01')]\n",
            "[Synset('whale.n.02')]\n",
            "[Synset('vertebrate.n.01')]\n",
            "[Synset('entity.n.01')]\n"
          ]
        }
      ]
    },
    {
      "cell_type": "code",
      "source": [
        "print(right.path_similarity(minke))\n",
        "print(right.path_similarity(orca))\n",
        "print(right.path_similarity(tortoise))\n",
        "print(right.path_similarity(novel))"
      ],
      "metadata": {
        "colab": {
          "base_uri": "https://localhost:8080/"
        },
        "id": "AkBxUrBEe0OC",
        "outputId": "d643c054-78f8-4001-9cd7-8417789fc0ac"
      },
      "execution_count": 148,
      "outputs": [
        {
          "output_type": "stream",
          "name": "stdout",
          "text": [
            "0.25\n",
            "0.16666666666666666\n",
            "0.07692307692307693\n",
            "0.043478260869565216\n"
          ]
        }
      ]
    }
  ]
}