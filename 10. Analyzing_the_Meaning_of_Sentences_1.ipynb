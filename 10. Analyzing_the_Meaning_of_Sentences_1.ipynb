{
  "nbformat": 4,
  "nbformat_minor": 0,
  "metadata": {
    "colab": {
      "name": "10. Analyzing the Meaning of Sentences.ipynb",
      "provenance": [],
      "collapsed_sections": [],
      "authorship_tag": "ABX9TyM5Flaxl7hAbLo1gyEl3A/E",
      "include_colab_link": true
    },
    "kernelspec": {
      "name": "python3",
      "display_name": "Python 3"
    },
    "language_info": {
      "name": "python"
    }
  },
  "cells": [
    {
      "cell_type": "markdown",
      "metadata": {
        "id": "view-in-github",
        "colab_type": "text"
      },
      "source": [
        "<a href=\"https://colab.research.google.com/github/gksthdals/NLTK/blob/main/10.%20Analyzing_the_Meaning_of_Sentences_1.ipynb\" target=\"_parent\"><img src=\"https://colab.research.google.com/assets/colab-badge.svg\" alt=\"Open In Colab\"/></a>"
      ]
    },
    {
      "cell_type": "code",
      "execution_count": null,
      "metadata": {
        "id": "YoD0UfSgwr15"
      },
      "outputs": [],
      "source": [
        "\"\"\" Main Topic\n",
        "\n",
        "1. How can we represent natural language meaning so that a computer can process these representations?\n",
        "2. How can we associate meaning representations with an unlimited set of sentences?\n",
        "3. How can we use programs that connect the meaning representations of sentences to stores of knowledge?\n",
        "\n",
        "\"\"\""
      ]
    },
    {
      "cell_type": "markdown",
      "source": [
        "## 1. Natural Language Understanding"
      ],
      "metadata": {
        "id": "Hr2IoKd7yJM4"
      }
    },
    {
      "cell_type": "markdown",
      "source": [
        "### Querying a Database"
      ],
      "metadata": {
        "id": "xz7u0cufyMvk"
      }
    },
    {
      "cell_type": "code",
      "source": [
        "# SQL : Structured Query Language\n",
        "\n",
        "# SELECT Country FROM city_table WHERE City = 'athens'"
      ],
      "metadata": {
        "id": "WgbY3ENlyqCU"
      },
      "execution_count": null,
      "outputs": []
    },
    {
      "cell_type": "code",
      "source": [
        "import nltk\n",
        "nltk.download('book_grammars')"
      ],
      "metadata": {
        "colab": {
          "base_uri": "https://localhost:8080/"
        },
        "id": "-hAKlF9GzTOK",
        "outputId": "ef5ba737-5d2d-48a9-ab63-3f13d4a48e49"
      },
      "execution_count": null,
      "outputs": [
        {
          "output_type": "stream",
          "name": "stdout",
          "text": [
            "[nltk_data] Downloading package book_grammars to /root/nltk_data...\n",
            "[nltk_data]   Unzipping grammars/book_grammars.zip.\n"
          ]
        },
        {
          "output_type": "execute_result",
          "data": {
            "text/plain": [
              "True"
            ]
          },
          "metadata": {},
          "execution_count": 3
        }
      ]
    },
    {
      "cell_type": "code",
      "source": [
        "nltk.data.show_cfg('grammars/book_grammars/sql0.fcfg')"
      ],
      "metadata": {
        "colab": {
          "base_uri": "https://localhost:8080/"
        },
        "id": "RKPgJzszzWE3",
        "outputId": "dec97417-b533-4dda-e305-a76ea4149329"
      },
      "execution_count": null,
      "outputs": [
        {
          "output_type": "stream",
          "name": "stdout",
          "text": [
            "% start S\n",
            "S[SEM=(?np + WHERE + ?vp)] -> NP[SEM=?np] VP[SEM=?vp]\n",
            "VP[SEM=(?v + ?pp)] -> IV[SEM=?v] PP[SEM=?pp]\n",
            "VP[SEM=(?v + ?ap)] -> IV[SEM=?v] AP[SEM=?ap]\n",
            "NP[SEM=(?det + ?n)] -> Det[SEM=?det] N[SEM=?n]\n",
            "PP[SEM=(?p + ?np)] -> P[SEM=?p] NP[SEM=?np]\n",
            "AP[SEM=?pp] -> A[SEM=?a] PP[SEM=?pp]\n",
            "NP[SEM='Country=\"greece\"'] -> 'Greece'\n",
            "NP[SEM='Country=\"china\"'] -> 'China'\n",
            "Det[SEM='SELECT'] -> 'Which' | 'What'\n",
            "N[SEM='City FROM city_table'] -> 'cities'\n",
            "IV[SEM=''] -> 'are'\n",
            "A[SEM=''] -> 'located'\n",
            "P[SEM=''] -> 'in'\n"
          ]
        }
      ]
    },
    {
      "cell_type": "code",
      "source": [
        "from nltk import load_parser\n",
        "cp = load_parser('grammars/book_grammars/sql0.fcfg')\n",
        "query = 'What cities are located in China'\n",
        "\n",
        "trees = list(cp.parse(query.split()))\n",
        "for tree in trees:\n",
        "  print(tree)\n",
        "print()\n",
        "\n",
        "answer = trees[0].label()['SEM']\n",
        "print(answer)\n",
        "\n",
        "# [SEM='']인 경우를 제외하고 문장을 만들기 위해서\n",
        "answer = [s for s in answer if s]\n",
        "print(answer)\n",
        "\n",
        "q = ' '.join(answer)\n",
        "print(q)"
      ],
      "metadata": {
        "colab": {
          "base_uri": "https://localhost:8080/"
        },
        "id": "R-qHdbLOzq56",
        "outputId": "3f172702-9229-4236-af29-b9e8b565cdd0"
      },
      "execution_count": null,
      "outputs": [
        {
          "output_type": "stream",
          "name": "stdout",
          "text": [
            "(S[SEM=(SELECT, City FROM city_table, WHERE, , , Country=\"china\")]\n",
            "  (NP[SEM=(SELECT, City FROM city_table)]\n",
            "    (Det[SEM='SELECT'] What)\n",
            "    (N[SEM='City FROM city_table'] cities))\n",
            "  (VP[SEM=(, , Country=\"china\")]\n",
            "    (IV[SEM=''] are)\n",
            "    (AP[SEM=(, Country=\"china\")]\n",
            "      (A[SEM=''] located)\n",
            "      (PP[SEM=(, Country=\"china\")]\n",
            "        (P[SEM=''] in)\n",
            "        (NP[SEM='Country=\"china\"'] China)))))\n",
            "\n",
            "(SELECT, City FROM city_table, WHERE, , , Country=\"china\")\n",
            "['SELECT', 'City FROM city_table', 'WHERE', 'Country=\"china\"']\n",
            "SELECT City FROM city_table WHERE Country=\"china\"\n"
          ]
        }
      ]
    },
    {
      "cell_type": "code",
      "source": [
        "nltk.download('city_database')"
      ],
      "metadata": {
        "colab": {
          "base_uri": "https://localhost:8080/"
        },
        "id": "cQ8H8Ond24QF",
        "outputId": "96f9c1a6-8062-4664-c828-7c2f0367ac98"
      },
      "execution_count": null,
      "outputs": [
        {
          "output_type": "stream",
          "name": "stdout",
          "text": [
            "[nltk_data] Downloading package city_database to /root/nltk_data...\n",
            "[nltk_data]   Unzipping corpora/city_database.zip.\n"
          ]
        },
        {
          "output_type": "execute_result",
          "data": {
            "text/plain": [
              "True"
            ]
          },
          "metadata": {},
          "execution_count": 9
        }
      ]
    },
    {
      "cell_type": "code",
      "source": [
        "from nltk.sem import chat80\n",
        "rows = chat80.sql_query('corpora/city_database/city.db', q)\n",
        "for r in rows: print(r[0], end=' ')"
      ],
      "metadata": {
        "colab": {
          "base_uri": "https://localhost:8080/"
        },
        "id": "mJH0EGno0K7n",
        "outputId": "e483a005-cd98-420d-be84-580a67ae21a9"
      },
      "execution_count": null,
      "outputs": [
        {
          "output_type": "stream",
          "name": "stdout",
          "text": [
            "canton chungking dairen harbin kowloon mukden peking shanghai sian tientsin "
          ]
        }
      ]
    },
    {
      "cell_type": "code",
      "source": [
        "# sql0.fcfg : translation from English to SQL"
      ],
      "metadata": {
        "id": "dEDIN0cH22RA"
      },
      "execution_count": null,
      "outputs": []
    },
    {
      "cell_type": "markdown",
      "source": [
        "### Natural Language, Semantics and Logic"
      ],
      "metadata": {
        "id": "otxijL23Xl5x"
      }
    },
    {
      "cell_type": "code",
      "source": [
        "# Declarative sentences are true or false in certain situations.\n",
        "# Definite noun phrases and proper nouns refer to things in the world."
      ],
      "metadata": {
        "id": "FWvtBX1TYJK9"
      },
      "execution_count": null,
      "outputs": []
    },
    {
      "cell_type": "code",
      "source": [
        "\"\"\"\n",
        "consistent : 여러 개의 문장이 동시에 성립 가능\n",
        "inconsistent : 여러 개의 문장이 모순 관계\n",
        "\n",
        "consistency and inconsistency\n",
        "\"\"\""
      ],
      "metadata": {
        "id": "rsTQMrYLYRGZ"
      },
      "execution_count": null,
      "outputs": []
    },
    {
      "cell_type": "markdown",
      "source": [
        "## 2. Propositional Logic"
      ],
      "metadata": {
        "id": "mBJC55xeZ4hy"
      }
    },
    {
      "cell_type": "code",
      "source": [
        "nltk.boolean_ops()"
      ],
      "metadata": {
        "colab": {
          "base_uri": "https://localhost:8080/"
        },
        "id": "WAb4lnXGaUeJ",
        "outputId": "036f078a-7488-44ad-a027-2403e8e6f1d2"
      },
      "execution_count": null,
      "outputs": [
        {
          "output_type": "stream",
          "name": "stdout",
          "text": [
            "negation       \t-\n",
            "conjunction    \t&\n",
            "disjunction    \t|\n",
            "implication    \t->\n",
            "equivalence    \t<->\n"
          ]
        }
      ]
    },
    {
      "cell_type": "code",
      "source": [
        "read_expr = nltk.sem.Expression.fromstring"
      ],
      "metadata": {
        "id": "eTucbYdFaV_w"
      },
      "execution_count": null,
      "outputs": []
    },
    {
      "cell_type": "code",
      "source": [
        "read_expr('-(P & Q)')"
      ],
      "metadata": {
        "colab": {
          "base_uri": "https://localhost:8080/"
        },
        "id": "wVAZNGqybAQ8",
        "outputId": "8c3d4141-5e63-4f49-f874-bc6e6c93ab66"
      },
      "execution_count": null,
      "outputs": [
        {
          "output_type": "execute_result",
          "data": {
            "text/plain": [
              "<NegatedExpression -(P & Q)>"
            ]
          },
          "metadata": {},
          "execution_count": 14
        }
      ]
    },
    {
      "cell_type": "code",
      "source": [
        "read_expr('P & Q')"
      ],
      "metadata": {
        "colab": {
          "base_uri": "https://localhost:8080/"
        },
        "id": "VNhc63RqbDm_",
        "outputId": "bb33a836-1f08-49d5-b152-d27e98dcc201"
      },
      "execution_count": null,
      "outputs": [
        {
          "output_type": "execute_result",
          "data": {
            "text/plain": [
              "<AndExpression (P & Q)>"
            ]
          },
          "metadata": {},
          "execution_count": 15
        }
      ]
    },
    {
      "cell_type": "code",
      "source": [
        "read_expr('P | (R -> Q)')"
      ],
      "metadata": {
        "colab": {
          "base_uri": "https://localhost:8080/"
        },
        "id": "ESlBrBkfbGfd",
        "outputId": "4ea5ef64-231d-4bda-a7b3-dc3f5e4ecc7a"
      },
      "execution_count": null,
      "outputs": [
        {
          "output_type": "execute_result",
          "data": {
            "text/plain": [
              "<OrExpression (P | (R -> Q))>"
            ]
          },
          "metadata": {},
          "execution_count": 16
        }
      ]
    },
    {
      "cell_type": "code",
      "source": [
        "read_expr('P <-> -- P')"
      ],
      "metadata": {
        "colab": {
          "base_uri": "https://localhost:8080/"
        },
        "id": "DvLKE3p3bK_c",
        "outputId": "91114d6d-99d7-4481-b24e-977d77052ecb"
      },
      "execution_count": null,
      "outputs": [
        {
          "output_type": "execute_result",
          "data": {
            "text/plain": [
              "<IffExpression (P <-> --P)>"
            ]
          },
          "metadata": {},
          "execution_count": 17
        }
      ]
    },
    {
      "cell_type": "code",
      "source": [
        "lp = nltk.sem.Expression.fromstring\n",
        "SnF = read_expr('SnF')\n",
        "NotFnS = read_expr('-FnS')\n",
        "R = read_expr('SnF -> -FnS')\n",
        "prover = nltk.Prover9()\n",
        "prover.prove(NotFnS, [SnF, R])"
      ],
      "metadata": {
        "colab": {
          "base_uri": "https://localhost:8080/",
          "height": 718
        },
        "id": "4IbfsybKbQAR",
        "outputId": "90a731d3-4ae5-4306-e140-b5f0b022c59a"
      },
      "execution_count": null,
      "outputs": [
        {
          "output_type": "error",
          "ename": "LookupError",
          "evalue": "ignored",
          "traceback": [
            "\u001b[0;31m---------------------------------------------------------------------------\u001b[0m",
            "\u001b[0;31mLookupError\u001b[0m                               Traceback (most recent call last)",
            "\u001b[0;32m<ipython-input-18-c061cf5396be>\u001b[0m in \u001b[0;36m<module>\u001b[0;34m()\u001b[0m\n\u001b[1;32m      4\u001b[0m \u001b[0mR\u001b[0m \u001b[0;34m=\u001b[0m \u001b[0mread_expr\u001b[0m\u001b[0;34m(\u001b[0m\u001b[0;34m'SnF -> -FnS'\u001b[0m\u001b[0;34m)\u001b[0m\u001b[0;34m\u001b[0m\u001b[0;34m\u001b[0m\u001b[0m\n\u001b[1;32m      5\u001b[0m \u001b[0mprover\u001b[0m \u001b[0;34m=\u001b[0m \u001b[0mnltk\u001b[0m\u001b[0;34m.\u001b[0m\u001b[0mProver9\u001b[0m\u001b[0;34m(\u001b[0m\u001b[0;34m)\u001b[0m\u001b[0;34m\u001b[0m\u001b[0;34m\u001b[0m\u001b[0m\n\u001b[0;32m----> 6\u001b[0;31m \u001b[0mprover\u001b[0m\u001b[0;34m.\u001b[0m\u001b[0mprove\u001b[0m\u001b[0;34m(\u001b[0m\u001b[0mNotFnS\u001b[0m\u001b[0;34m,\u001b[0m \u001b[0;34m[\u001b[0m\u001b[0mSnF\u001b[0m\u001b[0;34m,\u001b[0m \u001b[0mR\u001b[0m\u001b[0;34m]\u001b[0m\u001b[0;34m)\u001b[0m\u001b[0;34m\u001b[0m\u001b[0;34m\u001b[0m\u001b[0m\n\u001b[0m",
            "\u001b[0;32m/usr/local/lib/python3.7/dist-packages/nltk/inference/api.py\u001b[0m in \u001b[0;36mprove\u001b[0;34m(self, goal, assumptions, verbose)\u001b[0m\n\u001b[1;32m     37\u001b[0m         \u001b[0;34m:\u001b[0m\u001b[0mrtype\u001b[0m\u001b[0;34m:\u001b[0m \u001b[0mbool\u001b[0m\u001b[0;34m\u001b[0m\u001b[0;34m\u001b[0m\u001b[0m\n\u001b[1;32m     38\u001b[0m         \"\"\"\n\u001b[0;32m---> 39\u001b[0;31m         \u001b[0;32mreturn\u001b[0m \u001b[0mself\u001b[0m\u001b[0;34m.\u001b[0m\u001b[0m_prove\u001b[0m\u001b[0;34m(\u001b[0m\u001b[0mgoal\u001b[0m\u001b[0;34m,\u001b[0m \u001b[0massumptions\u001b[0m\u001b[0;34m,\u001b[0m \u001b[0mverbose\u001b[0m\u001b[0;34m)\u001b[0m\u001b[0;34m[\u001b[0m\u001b[0;36m0\u001b[0m\u001b[0;34m]\u001b[0m\u001b[0;34m\u001b[0m\u001b[0;34m\u001b[0m\u001b[0m\n\u001b[0m\u001b[1;32m     40\u001b[0m \u001b[0;34m\u001b[0m\u001b[0m\n\u001b[1;32m     41\u001b[0m     \u001b[0;34m@\u001b[0m\u001b[0mabstractmethod\u001b[0m\u001b[0;34m\u001b[0m\u001b[0;34m\u001b[0m\u001b[0m\n",
            "\u001b[0;32m/usr/local/lib/python3.7/dist-packages/nltk/inference/prover9.py\u001b[0m in \u001b[0;36m_prove\u001b[0;34m(self, goal, assumptions, verbose)\u001b[0m\n\u001b[1;32m    270\u001b[0m \u001b[0;34m\u001b[0m\u001b[0m\n\u001b[1;32m    271\u001b[0m         stdout, returncode = self._call_prover9(self.prover9_input(goal, assumptions),\n\u001b[0;32m--> 272\u001b[0;31m                                                 verbose=verbose)\n\u001b[0m\u001b[1;32m    273\u001b[0m         \u001b[0;32mreturn\u001b[0m \u001b[0;34m(\u001b[0m\u001b[0mreturncode\u001b[0m \u001b[0;34m==\u001b[0m \u001b[0;36m0\u001b[0m\u001b[0;34m,\u001b[0m \u001b[0mstdout\u001b[0m\u001b[0;34m)\u001b[0m\u001b[0;34m\u001b[0m\u001b[0;34m\u001b[0m\u001b[0m\n\u001b[1;32m    274\u001b[0m \u001b[0;34m\u001b[0m\u001b[0m\n",
            "\u001b[0;32m/usr/local/lib/python3.7/dist-packages/nltk/inference/prover9.py\u001b[0m in \u001b[0;36m_call_prover9\u001b[0;34m(self, input_str, args, verbose)\u001b[0m\n\u001b[1;32m    290\u001b[0m         \"\"\"\n\u001b[1;32m    291\u001b[0m         \u001b[0;32mif\u001b[0m \u001b[0mself\u001b[0m\u001b[0;34m.\u001b[0m\u001b[0m_prover9_bin\u001b[0m \u001b[0;32mis\u001b[0m \u001b[0;32mNone\u001b[0m\u001b[0;34m:\u001b[0m\u001b[0;34m\u001b[0m\u001b[0;34m\u001b[0m\u001b[0m\n\u001b[0;32m--> 292\u001b[0;31m             \u001b[0mself\u001b[0m\u001b[0;34m.\u001b[0m\u001b[0m_prover9_bin\u001b[0m \u001b[0;34m=\u001b[0m \u001b[0mself\u001b[0m\u001b[0;34m.\u001b[0m\u001b[0m_find_binary\u001b[0m\u001b[0;34m(\u001b[0m\u001b[0;34m'prover9'\u001b[0m\u001b[0;34m,\u001b[0m \u001b[0mverbose\u001b[0m\u001b[0;34m)\u001b[0m\u001b[0;34m\u001b[0m\u001b[0;34m\u001b[0m\u001b[0m\n\u001b[0m\u001b[1;32m    293\u001b[0m \u001b[0;34m\u001b[0m\u001b[0m\n\u001b[1;32m    294\u001b[0m         \u001b[0mupdated_input_str\u001b[0m \u001b[0;34m=\u001b[0m \u001b[0;34m''\u001b[0m\u001b[0;34m\u001b[0m\u001b[0;34m\u001b[0m\u001b[0m\n",
            "\u001b[0;32m/usr/local/lib/python3.7/dist-packages/nltk/inference/prover9.py\u001b[0m in \u001b[0;36m_find_binary\u001b[0;34m(self, name, verbose)\u001b[0m\n\u001b[1;32m    164\u001b[0m             \u001b[0murl\u001b[0m\u001b[0;34m=\u001b[0m\u001b[0;34m'http://www.cs.unm.edu/~mccune/prover9/'\u001b[0m\u001b[0;34m,\u001b[0m\u001b[0;34m\u001b[0m\u001b[0;34m\u001b[0m\u001b[0m\n\u001b[1;32m    165\u001b[0m             \u001b[0mbinary_names\u001b[0m\u001b[0;34m=\u001b[0m\u001b[0;34m[\u001b[0m\u001b[0mname\u001b[0m\u001b[0;34m,\u001b[0m \u001b[0mname\u001b[0m \u001b[0;34m+\u001b[0m \u001b[0;34m'.exe'\u001b[0m\u001b[0;34m]\u001b[0m\u001b[0;34m,\u001b[0m\u001b[0;34m\u001b[0m\u001b[0;34m\u001b[0m\u001b[0m\n\u001b[0;32m--> 166\u001b[0;31m             verbose=verbose)\n\u001b[0m\u001b[1;32m    167\u001b[0m \u001b[0;34m\u001b[0m\u001b[0m\n\u001b[1;32m    168\u001b[0m     \u001b[0;32mdef\u001b[0m \u001b[0m_call\u001b[0m\u001b[0;34m(\u001b[0m\u001b[0mself\u001b[0m\u001b[0;34m,\u001b[0m \u001b[0minput_str\u001b[0m\u001b[0;34m,\u001b[0m \u001b[0mbinary\u001b[0m\u001b[0;34m,\u001b[0m \u001b[0margs\u001b[0m\u001b[0;34m=\u001b[0m\u001b[0;34m[\u001b[0m\u001b[0;34m]\u001b[0m\u001b[0;34m,\u001b[0m \u001b[0mverbose\u001b[0m\u001b[0;34m=\u001b[0m\u001b[0;32mFalse\u001b[0m\u001b[0;34m)\u001b[0m\u001b[0;34m:\u001b[0m\u001b[0;34m\u001b[0m\u001b[0;34m\u001b[0m\u001b[0m\n",
            "\u001b[0;32m/usr/local/lib/python3.7/dist-packages/nltk/__init__.py\u001b[0m in \u001b[0;36mfind_binary\u001b[0;34m(name, path_to_bin, env_vars, searchpath, binary_names, url, verbose)\u001b[0m\n\u001b[1;32m    602\u001b[0m                 binary_names=None, url=None, verbose=False):\n\u001b[1;32m    603\u001b[0m     return next(find_binary_iter(name, path_to_bin, env_vars, searchpath,\n\u001b[0;32m--> 604\u001b[0;31m                                  binary_names, url, verbose))\n\u001b[0m\u001b[1;32m    605\u001b[0m \u001b[0;34m\u001b[0m\u001b[0m\n\u001b[1;32m    606\u001b[0m def find_jar_iter(name_pattern, path_to_jar=None, env_vars=(),\n",
            "\u001b[0;32m/usr/local/lib/python3.7/dist-packages/nltk/__init__.py\u001b[0m in \u001b[0;36mfind_binary_iter\u001b[0;34m(name, path_to_bin, env_vars, searchpath, binary_names, url, verbose)\u001b[0m\n\u001b[1;32m    596\u001b[0m     \"\"\"\n\u001b[1;32m    597\u001b[0m     for file in  find_file_iter(path_to_bin or name, env_vars, searchpath, binary_names,\n\u001b[0;32m--> 598\u001b[0;31m                      url, verbose):\n\u001b[0m\u001b[1;32m    599\u001b[0m         \u001b[0;32myield\u001b[0m \u001b[0mfile\u001b[0m\u001b[0;34m\u001b[0m\u001b[0;34m\u001b[0m\u001b[0m\n\u001b[1;32m    600\u001b[0m \u001b[0;34m\u001b[0m\u001b[0m\n",
            "\u001b[0;32m/usr/local/lib/python3.7/dist-packages/nltk/__init__.py\u001b[0m in \u001b[0;36mfind_file_iter\u001b[0;34m(filename, env_vars, searchpath, file_names, url, verbose, finding_dir)\u001b[0m\n\u001b[1;32m    567\u001b[0m                         (filename, url))\n\u001b[1;32m    568\u001b[0m         \u001b[0mdiv\u001b[0m \u001b[0;34m=\u001b[0m \u001b[0;34m'='\u001b[0m\u001b[0;34m*\u001b[0m\u001b[0;36m75\u001b[0m\u001b[0;34m\u001b[0m\u001b[0;34m\u001b[0m\u001b[0m\n\u001b[0;32m--> 569\u001b[0;31m         \u001b[0;32mraise\u001b[0m \u001b[0mLookupError\u001b[0m\u001b[0;34m(\u001b[0m\u001b[0;34m'\\n\\n%s\\n%s\\n%s'\u001b[0m \u001b[0;34m%\u001b[0m \u001b[0;34m(\u001b[0m\u001b[0mdiv\u001b[0m\u001b[0;34m,\u001b[0m \u001b[0mmsg\u001b[0m\u001b[0;34m,\u001b[0m \u001b[0mdiv\u001b[0m\u001b[0;34m)\u001b[0m\u001b[0;34m)\u001b[0m\u001b[0;34m\u001b[0m\u001b[0;34m\u001b[0m\u001b[0m\n\u001b[0m\u001b[1;32m    570\u001b[0m \u001b[0;34m\u001b[0m\u001b[0m\n\u001b[1;32m    571\u001b[0m \u001b[0;34m\u001b[0m\u001b[0m\n",
            "\u001b[0;31mLookupError\u001b[0m: \n\n===========================================================================\nNLTK was unable to find the prover9 file!\nUse software specific configuration paramaters or set the PROVER9 environment variable.\n\n  Searched in:\n    - /usr/local/bin/prover9\n    - /usr/local/bin/prover9/bin\n    - /usr/local/bin\n    - /usr/bin\n    - /usr/local/prover9\n    - /usr/local/share/prover9\n\n  For more information on prover9, see:\n    <http://www.cs.unm.edu/~mccune/prover9/>\n==========================================================================="
          ]
        }
      ]
    },
    {
      "cell_type": "code",
      "source": [
        "val = nltk.Valuation([('P', True), ('Q', True), ('R', False)])"
      ],
      "metadata": {
        "id": "f2dWNqylfzV4"
      },
      "execution_count": null,
      "outputs": []
    },
    {
      "cell_type": "code",
      "source": [
        "val['P']"
      ],
      "metadata": {
        "colab": {
          "base_uri": "https://localhost:8080/"
        },
        "id": "OWpps6iEf-jI",
        "outputId": "2491e395-b9b9-4c27-fbac-8b5aeb3f2bc7"
      },
      "execution_count": null,
      "outputs": [
        {
          "output_type": "execute_result",
          "data": {
            "text/plain": [
              "True"
            ]
          },
          "metadata": {},
          "execution_count": 20
        }
      ]
    },
    {
      "cell_type": "code",
      "source": [
        "dom = set()\n",
        "g = nltk.Assignment(dom)"
      ],
      "metadata": {
        "id": "i1buNLckf_Rz"
      },
      "execution_count": null,
      "outputs": []
    },
    {
      "cell_type": "code",
      "source": [
        "m = nltk.Model(dom, val)"
      ],
      "metadata": {
        "id": "jJDgt0RWgLK4"
      },
      "execution_count": null,
      "outputs": []
    },
    {
      "cell_type": "code",
      "source": [
        "m.evaluate('(P & Q)', g)"
      ],
      "metadata": {
        "colab": {
          "base_uri": "https://localhost:8080/"
        },
        "id": "28VGucyXgM5w",
        "outputId": "bd36d555-c9be-4954-9af6-a2ac083b7073"
      },
      "execution_count": null,
      "outputs": [
        {
          "output_type": "execute_result",
          "data": {
            "text/plain": [
              "True"
            ]
          },
          "metadata": {},
          "execution_count": 23
        }
      ]
    },
    {
      "cell_type": "code",
      "source": [
        "m.evaluate('-(P & Q)', g)"
      ],
      "metadata": {
        "colab": {
          "base_uri": "https://localhost:8080/"
        },
        "id": "4wmRQiBEgWjJ",
        "outputId": "6c522f26-7c65-4fed-bc10-072941905be1"
      },
      "execution_count": null,
      "outputs": [
        {
          "output_type": "execute_result",
          "data": {
            "text/plain": [
              "False"
            ]
          },
          "metadata": {},
          "execution_count": 24
        }
      ]
    },
    {
      "cell_type": "code",
      "source": [
        "m.evaluate('(P & R)', g)"
      ],
      "metadata": {
        "colab": {
          "base_uri": "https://localhost:8080/"
        },
        "id": "kMfyLGvCgaI6",
        "outputId": "508b2de1-c3ba-4d2b-9bc9-3f5e2ffddcae"
      },
      "execution_count": null,
      "outputs": [
        {
          "output_type": "execute_result",
          "data": {
            "text/plain": [
              "False"
            ]
          },
          "metadata": {},
          "execution_count": 25
        }
      ]
    },
    {
      "cell_type": "code",
      "source": [
        "m.evaluate('(P | R)', g)"
      ],
      "metadata": {
        "colab": {
          "base_uri": "https://localhost:8080/"
        },
        "id": "MgkKmeOKgelV",
        "outputId": "f53113f6-34c2-4621-9a61-78e6d3944bd5"
      },
      "execution_count": null,
      "outputs": [
        {
          "output_type": "execute_result",
          "data": {
            "text/plain": [
              "True"
            ]
          },
          "metadata": {},
          "execution_count": 26
        }
      ]
    },
    {
      "cell_type": "markdown",
      "source": [
        "## 3. First-Order Logic"
      ],
      "metadata": {
        "id": "iMCKBcA-gyFC"
      }
    },
    {
      "cell_type": "markdown",
      "source": [
        "### Syntax"
      ],
      "metadata": {
        "id": "nB6Nhpdgg-Z1"
      }
    },
    {
      "cell_type": "code",
      "source": [
        "\"\"\"\n",
        "Unary/Binary Predicate\n",
        "\n",
        "walk(angus) : unary predicate\n",
        "love(margrietje, brunoke) : binary predicate\n",
        "\n",
        "###\n",
        "\n",
        "non-logical constants : 참/거짓을 판단할 수 없는 -> see, angus and bertie\n",
        "logical constants : 참/거짓을 판단할 수 있는 -> boolean opr\n",
        "\n",
        "###\n",
        "\n",
        "e : the type of entities\n",
        "t : the type of formulas (expression which have truth values)\n",
        "\n",
        "\"\"\""
      ],
      "metadata": {
        "id": "hrSY_rVjitR5"
      },
      "execution_count": null,
      "outputs": []
    }
  ]
}