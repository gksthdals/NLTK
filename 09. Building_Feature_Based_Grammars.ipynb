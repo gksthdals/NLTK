{
  "nbformat": 4,
  "nbformat_minor": 0,
  "metadata": {
    "colab": {
      "name": "09. Building Feature Based Grammars.ipynb",
      "provenance": [],
      "authorship_tag": "ABX9TyNWX3G0AXqnBkfpEfL0cKqc",
      "include_colab_link": true
    },
    "kernelspec": {
      "name": "python3",
      "display_name": "Python 3"
    },
    "language_info": {
      "name": "python"
    }
  },
  "cells": [
    {
      "cell_type": "markdown",
      "metadata": {
        "id": "view-in-github",
        "colab_type": "text"
      },
      "source": [
        "<a href=\"https://colab.research.google.com/github/gksthdals/NLTK/blob/main/09.%20Building_Feature_Based_Grammars.ipynb\" target=\"_parent\"><img src=\"https://colab.research.google.com/assets/colab-badge.svg\" alt=\"Open In Colab\"/></a>"
      ]
    },
    {
      "cell_type": "code",
      "source": [
        "\"\"\" Main Topic\n",
        "\n",
        "1. How can we extend the framework of context free grammars with features so as to gain more fine-grained control over grammatical categories and productions?\n",
        "2. What are the main formal properties of feature structures and how do we use them computationally?\n",
        "3. What kinds of linguistic patterns and grammatical constructions can we now capture with feature based grammars?\n",
        "\n",
        "\"\"\""
      ],
      "metadata": {
        "id": "3x2AKpSRifXJ"
      },
      "execution_count": null,
      "outputs": []
    },
    {
      "cell_type": "markdown",
      "source": [
        "## 1. Grammatical Features"
      ],
      "metadata": {
        "id": "oHJtqqqIjBRp"
      }
    },
    {
      "cell_type": "code",
      "source": [
        "import nltk"
      ],
      "metadata": {
        "id": "WXDtM-pnjE7i"
      },
      "execution_count": 1,
      "outputs": []
    },
    {
      "cell_type": "code",
      "source": [
        "kim = {'CAT': 'NP', 'ORTH': 'Kim', 'REF': 'k'}\n",
        "chase = {'CAT': 'V', 'ORTH': 'chased', 'REL': 'chase'}"
      ],
      "metadata": {
        "id": "QHpji9PwjF3v"
      },
      "execution_count": 2,
      "outputs": []
    },
    {
      "cell_type": "code",
      "source": [
        "# CAT : grammatical category\n",
        "# ORTH : orthography (맞춤법)\n",
        "# REF, REL : semantically-oriented feature"
      ],
      "metadata": {
        "id": "1oR8k1Mpjlyr"
      },
      "execution_count": null,
      "outputs": []
    },
    {
      "cell_type": "code",
      "source": [
        "chase['AGT'] = 'sbj'\n",
        "chase['PAT'] = 'obj'"
      ],
      "metadata": {
        "id": "CnqAde9FkLNG"
      },
      "execution_count": 4,
      "outputs": []
    },
    {
      "cell_type": "code",
      "source": [
        "chase"
      ],
      "metadata": {
        "colab": {
          "base_uri": "https://localhost:8080/"
        },
        "id": "BODSYJxXkOh9",
        "outputId": "eebe0712-aa19-44e8-9f65-e2e3171e76b2"
      },
      "execution_count": 5,
      "outputs": [
        {
          "output_type": "execute_result",
          "data": {
            "text/plain": [
              "{'AGT': 'sbj', 'CAT': 'V', 'ORTH': 'chased', 'PAT': 'obj', 'REL': 'chase'}"
            ]
          },
          "metadata": {},
          "execution_count": 5
        }
      ]
    },
    {
      "cell_type": "code",
      "source": [
        "sent = 'Kim chased Lee'\n",
        "tokens = sent.split()\n",
        "lee = {'CAT': 'NP', 'ORTH': 'Lee', 'REF': 'l'}"
      ],
      "metadata": {
        "id": "XMTPLCdDkRK0"
      },
      "execution_count": 6,
      "outputs": []
    },
    {
      "cell_type": "code",
      "source": [
        "def lex2fs(word):\n",
        "  for fs in [kim, lee, chase]:\n",
        "    if fs['ORTH'] == word:\n",
        "      return fs"
      ],
      "metadata": {
        "id": "UmXiF50hknlH"
      },
      "execution_count": 7,
      "outputs": []
    },
    {
      "cell_type": "code",
      "source": [
        "subj, verb, obj = lex2fs(tokens[0]), lex2fs(tokens[1]), lex2fs(tokens[2])"
      ],
      "metadata": {
        "id": "fckx2PGQkyU1"
      },
      "execution_count": 8,
      "outputs": []
    },
    {
      "cell_type": "code",
      "source": [
        "verb['AGT'] = subj['REF']\n",
        "verb['PAT'] = obj['REF']\n",
        "\n",
        "for k in ['ORTH', 'REL', 'AGT', 'PAT']:\n",
        "  print(\"%-5s -> %s\" % (k, verb[k]))"
      ],
      "metadata": {
        "colab": {
          "base_uri": "https://localhost:8080/"
        },
        "id": "zIvix8fRk6He",
        "outputId": "1717ca52-bd92-45d0-fe8c-bbd9f788ec2e"
      },
      "execution_count": 9,
      "outputs": [
        {
          "output_type": "stream",
          "name": "stdout",
          "text": [
            "ORTH  -> chased\n",
            "REL   -> chase\n",
            "AGT   -> k\n",
            "PAT   -> l\n"
          ]
        }
      ]
    },
    {
      "cell_type": "code",
      "source": [
        "surprise = {'CAT': 'V', 'ORTH': 'surprised', 'REL': 'surprise', 'SRC': 'sbj', 'EXP': 'obj'}"
      ],
      "metadata": {
        "id": "9TJSXpoMlRMn"
      },
      "execution_count": 10,
      "outputs": []
    },
    {
      "cell_type": "markdown",
      "source": [
        "### Syntactic Agreement"
      ],
      "metadata": {
        "id": "ot_jvH1jl4pq"
      }
    },
    {
      "cell_type": "markdown",
      "source": [
        "### Using Attributes and Constraints"
      ],
      "metadata": {
        "id": "wVB-zkRMnCC1"
      }
    },
    {
      "cell_type": "code",
      "source": [
        "nltk.download('book_grammars')"
      ],
      "metadata": {
        "colab": {
          "base_uri": "https://localhost:8080/"
        },
        "id": "pBfk14dNoCZC",
        "outputId": "424e942b-ff6d-419e-ba64-1083ab8195eb"
      },
      "execution_count": 14,
      "outputs": [
        {
          "output_type": "stream",
          "name": "stdout",
          "text": [
            "[nltk_data] Downloading package book_grammars to /root/nltk_data...\n",
            "[nltk_data]   Package book_grammars is already up-to-date!\n"
          ]
        },
        {
          "output_type": "execute_result",
          "data": {
            "text/plain": [
              "True"
            ]
          },
          "metadata": {},
          "execution_count": 14
        }
      ]
    },
    {
      "cell_type": "code",
      "source": [
        "nltk.data.show_cfg('grammars/book_grammars/feat0.fcfg')"
      ],
      "metadata": {
        "colab": {
          "base_uri": "https://localhost:8080/"
        },
        "id": "R5QOg2yGn2CJ",
        "outputId": "4bfc8dda-f9aa-4ec3-c945-de87700c4167"
      },
      "execution_count": 13,
      "outputs": [
        {
          "output_type": "stream",
          "name": "stdout",
          "text": [
            "% start S\n",
            "# ###################\n",
            "# Grammar Productions\n",
            "# ###################\n",
            "# S expansion productions\n",
            "S -> NP[NUM=?n] VP[NUM=?n]\n",
            "# NP expansion productions\n",
            "NP[NUM=?n] -> N[NUM=?n] \n",
            "NP[NUM=?n] -> PropN[NUM=?n] \n",
            "NP[NUM=?n] -> Det[NUM=?n] N[NUM=?n]\n",
            "NP[NUM=pl] -> N[NUM=pl] \n",
            "# VP expansion productions\n",
            "VP[TENSE=?t, NUM=?n] -> IV[TENSE=?t, NUM=?n]\n",
            "VP[TENSE=?t, NUM=?n] -> TV[TENSE=?t, NUM=?n] NP\n",
            "# ###################\n",
            "# Lexical Productions\n",
            "# ###################\n",
            "Det[NUM=sg] -> 'this' | 'every'\n",
            "Det[NUM=pl] -> 'these' | 'all'\n",
            "Det -> 'the' | 'some' | 'several'\n",
            "PropN[NUM=sg]-> 'Kim' | 'Jody'\n",
            "N[NUM=sg] -> 'dog' | 'girl' | 'car' | 'child'\n",
            "N[NUM=pl] -> 'dogs' | 'girls' | 'cars' | 'children' \n",
            "IV[TENSE=pres,  NUM=sg] -> 'disappears' | 'walks'\n",
            "TV[TENSE=pres, NUM=sg] -> 'sees' | 'likes'\n",
            "IV[TENSE=pres,  NUM=pl] -> 'disappear' | 'walk'\n",
            "TV[TENSE=pres, NUM=pl] -> 'see' | 'like'\n",
            "IV[TENSE=past] -> 'disappeared' | 'walked'\n",
            "TV[TENSE=past] -> 'saw' | 'liked'\n"
          ]
        }
      ]
    },
    {
      "cell_type": "code",
      "source": [
        "tokens = 'Kim likes children'.split()\n",
        "from nltk import load_parser\n",
        "cp = load_parser('grammars/book_grammars/feat0.fcfg', trace=2)\n",
        "for tree in cp.parse(tokens):\n",
        "  print(tree)"
      ],
      "metadata": {
        "colab": {
          "base_uri": "https://localhost:8080/"
        },
        "id": "yoWhAC53n8Ss",
        "outputId": "ba3116f6-af30-4e2f-8870-0a7f45519d38"
      },
      "execution_count": 15,
      "outputs": [
        {
          "output_type": "stream",
          "name": "stdout",
          "text": [
            "|.Kim .like.chil.|\n",
            "Leaf Init Rule:\n",
            "|[----]    .    .| [0:1] 'Kim'\n",
            "|.    [----]    .| [1:2] 'likes'\n",
            "|.    .    [----]| [2:3] 'children'\n",
            "Feature Bottom Up Predict Combine Rule:\n",
            "|[----]    .    .| [0:1] PropN[NUM='sg'] -> 'Kim' *\n",
            "Feature Bottom Up Predict Combine Rule:\n",
            "|[----]    .    .| [0:1] NP[NUM='sg'] -> PropN[NUM='sg'] *\n",
            "Feature Bottom Up Predict Combine Rule:\n",
            "|[---->    .    .| [0:1] S[] -> NP[NUM=?n] * VP[NUM=?n] {?n: 'sg'}\n",
            "Feature Bottom Up Predict Combine Rule:\n",
            "|.    [----]    .| [1:2] TV[NUM='sg', TENSE='pres'] -> 'likes' *\n",
            "Feature Bottom Up Predict Combine Rule:\n",
            "|.    [---->    .| [1:2] VP[NUM=?n, TENSE=?t] -> TV[NUM=?n, TENSE=?t] * NP[] {?n: 'sg', ?t: 'pres'}\n",
            "Feature Bottom Up Predict Combine Rule:\n",
            "|.    .    [----]| [2:3] N[NUM='pl'] -> 'children' *\n",
            "Feature Bottom Up Predict Combine Rule:\n",
            "|.    .    [----]| [2:3] NP[NUM='pl'] -> N[NUM='pl'] *\n",
            "Feature Bottom Up Predict Combine Rule:\n",
            "|.    .    [---->| [2:3] S[] -> NP[NUM=?n] * VP[NUM=?n] {?n: 'pl'}\n",
            "Feature Single Edge Fundamental Rule:\n",
            "|.    [---------]| [1:3] VP[NUM='sg', TENSE='pres'] -> TV[NUM='sg', TENSE='pres'] NP[] *\n",
            "Feature Single Edge Fundamental Rule:\n",
            "|[==============]| [0:3] S[] -> NP[NUM='sg'] VP[NUM='sg'] *\n",
            "(S[]\n",
            "  (NP[NUM='sg'] (PropN[NUM='sg'] Kim))\n",
            "  (VP[NUM='sg', TENSE='pres']\n",
            "    (TV[NUM='sg', TENSE='pres'] likes)\n",
            "    (NP[NUM='pl'] (N[NUM='pl'] children))))\n"
          ]
        }
      ]
    },
    {
      "cell_type": "markdown",
      "source": [
        "### Terminology"
      ],
      "metadata": {
        "id": "E6MIh3h6p2UK"
      }
    },
    {
      "cell_type": "code",
      "source": [
        "# V[TENSE=pres, +AUX] -> 'can'\n",
        "# V[TENSE=pres, +AUX] -> 'may'\n",
        "\n",
        "# V[TENSE=pres, -AUX] -> 'walks'\n",
        "# V[TENSE=pres, -AUX] -> 'likes'"
      ],
      "metadata": {
        "id": "afnT27TtrW_8"
      },
      "execution_count": null,
      "outputs": []
    },
    {
      "cell_type": "code",
      "source": [
        "# Attribute Value Matrix\n",
        "\n",
        "# AGR : NUM(sg, pl), PER(1, 2, 3), GND(male, female)"
      ],
      "metadata": {
        "id": "sSiQfy40r3FF"
      },
      "execution_count": null,
      "outputs": []
    },
    {
      "cell_type": "markdown",
      "source": [
        "## 2. Processing Feature Structures"
      ],
      "metadata": {
        "id": "5QeH90C5sZV4"
      }
    },
    {
      "cell_type": "code",
      "source": [
        "fs1 = nltk.FeatStruct(TENSE='past', NUM='sg')\n",
        "print(fs1)"
      ],
      "metadata": {
        "colab": {
          "base_uri": "https://localhost:8080/"
        },
        "id": "neqpsk_qsjEX",
        "outputId": "1e413322-6a13-48ac-9aac-dafaba77a59f"
      },
      "execution_count": 17,
      "outputs": [
        {
          "output_type": "stream",
          "name": "stdout",
          "text": [
            "[ NUM   = 'sg'   ]\n",
            "[ TENSE = 'past' ]\n"
          ]
        }
      ]
    },
    {
      "cell_type": "code",
      "source": [
        "fs1 = nltk.FeatStruct(PER=3, NUM='pl', GND='fem')\n",
        "print(fs1['GND'])"
      ],
      "metadata": {
        "colab": {
          "base_uri": "https://localhost:8080/"
        },
        "id": "ygSwYfoNsomv",
        "outputId": "c71a80a7-32a2-47b0-eaee-b718d382e602"
      },
      "execution_count": 18,
      "outputs": [
        {
          "output_type": "stream",
          "name": "stdout",
          "text": [
            "fem\n"
          ]
        }
      ]
    },
    {
      "cell_type": "code",
      "source": [
        "fs1['CASE'] = 'acc'"
      ],
      "metadata": {
        "id": "F1Dllbl-sxrg"
      },
      "execution_count": 19,
      "outputs": []
    },
    {
      "cell_type": "code",
      "source": [
        "fs2 = nltk.FeatStruct(POS='N', AGR=fs1)\n",
        "print(fs2)"
      ],
      "metadata": {
        "colab": {
          "base_uri": "https://localhost:8080/"
        },
        "id": "5tjvwO8Is0uf",
        "outputId": "de1fde2e-af8d-44d3-c7be-61981cf180d9"
      },
      "execution_count": 20,
      "outputs": [
        {
          "output_type": "stream",
          "name": "stdout",
          "text": [
            "[       [ CASE = 'acc' ] ]\n",
            "[ AGR = [ GND  = 'fem' ] ]\n",
            "[       [ NUM  = 'pl'  ] ]\n",
            "[       [ PER  = 3     ] ]\n",
            "[                        ]\n",
            "[ POS = 'N'              ]\n"
          ]
        }
      ]
    },
    {
      "cell_type": "code",
      "source": [
        "print(fs2['AGR'])"
      ],
      "metadata": {
        "colab": {
          "base_uri": "https://localhost:8080/"
        },
        "id": "bslY8NAntDPY",
        "outputId": "c530ec91-ce10-4fe8-e410-428e54aa2b41"
      },
      "execution_count": 21,
      "outputs": [
        {
          "output_type": "stream",
          "name": "stdout",
          "text": [
            "[ CASE = 'acc' ]\n",
            "[ GND  = 'fem' ]\n",
            "[ NUM  = 'pl'  ]\n",
            "[ PER  = 3     ]\n"
          ]
        }
      ]
    },
    {
      "cell_type": "code",
      "source": [
        "print(fs2['AGR']['PER'])"
      ],
      "metadata": {
        "colab": {
          "base_uri": "https://localhost:8080/"
        },
        "id": "v0CDi8NVtFAo",
        "outputId": "e19e5003-d469-4e4c-e0a6-32d882ff6b1f"
      },
      "execution_count": 22,
      "outputs": [
        {
          "output_type": "stream",
          "name": "stdout",
          "text": [
            "3\n"
          ]
        }
      ]
    },
    {
      "cell_type": "code",
      "source": [
        "print(nltk.FeatStruct(\"[POS='N', AGR=[PER=3, NUM='pl', GND='fem']]\"))"
      ],
      "metadata": {
        "colab": {
          "base_uri": "https://localhost:8080/"
        },
        "id": "pDYIkB-TtHI-",
        "outputId": "6f3061a4-fdca-4a51-c515-8dbf537edfac"
      },
      "execution_count": 23,
      "outputs": [
        {
          "output_type": "stream",
          "name": "stdout",
          "text": [
            "[       [ GND = 'fem' ] ]\n",
            "[ AGR = [ NUM = 'pl'  ] ]\n",
            "[       [ PER = 3     ] ]\n",
            "[                       ]\n",
            "[ POS = 'N'             ]\n"
          ]
        }
      ]
    },
    {
      "cell_type": "code",
      "source": [
        "print(nltk.FeatStruct(NAME='Lee', TELNO='01 21 86 42 96', AGE=33))"
      ],
      "metadata": {
        "colab": {
          "base_uri": "https://localhost:8080/"
        },
        "id": "vJpWgfA1tUvb",
        "outputId": "9d56ddfe-a76b-4cfa-d991-147d62fc1d70"
      },
      "execution_count": 25,
      "outputs": [
        {
          "output_type": "stream",
          "name": "stdout",
          "text": [
            "[ AGE   = 33               ]\n",
            "[ NAME  = 'Lee'            ]\n",
            "[ TELNO = '01 21 86 42 96' ]\n"
          ]
        }
      ]
    },
    {
      "cell_type": "code",
      "source": [
        "print(nltk.FeatStruct(\"\"\"[NAME='Lee', ADDRESS=(1)[NUMBER=74, STREET='rue Pascal'], SPOUSE=[NAME='Kim', ADDRESS->(1)]]\"\"\"))"
      ],
      "metadata": {
        "colab": {
          "base_uri": "https://localhost:8080/"
        },
        "id": "WI0FFtPXtfoz",
        "outputId": "d713392b-4d73-4994-bbc0-e20e09508385"
      },
      "execution_count": 26,
      "outputs": [
        {
          "output_type": "stream",
          "name": "stdout",
          "text": [
            "[ ADDRESS = (1) [ NUMBER = 74           ] ]\n",
            "[               [ STREET = 'rue Pascal' ] ]\n",
            "[                                         ]\n",
            "[ NAME    = 'Lee'                         ]\n",
            "[                                         ]\n",
            "[ SPOUSE  = [ ADDRESS -> (1)  ]           ]\n",
            "[           [ NAME    = 'Kim' ]           ]\n"
          ]
        }
      ]
    },
    {
      "cell_type": "code",
      "source": [
        "print(nltk.FeatStruct(\"[A='a', B=(1)[C='c'], D->(1), E->(1)]\"))"
      ],
      "metadata": {
        "colab": {
          "base_uri": "https://localhost:8080/"
        },
        "id": "li-dVKl9u06H",
        "outputId": "1629a2b0-12ea-41b7-e585-aa494a0df3ee"
      },
      "execution_count": 27,
      "outputs": [
        {
          "output_type": "stream",
          "name": "stdout",
          "text": [
            "[ A = 'a'             ]\n",
            "[                     ]\n",
            "[ B = (1) [ C = 'c' ] ]\n",
            "[                     ]\n",
            "[ D -> (1)            ]\n",
            "[ E -> (1)            ]\n"
          ]
        }
      ]
    },
    {
      "cell_type": "markdown",
      "source": [
        "### Subsumption(포섭) and Unification(통일)"
      ],
      "metadata": {
        "id": "dI8a9uPNvEaa"
      }
    },
    {
      "cell_type": "code",
      "source": [
        "fs1 = nltk.FeatStruct(NUMBER=74, STREET='rue Pascal')\n",
        "fs2 = nltk.FeatStruct(CITY='Paris')\n",
        "print(fs1.unify(fs2))"
      ],
      "metadata": {
        "colab": {
          "base_uri": "https://localhost:8080/"
        },
        "id": "Pfl61PdNvz62",
        "outputId": "5fb7b701-a32c-4240-b185-2ec9457fc239"
      },
      "execution_count": 28,
      "outputs": [
        {
          "output_type": "stream",
          "name": "stdout",
          "text": [
            "[ CITY   = 'Paris'      ]\n",
            "[ NUMBER = 74           ]\n",
            "[ STREET = 'rue Pascal' ]\n"
          ]
        }
      ]
    },
    {
      "cell_type": "code",
      "source": [
        "fs0 = nltk.FeatStruct(A='a')\n",
        "fs1 = nltk.FeatStruct(A='b')\n",
        "fs2 = fs0.unify(fs1)\n",
        "print(fs2)"
      ],
      "metadata": {
        "colab": {
          "base_uri": "https://localhost:8080/"
        },
        "id": "A3RlsuVCv9rN",
        "outputId": "f3558027-d09e-4f04-e56c-dcfa8f94d345"
      },
      "execution_count": 31,
      "outputs": [
        {
          "output_type": "stream",
          "name": "stdout",
          "text": [
            "None\n"
          ]
        }
      ]
    },
    {
      "cell_type": "code",
      "source": [
        "fs0 = nltk.FeatStruct(\"\"\"[NAME='Lee',\n",
        "                          ADDRESS=[NUMBER=74,\n",
        "                                   STREET='rue Pascal'],\n",
        "                          SPOUSE= [NAME='Kim',\n",
        "                                   ADDRESS=[NUMBER=74,\n",
        "                                            STREET='rue Pascal']]]\"\"\")\n",
        "print(fs0)"
      ],
      "metadata": {
        "colab": {
          "base_uri": "https://localhost:8080/"
        },
        "id": "sA-NkkyvwhgV",
        "outputId": "2dc3ec4a-3384-4f65-cc67-5c9beccc4792"
      },
      "execution_count": 32,
      "outputs": [
        {
          "output_type": "stream",
          "name": "stdout",
          "text": [
            "[ ADDRESS = [ NUMBER = 74           ]               ]\n",
            "[           [ STREET = 'rue Pascal' ]               ]\n",
            "[                                                   ]\n",
            "[ NAME    = 'Lee'                                   ]\n",
            "[                                                   ]\n",
            "[           [ ADDRESS = [ NUMBER = 74           ] ] ]\n",
            "[ SPOUSE  = [           [ STREET = 'rue Pascal' ] ] ]\n",
            "[           [                                     ] ]\n",
            "[           [ NAME    = 'Kim'                     ] ]\n"
          ]
        }
      ]
    },
    {
      "cell_type": "code",
      "source": [
        "fs1 = nltk.FeatStruct(\"[SPOUSE= [ADDRESS = [CITY = 'Paris']]]\")\n",
        "print(fs1.unify(fs0))"
      ],
      "metadata": {
        "colab": {
          "base_uri": "https://localhost:8080/"
        },
        "id": "gsypLKfHxE51",
        "outputId": "8851b619-0264-4cae-bc6d-e29565176632"
      },
      "execution_count": 33,
      "outputs": [
        {
          "output_type": "stream",
          "name": "stdout",
          "text": [
            "[ ADDRESS = [ NUMBER = 74           ]               ]\n",
            "[           [ STREET = 'rue Pascal' ]               ]\n",
            "[                                                   ]\n",
            "[ NAME    = 'Lee'                                   ]\n",
            "[                                                   ]\n",
            "[           [           [ CITY   = 'Paris'      ] ] ]\n",
            "[           [ ADDRESS = [ NUMBER = 74           ] ] ]\n",
            "[ SPOUSE  = [           [ STREET = 'rue Pascal' ] ] ]\n",
            "[           [                                     ] ]\n",
            "[           [ NAME    = 'Kim'                     ] ]\n"
          ]
        }
      ]
    },
    {
      "cell_type": "code",
      "source": [
        "fs2 = nltk.FeatStruct(\"\"\"[NAME=Lee, ADDRESS=(1)[NUMBER=74, STREET='rue Pascal'],\n",
        "                          SPOUSE=[NAME=Kim, ADDRESS->(1)]]\"\"\")\n",
        "print(fs1.unify(fs2))"
      ],
      "metadata": {
        "colab": {
          "base_uri": "https://localhost:8080/"
        },
        "id": "JyqkETjMxUGS",
        "outputId": "20cc2f0b-0611-44cd-b216-314e7142ff4c"
      },
      "execution_count": 34,
      "outputs": [
        {
          "output_type": "stream",
          "name": "stdout",
          "text": [
            "[               [ CITY   = 'Paris'      ] ]\n",
            "[ ADDRESS = (1) [ NUMBER = 74           ] ]\n",
            "[               [ STREET = 'rue Pascal' ] ]\n",
            "[                                         ]\n",
            "[ NAME    = 'Lee'                         ]\n",
            "[                                         ]\n",
            "[ SPOUSE  = [ ADDRESS -> (1)  ]           ]\n",
            "[           [ NAME    = 'Kim' ]           ]\n"
          ]
        }
      ]
    },
    {
      "cell_type": "code",
      "source": [
        "fs1 = nltk.FeatStruct(\"[ADDRESS1=[NUMBER=74, STREET='rue Pascal']]\")\n",
        "fs2 = nltk.FeatStruct(\"[ADDRESS1=?x, ADDRESS2=?x]\")"
      ],
      "metadata": {
        "id": "j7FiSAr3yDiG"
      },
      "execution_count": 35,
      "outputs": []
    },
    {
      "cell_type": "code",
      "source": [
        "print(fs2)"
      ],
      "metadata": {
        "colab": {
          "base_uri": "https://localhost:8080/"
        },
        "id": "7rPKOC1SyQZW",
        "outputId": "5a2297db-5ce7-4518-aa7f-c1d749099016"
      },
      "execution_count": 36,
      "outputs": [
        {
          "output_type": "stream",
          "name": "stdout",
          "text": [
            "[ ADDRESS1 = ?x ]\n",
            "[ ADDRESS2 = ?x ]\n"
          ]
        }
      ]
    },
    {
      "cell_type": "code",
      "source": [
        "print(fs2.unify(fs1))"
      ],
      "metadata": {
        "colab": {
          "base_uri": "https://localhost:8080/"
        },
        "id": "1X9M1SXayRb1",
        "outputId": "750a96e8-1eb8-4b75-8959-5cfd0c7f4e0c"
      },
      "execution_count": 37,
      "outputs": [
        {
          "output_type": "stream",
          "name": "stdout",
          "text": [
            "[ ADDRESS1 = (1) [ NUMBER = 74           ] ]\n",
            "[                [ STREET = 'rue Pascal' ] ]\n",
            "[                                          ]\n",
            "[ ADDRESS2 -> (1)                          ]\n"
          ]
        }
      ]
    },
    {
      "cell_type": "markdown",
      "source": [
        "## 3. Extending a Feature based Grammar"
      ],
      "metadata": {
        "id": "HwRDZZ68yV5D"
      }
    },
    {
      "cell_type": "markdown",
      "source": [
        "### Subcategorization"
      ],
      "metadata": {
        "id": "kJlbudmg5yRD"
      }
    },
    {
      "cell_type": "markdown",
      "source": [
        "### Heads Revisited"
      ],
      "metadata": {
        "id": "4L9POZ9D7Onv"
      }
    },
    {
      "cell_type": "markdown",
      "source": [
        "### Auxiliary Verbs and Inversion"
      ],
      "metadata": {
        "id": "bfdrdkYz8R57"
      }
    },
    {
      "cell_type": "code",
      "source": [
        "# S[+INV] -> V[+AUX] NP VP"
      ],
      "metadata": {
        "id": "0Zkx1VZs8i8w"
      },
      "execution_count": null,
      "outputs": []
    },
    {
      "cell_type": "markdown",
      "source": [
        "### Unbounded Dependency Constructions"
      ],
      "metadata": {
        "id": "cLVy-0j08toJ"
      }
    },
    {
      "cell_type": "code",
      "source": [
        "nltk.data.show_cfg('grammars/book_grammars/feat1.fcfg')"
      ],
      "metadata": {
        "colab": {
          "base_uri": "https://localhost:8080/"
        },
        "id": "MK9XC-k_97Eq",
        "outputId": "ebfc37af-7619-4a9c-89a3-bc50c15fda50"
      },
      "execution_count": 38,
      "outputs": [
        {
          "output_type": "stream",
          "name": "stdout",
          "text": [
            "% start S\n",
            "# ###################\n",
            "# Grammar Productions\n",
            "# ###################\n",
            "S[-INV] -> NP VP\n",
            "S[-INV]/?x -> NP VP/?x\n",
            "S[-INV] -> NP S/NP\n",
            "S[-INV] -> Adv[+NEG] S[+INV]\n",
            "S[+INV] -> V[+AUX] NP VP\n",
            "S[+INV]/?x -> V[+AUX] NP VP/?x\n",
            "SBar -> Comp S[-INV]\n",
            "SBar/?x -> Comp S[-INV]/?x\n",
            "VP -> V[SUBCAT=intrans, -AUX]\n",
            "VP -> V[SUBCAT=trans, -AUX] NP\n",
            "VP/?x -> V[SUBCAT=trans, -AUX] NP/?x\n",
            "VP -> V[SUBCAT=clause, -AUX] SBar\n",
            "VP/?x -> V[SUBCAT=clause, -AUX] SBar/?x\n",
            "VP -> V[+AUX] VP\n",
            "VP/?x -> V[+AUX] VP/?x\n",
            "# ###################\n",
            "# Lexical Productions\n",
            "# ###################\n",
            "V[SUBCAT=intrans, -AUX] -> 'walk' | 'sing'\n",
            "V[SUBCAT=trans, -AUX] -> 'see' | 'like'\n",
            "V[SUBCAT=clause, -AUX] -> 'say' | 'claim'\n",
            "V[+AUX] -> 'do' | 'can'\n",
            "NP[-WH] -> 'you' | 'cats'\n",
            "NP[+WH] -> 'who'\n",
            "Adv[+NEG] -> 'rarely' | 'never'\n",
            "NP/NP ->\n",
            "Comp -> 'that'\n"
          ]
        }
      ]
    },
    {
      "cell_type": "code",
      "source": [
        "tokens = 'who do you claim that you like'.split()\n",
        "from nltk import load_parser\n",
        "cp = load_parser('grammars/book_grammars/feat1.fcfg')\n",
        "for tree in cp.parse(tokens):\n",
        "  print(tree)"
      ],
      "metadata": {
        "colab": {
          "base_uri": "https://localhost:8080/"
        },
        "id": "01DGcpSL9_ek",
        "outputId": "32db9143-14e7-486f-b832-a64fae90f50b"
      },
      "execution_count": 39,
      "outputs": [
        {
          "output_type": "stream",
          "name": "stdout",
          "text": [
            "(S[-INV]\n",
            "  (NP[+WH] who)\n",
            "  (S[+INV]/NP[]\n",
            "    (V[+AUX] do)\n",
            "    (NP[-WH] you)\n",
            "    (VP[]/NP[]\n",
            "      (V[-AUX, SUBCAT='clause'] claim)\n",
            "      (SBar[]/NP[]\n",
            "        (Comp[] that)\n",
            "        (S[-INV]/NP[]\n",
            "          (NP[-WH] you)\n",
            "          (VP[]/NP[] (V[-AUX, SUBCAT='trans'] like) (NP[]/NP[] )))))))\n"
          ]
        }
      ]
    },
    {
      "cell_type": "code",
      "source": [
        "tokens = 'you claim that you like cats'.split()\n",
        "for tree in cp.parse(tokens):\n",
        "  print(tree)"
      ],
      "metadata": {
        "colab": {
          "base_uri": "https://localhost:8080/"
        },
        "id": "-T_9I_Z--iUI",
        "outputId": "6b9a28ab-efd4-4b84-dfd0-8e08274332d3"
      },
      "execution_count": 40,
      "outputs": [
        {
          "output_type": "stream",
          "name": "stdout",
          "text": [
            "(S[-INV]\n",
            "  (NP[-WH] you)\n",
            "  (VP[]\n",
            "    (V[-AUX, SUBCAT='clause'] claim)\n",
            "    (SBar[]\n",
            "      (Comp[] that)\n",
            "      (S[-INV]\n",
            "        (NP[-WH] you)\n",
            "        (VP[] (V[-AUX, SUBCAT='trans'] like) (NP[-WH] cats))))))\n"
          ]
        }
      ]
    },
    {
      "cell_type": "code",
      "source": [
        "tokens = 'rarely do you sing'.split()\n",
        "for tree in cp.parse(tokens):\n",
        "  print(tree)"
      ],
      "metadata": {
        "colab": {
          "base_uri": "https://localhost:8080/"
        },
        "id": "Zh7wF2Uq-xHn",
        "outputId": "5be38bc2-7a35-459d-d0f1-b1fef1ed93a6"
      },
      "execution_count": 41,
      "outputs": [
        {
          "output_type": "stream",
          "name": "stdout",
          "text": [
            "(S[-INV]\n",
            "  (Adv[+NEG] rarely)\n",
            "  (S[+INV]\n",
            "    (V[+AUX] do)\n",
            "    (NP[-WH] you)\n",
            "    (VP[] (V[-AUX, SUBCAT='intrans'] sing))))\n"
          ]
        }
      ]
    },
    {
      "cell_type": "markdown",
      "source": [
        "### Case and Gender in German"
      ],
      "metadata": {
        "id": "GPc_meBn-_Xa"
      }
    },
    {
      "cell_type": "code",
      "source": [
        "nltk.data.show_cfg('grammars/book_grammars/german.fcfg')"
      ],
      "metadata": {
        "colab": {
          "base_uri": "https://localhost:8080/"
        },
        "id": "kvv_ocp2_KWS",
        "outputId": "2a07354d-a5fa-46be-dad7-ecb6c453f093"
      },
      "execution_count": 45,
      "outputs": [
        {
          "output_type": "stream",
          "name": "stdout",
          "text": [
            "% start S\n",
            "# Grammar Productions\n",
            "S -> NP[CASE=nom, AGR=?a] VP[AGR=?a]\n",
            "NP[CASE=?c, AGR=?a] -> PRO[CASE=?c, AGR=?a]\n",
            "NP[CASE=?c, AGR=?a] -> Det[CASE=?c, AGR=?a] N[CASE=?c, AGR=?a]\n",
            "VP[AGR=?a] -> IV[AGR=?a]\n",
            "VP[AGR=?a] -> TV[OBJCASE=?c, AGR=?a] NP[CASE=?c]\n",
            "# Lexical Productions\n",
            "# Singular determiners\n",
            "# masc\n",
            "Det[CASE=nom, AGR=[GND=masc,PER=3,NUM=sg]] -> 'der' \n",
            "Det[CASE=dat, AGR=[GND=masc,PER=3,NUM=sg]] -> 'dem'\n",
            "Det[CASE=acc, AGR=[GND=masc,PER=3,NUM=sg]] -> 'den'\n",
            "# fem\n",
            "Det[CASE=nom, AGR=[GND=fem,PER=3,NUM=sg]] -> 'die' \n",
            "Det[CASE=dat, AGR=[GND=fem,PER=3,NUM=sg]] -> 'der'\n",
            "Det[CASE=acc, AGR=[GND=fem,PER=3,NUM=sg]] -> 'die' \n",
            "# Plural determiners\n",
            "Det[CASE=nom, AGR=[PER=3,NUM=pl]] -> 'die' \n",
            "Det[CASE=dat, AGR=[PER=3,NUM=pl]] -> 'den' \n",
            "Det[CASE=acc, AGR=[PER=3,NUM=pl]] -> 'die' \n",
            "# Nouns\n",
            "N[AGR=[GND=masc,PER=3,NUM=sg]] -> 'Hund'\n",
            "N[CASE=nom, AGR=[GND=masc,PER=3,NUM=pl]] -> 'Hunde'\n",
            "N[CASE=dat, AGR=[GND=masc,PER=3,NUM=pl]] -> 'Hunden'\n",
            "N[CASE=acc, AGR=[GND=masc,PER=3,NUM=pl]] -> 'Hunde'\n",
            "N[AGR=[GND=fem,PER=3,NUM=sg]] -> 'Katze'\n",
            "N[AGR=[GND=fem,PER=3,NUM=pl]] -> 'Katzen'\n",
            "# Pronouns\n",
            "PRO[CASE=nom, AGR=[PER=1,NUM=sg]] -> 'ich'\n",
            "PRO[CASE=acc, AGR=[PER=1,NUM=sg]] -> 'mich'\n",
            "PRO[CASE=dat, AGR=[PER=1,NUM=sg]] -> 'mir'\n",
            "PRO[CASE=nom, AGR=[PER=2,NUM=sg]] -> 'du'\n",
            "PRO[CASE=nom, AGR=[PER=3,NUM=sg]] -> 'er' | 'sie' | 'es'\n",
            "PRO[CASE=nom, AGR=[PER=1,NUM=pl]] -> 'wir'\n",
            "PRO[CASE=acc, AGR=[PER=1,NUM=pl]] -> 'uns'\n",
            "PRO[CASE=dat, AGR=[PER=1,NUM=pl]] -> 'uns'\n",
            "PRO[CASE=nom, AGR=[PER=2,NUM=pl]] -> 'ihr'\n",
            "PRO[CASE=nom, AGR=[PER=3,NUM=pl]] -> 'sie'\n",
            "# Verbs\n",
            "IV[AGR=[NUM=sg,PER=1]] -> 'komme'\n",
            "IV[AGR=[NUM=sg,PER=2]] -> 'kommst'\n",
            "IV[AGR=[NUM=sg,PER=3]] -> 'kommt'\n",
            "IV[AGR=[NUM=pl, PER=1]] -> 'kommen'\n",
            "IV[AGR=[NUM=pl, PER=2]] -> 'kommt'\n",
            "IV[AGR=[NUM=pl, PER=3]] -> 'kommen'\n",
            "TV[OBJCASE=acc, AGR=[NUM=sg,PER=1]] -> 'sehe' | 'mag'\n",
            "TV[OBJCASE=acc, AGR=[NUM=sg,PER=2]] -> 'siehst' | 'magst'\n",
            "TV[OBJCASE=acc, AGR=[NUM=sg,PER=3]] -> 'sieht' | 'mag'\n",
            "TV[OBJCASE=dat, AGR=[NUM=sg,PER=1]] -> 'folge' | 'helfe'\n",
            "TV[OBJCASE=dat, AGR=[NUM=sg,PER=2]] -> 'folgst' | 'hilfst'\n",
            "TV[OBJCASE=dat, AGR=[NUM=sg,PER=3]] -> 'folgt' | 'hilft'\n",
            "TV[OBJCASE=acc, AGR=[NUM=pl,PER=1]] -> 'sehen' | 'moegen'\n",
            "TV[OBJCASE=acc, AGR=[NUM=pl,PER=2]] -> 'sieht' | 'moegt'\n",
            "TV[OBJCASE=acc, AGR=[NUM=pl,PER=3]] -> 'sehen' | 'moegen'\n",
            "TV[OBJCASE=dat, AGR=[NUM=pl,PER=1]] -> 'folgen' | 'helfen'\n",
            "TV[OBJCASE=dat, AGR=[NUM=pl,PER=2]] -> 'folgt' | 'helft'\n",
            "TV[OBJCASE=dat, AGR=[NUM=pl,PER=3]] -> 'folgen' | 'helfen'\n"
          ]
        }
      ]
    },
    {
      "cell_type": "code",
      "source": [
        "tokens = 'ich folge den Katzen'.split()\n",
        "cp = load_parser('grammars/book_grammars/german.fcfg')\n",
        "for tree in cp.parse(tokens):\n",
        "  print(tree)"
      ],
      "metadata": {
        "colab": {
          "base_uri": "https://localhost:8080/"
        },
        "id": "Mk2YRDYh_OKq",
        "outputId": "5b913bff-a3e0-4048-971d-69ce83aa7662"
      },
      "execution_count": 47,
      "outputs": [
        {
          "output_type": "stream",
          "name": "stdout",
          "text": [
            "(S[]\n",
            "  (NP[AGR=[NUM='sg', PER=1], CASE='nom']\n",
            "    (PRO[AGR=[NUM='sg', PER=1], CASE='nom'] ich))\n",
            "  (VP[AGR=[NUM='sg', PER=1]]\n",
            "    (TV[AGR=[NUM='sg', PER=1], OBJCASE='dat'] folge)\n",
            "    (NP[AGR=[GND='fem', NUM='pl', PER=3], CASE='dat']\n",
            "      (Det[AGR=[NUM='pl', PER=3], CASE='dat'] den)\n",
            "      (N[AGR=[GND='fem', NUM='pl', PER=3]] Katzen))))\n"
          ]
        }
      ]
    },
    {
      "cell_type": "code",
      "source": [
        "tokens = 'ich folge den Katze'.split()\n",
        "cp = load_parser('grammars/book_grammars/german.fcfg', trace=2)\n",
        "for tree in cp.parse(tokens):\n",
        "  print(tree)"
      ],
      "metadata": {
        "colab": {
          "base_uri": "https://localhost:8080/"
        },
        "id": "r4VimwYN_oMH",
        "outputId": "c5900b61-8a0d-40c3-a3dc-8419aae57ace"
      },
      "execution_count": 49,
      "outputs": [
        {
          "output_type": "stream",
          "name": "stdout",
          "text": [
            "|.ich.fol.den.Kat.|\n",
            "Leaf Init Rule:\n",
            "|[---]   .   .   .| [0:1] 'ich'\n",
            "|.   [---]   .   .| [1:2] 'folge'\n",
            "|.   .   [---]   .| [2:3] 'den'\n",
            "|.   .   .   [---]| [3:4] 'Katze'\n",
            "Feature Bottom Up Predict Combine Rule:\n",
            "|[---]   .   .   .| [0:1] PRO[AGR=[NUM='sg', PER=1], CASE='nom'] -> 'ich' *\n",
            "Feature Bottom Up Predict Combine Rule:\n",
            "|[---]   .   .   .| [0:1] NP[AGR=[NUM='sg', PER=1], CASE='nom'] -> PRO[AGR=[NUM='sg', PER=1], CASE='nom'] *\n",
            "Feature Bottom Up Predict Combine Rule:\n",
            "|[--->   .   .   .| [0:1] S[] -> NP[AGR=?a, CASE='nom'] * VP[AGR=?a] {?a: [NUM='sg', PER=1]}\n",
            "Feature Bottom Up Predict Combine Rule:\n",
            "|.   [---]   .   .| [1:2] TV[AGR=[NUM='sg', PER=1], OBJCASE='dat'] -> 'folge' *\n",
            "Feature Bottom Up Predict Combine Rule:\n",
            "|.   [--->   .   .| [1:2] VP[AGR=?a] -> TV[AGR=?a, OBJCASE=?c] * NP[CASE=?c] {?a: [NUM='sg', PER=1], ?c: 'dat'}\n",
            "Feature Bottom Up Predict Combine Rule:\n",
            "|.   .   [---]   .| [2:3] Det[AGR=[GND='masc', NUM='sg', PER=3], CASE='acc'] -> 'den' *\n",
            "|.   .   [---]   .| [2:3] Det[AGR=[NUM='pl', PER=3], CASE='dat'] -> 'den' *\n",
            "Feature Bottom Up Predict Combine Rule:\n",
            "|.   .   [--->   .| [2:3] NP[AGR=?a, CASE=?c] -> Det[AGR=?a, CASE=?c] * N[AGR=?a, CASE=?c] {?a: [NUM='pl', PER=3], ?c: 'dat'}\n",
            "Feature Bottom Up Predict Combine Rule:\n",
            "|.   .   [--->   .| [2:3] NP[AGR=?a, CASE=?c] -> Det[AGR=?a, CASE=?c] * N[AGR=?a, CASE=?c] {?a: [GND='masc', NUM='sg', PER=3], ?c: 'acc'}\n",
            "Feature Bottom Up Predict Combine Rule:\n",
            "|.   .   .   [---]| [3:4] N[AGR=[GND='fem', NUM='sg', PER=3]] -> 'Katze' *\n"
          ]
        }
      ]
    }
  ]
}