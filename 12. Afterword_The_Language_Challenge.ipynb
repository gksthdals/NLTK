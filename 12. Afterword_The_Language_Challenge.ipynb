{
  "nbformat": 4,
  "nbformat_minor": 0,
  "metadata": {
    "colab": {
      "name": "12. Afterword: The Language Challenge.ipynb",
      "provenance": [],
      "authorship_tag": "ABX9TyMcXf8RAoIuMIGqhZz901Sn",
      "include_colab_link": true
    },
    "kernelspec": {
      "name": "python3",
      "display_name": "Python 3"
    },
    "language_info": {
      "name": "python"
    }
  },
  "cells": [
    {
      "cell_type": "markdown",
      "metadata": {
        "id": "view-in-github",
        "colab_type": "text"
      },
      "source": [
        "<a href=\"https://colab.research.google.com/github/gksthdals/NLTK/blob/main/12.%20Afterword_The_Language_Challenge.ipynb\" target=\"_parent\"><img src=\"https://colab.research.google.com/assets/colab-badge.svg\" alt=\"Open In Colab\"/></a>"
      ]
    },
    {
      "cell_type": "markdown",
      "source": [
        "## Language Processing vs Symbol Processing"
      ],
      "metadata": {
        "id": "nbkqzg3JQLnK"
      }
    },
    {
      "cell_type": "markdown",
      "source": [
        "## Contemporary Philosophical Divides"
      ],
      "metadata": {
        "id": "SmLZu5yEQSM4"
      }
    },
    {
      "cell_type": "markdown",
      "source": [
        "## NLTK Roadmap"
      ],
      "metadata": {
        "id": "h5hcKHzzQV9y"
      }
    },
    {
      "cell_type": "markdown",
      "source": [
        "## Envoi..."
      ],
      "metadata": {
        "id": "yDTFDWhhQZFw"
      }
    }
  ]
}