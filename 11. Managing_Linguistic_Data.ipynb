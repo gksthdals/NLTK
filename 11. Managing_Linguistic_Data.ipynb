{
  "nbformat": 4,
  "nbformat_minor": 0,
  "metadata": {
    "colab": {
      "name": "11. Managing Linguistic Data.ipynb",
      "provenance": [],
      "collapsed_sections": [],
      "authorship_tag": "ABX9TyMsp0pVbwvu0qgcQHN3pgIH",
      "include_colab_link": true
    },
    "kernelspec": {
      "name": "python3",
      "display_name": "Python 3"
    },
    "language_info": {
      "name": "python"
    }
  },
  "cells": [
    {
      "cell_type": "markdown",
      "metadata": {
        "id": "view-in-github",
        "colab_type": "text"
      },
      "source": [
        "<a href=\"https://colab.research.google.com/github/gksthdals/NLTK/blob/main/11.%20Managing_Linguistic_Data.ipynb\" target=\"_parent\"><img src=\"https://colab.research.google.com/assets/colab-badge.svg\" alt=\"Open In Colab\"/></a>"
      ]
    },
    {
      "cell_type": "code",
      "execution_count": null,
      "metadata": {
        "id": "09BnhNxKPXRf"
      },
      "outputs": [],
      "source": [
        "\"\"\" Main Topic\n",
        "\n",
        "1. How do we design a new language resource and ensure that its coverage, balance, and documentation support a wide range of uses?\n",
        "2. When existing data is in the wrong format for some analysis tool, how can we convert it to a suitable format?\n",
        "3. What is a good way to document the existence of a resource we have created so that others can easily find it?\n",
        "\n",
        "\"\"\""
      ]
    },
    {
      "cell_type": "markdown",
      "source": [
        "## 1. Corpus Structure: a Case Study"
      ],
      "metadata": {
        "id": "0v1SBV1uVRG2"
      }
    },
    {
      "cell_type": "markdown",
      "source": [
        "### The Structure of TIMIT"
      ],
      "metadata": {
        "id": "I2-PcaVcVrdh"
      }
    },
    {
      "cell_type": "code",
      "source": [
        "import nltk"
      ],
      "metadata": {
        "id": "VLBVeDq6WK47"
      },
      "execution_count": 1,
      "outputs": []
    },
    {
      "cell_type": "code",
      "source": [
        "help(nltk.corpus.timit)"
      ],
      "metadata": {
        "colab": {
          "base_uri": "https://localhost:8080/"
        },
        "id": "LAgH8PNgWLlN",
        "outputId": "9db48b9e-b3bc-4c39-d669-bcfad8b5e373"
      },
      "execution_count": 2,
      "outputs": [
        {
          "output_type": "stream",
          "name": "stdout",
          "text": [
            "Help on LazyCorpusLoader in module nltk.corpus.util object:\n",
            "\n",
            "timit = class LazyCorpusLoader(builtins.object)\n",
            " |  timit(name, reader_cls, *args, **kwargs)\n",
            " |  \n",
            " |  To see the API documentation for this lazily loaded corpus, first\n",
            " |  run corpus.ensure_loaded(), and then run help(this_corpus).\n",
            " |  \n",
            " |  LazyCorpusLoader is a proxy object which is used to stand in for a\n",
            " |  corpus object before the corpus is loaded.  This allows NLTK to\n",
            " |  create an object for each corpus, but defer the costs associated\n",
            " |  with loading those corpora until the first time that they're\n",
            " |  actually accessed.\n",
            " |  \n",
            " |  The first time this object is accessed in any way, it will load\n",
            " |  the corresponding corpus, and transform itself into that corpus\n",
            " |  (by modifying its own ``__class__`` and ``__dict__`` attributes).\n",
            " |  \n",
            " |  If the corpus can not be found, then accessing this object will\n",
            " |  raise an exception, displaying installation instructions for the\n",
            " |  NLTK data package.  Once they've properly installed the data\n",
            " |  package (or modified ``nltk.data.path`` to point to its location),\n",
            " |  they can then use the corpus object without restarting python.\n",
            " |  \n",
            " |  :param name: The name of the corpus\n",
            " |  :type name: str\n",
            " |  :param reader_cls: The specific CorpusReader class, e.g. PlaintextCorpusReader, WordListCorpusReader\n",
            " |  :type reader: nltk.corpus.reader.api.CorpusReader\n",
            " |  :param nltk_data_subdir: The subdirectory where the corpus is stored.\n",
            " |  :type nltk_data_subdir: str\n",
            " |  :param *args: Any other non-keywords arguments that `reader_cls` might need.\n",
            " |  :param *kargs: Any other keywords arguments that `reader_cls` might need.\n",
            " |  \n",
            " |  Methods defined here:\n",
            " |  \n",
            " |  __getattr__(self, attr)\n",
            " |  \n",
            " |  __init__(self, name, reader_cls, *args, **kwargs)\n",
            " |      Initialize self.  See help(type(self)) for accurate signature.\n",
            " |  \n",
            " |  __repr__(self)\n",
            " |      Return repr(self).\n",
            " |  \n",
            " |  __unicode__ = __str__(self, /)\n",
            " |  \n",
            " |  unicode_repr = __repr__(self)\n",
            " |  \n",
            " |  ----------------------------------------------------------------------\n",
            " |  Data descriptors defined here:\n",
            " |  \n",
            " |  __dict__\n",
            " |      dictionary for instance variables (if defined)\n",
            " |  \n",
            " |  __weakref__\n",
            " |      list of weak references to the object (if defined)\n",
            "\n"
          ]
        }
      ]
    },
    {
      "cell_type": "code",
      "source": [
        "nltk.download('timit')"
      ],
      "metadata": {
        "colab": {
          "base_uri": "https://localhost:8080/"
        },
        "id": "pN7dnC7-WXuk",
        "outputId": "915ba24d-ee0e-4ea3-d4a4-c552e0eaa9fa"
      },
      "execution_count": 4,
      "outputs": [
        {
          "output_type": "stream",
          "name": "stdout",
          "text": [
            "[nltk_data] Downloading package timit to /root/nltk_data...\n",
            "[nltk_data]   Unzipping corpora/timit.zip.\n"
          ]
        },
        {
          "output_type": "execute_result",
          "data": {
            "text/plain": [
              "True"
            ]
          },
          "metadata": {},
          "execution_count": 4
        }
      ]
    },
    {
      "cell_type": "code",
      "source": [
        "nltk.corpus.timit.fileids()"
      ],
      "metadata": {
        "colab": {
          "base_uri": "https://localhost:8080/"
        },
        "id": "J1F2-eIhWRfx",
        "outputId": "abcb73a2-8bfb-4f47-fece-99bf2fa43e30"
      },
      "execution_count": 5,
      "outputs": [
        {
          "output_type": "execute_result",
          "data": {
            "text/plain": [
              "['dr1-fvmh0/sa1.phn',\n",
              " 'dr1-fvmh0/sa1.txt',\n",
              " 'dr1-fvmh0/sa1.wav',\n",
              " 'dr1-fvmh0/sa1.wrd',\n",
              " 'dr1-fvmh0/sa2.phn',\n",
              " 'dr1-fvmh0/sa2.txt',\n",
              " 'dr1-fvmh0/sa2.wav',\n",
              " 'dr1-fvmh0/sa2.wrd',\n",
              " 'dr1-fvmh0/si1466.phn',\n",
              " 'dr1-fvmh0/si1466.txt',\n",
              " 'dr1-fvmh0/si1466.wav',\n",
              " 'dr1-fvmh0/si1466.wrd',\n",
              " 'dr1-fvmh0/si2096.phn',\n",
              " 'dr1-fvmh0/si2096.txt',\n",
              " 'dr1-fvmh0/si2096.wav',\n",
              " 'dr1-fvmh0/si2096.wrd',\n",
              " 'dr1-fvmh0/si836.phn',\n",
              " 'dr1-fvmh0/si836.txt',\n",
              " 'dr1-fvmh0/si836.wav',\n",
              " 'dr1-fvmh0/si836.wrd',\n",
              " 'dr1-fvmh0/sx116.phn',\n",
              " 'dr1-fvmh0/sx116.txt',\n",
              " 'dr1-fvmh0/sx116.wav',\n",
              " 'dr1-fvmh0/sx116.wrd',\n",
              " 'dr1-fvmh0/sx206.phn',\n",
              " 'dr1-fvmh0/sx206.txt',\n",
              " 'dr1-fvmh0/sx206.wav',\n",
              " 'dr1-fvmh0/sx206.wrd',\n",
              " 'dr1-fvmh0/sx26.phn',\n",
              " 'dr1-fvmh0/sx26.txt',\n",
              " 'dr1-fvmh0/sx26.wav',\n",
              " 'dr1-fvmh0/sx26.wrd',\n",
              " 'dr1-fvmh0/sx296.phn',\n",
              " 'dr1-fvmh0/sx296.txt',\n",
              " 'dr1-fvmh0/sx296.wav',\n",
              " 'dr1-fvmh0/sx296.wrd',\n",
              " 'dr1-fvmh0/sx386.phn',\n",
              " 'dr1-fvmh0/sx386.txt',\n",
              " 'dr1-fvmh0/sx386.wav',\n",
              " 'dr1-fvmh0/sx386.wrd',\n",
              " 'dr1-mcpm0/sa1.phn',\n",
              " 'dr1-mcpm0/sa1.txt',\n",
              " 'dr1-mcpm0/sa1.wav',\n",
              " 'dr1-mcpm0/sa1.wrd',\n",
              " 'dr1-mcpm0/sa2.phn',\n",
              " 'dr1-mcpm0/sa2.txt',\n",
              " 'dr1-mcpm0/sa2.wav',\n",
              " 'dr1-mcpm0/sa2.wrd',\n",
              " 'dr1-mcpm0/si1194.phn',\n",
              " 'dr1-mcpm0/si1194.txt',\n",
              " 'dr1-mcpm0/si1194.wav',\n",
              " 'dr1-mcpm0/si1194.wrd',\n",
              " 'dr1-mcpm0/si1824.phn',\n",
              " 'dr1-mcpm0/si1824.txt',\n",
              " 'dr1-mcpm0/si1824.wav',\n",
              " 'dr1-mcpm0/si1824.wrd',\n",
              " 'dr1-mcpm0/si564.phn',\n",
              " 'dr1-mcpm0/si564.txt',\n",
              " 'dr1-mcpm0/si564.wav',\n",
              " 'dr1-mcpm0/si564.wrd',\n",
              " 'dr1-mcpm0/sx114.phn',\n",
              " 'dr1-mcpm0/sx114.txt',\n",
              " 'dr1-mcpm0/sx114.wav',\n",
              " 'dr1-mcpm0/sx114.wrd',\n",
              " 'dr1-mcpm0/sx204.phn',\n",
              " 'dr1-mcpm0/sx204.txt',\n",
              " 'dr1-mcpm0/sx204.wav',\n",
              " 'dr1-mcpm0/sx204.wrd',\n",
              " 'dr1-mcpm0/sx24.phn',\n",
              " 'dr1-mcpm0/sx24.txt',\n",
              " 'dr1-mcpm0/sx24.wav',\n",
              " 'dr1-mcpm0/sx24.wrd',\n",
              " 'dr1-mcpm0/sx294.phn',\n",
              " 'dr1-mcpm0/sx294.txt',\n",
              " 'dr1-mcpm0/sx294.wav',\n",
              " 'dr1-mcpm0/sx294.wrd',\n",
              " 'dr1-mcpm0/sx384.phn',\n",
              " 'dr1-mcpm0/sx384.txt',\n",
              " 'dr1-mcpm0/sx384.wav',\n",
              " 'dr1-mcpm0/sx384.wrd',\n",
              " 'dr2-faem0/sa1.phn',\n",
              " 'dr2-faem0/sa1.txt',\n",
              " 'dr2-faem0/sa1.wav',\n",
              " 'dr2-faem0/sa1.wrd',\n",
              " 'dr2-faem0/sa2.phn',\n",
              " 'dr2-faem0/sa2.txt',\n",
              " 'dr2-faem0/sa2.wav',\n",
              " 'dr2-faem0/sa2.wrd',\n",
              " 'dr2-faem0/si1392.phn',\n",
              " 'dr2-faem0/si1392.txt',\n",
              " 'dr2-faem0/si1392.wav',\n",
              " 'dr2-faem0/si1392.wrd',\n",
              " 'dr2-faem0/si2022.phn',\n",
              " 'dr2-faem0/si2022.txt',\n",
              " 'dr2-faem0/si2022.wav',\n",
              " 'dr2-faem0/si2022.wrd',\n",
              " 'dr2-faem0/si762.phn',\n",
              " 'dr2-faem0/si762.txt',\n",
              " 'dr2-faem0/si762.wav',\n",
              " 'dr2-faem0/si762.wrd',\n",
              " 'dr2-faem0/sx132.phn',\n",
              " 'dr2-faem0/sx132.txt',\n",
              " 'dr2-faem0/sx132.wav',\n",
              " 'dr2-faem0/sx132.wrd',\n",
              " 'dr2-faem0/sx222.phn',\n",
              " 'dr2-faem0/sx222.txt',\n",
              " 'dr2-faem0/sx222.wav',\n",
              " 'dr2-faem0/sx222.wrd',\n",
              " 'dr2-faem0/sx312.phn',\n",
              " 'dr2-faem0/sx312.txt',\n",
              " 'dr2-faem0/sx312.wav',\n",
              " 'dr2-faem0/sx312.wrd',\n",
              " 'dr2-faem0/sx402.phn',\n",
              " 'dr2-faem0/sx402.txt',\n",
              " 'dr2-faem0/sx402.wav',\n",
              " 'dr2-faem0/sx402.wrd',\n",
              " 'dr2-faem0/sx42.phn',\n",
              " 'dr2-faem0/sx42.txt',\n",
              " 'dr2-faem0/sx42.wav',\n",
              " 'dr2-faem0/sx42.wrd',\n",
              " 'dr2-marc0/sa1.phn',\n",
              " 'dr2-marc0/sa1.txt',\n",
              " 'dr2-marc0/sa1.wav',\n",
              " 'dr2-marc0/sa1.wrd',\n",
              " 'dr2-marc0/sa2.phn',\n",
              " 'dr2-marc0/sa2.txt',\n",
              " 'dr2-marc0/sa2.wav',\n",
              " 'dr2-marc0/sa2.wrd',\n",
              " 'dr2-marc0/si1188.phn',\n",
              " 'dr2-marc0/si1188.txt',\n",
              " 'dr2-marc0/si1188.wav',\n",
              " 'dr2-marc0/si1188.wrd',\n",
              " 'dr2-marc0/si1818.phn',\n",
              " 'dr2-marc0/si1818.txt',\n",
              " 'dr2-marc0/si1818.wav',\n",
              " 'dr2-marc0/si1818.wrd',\n",
              " 'dr2-marc0/si558.phn',\n",
              " 'dr2-marc0/si558.txt',\n",
              " 'dr2-marc0/si558.wav',\n",
              " 'dr2-marc0/si558.wrd',\n",
              " 'dr2-marc0/sx108.phn',\n",
              " 'dr2-marc0/sx108.txt',\n",
              " 'dr2-marc0/sx108.wav',\n",
              " 'dr2-marc0/sx108.wrd',\n",
              " 'dr2-marc0/sx18.phn',\n",
              " 'dr2-marc0/sx18.txt',\n",
              " 'dr2-marc0/sx18.wav',\n",
              " 'dr2-marc0/sx18.wrd',\n",
              " 'dr2-marc0/sx198.phn',\n",
              " 'dr2-marc0/sx198.txt',\n",
              " 'dr2-marc0/sx198.wav',\n",
              " 'dr2-marc0/sx198.wrd',\n",
              " 'dr2-marc0/sx288.phn',\n",
              " 'dr2-marc0/sx288.txt',\n",
              " 'dr2-marc0/sx288.wav',\n",
              " 'dr2-marc0/sx288.wrd',\n",
              " 'dr2-marc0/sx378.phn',\n",
              " 'dr2-marc0/sx378.txt',\n",
              " 'dr2-marc0/sx378.wav',\n",
              " 'dr2-marc0/sx378.wrd',\n",
              " 'dr3-falk0/sa1.phn',\n",
              " 'dr3-falk0/sa1.txt',\n",
              " 'dr3-falk0/sa1.wav',\n",
              " 'dr3-falk0/sa1.wrd',\n",
              " 'dr3-falk0/sa2.phn',\n",
              " 'dr3-falk0/sa2.txt',\n",
              " 'dr3-falk0/sa2.wav',\n",
              " 'dr3-falk0/sa2.wrd',\n",
              " 'dr3-falk0/si1086.phn',\n",
              " 'dr3-falk0/si1086.txt',\n",
              " 'dr3-falk0/si1086.wav',\n",
              " 'dr3-falk0/si1086.wrd',\n",
              " 'dr3-falk0/si456.phn',\n",
              " 'dr3-falk0/si456.txt',\n",
              " 'dr3-falk0/si456.wav',\n",
              " 'dr3-falk0/si456.wrd',\n",
              " 'dr3-falk0/si658.phn',\n",
              " 'dr3-falk0/si658.txt',\n",
              " 'dr3-falk0/si658.wav',\n",
              " 'dr3-falk0/si658.wrd',\n",
              " 'dr3-falk0/sx186.phn',\n",
              " 'dr3-falk0/sx186.txt',\n",
              " 'dr3-falk0/sx186.wav',\n",
              " 'dr3-falk0/sx186.wrd',\n",
              " 'dr3-falk0/sx276.phn',\n",
              " 'dr3-falk0/sx276.txt',\n",
              " 'dr3-falk0/sx276.wav',\n",
              " 'dr3-falk0/sx276.wrd',\n",
              " 'dr3-falk0/sx366.phn',\n",
              " 'dr3-falk0/sx366.txt',\n",
              " 'dr3-falk0/sx366.wav',\n",
              " 'dr3-falk0/sx366.wrd',\n",
              " 'dr3-falk0/sx6.phn',\n",
              " 'dr3-falk0/sx6.txt',\n",
              " 'dr3-falk0/sx6.wav',\n",
              " 'dr3-falk0/sx6.wrd',\n",
              " 'dr3-falk0/sx96.phn',\n",
              " 'dr3-falk0/sx96.txt',\n",
              " 'dr3-falk0/sx96.wav',\n",
              " 'dr3-falk0/sx96.wrd',\n",
              " 'dr3-madc0/sa1.phn',\n",
              " 'dr3-madc0/sa1.txt',\n",
              " 'dr3-madc0/sa1.wav',\n",
              " 'dr3-madc0/sa1.wrd',\n",
              " 'dr3-madc0/sa2.phn',\n",
              " 'dr3-madc0/sa2.txt',\n",
              " 'dr3-madc0/sa2.wav',\n",
              " 'dr3-madc0/sa2.wrd',\n",
              " 'dr3-madc0/si1367.phn',\n",
              " 'dr3-madc0/si1367.txt',\n",
              " 'dr3-madc0/si1367.wav',\n",
              " 'dr3-madc0/si1367.wrd',\n",
              " 'dr3-madc0/si1997.phn',\n",
              " 'dr3-madc0/si1997.txt',\n",
              " 'dr3-madc0/si1997.wav',\n",
              " 'dr3-madc0/si1997.wrd',\n",
              " 'dr3-madc0/si737.phn',\n",
              " 'dr3-madc0/si737.txt',\n",
              " 'dr3-madc0/si737.wav',\n",
              " 'dr3-madc0/si737.wrd',\n",
              " 'dr3-madc0/sx107.phn',\n",
              " 'dr3-madc0/sx107.txt',\n",
              " 'dr3-madc0/sx107.wav',\n",
              " 'dr3-madc0/sx107.wrd',\n",
              " 'dr3-madc0/sx17.phn',\n",
              " 'dr3-madc0/sx17.txt',\n",
              " 'dr3-madc0/sx17.wav',\n",
              " 'dr3-madc0/sx17.wrd',\n",
              " 'dr3-madc0/sx197.phn',\n",
              " 'dr3-madc0/sx197.txt',\n",
              " 'dr3-madc0/sx197.wav',\n",
              " 'dr3-madc0/sx197.wrd',\n",
              " 'dr3-madc0/sx287.phn',\n",
              " 'dr3-madc0/sx287.txt',\n",
              " 'dr3-madc0/sx287.wav',\n",
              " 'dr3-madc0/sx287.wrd',\n",
              " 'dr3-madc0/sx377.phn',\n",
              " 'dr3-madc0/sx377.txt',\n",
              " 'dr3-madc0/sx377.wav',\n",
              " 'dr3-madc0/sx377.wrd',\n",
              " 'dr4-falr0/sa1.phn',\n",
              " 'dr4-falr0/sa1.txt',\n",
              " 'dr4-falr0/sa1.wav',\n",
              " 'dr4-falr0/sa1.wrd',\n",
              " 'dr4-falr0/sa2.phn',\n",
              " 'dr4-falr0/sa2.txt',\n",
              " 'dr4-falr0/sa2.wav',\n",
              " 'dr4-falr0/sa2.wrd',\n",
              " 'dr4-falr0/si1325.phn',\n",
              " 'dr4-falr0/si1325.txt',\n",
              " 'dr4-falr0/si1325.wav',\n",
              " 'dr4-falr0/si1325.wrd',\n",
              " 'dr4-falr0/si1955.phn',\n",
              " 'dr4-falr0/si1955.txt',\n",
              " 'dr4-falr0/si1955.wav',\n",
              " 'dr4-falr0/si1955.wrd',\n",
              " 'dr4-falr0/si695.phn',\n",
              " 'dr4-falr0/si695.txt',\n",
              " 'dr4-falr0/si695.wav',\n",
              " 'dr4-falr0/si695.wrd',\n",
              " 'dr4-falr0/sx155.phn',\n",
              " 'dr4-falr0/sx155.txt',\n",
              " 'dr4-falr0/sx155.wav',\n",
              " 'dr4-falr0/sx155.wrd',\n",
              " 'dr4-falr0/sx245.phn',\n",
              " 'dr4-falr0/sx245.txt',\n",
              " 'dr4-falr0/sx245.wav',\n",
              " 'dr4-falr0/sx245.wrd',\n",
              " 'dr4-falr0/sx335.phn',\n",
              " 'dr4-falr0/sx335.txt',\n",
              " 'dr4-falr0/sx335.wav',\n",
              " 'dr4-falr0/sx335.wrd',\n",
              " 'dr4-falr0/sx425.phn',\n",
              " 'dr4-falr0/sx425.txt',\n",
              " 'dr4-falr0/sx425.wav',\n",
              " 'dr4-falr0/sx425.wrd',\n",
              " 'dr4-falr0/sx65.phn',\n",
              " 'dr4-falr0/sx65.txt',\n",
              " 'dr4-falr0/sx65.wav',\n",
              " 'dr4-falr0/sx65.wrd',\n",
              " 'dr4-maeb0/sa1.phn',\n",
              " 'dr4-maeb0/sa1.txt',\n",
              " 'dr4-maeb0/sa1.wav',\n",
              " 'dr4-maeb0/sa1.wrd',\n",
              " 'dr4-maeb0/sa2.phn',\n",
              " 'dr4-maeb0/sa2.txt',\n",
              " 'dr4-maeb0/sa2.wav',\n",
              " 'dr4-maeb0/sa2.wrd',\n",
              " 'dr4-maeb0/si1411.phn',\n",
              " 'dr4-maeb0/si1411.txt',\n",
              " 'dr4-maeb0/si1411.wav',\n",
              " 'dr4-maeb0/si1411.wrd',\n",
              " 'dr4-maeb0/si2250.phn',\n",
              " 'dr4-maeb0/si2250.txt',\n",
              " 'dr4-maeb0/si2250.wav',\n",
              " 'dr4-maeb0/si2250.wrd',\n",
              " 'dr4-maeb0/si990.phn',\n",
              " 'dr4-maeb0/si990.txt',\n",
              " 'dr4-maeb0/si990.wav',\n",
              " 'dr4-maeb0/si990.wrd',\n",
              " 'dr4-maeb0/sx180.phn',\n",
              " 'dr4-maeb0/sx180.txt',\n",
              " 'dr4-maeb0/sx180.wav',\n",
              " 'dr4-maeb0/sx180.wrd',\n",
              " 'dr4-maeb0/sx270.phn',\n",
              " 'dr4-maeb0/sx270.txt',\n",
              " 'dr4-maeb0/sx270.wav',\n",
              " 'dr4-maeb0/sx270.wrd',\n",
              " 'dr4-maeb0/sx360.phn',\n",
              " 'dr4-maeb0/sx360.txt',\n",
              " 'dr4-maeb0/sx360.wav',\n",
              " 'dr4-maeb0/sx360.wrd',\n",
              " 'dr4-maeb0/sx450.phn',\n",
              " 'dr4-maeb0/sx450.txt',\n",
              " 'dr4-maeb0/sx450.wav',\n",
              " 'dr4-maeb0/sx450.wrd',\n",
              " 'dr4-maeb0/sx90.phn',\n",
              " 'dr4-maeb0/sx90.txt',\n",
              " 'dr4-maeb0/sx90.wav',\n",
              " 'dr4-maeb0/sx90.wrd',\n",
              " 'dr5-ftlg0/sa1.phn',\n",
              " 'dr5-ftlg0/sa1.txt',\n",
              " 'dr5-ftlg0/sa1.wav',\n",
              " 'dr5-ftlg0/sa1.wrd',\n",
              " 'dr5-ftlg0/sa2.phn',\n",
              " 'dr5-ftlg0/sa2.txt',\n",
              " 'dr5-ftlg0/sa2.wav',\n",
              " 'dr5-ftlg0/sa2.wrd',\n",
              " 'dr5-ftlg0/si1743.phn',\n",
              " 'dr5-ftlg0/si1743.txt',\n",
              " 'dr5-ftlg0/si1743.wav',\n",
              " 'dr5-ftlg0/si1743.wrd',\n",
              " 'dr5-ftlg0/si483.phn',\n",
              " 'dr5-ftlg0/si483.txt',\n",
              " 'dr5-ftlg0/si483.wav',\n",
              " 'dr5-ftlg0/si483.wrd',\n",
              " 'dr5-ftlg0/si840.phn',\n",
              " 'dr5-ftlg0/si840.txt',\n",
              " 'dr5-ftlg0/si840.wav',\n",
              " 'dr5-ftlg0/si840.wrd',\n",
              " 'dr5-ftlg0/sx123.phn',\n",
              " 'dr5-ftlg0/sx123.txt',\n",
              " 'dr5-ftlg0/sx123.wav',\n",
              " 'dr5-ftlg0/sx123.wrd',\n",
              " 'dr5-ftlg0/sx213.phn',\n",
              " 'dr5-ftlg0/sx213.txt',\n",
              " 'dr5-ftlg0/sx213.wav',\n",
              " 'dr5-ftlg0/sx213.wrd',\n",
              " 'dr5-ftlg0/sx303.phn',\n",
              " 'dr5-ftlg0/sx303.txt',\n",
              " 'dr5-ftlg0/sx303.wav',\n",
              " 'dr5-ftlg0/sx303.wrd',\n",
              " 'dr5-ftlg0/sx33.phn',\n",
              " 'dr5-ftlg0/sx33.txt',\n",
              " 'dr5-ftlg0/sx33.wav',\n",
              " 'dr5-ftlg0/sx33.wrd',\n",
              " 'dr5-ftlg0/sx393.phn',\n",
              " 'dr5-ftlg0/sx393.txt',\n",
              " 'dr5-ftlg0/sx393.wav',\n",
              " 'dr5-ftlg0/sx393.wrd',\n",
              " 'dr5-mbgt0/sa1.phn',\n",
              " 'dr5-mbgt0/sa1.txt',\n",
              " 'dr5-mbgt0/sa1.wav',\n",
              " 'dr5-mbgt0/sa1.wrd',\n",
              " 'dr5-mbgt0/sa2.phn',\n",
              " 'dr5-mbgt0/sa2.txt',\n",
              " 'dr5-mbgt0/sa2.wav',\n",
              " 'dr5-mbgt0/sa2.wrd',\n",
              " 'dr5-mbgt0/si1341.phn',\n",
              " 'dr5-mbgt0/si1341.txt',\n",
              " 'dr5-mbgt0/si1341.wav',\n",
              " 'dr5-mbgt0/si1341.wrd',\n",
              " 'dr5-mbgt0/si1841.phn',\n",
              " 'dr5-mbgt0/si1841.txt',\n",
              " 'dr5-mbgt0/si1841.wav',\n",
              " 'dr5-mbgt0/si1841.wrd',\n",
              " 'dr5-mbgt0/si711.phn',\n",
              " 'dr5-mbgt0/si711.txt',\n",
              " 'dr5-mbgt0/si711.wav',\n",
              " 'dr5-mbgt0/si711.wrd',\n",
              " 'dr5-mbgt0/sx171.phn',\n",
              " 'dr5-mbgt0/sx171.txt',\n",
              " 'dr5-mbgt0/sx171.wav',\n",
              " 'dr5-mbgt0/sx171.wrd',\n",
              " 'dr5-mbgt0/sx261.phn',\n",
              " 'dr5-mbgt0/sx261.txt',\n",
              " 'dr5-mbgt0/sx261.wav',\n",
              " 'dr5-mbgt0/sx261.wrd',\n",
              " 'dr5-mbgt0/sx351.phn',\n",
              " 'dr5-mbgt0/sx351.txt',\n",
              " 'dr5-mbgt0/sx351.wav',\n",
              " 'dr5-mbgt0/sx351.wrd',\n",
              " 'dr5-mbgt0/sx441.phn',\n",
              " 'dr5-mbgt0/sx441.txt',\n",
              " 'dr5-mbgt0/sx441.wav',\n",
              " 'dr5-mbgt0/sx441.wrd',\n",
              " 'dr5-mbgt0/sx81.phn',\n",
              " 'dr5-mbgt0/sx81.txt',\n",
              " 'dr5-mbgt0/sx81.wav',\n",
              " 'dr5-mbgt0/sx81.wrd',\n",
              " 'dr6-fapb0/sa1.phn',\n",
              " 'dr6-fapb0/sa1.txt',\n",
              " 'dr6-fapb0/sa1.wav',\n",
              " 'dr6-fapb0/sa1.wrd',\n",
              " 'dr6-fapb0/sa2.phn',\n",
              " 'dr6-fapb0/sa2.txt',\n",
              " 'dr6-fapb0/sa2.wav',\n",
              " 'dr6-fapb0/sa2.wrd',\n",
              " 'dr6-fapb0/si1063.phn',\n",
              " 'dr6-fapb0/si1063.txt',\n",
              " 'dr6-fapb0/si1063.wav',\n",
              " 'dr6-fapb0/si1063.wrd',\n",
              " 'dr6-fapb0/si1693.phn',\n",
              " 'dr6-fapb0/si1693.txt',\n",
              " 'dr6-fapb0/si1693.wav',\n",
              " 'dr6-fapb0/si1693.wrd',\n",
              " 'dr6-fapb0/si2323.phn',\n",
              " 'dr6-fapb0/si2323.txt',\n",
              " 'dr6-fapb0/si2323.wav',\n",
              " 'dr6-fapb0/si2323.wrd',\n",
              " 'dr6-fapb0/sx163.phn',\n",
              " 'dr6-fapb0/sx163.txt',\n",
              " 'dr6-fapb0/sx163.wav',\n",
              " 'dr6-fapb0/sx163.wrd',\n",
              " 'dr6-fapb0/sx253.phn',\n",
              " 'dr6-fapb0/sx253.txt',\n",
              " 'dr6-fapb0/sx253.wav',\n",
              " 'dr6-fapb0/sx253.wrd',\n",
              " 'dr6-fapb0/sx343.phn',\n",
              " 'dr6-fapb0/sx343.txt',\n",
              " 'dr6-fapb0/sx343.wav',\n",
              " 'dr6-fapb0/sx343.wrd',\n",
              " 'dr6-fapb0/sx433.phn',\n",
              " 'dr6-fapb0/sx433.txt',\n",
              " 'dr6-fapb0/sx433.wav',\n",
              " 'dr6-fapb0/sx433.wrd',\n",
              " 'dr6-fapb0/sx73.phn',\n",
              " 'dr6-fapb0/sx73.txt',\n",
              " 'dr6-fapb0/sx73.wav',\n",
              " 'dr6-fapb0/sx73.wrd',\n",
              " 'dr6-mbma1/sa1.phn',\n",
              " 'dr6-mbma1/sa1.txt',\n",
              " 'dr6-mbma1/sa1.wav',\n",
              " 'dr6-mbma1/sa1.wrd',\n",
              " 'dr6-mbma1/sa2.phn',\n",
              " 'dr6-mbma1/sa2.txt',\n",
              " 'dr6-mbma1/sa2.wav',\n",
              " 'dr6-mbma1/sa2.wrd',\n",
              " 'dr6-mbma1/si2207.phn',\n",
              " 'dr6-mbma1/si2207.txt',\n",
              " 'dr6-mbma1/si2207.wav',\n",
              " 'dr6-mbma1/si2207.wrd',\n",
              " 'dr6-mbma1/si2214.phn',\n",
              " 'dr6-mbma1/si2214.txt',\n",
              " 'dr6-mbma1/si2214.wav',\n",
              " 'dr6-mbma1/si2214.wrd',\n",
              " 'dr6-mbma1/si954.phn',\n",
              " 'dr6-mbma1/si954.txt',\n",
              " 'dr6-mbma1/si954.wav',\n",
              " 'dr6-mbma1/si954.wrd',\n",
              " 'dr6-mbma1/sx144.phn',\n",
              " 'dr6-mbma1/sx144.txt',\n",
              " 'dr6-mbma1/sx144.wav',\n",
              " 'dr6-mbma1/sx144.wrd',\n",
              " 'dr6-mbma1/sx234.phn',\n",
              " 'dr6-mbma1/sx234.txt',\n",
              " 'dr6-mbma1/sx234.wav',\n",
              " 'dr6-mbma1/sx234.wrd',\n",
              " 'dr6-mbma1/sx324.phn',\n",
              " 'dr6-mbma1/sx324.txt',\n",
              " 'dr6-mbma1/sx324.wav',\n",
              " 'dr6-mbma1/sx324.wrd',\n",
              " 'dr6-mbma1/sx414.phn',\n",
              " 'dr6-mbma1/sx414.txt',\n",
              " 'dr6-mbma1/sx414.wav',\n",
              " 'dr6-mbma1/sx414.wrd',\n",
              " 'dr6-mbma1/sx54.phn',\n",
              " 'dr6-mbma1/sx54.txt',\n",
              " 'dr6-mbma1/sx54.wav',\n",
              " 'dr6-mbma1/sx54.wrd',\n",
              " 'dr7-fblv0/sa1.phn',\n",
              " 'dr7-fblv0/sa1.txt',\n",
              " 'dr7-fblv0/sa1.wav',\n",
              " 'dr7-fblv0/sa1.wrd',\n",
              " 'dr7-fblv0/sa2.phn',\n",
              " 'dr7-fblv0/sa2.txt',\n",
              " 'dr7-fblv0/sa2.wav',\n",
              " 'dr7-fblv0/sa2.wrd',\n",
              " 'dr7-fblv0/si1058.phn',\n",
              " 'dr7-fblv0/si1058.txt',\n",
              " 'dr7-fblv0/si1058.wav',\n",
              " 'dr7-fblv0/si1058.wrd',\n",
              " 'dr7-fblv0/si1688.phn',\n",
              " 'dr7-fblv0/si1688.txt',\n",
              " 'dr7-fblv0/si1688.wav',\n",
              " 'dr7-fblv0/si1688.wrd',\n",
              " 'dr7-fblv0/si2318.phn',\n",
              " 'dr7-fblv0/si2318.txt',\n",
              " 'dr7-fblv0/si2318.wav',\n",
              " 'dr7-fblv0/si2318.wrd',\n",
              " 'dr7-fblv0/sx158.phn',\n",
              " 'dr7-fblv0/sx158.txt',\n",
              " 'dr7-fblv0/sx158.wav',\n",
              " 'dr7-fblv0/sx158.wrd',\n",
              " 'dr7-fblv0/sx248.phn',\n",
              " 'dr7-fblv0/sx248.txt',\n",
              " 'dr7-fblv0/sx248.wav',\n",
              " 'dr7-fblv0/sx248.wrd',\n",
              " 'dr7-fblv0/sx338.phn',\n",
              " 'dr7-fblv0/sx338.txt',\n",
              " 'dr7-fblv0/sx338.wav',\n",
              " 'dr7-fblv0/sx338.wrd',\n",
              " 'dr7-fblv0/sx428.phn',\n",
              " 'dr7-fblv0/sx428.txt',\n",
              " 'dr7-fblv0/sx428.wav',\n",
              " 'dr7-fblv0/sx428.wrd',\n",
              " 'dr7-fblv0/sx68.phn',\n",
              " 'dr7-fblv0/sx68.txt',\n",
              " 'dr7-fblv0/sx68.wav',\n",
              " 'dr7-fblv0/sx68.wrd',\n",
              " 'dr7-madd0/sa1.phn',\n",
              " 'dr7-madd0/sa1.txt',\n",
              " 'dr7-madd0/sa1.wav',\n",
              " 'dr7-madd0/sa1.wrd',\n",
              " 'dr7-madd0/sa2.phn',\n",
              " 'dr7-madd0/sa2.txt',\n",
              " 'dr7-madd0/sa2.wav',\n",
              " 'dr7-madd0/sa2.wrd',\n",
              " 'dr7-madd0/si1295.phn',\n",
              " 'dr7-madd0/si1295.txt',\n",
              " 'dr7-madd0/si1295.wav',\n",
              " 'dr7-madd0/si1295.wrd',\n",
              " 'dr7-madd0/si1798.phn',\n",
              " 'dr7-madd0/si1798.txt',\n",
              " 'dr7-madd0/si1798.wav',\n",
              " 'dr7-madd0/si1798.wrd',\n",
              " 'dr7-madd0/si538.phn',\n",
              " 'dr7-madd0/si538.txt',\n",
              " 'dr7-madd0/si538.wav',\n",
              " 'dr7-madd0/si538.wrd',\n",
              " 'dr7-madd0/sx178.phn',\n",
              " 'dr7-madd0/sx178.txt',\n",
              " 'dr7-madd0/sx178.wav',\n",
              " 'dr7-madd0/sx178.wrd',\n",
              " 'dr7-madd0/sx268.phn',\n",
              " 'dr7-madd0/sx268.txt',\n",
              " 'dr7-madd0/sx268.wav',\n",
              " 'dr7-madd0/sx268.wrd',\n",
              " 'dr7-madd0/sx358.phn',\n",
              " 'dr7-madd0/sx358.txt',\n",
              " 'dr7-madd0/sx358.wav',\n",
              " 'dr7-madd0/sx358.wrd',\n",
              " 'dr7-madd0/sx448.phn',\n",
              " 'dr7-madd0/sx448.txt',\n",
              " 'dr7-madd0/sx448.wav',\n",
              " 'dr7-madd0/sx448.wrd',\n",
              " 'dr7-madd0/sx88.phn',\n",
              " 'dr7-madd0/sx88.txt',\n",
              " 'dr7-madd0/sx88.wav',\n",
              " 'dr7-madd0/sx88.wrd',\n",
              " 'dr8-fbcg1/sa1.phn',\n",
              " 'dr8-fbcg1/sa1.txt',\n",
              " 'dr8-fbcg1/sa1.wav',\n",
              " 'dr8-fbcg1/sa1.wrd',\n",
              " 'dr8-fbcg1/sa2.phn',\n",
              " 'dr8-fbcg1/sa2.txt',\n",
              " 'dr8-fbcg1/sa2.wav',\n",
              " 'dr8-fbcg1/sa2.wrd',\n",
              " 'dr8-fbcg1/si1612.phn',\n",
              " 'dr8-fbcg1/si1612.txt',\n",
              " 'dr8-fbcg1/si1612.wav',\n",
              " 'dr8-fbcg1/si1612.wrd',\n",
              " 'dr8-fbcg1/si2242.phn',\n",
              " 'dr8-fbcg1/si2242.txt',\n",
              " 'dr8-fbcg1/si2242.wav',\n",
              " 'dr8-fbcg1/si2242.wrd',\n",
              " 'dr8-fbcg1/si982.phn',\n",
              " 'dr8-fbcg1/si982.txt',\n",
              " 'dr8-fbcg1/si982.wav',\n",
              " 'dr8-fbcg1/si982.wrd',\n",
              " 'dr8-fbcg1/sx172.phn',\n",
              " 'dr8-fbcg1/sx172.txt',\n",
              " 'dr8-fbcg1/sx172.wav',\n",
              " 'dr8-fbcg1/sx172.wrd',\n",
              " 'dr8-fbcg1/sx262.phn',\n",
              " 'dr8-fbcg1/sx262.txt',\n",
              " 'dr8-fbcg1/sx262.wav',\n",
              " 'dr8-fbcg1/sx262.wrd',\n",
              " 'dr8-fbcg1/sx352.phn',\n",
              " 'dr8-fbcg1/sx352.txt',\n",
              " 'dr8-fbcg1/sx352.wav',\n",
              " 'dr8-fbcg1/sx352.wrd',\n",
              " 'dr8-fbcg1/sx442.phn',\n",
              " 'dr8-fbcg1/sx442.txt',\n",
              " 'dr8-fbcg1/sx442.wav',\n",
              " 'dr8-fbcg1/sx442.wrd',\n",
              " 'dr8-fbcg1/sx82.phn',\n",
              " 'dr8-fbcg1/sx82.txt',\n",
              " 'dr8-fbcg1/sx82.wav',\n",
              " 'dr8-fbcg1/sx82.wrd',\n",
              " 'dr8-mbcg0/sa1.phn',\n",
              " 'dr8-mbcg0/sa1.txt',\n",
              " 'dr8-mbcg0/sa1.wav',\n",
              " 'dr8-mbcg0/sa1.wrd',\n",
              " 'dr8-mbcg0/sa2.phn',\n",
              " 'dr8-mbcg0/sa2.txt',\n",
              " 'dr8-mbcg0/sa2.wav',\n",
              " 'dr8-mbcg0/sa2.wrd',\n",
              " 'dr8-mbcg0/si2217.phn',\n",
              " 'dr8-mbcg0/si2217.txt',\n",
              " 'dr8-mbcg0/si2217.wav',\n",
              " 'dr8-mbcg0/si2217.wrd',\n",
              " 'dr8-mbcg0/si486.phn',\n",
              " 'dr8-mbcg0/si486.txt',\n",
              " 'dr8-mbcg0/si486.wav',\n",
              " 'dr8-mbcg0/si486.wrd',\n",
              " 'dr8-mbcg0/si957.phn',\n",
              " 'dr8-mbcg0/si957.txt',\n",
              " 'dr8-mbcg0/si957.wav',\n",
              " 'dr8-mbcg0/si957.wrd',\n",
              " 'dr8-mbcg0/sx147.phn',\n",
              " 'dr8-mbcg0/sx147.txt',\n",
              " 'dr8-mbcg0/sx147.wav',\n",
              " 'dr8-mbcg0/sx147.wrd',\n",
              " 'dr8-mbcg0/sx237.phn',\n",
              " 'dr8-mbcg0/sx237.txt',\n",
              " 'dr8-mbcg0/sx237.wav',\n",
              " 'dr8-mbcg0/sx237.wrd',\n",
              " 'dr8-mbcg0/sx327.phn',\n",
              " 'dr8-mbcg0/sx327.txt',\n",
              " 'dr8-mbcg0/sx327.wav',\n",
              " 'dr8-mbcg0/sx327.wrd',\n",
              " 'dr8-mbcg0/sx417.phn',\n",
              " 'dr8-mbcg0/sx417.txt',\n",
              " 'dr8-mbcg0/sx417.wav',\n",
              " 'dr8-mbcg0/sx417.wrd',\n",
              " 'dr8-mbcg0/sx57.phn',\n",
              " 'dr8-mbcg0/sx57.txt',\n",
              " 'dr8-mbcg0/sx57.wav',\n",
              " 'dr8-mbcg0/sx57.wrd',\n",
              " 'spkrinfo.txt',\n",
              " 'timitdic.txt']"
            ]
          },
          "metadata": {},
          "execution_count": 5
        }
      ]
    },
    {
      "cell_type": "code",
      "source": [
        "phonetic = nltk.corpus.timit.phones('dr1-fvmh0/sa1')\n",
        "phonetic"
      ],
      "metadata": {
        "colab": {
          "base_uri": "https://localhost:8080/"
        },
        "id": "eHVdc3jYWWBv",
        "outputId": "516f9a37-e766-460d-880c-d4dfe243836b"
      },
      "execution_count": 7,
      "outputs": [
        {
          "output_type": "execute_result",
          "data": {
            "text/plain": [
              "['h#',\n",
              " 'sh',\n",
              " 'iy',\n",
              " 'hv',\n",
              " 'ae',\n",
              " 'dcl',\n",
              " 'y',\n",
              " 'ix',\n",
              " 'dcl',\n",
              " 'd',\n",
              " 'aa',\n",
              " 'kcl',\n",
              " 's',\n",
              " 'ux',\n",
              " 'tcl',\n",
              " 'en',\n",
              " 'gcl',\n",
              " 'g',\n",
              " 'r',\n",
              " 'iy',\n",
              " 's',\n",
              " 'iy',\n",
              " 'w',\n",
              " 'aa',\n",
              " 'sh',\n",
              " 'epi',\n",
              " 'w',\n",
              " 'aa',\n",
              " 'dx',\n",
              " 'ax',\n",
              " 'q',\n",
              " 'ao',\n",
              " 'l',\n",
              " 'y',\n",
              " 'ih',\n",
              " 'ax',\n",
              " 'h#']"
            ]
          },
          "metadata": {},
          "execution_count": 7
        }
      ]
    },
    {
      "cell_type": "code",
      "source": [
        "nltk.corpus.timit.word_times('dr1-fvmh0/sa1')"
      ],
      "metadata": {
        "colab": {
          "base_uri": "https://localhost:8080/"
        },
        "id": "RybvBGLwXAGD",
        "outputId": "b8089ab6-cd8f-4796-87e6-f6c9a8b2c9b1"
      },
      "execution_count": 8,
      "outputs": [
        {
          "output_type": "execute_result",
          "data": {
            "text/plain": [
              "[('she', 7812, 10610),\n",
              " ('had', 10610, 14496),\n",
              " ('your', 14496, 15791),\n",
              " ('dark', 15791, 20720),\n",
              " ('suit', 20720, 25647),\n",
              " ('in', 25647, 26906),\n",
              " ('greasy', 26906, 32668),\n",
              " ('wash', 32668, 37890),\n",
              " ('water', 38531, 42417),\n",
              " ('all', 43091, 46052),\n",
              " ('year', 46052, 50522)]"
            ]
          },
          "metadata": {},
          "execution_count": 8
        }
      ]
    },
    {
      "cell_type": "code",
      "source": [
        "timitdict = nltk.corpus.timit.transcription_dict()\n",
        "timitdict['greasy'] + timitdict['wash'] + timitdict['water']"
      ],
      "metadata": {
        "colab": {
          "base_uri": "https://localhost:8080/"
        },
        "id": "Ub-FLaCQXHS5",
        "outputId": "ae8989a5-6dfd-4793-b2ae-497ee0a7d19d"
      },
      "execution_count": 9,
      "outputs": [
        {
          "output_type": "execute_result",
          "data": {
            "text/plain": [
              "['g', 'r', 'iy1', 's', 'iy', 'w', 'ao1', 'sh', 'w', 'ao1', 't', 'axr']"
            ]
          },
          "metadata": {},
          "execution_count": 9
        }
      ]
    },
    {
      "cell_type": "code",
      "source": [
        "phonetic[17:30]"
      ],
      "metadata": {
        "colab": {
          "base_uri": "https://localhost:8080/"
        },
        "id": "mARu9c7LXj2R",
        "outputId": "bceab710-813b-44d2-e816-a6389052b1b5"
      },
      "execution_count": 10,
      "outputs": [
        {
          "output_type": "execute_result",
          "data": {
            "text/plain": [
              "['g', 'r', 'iy', 's', 'iy', 'w', 'aa', 'sh', 'epi', 'w', 'aa', 'dx', 'ax']"
            ]
          },
          "metadata": {},
          "execution_count": 10
        }
      ]
    },
    {
      "cell_type": "code",
      "source": [
        "nltk.corpus.timit.spkrinfo('dr1-fvmh0')"
      ],
      "metadata": {
        "colab": {
          "base_uri": "https://localhost:8080/"
        },
        "id": "A5f3G3BaXoJv",
        "outputId": "16385a0d-687d-4fd5-ad2c-6498e1db2f78"
      },
      "execution_count": 11,
      "outputs": [
        {
          "output_type": "execute_result",
          "data": {
            "text/plain": [
              "SpeakerInfo(id='VMH0', sex='F', dr='1', use='TRN', recdate='03/11/86', birthdate='01/08/60', ht='5\\'05\"', race='WHT', edu='BS', comments='BEST NEW ENGLAND ACCENT SO FAR')"
            ]
          },
          "metadata": {},
          "execution_count": 11
        }
      ]
    },
    {
      "cell_type": "markdown",
      "source": [
        "### Notable Design Features"
      ],
      "metadata": {
        "id": "oLRZdqlzYAWW"
      }
    },
    {
      "cell_type": "markdown",
      "source": [
        "### Fundamental Data Types"
      ],
      "metadata": {
        "id": "hdH7Fi-wZH6n"
      }
    },
    {
      "cell_type": "markdown",
      "source": [
        "## 2. The Life-Cycle of a Corpus"
      ],
      "metadata": {
        "id": "KjnRqOeqZ5DV"
      }
    },
    {
      "cell_type": "markdown",
      "source": [
        "### Three Corpus Creation Scenarios"
      ],
      "metadata": {
        "id": "dtcruySlcOZA"
      }
    },
    {
      "cell_type": "markdown",
      "source": [
        "### Quality Control"
      ],
      "metadata": {
        "id": "jA_2OsOIc6RR"
      }
    },
    {
      "cell_type": "code",
      "source": [
        "s1 = \"00000010000000001000000\"\n",
        "s2 = \"00000001000000010000000\"\n",
        "s3 = \"00010000000000000001000\""
      ],
      "metadata": {
        "id": "SaR43ilMeC7o"
      },
      "execution_count": 12,
      "outputs": []
    },
    {
      "cell_type": "code",
      "source": [
        "nltk.windowdiff(s1, s1, 3)"
      ],
      "metadata": {
        "colab": {
          "base_uri": "https://localhost:8080/"
        },
        "id": "bPam8eI8eHja",
        "outputId": "432fdce4-d6ee-48de-b9c6-a70d83dad8f0"
      },
      "execution_count": 13,
      "outputs": [
        {
          "output_type": "execute_result",
          "data": {
            "text/plain": [
              "0.0"
            ]
          },
          "metadata": {},
          "execution_count": 13
        }
      ]
    },
    {
      "cell_type": "code",
      "source": [
        "nltk.windowdiff(s1, s2, 3)"
      ],
      "metadata": {
        "colab": {
          "base_uri": "https://localhost:8080/"
        },
        "id": "RDZ-rfdreJtt",
        "outputId": "3ff3131a-a76c-4d4f-bd23-36a8538e20bd"
      },
      "execution_count": 14,
      "outputs": [
        {
          "output_type": "execute_result",
          "data": {
            "text/plain": [
              "0.19047619047619047"
            ]
          },
          "metadata": {},
          "execution_count": 14
        }
      ]
    },
    {
      "cell_type": "code",
      "source": [
        "nltk.windowdiff(s2, s3, 3)"
      ],
      "metadata": {
        "colab": {
          "base_uri": "https://localhost:8080/"
        },
        "id": "MZ-vJ-WFeLqh",
        "outputId": "b5be0d9f-3bd4-444d-a8d2-975f64a4571d"
      },
      "execution_count": 15,
      "outputs": [
        {
          "output_type": "execute_result",
          "data": {
            "text/plain": [
              "0.5714285714285714"
            ]
          },
          "metadata": {},
          "execution_count": 15
        }
      ]
    },
    {
      "cell_type": "markdown",
      "source": [
        "### Curation vs Evolution"
      ],
      "metadata": {
        "id": "h1DtwFoveZqi"
      }
    },
    {
      "cell_type": "markdown",
      "source": [
        "## 3. Acquiring Data"
      ],
      "metadata": {
        "id": "ZaXb1ln8f-YR"
      }
    },
    {
      "cell_type": "markdown",
      "source": [
        "### Obtaining Data from the Web"
      ],
      "metadata": {
        "id": "yp8bVte0gCxV"
      }
    },
    {
      "cell_type": "code",
      "source": [
        "\"\"\"\n",
        "Web Crawing Tools\n",
        "\n",
        "1. GNU : http://www.gnu.org/software/wget/\n",
        "2. Heritrix : http://crawler.archive.org/\n",
        "\n",
        "\"\"\""
      ],
      "metadata": {
        "id": "WjpG2vnEgXpu"
      },
      "execution_count": null,
      "outputs": []
    },
    {
      "cell_type": "markdown",
      "source": [
        "### Obtaining Data from Word Processor Files"
      ],
      "metadata": {
        "id": "FIgold9pgykQ"
      }
    },
    {
      "cell_type": "code",
      "source": [
        "import re\n",
        "\n",
        "legal_pos = set(['n', 'v.t.', 'v.i.', 'adj', 'det'])\n",
        "pattern = re.compile(r\"'font-size:11.0pt'>([a-z.]+)<\")\n",
        "document = open(\"/content/dict.htm\", encoding='windows-1252').read()\n",
        "used_pos = set(re.findall(pattern, document))\n",
        "illegal_pos = used_pos.difference(legal_pos)\n",
        "print(list(illegal_pos))\n",
        "\n",
        "# ['v.i.', 'intrans']"
      ],
      "metadata": {
        "id": "h7QscglGhf__"
      },
      "execution_count": null,
      "outputs": []
    },
    {
      "cell_type": "code",
      "source": [
        "from bs4 import BeautifulSoup\n",
        "\n",
        "def lexical_data(html_file, encoding='utf-8'):\n",
        "  SEP = '_ENTRY'\n",
        "  html = open(html_file, encoding=encoding).read()\n",
        "  html = re.sub(r'<p', SEP + '<p', html)\n",
        "  text = BeautifulSoup(html, 'html.parser').get_text()\n",
        "  text = ' '.join(text.split())\n",
        "  for entry in text.split(SEP):\n",
        "    if entry.count(' ') > 2:\n",
        "      yield entry.split(' ', 3)"
      ],
      "metadata": {
        "id": "w0w4pRYviCOA"
      },
      "execution_count": 18,
      "outputs": []
    },
    {
      "cell_type": "code",
      "source": [
        "import csv\n",
        "\n",
        "writer = csv.writer(open('dict1.csv', 'w', encoding='utf-8'))\n",
        "writer.writerows(lexical_data('dict.htm', encoding='windows-1252'))"
      ],
      "metadata": {
        "id": "rjwEy_rsjNr6"
      },
      "execution_count": 20,
      "outputs": []
    },
    {
      "cell_type": "markdown",
      "source": [
        "### Obtaining Data from Spreadsheets and Databases"
      ],
      "metadata": {
        "id": "ka3wpUXtjcbR"
      }
    },
    {
      "cell_type": "code",
      "source": [
        "import csv\n",
        "\n",
        "lexicon = csv.reader(open('dict.csv'))\n",
        "pairs = [(lexeme, defn) for (lexeme, _, _, defn) in lexicon]\n",
        "lexemes, defns = zip(*pairs)\n",
        "defn_words = set(w for defn in defns for w in defn.split())\n",
        "sorted(defn_words.difference(lexemes))"
      ],
      "metadata": {
        "id": "2xPeiFQEkLpi"
      },
      "execution_count": null,
      "outputs": []
    },
    {
      "cell_type": "markdown",
      "source": [
        "### Converting Data Formats"
      ],
      "metadata": {
        "id": "doZ2Z7jIkvVC"
      }
    },
    {
      "cell_type": "code",
      "source": [
        "idx = nltk.Index((defn_word, lexeme)\n",
        "                 for (lexeme, defn) in pairs\n",
        "                 for defn_word in nltk.word_tokenize(defn)\n",
        "                 if len(defn_word) > 3)\n",
        "\n",
        "with open('dict.idx', 'w') as idx_file:\n",
        "  for word in sorted(idx):\n",
        "    idx_words = ', '.join(idx[word])\n",
        "    idx_line = \"{}: {}\".format(word, idx_words)\n",
        "    print(idx_line, file=idx_file)"
      ],
      "metadata": {
        "id": "CJo0dP3IlRYB"
      },
      "execution_count": null,
      "outputs": []
    },
    {
      "cell_type": "markdown",
      "source": [
        "### Deciding Which Layers of Annotation to Include"
      ],
      "metadata": {
        "id": "dSpbELcymBD6"
      }
    },
    {
      "cell_type": "markdown",
      "source": [
        "### Standards and Tools"
      ],
      "metadata": {
        "id": "wBLdICTsoJYT"
      }
    },
    {
      "cell_type": "markdown",
      "source": [
        "### Special Considerations when Working with Endangered Languages"
      ],
      "metadata": {
        "id": "-lUBoDWWor4z"
      }
    },
    {
      "cell_type": "code",
      "source": [
        "mappings = [('ph', 'f'), ('ght', 't'), ('^kn', 'n'), ('qu', 'kw'), ('[aeiou]+', 'a'), (r'(.)\\1', r'\\1')]"
      ],
      "metadata": {
        "id": "nZVAvVD9pwaA"
      },
      "execution_count": 23,
      "outputs": []
    },
    {
      "cell_type": "code",
      "source": [
        "def signature(word):\n",
        "  for patt, repl in mappings:\n",
        "    word = re.sub(patt, repl, word)\n",
        "  pieces = re.findall('[^aeiou]+', word)\n",
        "  return ''.join(char for piece in pieces for char in sorted(piece))[:8]"
      ],
      "metadata": {
        "id": "P78bqCZJp3VF"
      },
      "execution_count": 30,
      "outputs": []
    },
    {
      "cell_type": "code",
      "source": [
        "signature('illefent')"
      ],
      "metadata": {
        "colab": {
          "base_uri": "https://localhost:8080/",
          "height": 37
        },
        "id": "6v4BOH54qGKY",
        "outputId": "b8346f9e-0abd-4d7d-8af6-181cf05cab52"
      },
      "execution_count": 31,
      "outputs": [
        {
          "output_type": "execute_result",
          "data": {
            "application/vnd.google.colaboratory.intrinsic+json": {
              "type": "string"
            },
            "text/plain": [
              "'lfnt'"
            ]
          },
          "metadata": {},
          "execution_count": 31
        }
      ]
    },
    {
      "cell_type": "code",
      "source": [
        "signature('ebsekwieous')"
      ],
      "metadata": {
        "colab": {
          "base_uri": "https://localhost:8080/",
          "height": 37
        },
        "id": "tDC6CJCqqKvU",
        "outputId": "75fe70da-b2df-489e-c227-2bd5eae1afb9"
      },
      "execution_count": 32,
      "outputs": [
        {
          "output_type": "execute_result",
          "data": {
            "application/vnd.google.colaboratory.intrinsic+json": {
              "type": "string"
            },
            "text/plain": [
              "'bskws'"
            ]
          },
          "metadata": {},
          "execution_count": 32
        }
      ]
    },
    {
      "cell_type": "code",
      "source": [
        "signature('nuculerr')"
      ],
      "metadata": {
        "colab": {
          "base_uri": "https://localhost:8080/",
          "height": 37
        },
        "id": "r1uBdGByqacv",
        "outputId": "f1bc3c9e-af27-4921-8b1b-540eca167a69"
      },
      "execution_count": 33,
      "outputs": [
        {
          "output_type": "execute_result",
          "data": {
            "application/vnd.google.colaboratory.intrinsic+json": {
              "type": "string"
            },
            "text/plain": [
              "'nclr'"
            ]
          },
          "metadata": {},
          "execution_count": 33
        }
      ]
    },
    {
      "cell_type": "code",
      "source": [
        "nltk.download('words')"
      ],
      "metadata": {
        "colab": {
          "base_uri": "https://localhost:8080/"
        },
        "id": "gVtyZjSXqxIy",
        "outputId": "9a1e3068-452b-4ad0-afea-cb2c514b1200"
      },
      "execution_count": 35,
      "outputs": [
        {
          "output_type": "stream",
          "name": "stdout",
          "text": [
            "[nltk_data] Downloading package words to /root/nltk_data...\n",
            "[nltk_data]   Unzipping corpora/words.zip.\n"
          ]
        },
        {
          "output_type": "execute_result",
          "data": {
            "text/plain": [
              "True"
            ]
          },
          "metadata": {},
          "execution_count": 35
        }
      ]
    },
    {
      "cell_type": "code",
      "source": [
        "signatures = nltk.Index((signature(w), w) for w in nltk.corpus.words.words())"
      ],
      "metadata": {
        "id": "RPm5vt_VqcJn"
      },
      "execution_count": 36,
      "outputs": []
    },
    {
      "cell_type": "code",
      "source": [
        "signatures[signature('nuculerr')]"
      ],
      "metadata": {
        "colab": {
          "base_uri": "https://localhost:8080/"
        },
        "id": "JcvYf4TGqvNa",
        "outputId": "7819e03d-476c-4a08-cad9-473f7d2fd0fd"
      },
      "execution_count": 38,
      "outputs": [
        {
          "output_type": "execute_result",
          "data": {
            "text/plain": [
              "['anicular',\n",
              " 'inocular',\n",
              " 'nucellar',\n",
              " 'nuclear',\n",
              " 'unicolor',\n",
              " 'uniocular',\n",
              " 'unocular']"
            ]
          },
          "metadata": {},
          "execution_count": 38
        }
      ]
    },
    {
      "cell_type": "code",
      "source": [
        "def rank(word, wordlist):\n",
        "  ranked = sorted((nltk.edit_distance(word, w), w) for w in wordlist)\n",
        "  return [word for (_, word) in ranked]"
      ],
      "metadata": {
        "id": "jRFk7EKAq2bl"
      },
      "execution_count": 39,
      "outputs": []
    },
    {
      "cell_type": "code",
      "source": [
        "def fuzzy_spell(word):\n",
        "  sig = signature(word)\n",
        "  if sig in signatures:\n",
        "    return rank(word, signatures[sig])\n",
        "  else:\n",
        "    return []"
      ],
      "metadata": {
        "id": "xVaE0CKbrUkd"
      },
      "execution_count": 40,
      "outputs": []
    },
    {
      "cell_type": "code",
      "source": [
        "fuzzy_spell('illefent')"
      ],
      "metadata": {
        "colab": {
          "base_uri": "https://localhost:8080/"
        },
        "id": "mJfLLg8-rdG-",
        "outputId": "80f3a09a-dae0-45a3-bac5-67258830e61f"
      },
      "execution_count": 41,
      "outputs": [
        {
          "output_type": "execute_result",
          "data": {
            "text/plain": [
              "['olefiant', 'elephant', 'oliphant', 'elephanta']"
            ]
          },
          "metadata": {},
          "execution_count": 41
        }
      ]
    },
    {
      "cell_type": "code",
      "source": [
        "fuzzy_spell('ebsekwieous')"
      ],
      "metadata": {
        "colab": {
          "base_uri": "https://localhost:8080/"
        },
        "id": "KCFuy4WBrfPM",
        "outputId": "b885e130-2564-48c6-8a5c-c30e60652a68"
      },
      "execution_count": 42,
      "outputs": [
        {
          "output_type": "execute_result",
          "data": {
            "text/plain": [
              "['obsequious']"
            ]
          },
          "metadata": {},
          "execution_count": 42
        }
      ]
    },
    {
      "cell_type": "code",
      "source": [
        "fuzzy_spell('nucular')"
      ],
      "metadata": {
        "colab": {
          "base_uri": "https://localhost:8080/"
        },
        "id": "1yhl76G9rir9",
        "outputId": "af362650-dad0-48e4-c1bf-f895d35b21d5"
      },
      "execution_count": 43,
      "outputs": [
        {
          "output_type": "execute_result",
          "data": {
            "text/plain": [
              "['anicular',\n",
              " 'inocular',\n",
              " 'nucellar',\n",
              " 'nuclear',\n",
              " 'unocular',\n",
              " 'uniocular',\n",
              " 'unicolor']"
            ]
          },
          "metadata": {},
          "execution_count": 43
        }
      ]
    },
    {
      "cell_type": "markdown",
      "source": [
        "## 4. Working with XML"
      ],
      "metadata": {
        "id": "kmXWX-Czrxok"
      }
    },
    {
      "cell_type": "markdown",
      "source": [
        "### Using XML for Linguistic Structures"
      ],
      "metadata": {
        "id": "sxK30KbkxMEl"
      }
    },
    {
      "cell_type": "markdown",
      "source": [
        "### The Role of XML"
      ],
      "metadata": {
        "id": "wBbfdy8lxW96"
      }
    },
    {
      "cell_type": "markdown",
      "source": [
        "### The ElementTree Interface"
      ],
      "metadata": {
        "id": "EG-9dnxwxZMs"
      }
    },
    {
      "cell_type": "code",
      "source": [
        "nltk.download('shakespeare')"
      ],
      "metadata": {
        "colab": {
          "base_uri": "https://localhost:8080/"
        },
        "id": "m1_kGyePxlWf",
        "outputId": "f93a8773-fd64-4e5a-de57-c5875b8811ac"
      },
      "execution_count": 45,
      "outputs": [
        {
          "output_type": "stream",
          "name": "stdout",
          "text": [
            "[nltk_data] Downloading package shakespeare to /root/nltk_data...\n",
            "[nltk_data]   Unzipping corpora/shakespeare.zip.\n"
          ]
        },
        {
          "output_type": "execute_result",
          "data": {
            "text/plain": [
              "True"
            ]
          },
          "metadata": {},
          "execution_count": 45
        }
      ]
    },
    {
      "cell_type": "code",
      "source": [
        "merchant_file = nltk.data.find('corpora/shakespeare/merchant.xml')\n",
        "raw = open(merchant_file).read()\n",
        "print(raw[:163])"
      ],
      "metadata": {
        "colab": {
          "base_uri": "https://localhost:8080/"
        },
        "id": "j0hCGha2xbp4",
        "outputId": "a6c38923-e6ab-4374-8799-f14cb672e376"
      },
      "execution_count": 46,
      "outputs": [
        {
          "output_type": "stream",
          "name": "stdout",
          "text": [
            "<?xml version=\"1.0\"?>\n",
            "<?xml-stylesheet type=\"text/css\" href=\"shakes.css\"?>\n",
            "<!-- <!DOCTYPE PLAY SYSTEM \"play.dtd\"> -->\n",
            "\n",
            "<PLAY>\n",
            "<TITLE>The Merchant of Venice</TITLE>\n"
          ]
        }
      ]
    },
    {
      "cell_type": "code",
      "source": [
        "print(raw[1789:2006])"
      ],
      "metadata": {
        "colab": {
          "base_uri": "https://localhost:8080/"
        },
        "id": "OzNj8Plaxjyz",
        "outputId": "8ec98b1a-3ba2-4f04-d26a-029b2a1a5982"
      },
      "execution_count": 47,
      "outputs": [
        {
          "output_type": "stream",
          "name": "stdout",
          "text": [
            "<TITLE>ACT I</TITLE>\n",
            "\n",
            "<SCENE><TITLE>SCENE I.  Venice. A street.</TITLE>\n",
            "<STAGEDIR>Enter ANTONIO, SALARINO, and SALANIO</STAGEDIR>\n",
            "\n",
            "<SPEECH>\n",
            "<SPEAKER>ANTONIO</SPEAKER>\n",
            "<LINE>In sooth, I know not why I am so sad:</LINE>\n"
          ]
        }
      ]
    },
    {
      "cell_type": "code",
      "source": [
        "from xml.etree.ElementTree import ElementTree\n",
        "\n",
        "merchant = ElementTree().parse(merchant_file)\n",
        "merchant"
      ],
      "metadata": {
        "colab": {
          "base_uri": "https://localhost:8080/"
        },
        "id": "drKfL1zsxpW_",
        "outputId": "7e576076-2032-4319-b772-2a3c8769bf1e"
      },
      "execution_count": 48,
      "outputs": [
        {
          "output_type": "execute_result",
          "data": {
            "text/plain": [
              "<Element 'PLAY' at 0x7f23df8682f0>"
            ]
          },
          "metadata": {},
          "execution_count": 48
        }
      ]
    },
    {
      "cell_type": "code",
      "source": [
        "merchant[0]"
      ],
      "metadata": {
        "colab": {
          "base_uri": "https://localhost:8080/"
        },
        "id": "NUT6mPSDx-Dh",
        "outputId": "968e6307-00d4-4808-df7b-a18c85307f4d"
      },
      "execution_count": 49,
      "outputs": [
        {
          "output_type": "execute_result",
          "data": {
            "text/plain": [
              "<Element 'TITLE' at 0x7f23df868890>"
            ]
          },
          "metadata": {},
          "execution_count": 49
        }
      ]
    },
    {
      "cell_type": "code",
      "source": [
        "merchant[0].text"
      ],
      "metadata": {
        "colab": {
          "base_uri": "https://localhost:8080/",
          "height": 37
        },
        "id": "Ln52Sa7xx_Zh",
        "outputId": "2e4c0987-aa72-474d-8af1-a8fcb235f62f"
      },
      "execution_count": 50,
      "outputs": [
        {
          "output_type": "execute_result",
          "data": {
            "application/vnd.google.colaboratory.intrinsic+json": {
              "type": "string"
            },
            "text/plain": [
              "'The Merchant of Venice'"
            ]
          },
          "metadata": {},
          "execution_count": 50
        }
      ]
    },
    {
      "cell_type": "code",
      "source": [
        "merchant.getchildren()"
      ],
      "metadata": {
        "colab": {
          "base_uri": "https://localhost:8080/"
        },
        "id": "m4gcrBwMyCD1",
        "outputId": "a40c91d0-d994-4247-b76d-536ca6346945"
      },
      "execution_count": 51,
      "outputs": [
        {
          "output_type": "stream",
          "name": "stderr",
          "text": [
            "/usr/local/lib/python3.7/dist-packages/ipykernel_launcher.py:1: DeprecationWarning: This method will be removed in future versions.  Use 'list(elem)' or iteration over elem instead.\n",
            "  \"\"\"Entry point for launching an IPython kernel.\n"
          ]
        },
        {
          "output_type": "execute_result",
          "data": {
            "text/plain": [
              "[<Element 'TITLE' at 0x7f23df868890>,\n",
              " <Element 'PERSONAE' at 0x7f23df868c50>,\n",
              " <Element 'SCNDESCR' at 0x7f23df87a770>,\n",
              " <Element 'PLAYSUBT' at 0x7f23df87ab30>,\n",
              " <Element 'ACT' at 0x7f23df87add0>,\n",
              " <Element 'ACT' at 0x7f23df8fe650>,\n",
              " <Element 'ACT' at 0x7f23df53ea10>,\n",
              " <Element 'ACT' at 0x7f23dfb70a10>,\n",
              " <Element 'ACT' at 0x7f23dfa8d710>]"
            ]
          },
          "metadata": {},
          "execution_count": 51
        }
      ]
    },
    {
      "cell_type": "code",
      "source": [
        "merchant[-2][0].text"
      ],
      "metadata": {
        "colab": {
          "base_uri": "https://localhost:8080/",
          "height": 37
        },
        "id": "Gw-NZDfDyD7a",
        "outputId": "7a8d5e79-4d04-45fc-9b60-d05dd2342c75"
      },
      "execution_count": 52,
      "outputs": [
        {
          "output_type": "execute_result",
          "data": {
            "application/vnd.google.colaboratory.intrinsic+json": {
              "type": "string"
            },
            "text/plain": [
              "'ACT IV'"
            ]
          },
          "metadata": {},
          "execution_count": 52
        }
      ]
    },
    {
      "cell_type": "code",
      "source": [
        "merchant[-2][1]"
      ],
      "metadata": {
        "colab": {
          "base_uri": "https://localhost:8080/"
        },
        "id": "wtf1VYgOyNvy",
        "outputId": "682f8886-6357-468f-ea9a-b51ee12cd9c0"
      },
      "execution_count": 53,
      "outputs": [
        {
          "output_type": "execute_result",
          "data": {
            "text/plain": [
              "<Element 'SCENE' at 0x7f23dfb70ad0>"
            ]
          },
          "metadata": {},
          "execution_count": 53
        }
      ]
    },
    {
      "cell_type": "code",
      "source": [
        "merchant[-2][1][0].text"
      ],
      "metadata": {
        "colab": {
          "base_uri": "https://localhost:8080/",
          "height": 37
        },
        "id": "hfdhcyyDyP23",
        "outputId": "2c243c4c-4bc7-43f1-c53d-111d02c102a8"
      },
      "execution_count": 54,
      "outputs": [
        {
          "output_type": "execute_result",
          "data": {
            "application/vnd.google.colaboratory.intrinsic+json": {
              "type": "string"
            },
            "text/plain": [
              "'SCENE I.  Venice. A court of justice.'"
            ]
          },
          "metadata": {},
          "execution_count": 54
        }
      ]
    },
    {
      "cell_type": "code",
      "source": [
        "merchant[-2][1][54]"
      ],
      "metadata": {
        "colab": {
          "base_uri": "https://localhost:8080/"
        },
        "id": "JfOcHFnvyShi",
        "outputId": "2dcbe3cc-4bad-4b66-cc99-1ad27295b607"
      },
      "execution_count": 55,
      "outputs": [
        {
          "output_type": "execute_result",
          "data": {
            "text/plain": [
              "<Element 'SPEECH' at 0x7f23dfb40590>"
            ]
          },
          "metadata": {},
          "execution_count": 55
        }
      ]
    },
    {
      "cell_type": "code",
      "source": [
        "merchant[-2][1][54][0]"
      ],
      "metadata": {
        "colab": {
          "base_uri": "https://localhost:8080/"
        },
        "id": "Vc_kSl8tyU2y",
        "outputId": "51040d26-df15-4887-f6e9-07a32bd7d42a"
      },
      "execution_count": 56,
      "outputs": [
        {
          "output_type": "execute_result",
          "data": {
            "text/plain": [
              "<Element 'SPEAKER' at 0x7f23dfb405f0>"
            ]
          },
          "metadata": {},
          "execution_count": 56
        }
      ]
    },
    {
      "cell_type": "code",
      "source": [
        "merchant[-2][1][54][0].text"
      ],
      "metadata": {
        "colab": {
          "base_uri": "https://localhost:8080/",
          "height": 37
        },
        "id": "HX5axsIRyXsV",
        "outputId": "75d0e05c-42a8-4ced-c0bb-c0b0eeaf3a31"
      },
      "execution_count": 57,
      "outputs": [
        {
          "output_type": "execute_result",
          "data": {
            "application/vnd.google.colaboratory.intrinsic+json": {
              "type": "string"
            },
            "text/plain": [
              "'PORTIA'"
            ]
          },
          "metadata": {},
          "execution_count": 57
        }
      ]
    },
    {
      "cell_type": "code",
      "source": [
        "merchant[-2][1][54][1]"
      ],
      "metadata": {
        "colab": {
          "base_uri": "https://localhost:8080/"
        },
        "id": "n7wzDfiKybDB",
        "outputId": "9abae097-6930-498b-abb2-1102f0e55847"
      },
      "execution_count": 58,
      "outputs": [
        {
          "output_type": "execute_result",
          "data": {
            "text/plain": [
              "<Element 'LINE' at 0x7f23dfb40650>"
            ]
          },
          "metadata": {},
          "execution_count": 58
        }
      ]
    },
    {
      "cell_type": "code",
      "source": [
        "merchant[-2][1][54][1].text"
      ],
      "metadata": {
        "colab": {
          "base_uri": "https://localhost:8080/",
          "height": 37
        },
        "id": "hDSffaBNyetr",
        "outputId": "59dfabc8-c841-495f-bcf9-1e94d22678ef"
      },
      "execution_count": 59,
      "outputs": [
        {
          "output_type": "execute_result",
          "data": {
            "application/vnd.google.colaboratory.intrinsic+json": {
              "type": "string"
            },
            "text/plain": [
              "\"The quality of mercy is not strain'd,\""
            ]
          },
          "metadata": {},
          "execution_count": 59
        }
      ]
    },
    {
      "cell_type": "code",
      "source": [
        "for i, act in enumerate(merchant.findall('ACT')):\n",
        "  for j, scene in enumerate(act.findall('SCENE')):\n",
        "    for k, speech in enumerate(scene.findall('SPEECH')):\n",
        "      for line in speech.findall('LINE'):\n",
        "        if 'music' in str(line.text):\n",
        "          print(\"Act %d Scene %d Speech %d: %s\" % (i+1, j+1, k+1, line.text))"
      ],
      "metadata": {
        "colab": {
          "base_uri": "https://localhost:8080/"
        },
        "id": "UN5yT1RsyhyV",
        "outputId": "b4c88c8d-b1ab-4ad7-9bed-738c661cc840"
      },
      "execution_count": 60,
      "outputs": [
        {
          "output_type": "stream",
          "name": "stdout",
          "text": [
            "Act 3 Scene 2 Speech 9: Let music sound while he doth make his choice;\n",
            "Act 3 Scene 2 Speech 9: Fading in music: that the comparison\n",
            "Act 3 Scene 2 Speech 9: And what is music then? Then music is\n",
            "Act 5 Scene 1 Speech 23: And bring your music forth into the air.\n",
            "Act 5 Scene 1 Speech 23: Here will we sit and let the sounds of music\n",
            "Act 5 Scene 1 Speech 23: And draw her home with music.\n",
            "Act 5 Scene 1 Speech 24: I am never merry when I hear sweet music.\n",
            "Act 5 Scene 1 Speech 25: Or any air of music touch their ears,\n",
            "Act 5 Scene 1 Speech 25: By the sweet power of music: therefore the poet\n",
            "Act 5 Scene 1 Speech 25: But music for the time doth change his nature.\n",
            "Act 5 Scene 1 Speech 25: The man that hath no music in himself,\n",
            "Act 5 Scene 1 Speech 25: Let no such man be trusted. Mark the music.\n",
            "Act 5 Scene 1 Speech 29: It is your music, madam, of the house.\n",
            "Act 5 Scene 1 Speech 32: No better a musician than the wren.\n"
          ]
        }
      ]
    },
    {
      "cell_type": "code",
      "source": [
        "from collections import Counter\n",
        "\n",
        "speaker_seq = [s.text for s in merchant.findall('ACT/SCENE/SPEECH/SPEAKER')]\n",
        "speaker_freq = Counter(speaker_seq)\n",
        "\n",
        "top5 = speaker_freq.most_common(5)\n",
        "top5"
      ],
      "metadata": {
        "colab": {
          "base_uri": "https://localhost:8080/"
        },
        "id": "LsN8MYTMy3Hw",
        "outputId": "43ad0883-e98c-495a-906a-8c703ab7483d"
      },
      "execution_count": 61,
      "outputs": [
        {
          "output_type": "execute_result",
          "data": {
            "text/plain": [
              "[('PORTIA', 117),\n",
              " ('SHYLOCK', 79),\n",
              " ('BASSANIO', 73),\n",
              " ('GRATIANO', 48),\n",
              " ('ANTONIO', 47)]"
            ]
          },
          "metadata": {},
          "execution_count": 61
        }
      ]
    },
    {
      "cell_type": "code",
      "source": [
        "from collections import defaultdict\n",
        "\n",
        "abbreviate = defaultdict(lambda: 'OTH')\n",
        "for speaker, _ in top5:\n",
        "  abbreviate[speaker] = speaker[:4]\n",
        "\n",
        "speaker_seq2 = [abbreviate[speaker] for speaker in speaker_seq]\n",
        "cfd = nltk.ConditionalFreqDist(nltk.bigrams(speaker_seq2))\n",
        "cfd.tabulate()"
      ],
      "metadata": {
        "colab": {
          "base_uri": "https://localhost:8080/"
        },
        "id": "MhUX-tLZzKeQ",
        "outputId": "4b3b8424-46f8-4862-d93b-5d6c1b7c233e"
      },
      "execution_count": 62,
      "outputs": [
        {
          "output_type": "stream",
          "name": "stdout",
          "text": [
            "     ANTO BASS GRAT  OTH PORT SHYL \n",
            "ANTO    0   11    4   11    9   12 \n",
            "BASS   10    0   11   10   26   16 \n",
            "GRAT    6    8    0   19    9    5 \n",
            " OTH    8   16   18  153   52   25 \n",
            "PORT    7   23   13   53    0   21 \n",
            "SHYL   15   15    2   26   21    0 \n"
          ]
        }
      ]
    },
    {
      "cell_type": "markdown",
      "source": [
        "### Using ElementTree for Accessing Toolbox Data"
      ],
      "metadata": {
        "id": "izTxaH82zkNi"
      }
    },
    {
      "cell_type": "code",
      "source": [
        "nltk.download('toolbox')"
      ],
      "metadata": {
        "colab": {
          "base_uri": "https://localhost:8080/"
        },
        "id": "VysW3B5BzwDI",
        "outputId": "d85da6fc-a5df-401e-9f7a-95efaa3aa801"
      },
      "execution_count": 64,
      "outputs": [
        {
          "output_type": "stream",
          "name": "stdout",
          "text": [
            "[nltk_data] Downloading package toolbox to /root/nltk_data...\n",
            "[nltk_data]   Unzipping corpora/toolbox.zip.\n"
          ]
        },
        {
          "output_type": "execute_result",
          "data": {
            "text/plain": [
              "True"
            ]
          },
          "metadata": {},
          "execution_count": 64
        }
      ]
    },
    {
      "cell_type": "code",
      "source": [
        "from nltk.corpus import toolbox\n",
        "\n",
        "lexicon = toolbox.xml('rotokas.dic')"
      ],
      "metadata": {
        "id": "-k3BHlulzqL5"
      },
      "execution_count": 65,
      "outputs": []
    },
    {
      "cell_type": "code",
      "source": [
        "lexicon[3][0]"
      ],
      "metadata": {
        "colab": {
          "base_uri": "https://localhost:8080/"
        },
        "id": "a7EyqrgFzuC9",
        "outputId": "ebb445cf-d690-4e95-f4b0-3769a81e004d"
      },
      "execution_count": 66,
      "outputs": [
        {
          "output_type": "execute_result",
          "data": {
            "text/plain": [
              "<Element 'lx' at 0x7f23e0231dd0>"
            ]
          },
          "metadata": {},
          "execution_count": 66
        }
      ]
    },
    {
      "cell_type": "code",
      "source": [
        "lexicon[3][0].tag"
      ],
      "metadata": {
        "colab": {
          "base_uri": "https://localhost:8080/",
          "height": 37
        },
        "id": "cpehOCHozyv3",
        "outputId": "7a86e5f2-1075-4c34-8a6e-0b7656c7f7e5"
      },
      "execution_count": 67,
      "outputs": [
        {
          "output_type": "execute_result",
          "data": {
            "application/vnd.google.colaboratory.intrinsic+json": {
              "type": "string"
            },
            "text/plain": [
              "'lx'"
            ]
          },
          "metadata": {},
          "execution_count": 67
        }
      ]
    },
    {
      "cell_type": "code",
      "source": [
        "lexicon[3][0].text"
      ],
      "metadata": {
        "colab": {
          "base_uri": "https://localhost:8080/",
          "height": 37
        },
        "id": "TSLvGp38z0R3",
        "outputId": "eec2e68d-f2d6-4eb4-f86b-223b085a1eb1"
      },
      "execution_count": 68,
      "outputs": [
        {
          "output_type": "execute_result",
          "data": {
            "application/vnd.google.colaboratory.intrinsic+json": {
              "type": "string"
            },
            "text/plain": [
              "'kaa'"
            ]
          },
          "metadata": {},
          "execution_count": 68
        }
      ]
    },
    {
      "cell_type": "code",
      "source": [
        "[lexeme.text.lower() for lexeme in lexicon.findall('record/lx')]"
      ],
      "metadata": {
        "colab": {
          "base_uri": "https://localhost:8080/"
        },
        "id": "1jOxrjhTz2cj",
        "outputId": "da2e50ca-3aef-4713-ee93-da23b2847be9"
      },
      "execution_count": 69,
      "outputs": [
        {
          "output_type": "execute_result",
          "data": {
            "text/plain": [
              "['kaa',\n",
              " 'kaa',\n",
              " 'kaa',\n",
              " 'kaakaaro',\n",
              " 'kaakaaviko',\n",
              " 'kaakaavo',\n",
              " 'kaakaoko',\n",
              " 'kaakasi',\n",
              " 'kaakau',\n",
              " 'kaakauko',\n",
              " 'kaakito',\n",
              " 'kaakuupato',\n",
              " 'kaaova',\n",
              " 'kaapa',\n",
              " 'kaapea',\n",
              " 'kaapie',\n",
              " 'kaapie',\n",
              " 'kaapiepato',\n",
              " 'kaapisi',\n",
              " 'kaapisivira',\n",
              " 'kaapo',\n",
              " 'kaapopato',\n",
              " 'kaara',\n",
              " 'kaare',\n",
              " 'kaareko',\n",
              " 'kaarekopie',\n",
              " 'kaareto',\n",
              " 'kaareva',\n",
              " 'kaava',\n",
              " 'kaavaaua',\n",
              " 'kaaveaka',\n",
              " 'kaaveakapie',\n",
              " 'kaaveakapievira',\n",
              " 'kaaveakavira',\n",
              " 'kae',\n",
              " 'kae',\n",
              " 'kaekae',\n",
              " 'kaekae',\n",
              " 'kaekaearo',\n",
              " 'kaekaeo',\n",
              " 'kaekaesoto',\n",
              " 'kaekaevira',\n",
              " 'kaekeru',\n",
              " 'kaepaa',\n",
              " 'kaepie',\n",
              " 'kaepie',\n",
              " 'kaepievira',\n",
              " 'kaereasi',\n",
              " 'kaereasivira',\n",
              " 'kaetu',\n",
              " 'kaetupie',\n",
              " 'kaetuvira',\n",
              " 'kaeviro',\n",
              " 'kagave',\n",
              " 'kaie',\n",
              " 'kaiea',\n",
              " 'kaikaio',\n",
              " 'kaio',\n",
              " 'kaipori',\n",
              " 'kaiporipie',\n",
              " 'kaiporivira',\n",
              " 'kairi',\n",
              " 'kairiro',\n",
              " 'kairo',\n",
              " 'kaita',\n",
              " 'kaitutu',\n",
              " 'kaitutupie',\n",
              " 'kaitutuvira',\n",
              " 'kakae',\n",
              " 'kakae',\n",
              " 'kakae',\n",
              " 'kakaevira',\n",
              " 'kakapikoa',\n",
              " 'kakapikoto',\n",
              " 'kakapu',\n",
              " 'kakapua',\n",
              " 'kakara',\n",
              " 'kakarapaia',\n",
              " 'kakarau',\n",
              " 'kakarera',\n",
              " 'kakata',\n",
              " 'kakate',\n",
              " 'kakatuara',\n",
              " 'kakau',\n",
              " 'kakauoa',\n",
              " 'kakavea',\n",
              " 'kakavoro',\n",
              " 'kakavu',\n",
              " 'kakeoto',\n",
              " 'kaki',\n",
              " 'kaki',\n",
              " 'kakiaki',\n",
              " 'kakiri',\n",
              " 'kakiua',\n",
              " 'kaku',\n",
              " 'kakua',\n",
              " 'kakuaku',\n",
              " 'kakupaa',\n",
              " 'kakuparei',\n",
              " 'kakupato',\n",
              " 'kakupie',\n",
              " 'kakupute',\n",
              " 'kakutauo',\n",
              " 'kakuto',\n",
              " 'kakutuiato',\n",
              " 'kakuva',\n",
              " 'kakuvira',\n",
              " 'kameoro',\n",
              " 'kandora',\n",
              " 'kaokao',\n",
              " 'kaokaoara',\n",
              " 'kaokaoto',\n",
              " 'kapa',\n",
              " 'kapa',\n",
              " 'kapaava',\n",
              " 'kapai',\n",
              " 'kapara',\n",
              " 'kaparu',\n",
              " 'kaparuvira',\n",
              " 'kapatau',\n",
              " 'kapatoro',\n",
              " 'kapatoroto',\n",
              " 'kape',\n",
              " 'kapeaa',\n",
              " 'kapeaa',\n",
              " 'kapeaavira',\n",
              " 'kapekape',\n",
              " 'kapekapevira',\n",
              " 'kapere',\n",
              " 'kaperepie',\n",
              " 'kapi',\n",
              " 'kapiaa',\n",
              " 'kapiaavira',\n",
              " 'kapikapi',\n",
              " 'kapiro',\n",
              " 'kapiroa',\n",
              " 'kapiroko',\n",
              " 'kapisi',\n",
              " 'kapisito',\n",
              " 'kapiu',\n",
              " 'kapiua',\n",
              " 'kapo',\n",
              " 'kapoa',\n",
              " 'kapokao',\n",
              " 'kapokapo',\n",
              " 'kapokapoa',\n",
              " 'kapokapora',\n",
              " 'kapokaporo',\n",
              " 'kapokari',\n",
              " 'kapokarito',\n",
              " 'kapokoa',\n",
              " 'kapoo',\n",
              " 'kapooto',\n",
              " 'kapoovira',\n",
              " 'kapopaa',\n",
              " 'kaporo',\n",
              " 'kaporo',\n",
              " 'kaporopa',\n",
              " 'kaporoto',\n",
              " 'kapoto',\n",
              " 'kapu',\n",
              " 'kapua',\n",
              " 'kapua',\n",
              " 'kapuapato',\n",
              " 'kapuapie',\n",
              " 'kapuasisi',\n",
              " 'kapupie',\n",
              " 'kapupiea',\n",
              " 'kapupiepaa',\n",
              " 'kapuu',\n",
              " 'kapuupie',\n",
              " 'kapuupiepa',\n",
              " 'kara',\n",
              " 'kara',\n",
              " 'karaava',\n",
              " 'karakarao',\n",
              " 'karakaraoa',\n",
              " 'karakaraoto',\n",
              " 'karakaraovira',\n",
              " 'karakaroto',\n",
              " 'karakuku',\n",
              " 'karaova',\n",
              " 'karapi',\n",
              " 'karapivira',\n",
              " 'karara',\n",
              " 'karata',\n",
              " 'karato',\n",
              " 'karavau',\n",
              " 'karavisi',\n",
              " 'karavisito',\n",
              " 'karavuru',\n",
              " 'kare',\n",
              " 'kare',\n",
              " 'karekare',\n",
              " 'karekare',\n",
              " 'karekarererava',\n",
              " 'karekareto',\n",
              " 'kareke',\n",
              " 'karekepie',\n",
              " 'karekova',\n",
              " 'kareo',\n",
              " 'kareovira',\n",
              " 'karepie',\n",
              " 'karepieto',\n",
              " 'karepirie',\n",
              " 'kari',\n",
              " 'karia',\n",
              " 'kariava',\n",
              " 'karikari',\n",
              " 'karirapa',\n",
              " 'karisito',\n",
              " 'karivai',\n",
              " 'karivaito',\n",
              " 'karivara',\n",
              " 'karo',\n",
              " 'karokaropo',\n",
              " 'karopato',\n",
              " 'karopo',\n",
              " 'karot',\n",
              " 'karoto',\n",
              " 'karova',\n",
              " 'karu',\n",
              " 'karuka',\n",
              " 'karukaru',\n",
              " 'karukava',\n",
              " 'karuru',\n",
              " 'karutu',\n",
              " 'karuvira',\n",
              " 'kasi',\n",
              " 'kasi',\n",
              " 'kasi',\n",
              " 'kasiarao',\n",
              " 'kasiava',\n",
              " 'kasikasi',\n",
              " 'kasikasiua',\n",
              " 'kasipie',\n",
              " 'kasipu',\n",
              " 'kasipupie',\n",
              " 'kasipuvira',\n",
              " 'kasirao',\n",
              " 'kasiraopie',\n",
              " 'kasiraovira',\n",
              " 'kasiu',\n",
              " 'kasiura',\n",
              " 'kasivari',\n",
              " 'kasuari',\n",
              " 'kata',\n",
              " 'katai',\n",
              " 'kataitoarei',\n",
              " 'katakatai',\n",
              " 'katakataivira',\n",
              " 'kataraua',\n",
              " 'katarauto',\n",
              " 'katavira',\n",
              " 'katokato',\n",
              " 'katokatoto',\n",
              " 'katokatovira',\n",
              " 'katokoi',\n",
              " 'katopato',\n",
              " 'katoto',\n",
              " 'katuara',\n",
              " 'katuarato',\n",
              " 'katukatu',\n",
              " 'katuta',\n",
              " 'kau',\n",
              " 'kaukau',\n",
              " 'kaukaupie',\n",
              " 'kaukauvira',\n",
              " 'kaukovo',\n",
              " 'kauo',\n",
              " 'kauokauo',\n",
              " 'kaureo',\n",
              " 'kaureoto',\n",
              " 'kausiopa',\n",
              " 'kausiovira',\n",
              " 'kava',\n",
              " 'kavakavau',\n",
              " 'kavatao',\n",
              " 'kavatara',\n",
              " 'kavau',\n",
              " 'kavau',\n",
              " 'kavau asiava',\n",
              " 'kave',\n",
              " 'kavee',\n",
              " 'kaveepaa',\n",
              " 'kaverui',\n",
              " 'kaveruko',\n",
              " 'kavesi',\n",
              " 'kavikavi',\n",
              " 'kavikaviru',\n",
              " 'kavikaviru',\n",
              " 'kaviko',\n",
              " 'kavikoa',\n",
              " 'kaviru',\n",
              " 'kaviru',\n",
              " 'kaviruto',\n",
              " 'kaviruvira',\n",
              " 'kavo',\n",
              " 'kavokavo',\n",
              " 'kavokavoa',\n",
              " 'kavokavoto',\n",
              " 'kavora',\n",
              " 'kavorato',\n",
              " 'kavori',\n",
              " 'kavori',\n",
              " 'kavorou',\n",
              " 'kavovoa',\n",
              " 'kavovovira',\n",
              " 'kavu',\n",
              " 'kavu',\n",
              " 'kavuava',\n",
              " 'kavupie',\n",
              " 'kavura',\n",
              " 'kavurao',\n",
              " 'kavusi',\n",
              " 'kavuvo',\n",
              " 'kea',\n",
              " 'keakea',\n",
              " 'keakeato',\n",
              " 'keari',\n",
              " 'kearito',\n",
              " 'keavira',\n",
              " 'kee',\n",
              " 'keekee',\n",
              " 'keekeepa',\n",
              " 'keekeeri',\n",
              " 'keekeerito',\n",
              " 'keera',\n",
              " 'keeriva',\n",
              " 'keesi',\n",
              " 'keetaa',\n",
              " 'keevuru',\n",
              " 'keevuruvira',\n",
              " 'kegi',\n",
              " 'kei',\n",
              " 'keke',\n",
              " 'keke',\n",
              " 'kekepie',\n",
              " 'kekeputu',\n",
              " 'kekeputuvira',\n",
              " 'kekeraokovira',\n",
              " 'kekesopa',\n",
              " 'kekevoto',\n",
              " 'kekevotovira',\n",
              " 'kekira',\n",
              " 'keo',\n",
              " 'keoka',\n",
              " 'keopa',\n",
              " 'keovira',\n",
              " 'kepa',\n",
              " 'kepa toupato',\n",
              " 'kepetai',\n",
              " 'kepi',\n",
              " 'kepia',\n",
              " 'kepikepi',\n",
              " 'kepiko',\n",
              " 'kepiriko',\n",
              " 'kepiro',\n",
              " 'kepisi',\n",
              " 'kepisiva',\n",
              " 'kepita',\n",
              " 'kepitai',\n",
              " 'kepito',\n",
              " 'kepo',\n",
              " 'kepoi',\n",
              " 'keposi',\n",
              " 'kepoto',\n",
              " 'kera',\n",
              " 'kerakera',\n",
              " 'kerari',\n",
              " 'keraria',\n",
              " 'kerau',\n",
              " 'kerauto',\n",
              " 'keravisi',\n",
              " 'keravisia',\n",
              " 'keravo',\n",
              " 'kereaka',\n",
              " 'kerekoi',\n",
              " 'kerere',\n",
              " 'kerereua',\n",
              " 'kerete',\n",
              " 'kerete',\n",
              " 'kerevaru',\n",
              " 'keri',\n",
              " 'keriaka',\n",
              " 'kerikerisi',\n",
              " 'kerio',\n",
              " 'kerioua',\n",
              " 'keripaara',\n",
              " 'keripato',\n",
              " 'kerisi',\n",
              " 'kerisito',\n",
              " 'kerisivira',\n",
              " 'keritara',\n",
              " 'keriva',\n",
              " 'keroroi',\n",
              " 'kerosiri',\n",
              " 'keru',\n",
              " 'keru',\n",
              " 'kerui',\n",
              " 'keruiato',\n",
              " 'keruito',\n",
              " 'kerupiua',\n",
              " 'keruria',\n",
              " 'keruriato',\n",
              " 'keruriavira',\n",
              " 'kesi',\n",
              " 'kesie',\n",
              " 'kesievira',\n",
              " 'kesikea vaaguru',\n",
              " 'kesio',\n",
              " 'kesioto',\n",
              " 'kesivira',\n",
              " 'keta',\n",
              " 'ketaka',\n",
              " 'ketakaa',\n",
              " 'ketato',\n",
              " 'ketoo',\n",
              " 'ketoo',\n",
              " 'ketoopie',\n",
              " 'ketoopieara',\n",
              " 'ketoroa',\n",
              " 'ketu',\n",
              " 'kevaita',\n",
              " 'kevaita',\n",
              " 'kevaitato',\n",
              " 'kevira',\n",
              " 'kevisi',\n",
              " 'kevoisi',\n",
              " 'kevoisivira',\n",
              " 'kie',\n",
              " 'kii',\n",
              " 'kiikariko',\n",
              " 'kiipie',\n",
              " 'kiire',\n",
              " 'kiire',\n",
              " 'kiiru',\n",
              " 'kiiuto',\n",
              " 'kiki',\n",
              " 'kiki',\n",
              " 'kikipi',\n",
              " 'kikipisi',\n",
              " 'kikira',\n",
              " 'kikiraeko',\n",
              " 'kikisi',\n",
              " 'kikisikae',\n",
              " 'kikisiova',\n",
              " 'kikitausi',\n",
              " 'kikoo',\n",
              " 'kilia',\n",
              " 'kio',\n",
              " 'kipa',\n",
              " 'kipapie',\n",
              " 'kipe',\n",
              " 'kipekipe',\n",
              " 'kipekipea',\n",
              " 'kipeto',\n",
              " 'kipu',\n",
              " 'kipukipu',\n",
              " 'kipupaa',\n",
              " 'kipupato',\n",
              " 'kipuvira',\n",
              " 'kira',\n",
              " 'kirava',\n",
              " 'kire',\n",
              " 'kiri',\n",
              " 'kirikaokao',\n",
              " 'kirioto',\n",
              " 'kiro',\n",
              " 'kirokiro',\n",
              " 'kirokiro',\n",
              " 'kirokiropato',\n",
              " 'kiroko',\n",
              " 'kiru',\n",
              " 'kirukiru',\n",
              " 'kirukirua',\n",
              " 'kirupato',\n",
              " 'kitoiva',\n",
              " 'kitu',\n",
              " 'kitukitu',\n",
              " 'kiu',\n",
              " 'kiupie',\n",
              " 'kiuto',\n",
              " 'kiuve',\n",
              " 'kiuvu',\n",
              " 'koa',\n",
              " 'koai',\n",
              " 'koakoa',\n",
              " 'koakoa',\n",
              " 'koara',\n",
              " 'koarao',\n",
              " 'koaraua',\n",
              " 'koarava',\n",
              " 'koasio',\n",
              " 'koata',\n",
              " 'koatapie',\n",
              " 'koauve',\n",
              " 'koavaato',\n",
              " 'koe',\n",
              " 'koea',\n",
              " 'koekoe',\n",
              " 'koekoeto',\n",
              " 'koepato',\n",
              " 'koeta',\n",
              " 'koetaova',\n",
              " 'koetapie',\n",
              " 'koetava',\n",
              " 'koetavira',\n",
              " 'koeto',\n",
              " 'kogo',\n",
              " 'kogova',\n",
              " 'koi',\n",
              " 'koie',\n",
              " 'koie',\n",
              " 'koike',\n",
              " 'koiketo',\n",
              " 'koikevira',\n",
              " 'koikoi',\n",
              " 'koikoipato',\n",
              " 'koikoipie',\n",
              " 'koikoito',\n",
              " 'koisi',\n",
              " 'koisiva',\n",
              " 'koivira',\n",
              " 'koka',\n",
              " 'kokai',\n",
              " 'kokara',\n",
              " 'kokaraa',\n",
              " 'kokarapato',\n",
              " 'koke',\n",
              " 'kokee',\n",
              " 'kokepato',\n",
              " 'kokepato',\n",
              " 'kokepie',\n",
              " 'kokerao',\n",
              " 'kokeriva',\n",
              " 'kokeu',\n",
              " 'kokeva',\n",
              " 'koki',\n",
              " 'kokio',\n",
              " 'kokipaia',\n",
              " 'kokito',\n",
              " 'kokivira',\n",
              " 'koko',\n",
              " 'koko',\n",
              " 'kokoi',\n",
              " 'kokoisi',\n",
              " 'kokokoru',\n",
              " 'kokoo',\n",
              " 'kokooko',\n",
              " 'kokookoa',\n",
              " 'kokoote',\n",
              " 'kokootu',\n",
              " 'kokopa',\n",
              " 'kokopakou',\n",
              " 'kokopeko',\n",
              " 'kokopekovira',\n",
              " 'kokopeoto',\n",
              " 'kokopuoto',\n",
              " 'kokopuovira',\n",
              " 'kokopuru',\n",
              " 'kokopuvira',\n",
              " 'kokora',\n",
              " 'kokorai',\n",
              " 'kokorato',\n",
              " 'kokori',\n",
              " 'kokorivira',\n",
              " 'kokoro',\n",
              " 'kokoroki',\n",
              " 'kokoroku',\n",
              " 'kokorokupie',\n",
              " 'kokoropato',\n",
              " 'kokorosi',\n",
              " 'kokorovira',\n",
              " 'kokoru',\n",
              " 'kokoruu',\n",
              " 'kokoruu',\n",
              " 'kokosi',\n",
              " 'kokosi',\n",
              " 'kokosiria',\n",
              " 'kokosito',\n",
              " 'kokosiva',\n",
              " 'kokotagoe',\n",
              " 'kokote',\n",
              " 'kokoto',\n",
              " 'kokotu',\n",
              " 'kokotua',\n",
              " 'kokotuo',\n",
              " 'kokovae',\n",
              " 'kokovaeva',\n",
              " 'kokovara',\n",
              " 'kokovara',\n",
              " 'kokovaravira',\n",
              " 'kokovu',\n",
              " 'kokovua',\n",
              " 'kokovua',\n",
              " 'kokovua',\n",
              " 'kokovupaparie',\n",
              " 'kokovurito',\n",
              " 'koku',\n",
              " 'kokuoku',\n",
              " 'kokureko',\n",
              " 'kokuuto',\n",
              " 'kooe',\n",
              " 'kookaa',\n",
              " 'kookai',\n",
              " 'kookoo',\n",
              " 'kookooia',\n",
              " 'kookoopeko',\n",
              " 'kookoopi',\n",
              " 'kooku',\n",
              " 'kookuto',\n",
              " 'kookuvira',\n",
              " 'koopi',\n",
              " 'koopipi',\n",
              " 'koora',\n",
              " 'kooroo',\n",
              " 'koorooto',\n",
              " 'koorooto',\n",
              " 'kooroovira',\n",
              " 'kooru',\n",
              " 'koota',\n",
              " 'kootopa',\n",
              " 'kootutu',\n",
              " 'koou',\n",
              " 'kooupato',\n",
              " 'koova',\n",
              " 'koova',\n",
              " 'koovoto',\n",
              " 'koovotova',\n",
              " 'kopa',\n",
              " 'kopakai',\n",
              " 'kopakava',\n",
              " 'kopakopa',\n",
              " 'kopakovira',\n",
              " 'kopato',\n",
              " 'kopii',\n",
              " 'kopiia',\n",
              " 'kopiipato',\n",
              " 'kopiipie',\n",
              " 'kopiito',\n",
              " 'kopikao',\n",
              " 'kopikopi',\n",
              " 'kopikopiara',\n",
              " 'kopipi',\n",
              " 'kopirovu',\n",
              " 'kopu',\n",
              " 'kopua',\n",
              " 'kopuasi',\n",
              " 'kopuasipie',\n",
              " 'kopuasito',\n",
              " 'kopuasitovira',\n",
              " 'kopuasivira',\n",
              " 'kopuisi',\n",
              " 'kopukopu',\n",
              " 'kopukopua',\n",
              " 'kopupa',\n",
              " 'kopupira',\n",
              " 'kopuro',\n",
              " 'kopuru',\n",
              " 'kopuvioro',\n",
              " 'kopuvira',\n",
              " 'kora',\n",
              " 'korapato',\n",
              " 'korara',\n",
              " 'koraraoko',\n",
              " 'korau',\n",
              " 'koraua',\n",
              " 'korauru',\n",
              " 'korauvira',\n",
              " 'korea',\n",
              " 'korekare',\n",
              " 'korere',\n",
              " 'korereto',\n",
              " 'kori',\n",
              " 'koria',\n",
              " 'koribori',\n",
              " 'korikori',\n",
              " 'korikoripava',\n",
              " 'korita',\n",
              " 'korita',\n",
              " 'koriteira',\n",
              " 'koro',\n",
              " 'kororo',\n",
              " 'kororo',\n",
              " 'kororoisivira',\n",
              " 'kororovi',\n",
              " 'kororovivira',\n",
              " 'kororu',\n",
              " 'kororupie',\n",
              " 'koroto',\n",
              " 'koroviri',\n",
              " 'korovo',\n",
              " 'koru',\n",
              " 'koruko',\n",
              " 'korukoru',\n",
              " 'korukorupato',\n",
              " 'koruo',\n",
              " 'koruoto',\n",
              " 'koruou',\n",
              " 'koruoua',\n",
              " 'koruovira',\n",
              " 'korupie',\n",
              " 'korupievira',\n",
              " 'kosi',\n",
              " 'kosikosi',\n",
              " 'kosikosi',\n",
              " 'kosipa',\n",
              " 'kosipato',\n",
              " 'kosipie',\n",
              " 'kosivago',\n",
              " 'kosiviro',\n",
              " 'koto',\n",
              " 'kotokoto',\n",
              " 'kotokotoara',\n",
              " 'kotopa',\n",
              " 'kotopa',\n",
              " 'kotovira',\n",
              " 'kotu',\n",
              " 'kotukotu',\n",
              " 'kotupiua',\n",
              " 'koturu',\n",
              " 'kou',\n",
              " 'kou',\n",
              " 'koue',\n",
              " 'koue',\n",
              " 'koui',\n",
              " 'koukou',\n",
              " 'koukouo',\n",
              " 'koukouo',\n",
              " 'kova',\n",
              " 'kovaaro',\n",
              " 'kovaeto',\n",
              " 'kovaii',\n",
              " 'kovakovara',\n",
              " 'kovapato',\n",
              " 'kovarato',\n",
              " 'kovarua',\n",
              " 'kovasi',\n",
              " 'kovata',\n",
              " 'kovatavira',\n",
              " 'kovato',\n",
              " 'kovauke',\n",
              " 'kovava',\n",
              " 'kove',\n",
              " 'kove',\n",
              " 'kovea',\n",
              " 'kovekove',\n",
              " 'koveoapa',\n",
              " 'koveva',\n",
              " 'kovia',\n",
              " 'kovikoro',\n",
              " 'kovire',\n",
              " 'kovirea',\n",
              " 'kovo',\n",
              " 'kovo',\n",
              " 'kovo',\n",
              " 'kovoa',\n",
              " 'kovokovo',\n",
              " 'kovokovo',\n",
              " 'kovokovo',\n",
              " 'kovokovoa',\n",
              " 'kovopaa',\n",
              " 'kovopato',\n",
              " 'kovopie',\n",
              " 'kovoruko',\n",
              " 'kovoto',\n",
              " 'kovovo',\n",
              " 'kovuaka',\n",
              " 'kovuaro',\n",
              " 'kovukovu',\n",
              " 'kovukovuto',\n",
              " 'kovukovuvira',\n",
              " 'kovuru',\n",
              " 'kovurui',\n",
              " 'kovuruko',\n",
              " 'kovurukovira',\n",
              " 'kovuruvira',\n",
              " 'kovuto',\n",
              " 'kuara',\n",
              " 'kue',\n",
              " 'kuea',\n",
              " 'kuga',\n",
              " 'kui',\n",
              " 'kuio',\n",
              " 'kuioi',\n",
              " 'kuiopesi',\n",
              " 'kuiopetu',\n",
              " 'kuito',\n",
              " 'kuka',\n",
              " 'kukara',\n",
              " 'kukauviro',\n",
              " 'kukiuki',\n",
              " 'kukiukia',\n",
              " 'kuku',\n",
              " 'kukua',\n",
              " 'kukuaua',\n",
              " 'kukue',\n",
              " 'kukue pute',\n",
              " 'kukuepaa',\n",
              " 'kukuku',\n",
              " 'kukupira',\n",
              " 'kukuriko',\n",
              " 'kukurikoto',\n",
              " 'kukusiri',\n",
              " 'kukutauvu',\n",
              " 'kukutu',\n",
              " 'kukuuku',\n",
              " 'kukuukua',\n",
              " 'kukuukupie',\n",
              " 'kukuuvua',\n",
              " 'kukuvai',\n",
              " 'kukuvaipaa',\n",
              " 'kukuvita',\n",
              " 'kukuvua',\n",
              " 'kuokuo',\n",
              " 'kupare',\n",
              " 'kupareto',\n",
              " 'kupekupe',\n",
              " 'kupekupepa',\n",
              " 'kupero',\n",
              " 'kuperoo',\n",
              " 'kuperovira',\n",
              " 'kupii',\n",
              " 'kupukupu',\n",
              " 'kurae',\n",
              " 'kurasia',\n",
              " 'kurasia',\n",
              " 'kurei',\n",
              " 'kuri',\n",
              " 'kuriato',\n",
              " 'kurikaakaakuto',\n",
              " 'kurikasi',\n",
              " 'kurikasivira',\n",
              " 'kurikoko',\n",
              " 'kurikuri',\n",
              " 'kuripaa',\n",
              " 'kuritava',\n",
              " 'kuroa',\n",
              " 'kuroea',\n",
              " 'kurokuro',\n",
              " 'kurokuroto',\n",
              " 'kuroo',\n",
              " 'kurooro',\n",
              " 'kurovira',\n",
              " 'kuru',\n",
              " 'kurue',\n",
              " 'kurupi',\n",
              " 'kururai',\n",
              " 'kururu',\n",
              " 'kurutu',\n",
              " 'kusi',\n",
              " 'kusii',\n",
              " 'kusike',\n",
              " 'kusito',\n",
              " 'kuu',\n",
              " 'kuu',\n",
              " 'kuukuuvu',\n",
              " 'kuukuuvuto',\n",
              " 'kuuoa',\n",
              " 'kuupie',\n",
              " 'kuurea',\n",
              " 'kuuri',\n",
              " 'kuuva',\n",
              " 'kuuvaki',\n",
              " 'kuuvakito',\n",
              " 'kuuvato',\n",
              " 'kuuvavira',\n",
              " 'kuuvu',\n",
              " 'kuuvuvira',\n",
              " 'kuva',\n",
              " 'kuvaku',\n",
              " 'kuvato',\n",
              " 'kuvau',\n",
              " 'kuvaupie',\n",
              " 'kuvauvira',\n",
              " 'kuvera',\n",
              " 'kuverava',\n",
              " 'kuvere',\n",
              " 'kuverea',\n",
              " 'kuvereto',\n",
              " 'kuverevira',\n",
              " 'kuvoro',\n",
              " 'kuvu',\n",
              " 'kuvuara',\n",
              " 'kuvukuvu',\n",
              " 'kuvukuvua',\n",
              " 'kuvupato',\n",
              " 'kuvuto']"
            ]
          },
          "metadata": {},
          "execution_count": 69
        }
      ]
    },
    {
      "cell_type": "code",
      "source": [
        "import sys\n",
        "from nltk.util import elementtree_indent\n",
        "from xml.etree.ElementTree import ElementTree\n",
        "\n",
        "elementtree_indent(lexicon)\n",
        "tree = ElementTree(lexicon[3])\n",
        "tree.write(sys.stdout, encoding='unicode')"
      ],
      "metadata": {
        "colab": {
          "base_uri": "https://localhost:8080/"
        },
        "id": "4s4hTfShz7W3",
        "outputId": "abca930a-4a24-464f-f062-1cf25daf43b6"
      },
      "execution_count": 70,
      "outputs": [
        {
          "output_type": "stream",
          "name": "stdout",
          "text": [
            "<record>\n",
            "    <lx>kaa</lx>\n",
            "    <ps>N</ps>\n",
            "    <pt>MASC</pt>\n",
            "    <cl>isi</cl>\n",
            "    <ge>cooking banana</ge>\n",
            "    <tkp>banana bilong kukim</tkp>\n",
            "    <pt>itoo</pt>\n",
            "    <sf>FLORA</sf>\n",
            "    <dt>12/Aug/2005</dt>\n",
            "    <ex>Taeavi iria kaa isi kovopaueva kaparapasia.</ex>\n",
            "    <xp>Taeavi i bin planim gaden banana bilong kukim tasol long paia.</xp>\n",
            "    <xe>Taeavi planted banana in order to cook it.</xe>\n",
            "  </record>"
          ]
        }
      ]
    },
    {
      "cell_type": "markdown",
      "source": [
        "### Formatting Entries"
      ],
      "metadata": {
        "id": "fPxl3PKr0Phb"
      }
    },
    {
      "cell_type": "code",
      "source": [
        "html = \"<table>\\n\"\n",
        "for entry in lexicon[70:80]:\n",
        "  lx = entry.findtext('lx')\n",
        "  ps = entry.findtext('ps')\n",
        "  ge = entry.findtext('ge')\n",
        "  html += \"  <tr><td>%s</td><td>%s</td><td>%s</td></tr>\\n\" % (lx, ps, ge)\n",
        "\n",
        "html += \"</table>\"\n",
        "print(html)"
      ],
      "metadata": {
        "colab": {
          "base_uri": "https://localhost:8080/"
        },
        "id": "BHXXppPt0T7g",
        "outputId": "3185da0a-3544-48fa-acb3-994116600f7f"
      },
      "execution_count": 71,
      "outputs": [
        {
          "output_type": "stream",
          "name": "stdout",
          "text": [
            "<table>\n",
            "  <tr><td>kakae</td><td>???</td><td>small</td></tr>\n",
            "  <tr><td>kakae</td><td>CLASS</td><td>child</td></tr>\n",
            "  <tr><td>kakaevira</td><td>ADV</td><td>small-like</td></tr>\n",
            "  <tr><td>kakapikoa</td><td>???</td><td>small</td></tr>\n",
            "  <tr><td>kakapikoto</td><td>N</td><td>newborn baby</td></tr>\n",
            "  <tr><td>kakapu</td><td>V</td><td>place in sling for purpose of carrying</td></tr>\n",
            "  <tr><td>kakapua</td><td>N</td><td>sling for lifting</td></tr>\n",
            "  <tr><td>kakara</td><td>N</td><td>arm band</td></tr>\n",
            "  <tr><td>Kakarapaia</td><td>N</td><td>village name</td></tr>\n",
            "  <tr><td>kakarau</td><td>N</td><td>frog</td></tr>\n",
            "</table>\n"
          ]
        }
      ]
    },
    {
      "cell_type": "markdown",
      "source": [
        "## 5. Working with Toolbox Data"
      ],
      "metadata": {
        "id": "182Fhr9R0vaq"
      }
    },
    {
      "cell_type": "code",
      "source": [
        "from nltk.corpus import toolbox\n",
        "lexicon = toolbox.xml('rotokas.dic')\n",
        "sum(len(entry) for entry in lexicon) / len(lexicon)"
      ],
      "metadata": {
        "colab": {
          "base_uri": "https://localhost:8080/"
        },
        "id": "wHdYWeQU04Up",
        "outputId": "a1d1bb69-e990-44af-cf19-814153c61073"
      },
      "execution_count": 72,
      "outputs": [
        {
          "output_type": "execute_result",
          "data": {
            "text/plain": [
              "13.635955056179775"
            ]
          },
          "metadata": {},
          "execution_count": 72
        }
      ]
    },
    {
      "cell_type": "markdown",
      "source": [
        "### Adding a Field to Each Entry"
      ],
      "metadata": {
        "id": "ssqY0D861Chj"
      }
    },
    {
      "cell_type": "code",
      "source": [
        "from xml.etree.ElementTree import SubElement\n",
        "\n",
        "def cv(s):\n",
        "  s = s.lower()\n",
        "  s = re.sub(r'[^a-z]',     r'_', s)\n",
        "  s = re.sub(r'[aeiou]',    r'V', s)\n",
        "  s = re.sub(r'[^V_]',      r'C', s)\n",
        "  return (s)\n",
        "\n",
        "def add_cv_field(entry):\n",
        "  for field in entry:\n",
        "    if field.tag == 'lx':\n",
        "      cv_field = SubElement(entry, 'cv')\n",
        "      cv_field.text = cv(field.text)"
      ],
      "metadata": {
        "id": "viRlSZJL1KoQ"
      },
      "execution_count": 73,
      "outputs": []
    },
    {
      "cell_type": "code",
      "source": [
        "lexicon = toolbox.xml('rotokas.dic')\n",
        "\n",
        "add_cv_field(lexicon[53])\n",
        "print(nltk.toolbox.to_sfm_string(lexicon[53]))"
      ],
      "metadata": {
        "colab": {
          "base_uri": "https://localhost:8080/"
        },
        "id": "TYog8nif1qje",
        "outputId": "0e6b2a38-29a7-4cdc-9acf-fc71250c4fe3"
      },
      "execution_count": 76,
      "outputs": [
        {
          "output_type": "stream",
          "name": "stdout",
          "text": [
            "\\lx kaeviro\n",
            "\\ps V\n",
            "\\pt A\n",
            "\\ge lift off\n",
            "\\ge take off\n",
            "\\tkp go antap\n",
            "\\sc MOTION\n",
            "\\vx 1\n",
            "\\nt used to describe action of plane\n",
            "\\dt 03/Jun/2005\n",
            "\\ex Pita kaeviroroe kepa kekesia oa vuripierevo kiuvu.\n",
            "\\xp Pita i go antap na lukim haus win i bagarapim.\n",
            "\\xe Peter went to look at the house that the wind destroyed.\n",
            "\\cv CVVCVCV\n",
            "\n"
          ]
        }
      ]
    },
    {
      "cell_type": "markdown",
      "source": [
        "### Validating a Toolbox Lexicon"
      ],
      "metadata": {
        "id": "ezORfafI2A9h"
      }
    },
    {
      "cell_type": "code",
      "source": [
        "from collections import Counter\n",
        "\n",
        "field_sequences = Counter(':'.join(field.tag for field in entry) for entry in lexicon)\n",
        "field_sequences.most_common()"
      ],
      "metadata": {
        "colab": {
          "base_uri": "https://localhost:8080/"
        },
        "id": "RtG5QeM22Foa",
        "outputId": "281eeb31-3b79-4314-f1f4-e6e878e0642d"
      },
      "execution_count": 77,
      "outputs": [
        {
          "output_type": "execute_result",
          "data": {
            "text/plain": [
              "[('lx:ps:pt:ge:tkp:dt:ex:xp:xe', 41),\n",
              " ('lx:rt:ps:pt:ge:tkp:dt:ex:xp:xe', 37),\n",
              " ('lx:rt:ps:pt:ge:tkp:dt:ex:xp:xe:ex:xp:xe', 27),\n",
              " ('lx:ps:pt:ge:tkp:nt:dt:ex:xp:xe', 20),\n",
              " ('lx:ps:pt:ge:tkp:nt:dt:ex:xp:xe:ex:xp:xe', 17),\n",
              " ('lx:ps:pt:ge:tkp:dt:ex:xp:xe:ex:xp:xe', 16),\n",
              " ('lx:rt:ps:pt:ge:ge:tkp:dt:ex:xp:xe:ex:xp:xe', 12),\n",
              " ('lx:ps:pt:ge:tkp:nt:sf:dt:ex:xp:xe', 9),\n",
              " ('lx:ps:pt:ge:ge:tkp:dt:ex:xp:xe', 9),\n",
              " ('lx:rt:ps:pt:ge:tkp:dt:ex:xp:xe:ex:xp:xe:ex:xp:xe', 9),\n",
              " ('lx:ps:ge:tkp:dt:ex:xp:xe', 8),\n",
              " ('lx:ps:pt:ge:ge:tkp:dt:ex:xp:xe:ex:xp:xe', 8),\n",
              " ('lx:rt:ps:pt:ge:ge:tkp:dt:ex:xp:xe', 8),\n",
              " ('lx:alt:rt:ps:pt:ge:tkp:dt:ex:xp:xe:ex:xp:xe', 7),\n",
              " ('lx:alt:rt:ps:pt:ge:tkp:dt:ex:xp:xe', 7),\n",
              " ('lx:ps:pt:ge:ge:tkp:arg:vx:dt:ex:xp:xe:ex:xp:xe', 6),\n",
              " ('lx:ps:pt:ge:tkp:cmt:dt:ex:xp:xe', 5),\n",
              " ('lx:ps:pt:ge:tkp:nt:sf:dt:ex:xp:xe:ex:xp:xe', 5),\n",
              " ('lx:rt:ps:pt:ge:tkp:cmt:dt:ex:xp:xe', 5),\n",
              " ('lx:rt:ps:pt:ge:tkp:nt:dt:ex:xp:xe:ex:xp:xe', 4),\n",
              " ('lx:ps:pt:ge:tkp:dt:cmt:ex:xp:xe:ex:xp:xe', 4),\n",
              " ('lx:rt:ps:pt:ge:tkp:cmt:dt:ex:xp:xe:ex:xp:xe', 4),\n",
              " ('lx:ps:pt:ge:ge:tkp:cmt:dt:ex:xp:xe:ex:xp:xe', 4),\n",
              " ('lx:ps:pt:ge:tkp:nt:cmt:dt:ex:xp:xe', 4),\n",
              " ('lx:rt:ps:pt:ge:tkp:dt', 4),\n",
              " ('lx:alt:rt:ps:pt:ge:ge:tkp:dt:ex:xp:xe:ex:xp:xe:ex:xp:xe', 4),\n",
              " ('lx:ps:pt:ge:tkp:eng:dt', 4),\n",
              " ('lx:ps:pt:ge:tkp:vx:cmt:dt:ex:xp:xe', 4),\n",
              " ('lx:ps:pt:ge:tkp:arg:vx:dt:ex:xp:xe:ex:xp:xe:ex:xp:xe', 3),\n",
              " ('lx:ps:pt:ge:tkp:sf:nt:dt:ex:xp:xe:ex:xp:xe:ex:xp:xe', 3),\n",
              " ('lx:rt:ps:pt:ge:ge:tkp:nt:dt:ex:xp:xe', 3),\n",
              " ('lx:rt:ps:pt:ge:ge:ge:tkp:dt:ex:xp:xe', 3),\n",
              " ('lx:ps:pt:ge:tkp:nt:cmt:dt:ex:xp:xe:ex:xp:xe', 3),\n",
              " ('lx:ps:pt:ge:tkp:eng:dt:ex:xp:xe:ex:xp:xe', 3),\n",
              " ('lx:ps:pt:ge:tkp:arg:vx:dt:ex:xp:xe:ex:xp:xe', 3),\n",
              " ('lx:rt:ps:pt:ge:tkp:arg:vx:dt:ex:xp:xe:ex:xp:xe:ex:xp:xe', 3),\n",
              " ('lx:rt:ps:pt:ge:tkp:cmt:dt:ex:xp:xe:ex:xp:xe:ex:xp:xe', 3),\n",
              " ('lx:ps:pt:ge:tkp:nt:dt:ex:xp:xe:ex:xp:xe:ex:xp:xe', 3),\n",
              " ('lx:ps:pt:ge:tkp:vx:dt:ex:xp:xe:ex:xp:xe', 3),\n",
              " ('lx:rt:ps:pt:dx:ge:tkp:dt:ex:xp:xe', 3),\n",
              " ('lx:alt:rt:ps:pt:ge:ge:tkp:dt:ex:xp:xe:ex:xp:xe', 3),\n",
              " ('lx:ps:pt:ge:tkp:eng:eng:arg:vx:dt:ex:xp:xe:ex:xp:xe', 3),\n",
              " ('lx:ps:pt:ge:tkp:cmt:vx:dt:ex:xp:xe', 3),\n",
              " ('lx:ps:pt:ge:ge:ge:tkp:vx:dt:ex:xp:xe:ex:xp:xe', 3),\n",
              " ('lx:rt:ps:pt:ge:ge:tkp:cmt:dt:ex:xp:xe:ex:xp:xe', 3),\n",
              " ('lx:ps:pt:ge:tkp:dt:cmt:ex:xp:xe', 3),\n",
              " ('lx:ps:pt:ge:tkp:nt:sf:dt:ex:xp:xe:ex:xp:xe:ex:xp:xe', 3),\n",
              " ('lx:ps:pt:ge:ge:tkp:vx:sc:dt:ex:xp:xe:ex:xp:xe', 3),\n",
              " ('lx:ps:pt:ge:tkp:nt:dt:sf:ex:xp:xe:ex:xp:xe', 2),\n",
              " ('lx:ps:pt:ge:tkp:dt:ex:xp:xe:ex:xp:xe:ex:xp:xe', 2),\n",
              " ('lx:ps:pt:ge:tkp:nt:sf:dt', 2),\n",
              " ('lx:ps:ge:ge:ge:tkp:cmt:dt:ex:xp:xe', 2),\n",
              " ('lx:ps:ge:tkp:cmt:dt:ex:xp:xe:ex:xp:xe', 2),\n",
              " ('lx:ps:ge:tkp:dt:ex:xp:xe:ex:xp:xe', 2),\n",
              " ('lx:rt:ps:pt:ge:tkp:arg:vx:dt:ex:xp:xe', 2),\n",
              " ('lx:rt:ps:pt:rdp:ge:tkp:arg:vx:dt:ex:xp:xe', 2),\n",
              " ('lx:rt:ps:pt:ge:tkp:dt:ex:xp:xe:ex:xp:xe:ex:xp:xe:ex:xp:xe', 2),\n",
              " ('lx:rt:ps:pt:ge:ge:tkp:dt:cmt:ex:xp:xe:ex:xp:xe', 2),\n",
              " ('lx:ps:pt:ge:eng:ig:dt', 2),\n",
              " ('lx:ps:pt:ge:tkp:tkp:arg:vx:dt:ex:xp:xe:ex:xp:xe', 2),\n",
              " ('lx:ps:pt:ge:ge:tkp:arg:vx:dt:ex:xp:xe:ex:xp:xe:ex:xp:xe', 2),\n",
              " ('lx:rt:ps:pt:ge:ge:tkp:dt:ex:xp:xe:ex:xp:xe:ex:xp:xe:ex:xp:xe', 2),\n",
              " ('lx:ps:pt:ge:tkp:sf:dt:ex:xp:xe', 2),\n",
              " ('lx:rt:ps:pt:ge:tkp:avm:dt:ex:xp:xe:ex:xp:xe', 2),\n",
              " ('lx:ps:pt:ge:eng:tkp:nt:dt:ex:xp:xe:ex:xp:xe', 2),\n",
              " ('lx:ps:pt:ge:tkp:eng:eng:eng:eng:arg:vx:dt:ex:xp:xe:ex:xp:xe', 2),\n",
              " ('lx:ps:pt:ge:tkp:arg:vx:cmt:dt:ex:xp:xe:ex:xp:xe:ex:xp:xe:ex:xp:xe', 2),\n",
              " ('lx:ps:dx:ge:tkp:eng:dt:ex:xp:xe', 2),\n",
              " ('lx:rt:ps:pt:ge:ge:tkp:cmt:dt:ex:xp:xe', 2),\n",
              " ('lx:ps:pt:ge:tkp:dt', 2),\n",
              " ('lx:ps:pt:ge:tkp:eng:eng:eng:dt:ex:xp:xe', 2),\n",
              " ('lx:rt:ps:ge:tkp:dt:ex:xp:xe:ex:xp:xe', 2),\n",
              " ('lx:ps:pt:ge:tkp:eng:eng:eng:dt:ex:xp:xe:ex:xp:xe', 2),\n",
              " ('lx:rt:ps:pt:ge:tkp:avm:dt:ex:xp:xe', 2),\n",
              " ('lx:ps:pt:ge:tkp:eng:dt:ex:xp:xe', 2),\n",
              " ('lx:alt:rt:ps:pt:ge:tkp:dt:ex:xp:xe:ex:xp:xe:ex:xp:xe', 2),\n",
              " ('lx:rt:ps:pt:rdp:ge:ge:tkp:vx:arg:dt:ex:xp:xe:ex:xp:xe', 2),\n",
              " ('lx:ps:pt:ge:tkp:vx:arg:dt:ex:xp:xe:ex:xp:xe', 2),\n",
              " ('lx:ps:pt:ge:tkp:nt:ig:dt', 2),\n",
              " ('lx:ps:pt:ge:tkp:cmt:dt:ex:xp:xe:ex:xp:xe', 2),\n",
              " ('lx:ps:ge:tkp:tkp:dt:ex:xp:xe', 2),\n",
              " ('lx:rt:ps:pt:ge:ge:ge:tkp:dt:ex:xp:xe:ex:xp:xe', 2),\n",
              " ('lx:rt:ps:pt:ge:ge:tkp:dt:ex:xp:xe:ex:xp:xe:ex:xp:xe', 2),\n",
              " ('lx:ps:pt:ge:tkp:cmt:vx:dt', 2),\n",
              " ('lx:rt:ps:ge:tkp:dt:ex:xp:xe:ex:xp:xe:ex:xp:xe', 2),\n",
              " ('lx:ps:pt:ge:ge:tkp:vx:arg:dt:ex:xp:xe:ex:xp:xe', 2),\n",
              " ('lx:alt:rt:ps:pt:ge:ge:tkp:dt:ex:xp:xe', 2),\n",
              " ('lx:ps:pt:ge:ge:tkp:dt', 2),\n",
              " ('lx:ps:pt:ge:ge:tkp:vx:cmt:dt:ex:xp:xe:ex:xp:xe', 2),\n",
              " ('lx:ps:pt:dx:ge:tkp:vx:dt:ex:xp:xe', 2),\n",
              " ('lx:ps:pt:ge:tkp:cmt:dt', 2),\n",
              " ('lx:ps:pt:ge:tkp:vx:cmt:dt:ex:xp:xe:ex:xp:xe', 2),\n",
              " ('lx:rt:ps:ge:tkp:dt', 2),\n",
              " ('lx:ps:pt:ge:ge:tkp:arg:vx:nt:dt:ex:xp:xe:ex:xp:xe', 2),\n",
              " ('lx:rt:ps:pt:ge:tkp:arg:vx:dt:ex:xp:xe:ex:xp:xe', 2),\n",
              " ('lx:ps:pt:dx:ge:tkp:eng:nt:dt', 2),\n",
              " ('lx:ps:pt:ge:tkp:arg:vx:dt:ex:xp:xe', 2),\n",
              " ('lx:ps:pt:ge:tkp:eng:cmt:dt:ex:xp:xe', 2),\n",
              " ('lx:ps:pt:ge:eng:eng:eng:tkp:arg:vx:dt:ex:xp:xe:ex:xp:xe', 2),\n",
              " ('lx:ps:pt:ge:tkp:tkp:nt:dt:ex:xp:xe:ex:xp:xe', 2),\n",
              " ('lx:ps:pt:ge:tkp:dcsv:vx:sc:dt:ex:xp:xe:ex:xp:xe', 2),\n",
              " ('lx:rt:ps:pt:ge:ge:tkp:arg:vx:dt:ex:xp:xe:ex:xp:xe:ex:xp:xe', 2),\n",
              " ('lx:rt:ps:pt:dx:ge:ge:tkp:avm:dt', 2),\n",
              " ('lx:ps:pt:ge:tkp:cm:arg:vx:dt:ex:xp:xe:ex:xp:xe', 2),\n",
              " ('lx:rt:ps:pt:ge:tkp:sf:nt:dt:ex:xp:xe:ex:xp:xe', 2),\n",
              " ('lx:rt:ps:ge:tkp:dt:ex:xp:xe', 2),\n",
              " ('lx:ps:pt:ge:tkp:sc:vx:dt:ex:xp:xe:ex:xp:xe', 2),\n",
              " ('lx:ps:ge:tkp:eng:dt:ex:xp:xe:ex:xp:xe', 2),\n",
              " ('lx:ps:pt:ge:tkp:sf:nt:dt:ex:xp:xe', 2),\n",
              " ('lx:ps:pt:ge:tkp:eng:sa:sf:dt:ex:xp:xe:ex:xp:xe', 2),\n",
              " ('lx:ps:pt:ge:tkp:dx:dt:ex:xp:xe', 2),\n",
              " ('lx:ps:pt:ge:tkp:vx:arg:cmt:dt', 2),\n",
              " ('lx:ps:pt:ge:tkp:nt:pt:dt:ex:xp:xe', 2),\n",
              " ('lx:rt:ps:pt:ge:ge:tkp:avm:dt:ex:xp:xe:ex:xp:xe', 2),\n",
              " ('lx:rt:ps:pt:ge:ge:ge:tkp:dt:ex:xp:xe:ex:xp:xe:ex:xp:xe', 2),\n",
              " ('lx:ps:pt:ge:ge:tkp:nt:dt:ex:xp:xe', 2),\n",
              " ('_sh:_DateStampHasFourDigitYear', 1),\n",
              " ('lx:ps:pt:ge:tkp:dcsv:vx:sc:dt:ex:xp:xe', 1),\n",
              " ('lx:ps:pt:cl:ge:tkp:pt:sf:dt:ex:xp:xe', 1),\n",
              " ('lx:ps:pt:ge:tkp:eng:eng:cmt:dt:ex:xp:xe', 1),\n",
              " ('lx:rt:ps:rdp:ge:tkp:sc:cmt:dt:ex:xp:xe:ex:xp:xe:ex:xp:xe:ex:xp:xe', 1),\n",
              " ('lx:ps:pt:ge:tkp:sf:cmt:dt:ex:xp:xe', 1),\n",
              " ('lx:rt:ps:pt:ge:tkp:vx:sc:cmt:dt:ex:xp:xe:ex:xp:xe', 1),\n",
              " ('lx:rt:ps:pt:ge:ge:tkp:dt', 1),\n",
              " ('lx:rt:ps:pt:ge:eng:eng:eng:ge:tkp:tkp:arg:vx:dt:cmt:ex:xp:xe:ex:xp:xe:ex:xp:xe:ex:xp:xe:ex:xp:xe',\n",
              "  1),\n",
              " ('lx:ps:pt:ge:tkp:eng:eng:arg:vx:dcsv:dt:ex:xp:xe', 1),\n",
              " ('lx:rt:ps:pt:ge:eng:eng:eng:eng:tkp:arg:vx:dt:ex:xp:xe:ex:xp:xe:ex:xp:xe',\n",
              "  1),\n",
              " ('lx:rt:ps:pt:ge:tkp:cmt:nt:dt:ex:xp:xe:ex:xp:xe', 1),\n",
              " ('lx:ps:pt:ge:tkp:vx:dt:cmt:ex:xp:xe:ex:xp:xe', 1),\n",
              " ('lx:ps:pt:ge:tkp:sf:nt:cmt:dt:ex:xp:xe:ex:xp:xe', 1),\n",
              " ('lx:ps:pt:ge:ge:tkp:arg:vx:dcsv:dt:cmt:ex:xp:xe', 1),\n",
              " ('lx:rt:ps:pt:ge:tkp:eng:eng:eng:eng:eng:eng:dt:ex:xp:xe:ex:xp:xe', 1),\n",
              " ('lx:ps:pt:ge:tkp:arg:vx:dcsv:dt:ex:xp:xe:ex:xp:xe', 1),\n",
              " ('lx:ps:pt:ge:tkp:vx:cmt:dt', 1),\n",
              " ('lx:rt:ps:ge:tkp:am:dcsv:dt:ex:xp:xe:ex:xp:xe', 1),\n",
              " ('lx:alt:rt:ps:pt:ge:eng:eng:tkp:dt:ex:xp:xe', 1),\n",
              " ('lx:rt:ps:pt:sn:ge:ge:ge:tkp:tkp:tkp:arg:vx:dt:ex:xp:xe:ex:xp:xe', 1),\n",
              " ('lx:rt:ps:pt:sn:ge:tkp:arg:vx:dt:ex:xp:xe:ex:xp:xe', 1),\n",
              " ('lx:ps:ge:ge:ge:tkp:dcsv:am:cmt:dt:ex:xp:xe', 1),\n",
              " ('lx:rt:ps:pt:ge:tkp:arg:vx:cmt:dt:ex:xp:xe:ex:xp:xe:ex:xp:xe', 1),\n",
              " ('lx:ps:pt:ge:ge:ge:tkp:cmt:dt:ex:xp:xe', 1),\n",
              " ('lx:ps:pt:ge:ge:tkp:sc:vx:nt:dt:ex:xp:xe:cv', 1),\n",
              " ('lx:ps:pt:ge:tkp:sf:dt:ex:xp:xe:ex:xp:xe', 1),\n",
              " ('lx:ps:pt:ge:ge:tkp:vx:cmt:sc:dt:ex:xp:xe:ex:xp:xe', 1),\n",
              " ('lx:rt:ps:pt:ge:ge:ge:tkp:dt:cmt:ex:xp:xe:ex:xp:xe', 1),\n",
              " ('lx:ps:pt:ge:tkp:eng:eng:vx:sc:dt:ex:xp:xe:ex:xp:xe', 1),\n",
              " ('lx:rt:ps:pt:dx:ge:eng:eng:tkp:tkp:vx:arg:dt:ex:xp:xe', 1),\n",
              " ('lx:ps:pt:ge:ge:tkp:nt:cmt:dt:ex:xp:xe', 1),\n",
              " ('lx:ps:pt:ge:tkp:sf:cmt:dt:ex:xp:xe:ex:xp:xe', 1),\n",
              " ('lx:alt:ps:pt:ge:ge:ge:tkp:cmt:dcsv:vx:sc:dt:ex:xp:xe:ex:xp:xe', 1),\n",
              " ('lx:alt:rt:ps:pt:ge:ge:tkp:cmt:arg:vx:cmt:nt:dt:ex:xp:xe:ex:xp:xe', 1),\n",
              " ('lx:ps:ge:ge:tkp:cmt:dt:ex:xp:xe', 1),\n",
              " ('lx:rt:ps:ge:ge:tkp:dt:ex:xp:xe', 1),\n",
              " ('lx:rt:ps:pt:ge:tkp:dt:cmt:ex:xp:xe:ex:xp:xe:ex:xp:xe', 1),\n",
              " ('lx:ps:pt:ge:tkp:dx:dt:ex:xp:xe:ex:xp:xe', 1),\n",
              " ('lx:ps:pt:ge:ge:tkp:tkp:tkp:sf:nt:dt:ex:xp:xe:ex:xp:xe', 1),\n",
              " ('lx:ps:pt:ge:eng:eng:eng:tkp:cmt:dt:ex:xp:xe:ex:xp:xe', 1),\n",
              " ('lx:ps:pt:cl:ge:tkp:nt:sf:dt:ex:xp:xe:ex:xp:xe:ex:xp:xe:ex:xp:xe', 1),\n",
              " ('lx:ps:pt:ge:tkp:arg:vx:dt:ex:xp:xe:ex:xp:xe:ex:xp:xe:ex:xp:xe', 1),\n",
              " ('lx:ps:pt:ge:eng:eng:eng:eng:tkp:dt:ex:xp:xe', 1),\n",
              " ('lx:ps:pt:ge:eng:eng:tkp:cmt:vx:dt:ex:xp:xe:ex:xp:xe:ex:xp:xe', 1),\n",
              " ('lx:ps:pt:ge:eng:eng:tkp:vx:arg:dt:ex:xp:xe:ex:xp:xe:ex:xp:xe', 1),\n",
              " ('lx:rt:ps:pt:ge:ge:tkp:dt:cmt:ex:xp:xe:ex:xp:xe:ex:xp:xe', 1),\n",
              " ('lx:ps:pt:ge:tkp:arg:vx:nt:dcsv:dt:ex:xp:xe:ex:xp:xe', 1),\n",
              " ('lx:rt:ps:pt:ge:ge:dt:ex:xp:xe:ex:xp:xe', 1),\n",
              " ('lx:ps:pt:ge:tkp:eng:arg:vx:nt:dt:ex:xp:xe:ex:xp:xe', 1),\n",
              " ('lx:rt:ps:pt:dx:ge:tkp:avm:dt', 1),\n",
              " ('lx:rt:ps:pt:ge:ge:tkp:tkp:vx:nt:dt:ex:xp:xe:ex:xp:xe:ex:xp:xe:ex:xp:xe:ex:xp:xe',\n",
              "  1),\n",
              " ('lx:ps:pt:ge:tkp:nt:sa:sf:dt:ex:xp:xe', 1),\n",
              " ('lx:ps:pt:ge:tkp:ig:nt:dt:cmt:ex:xp:xe:ex:xp:xe:ex:xp:xe', 1),\n",
              " ('lx:alt:ps:pt:ge:tkp:ig:nt:dt', 1),\n",
              " ('lx:ps:pt:ge:tkp:eng:vx:arg:cmt:dt:ex:xp:xe', 1),\n",
              " ('lx:ps:pt:ge:ge:tkp:dt:arg:vx:cmt:ex:xp:xe:ex:xp:xe:ex:xp:xe', 1),\n",
              " ('lx:ps:pt:ge:eng:eng:eng:tkp:tkp:vx:sc:dt:ex:xp:xe:ex:xp:xe', 1),\n",
              " ('lx:alt:rt:ps:pt:ge:ge:tkp:tkp:cmt:dt:ex:xp:xe:ex:xp:xe:ex:xp:xe:ex:xp:xe',\n",
              "  1),\n",
              " ('lx:rt:ps:pt:rdp:ge:ge:tkp:cm:arg:vx:cmt:dt:ex:xp:xe:ex:xp:xe', 1),\n",
              " ('lx:ps:pt:ge:tkp:eng:vx:cmt:dt:ex:xp:xe:ex:xp:xe:ex:xp:xe', 1),\n",
              " ('lx:rt:ps:pt:dx:ge:tkp:eng:vx:arg:dt:ex:xp:xe', 1),\n",
              " ('lx:rt:ps:pt:ge:ge:ge:tkp:cmt:dt:ex:xp:xe:ex:xp:xe:ex:xp:xe', 1),\n",
              " ('lx:rt:ps:pt:ge:ge:tkp:tkp:dt:ex:xp:xe', 1),\n",
              " ('lx:ps:pt:ge:ge:tkp:arg:vx:cmt:dt:ex:xp:xe', 1),\n",
              " ('lx:rt:ps:pt:ge:eng:eng:tkp:dt:ex:xp:xe', 1),\n",
              " ('lx:ps:pt:ge:tkp:tkp:dt:ex:xp:xe:ex:xp:xe:ex:xp:xe:ex:xp', 1),\n",
              " ('lx:rt:ps:pt:ge:ge:tkp:sf:nt:dt:ex:xp:xe', 1),\n",
              " ('lx:ps:pt:ge:tkp:tkp:eng:eng:eng:eng:arg:vx:dt:ex:xp:xe:ex:xp:xe:ex:xp:xe:ex:xp:xe',\n",
              "  1),\n",
              " ('lx:rt:ps:pt:ge:tkp:eng:cmt:dt:ex:xp:xe:ex:xp:xe', 1),\n",
              " ('lx:rt:ps:pt:rdp:ge:tkp:vx:arg:dt:ex:xp:xe:ex:xp:xe:ex:xp:xe', 1),\n",
              " ('lx:rt:ps:pt:ge:tkp:eng:dt', 1),\n",
              " ('lx:rt:ps:pt:ge:tkp:vx:arg:dt:ex:xp:xe:ex:xp:xe:ex:xp:xe:ex:xp:xe:ex:xp:xe:ex:xp:xe',\n",
              "  1),\n",
              " ('lx:rt:ps:pt:dx:ge:eng:eng:tkp:dt', 1),\n",
              " ('lx:ps:pt:ge:tkp:dt:ex:xp:xe:ex:xp:xe:ex:xp:xe:ex:xp:xe', 1),\n",
              " ('lx:ps:pt:ge:ge:tkp:sa:vx:sc:dt:ex:xp:xe:ex:xp:xe', 1),\n",
              " ('lx:alt:rt:ps:pt:ge:ge:tkp:dt:ex:xp:xe:ex:xp:xe:ex:xp:xe:ex:xp:xe', 1),\n",
              " ('lx:ps:pt:dx:ge:eng:eng:tkp:dt', 1),\n",
              " ('lx:ps:pt:ge:eng:nt:dt:ex:xp:xe', 1),\n",
              " ('lx:ps:pt:ge:tkp:dcsv:vx:dt:ex:xp:xe:ex:xp:xe', 1),\n",
              " ('lx:rt:ps:pt:ge:tkp:vx:arg:dt:cmt:ex:xp:xe:ex:xp:xe', 1),\n",
              " ('lx:rt:ps:ge:tkp:cmt:dt:ex:xp:xe:ex:xp:xe', 1),\n",
              " ('lx:ps:pt:ge:ge:tkp:dcsv:vx:dt:ex:xp:xe:ex:xp:xe:ex:xp:xe', 1),\n",
              " ('lx:rt:ps:pt:ge:tkp:eng:vx:arg:dt:ex:xp:xe:ex:xp:xe:ex:xp:xe', 1),\n",
              " ('lx:rt:ps:pt:ge:tkp:nt:cmt:dt:ex:xp:xe:ex:xp:xe', 1),\n",
              " ('lx:alt:rt:ps:pt:rdp:ge:tkp:cmt:arg:vx:dt:ex:xp:xe:ex:xp:xe:ex:xp:xe', 1),\n",
              " ('lx:ps:pt:ge:tkp:tkp:eng:cmt:dt:ex:xp:xe:ex:xp:xe', 1),\n",
              " ('lx:ps:pt:ge:tkp:sc:vx:cmt:dt:ex:xp:xe:ex:xp:xe', 1),\n",
              " ('lx:alt:rt:ps:pt:ge:eng:eng:tkp:dt:ex:xp:xe:ex:xp:xe:ex:xp:xe', 1),\n",
              " ('lx:ps:pt:ge:ge:ge:tkp:arg:vx:nt:dt:ex:xp:xe:ex:xp:xe', 1),\n",
              " ('lx:ps:pt:ge:ge:tkp:vx:sc:dt:cmt:ex:xp:xe:ex:xp:xe:ex:xp:xe', 1),\n",
              " ('lx:ps:pt:ge:tkp:tkp:dcsv:vx:sc:dt:ex:xp:xe:ex:xp:xe:ex:xp:xe:ex:xp:xe', 1),\n",
              " ('lx:rt:ps:pt:sn:rdp:ge:tkp:vx:sc:cmt:dt:ex:xp:xe:ex:xp:xe', 1),\n",
              " ('lx:rt:ps:pt:sn:rdp:ge:tkp:vx:sc:dt:ex:xp:xe:ex:xp:xe', 1),\n",
              " ('lx:rt:ps:pt:ge:tkp:dx:dt:ex:xp:xe:ex:xp:xe', 1),\n",
              " ('lx:ps:pt:ge:tkp:eng:eng:eng:dcsv:vx:sc:dt:ex:xp:xe:ex:xp:xe', 1),\n",
              " ('lx:rt:ps:pt:ge:tkp:vx:arg:dt:ex:xp:xe:ex:xp:xe:ex:xp:xe:ex:xp:xe', 1),\n",
              " ('lx:ps:pt:ge:ge:tkp:vx:arg:dt:ex:xp:xe:ex:xp:xe:ex:xp:xe', 1),\n",
              " ('lx:rt:ps:pt:ge:tkp:eng:eng:eng:arg:vx:dt:ex:xp:xe:ex:xp:xe', 1),\n",
              " ('lx:rt:ps:pt:ge:ge:tkp:dx:dx:dt:ex:xp:xe:ex:xp:xe', 1),\n",
              " ('lx:ps:pt:ig:ge:tkp:dt', 1),\n",
              " ('lx:ps:pt:ge:ge:tkp:arg:vx:dcpv:dt:ex:xp:xe:ex:xp:xe', 1),\n",
              " ('lx:rt:ps:pt:ge:ge:ge:tkp:tkp:dt:ex:xp:xe:ex:xp:xe', 1),\n",
              " ('lx:ps:pt:ge:tkp:ig:dt:ex:xp:xe', 1),\n",
              " ('lx:ps:pt:ge:tkp:eng:nt:vx:sc:dt:ex:xp:xe:ex:xp:xe:ex:xp:xe:ex:xp:xe', 1),\n",
              " ('lx:ps:pt:ge:tkp:dt:arg:vx:ex:xp:xe:ex:xp:xe:ex:xp:xe', 1),\n",
              " ('lx:rt:ps:pt:ge:eng:eng:eng:tkp:ge:vx:arg:dt:rdp:ex:xp:xe:ex:xp:xe', 1),\n",
              " ('lx:rt:ps:pt:ge:tkp:avm:sc:dt:ex:xp:xe', 1),\n",
              " ('lx:ps:pt:ge:ge:tkp:nt:arg:vx:dt:ex:xp:xe:ex:xp:xe:ex:xp:xe', 1),\n",
              " ('lx:ps:pt:dx:ge:tkp:nt:dt:ex:xp:xe', 1),\n",
              " ('lx:ps:pt:ge:ge:ge:ge:tkp:arg:vx:cm:cmt:dt:ex:xp:xe:ex:xp:xe', 1),\n",
              " ('lx:rt:ps:pt:rdp:ge:tkp:nt:arg:vx:dt:ex:xp:xe:ex:xp:xe', 1),\n",
              " ('lx:rt:ps:pt:ge:tkp:eng:dt:ex:xp:xe', 1),\n",
              " ('lx:ps:pt:dx:ge:tkp:eng:ig:dt', 1),\n",
              " ('lx:ps:pt:ge:eng:eng:tkp:vx:sc:dcpv:cmt:dt:ex:xp:xe:ex:xp:xe', 1),\n",
              " ('lx:ps:pt:ge:tkp:nt:cmt:dt:alt:ex:xp:xe:ex:xp:xe:ex:xp:xe', 1),\n",
              " ('lx:ps:pt:ge:tkp:eng:nt:dt:ex:xp:xe:ex:xp:xe', 1),\n",
              " ('lx:rt:ps:pt:rdp:ge:tkp:tkp:eng:eng:eng:eng:vx:sc:cmt:dt:ex:xp:xe:ex:xp:xe:ex:xp:xe:ex:xp:xe',\n",
              "  1),\n",
              " ('lx:rt:ps:pt:ge:tkp:vx:arg:cmt:dt:ex:xp:xe:ex:xp:xe:ex:xp:xe:ex:xp:xe:ex:xp:xe',\n",
              "  1),\n",
              " ('lx:ps:pt:ge:eng:eng:eng:tkp:tkp:dcsv:cm:vx:arg:sc:cmt:dt:ex:xp:xe:ex:xp:xe:ex:xp:xe:ex:xp:xe',\n",
              "  1),\n",
              " ('lx:rt:ps:pt:ge:eng:eng:tkp:vx:arg:dt:ex:xp:xe:ex:xp:xe:ex:xp:xe', 1),\n",
              " ('lx:rt:ps:pt:ge:eng:tkp:vx:sc:cmt:dt:ex:xp:xe', 1),\n",
              " ('lx:rt:ps:pt:ge:ge:tkp:vx:arg:cmt:dt:ex:xp:xe:ex:xp:xe:ex:xp:xe', 1),\n",
              " ('lx:alt:rt:ps:pt:ge:ge:ge:tkp:dt:ex:xp:xe:ex:xp:xe:ex:xp:xe:ex:xp:xe:ex:xp:xe',\n",
              "  1),\n",
              " ('lx:ps:pt:ge:ge:tkp:tkp:tkp:vx:cmt:dt:ex:xp:xe', 1),\n",
              " ('lx:ps:pt:ge:tkp:nt:ig:dt:ex:xp:xe:ex:xp:xe', 1),\n",
              " ('lx:ps:pt:ge:tkp:dcpv:vx:arg:dt:cmt:ex:xp:xe:ex:xp:xe', 1),\n",
              " ('lx:ps:dx:ge:tkp:eng:eng:dt:ex:xp:xe', 1),\n",
              " ('lx:rt:ps:pt:ge:eng:eng:eng:tkp:dt:ex:xp:xe:ex:xp:xe:ex:xp:xe:ex:xp:xe:ex:xp:xe',\n",
              "  1),\n",
              " ('lx:rt:ps:ge:ge:ge:tkp:tkp:dt:ex:xp:xe', 1),\n",
              " ('lx:alt:rt:ps:pt:ge:tkp:tkp:cmt:dt:ex:xp:xe:ex:xp:xe:ex:xp:xe', 1),\n",
              " ('lx:rt:ps:pt:rdp:ge:ge:tkp:tkp:dt:ex:xp:xe:ex:xp:xe', 1),\n",
              " ('lx:rt:ps:pt:ge:tkp:eng:eng:eng:nt:dt:ex:xp:xe:ex:xp:xe', 1),\n",
              " ('lx:alt:rt:ps:pt:ge:tkp:sc:dt:ex:xp:xe', 1),\n",
              " ('lx:rt:ps:pt:rdp:ge:ge:ge:tkp:tkp:nt:vx:sc:dt:ex:xp:xe:ex:xp:xe:ex:xp:xe',\n",
              "  1),\n",
              " ('lx:ps:ge:ge:tkp:cmt:dt:ex:xp:xe:ex:xp:xe', 1),\n",
              " ('lx:rt:ps:pt:ge:tkp:nt:dt:ex:xp:xe', 1),\n",
              " ('lx:rt:ps:pt:ge:ge:tkp:vx:arg:dt:ex:xp:xe:ex:xp:xe:ex:xp:xe', 1),\n",
              " ('lx:alt:rt:ps:pt:ge:tkp:nt:sa:dt:ex:xp:xe:ex:xp:xe:ex:xp:xe', 1),\n",
              " ('lx:ps:pt:ge:tkp:cmt:dt:alt:ex:xp:xe', 1),\n",
              " ('lx:ps:pt:ge:tkp:tkp:sc:vx:dt:ex:xp:xe:ex:xp:xe', 1),\n",
              " ('lx:rt:ps:pt:rdp:ge:tkp:vx:sc:dt:ex:xp:xe:ex:xp:xe:ex:xp:xe', 1),\n",
              " ('lx:ps:pt:ge:tkp:tkp:eng:eng:eng:eng:cm:am:dcsv:arg:vx:cmt:dt:ex:xp:xe:ex:xp:xe',\n",
              "  1),\n",
              " ('lx:alt:ps:pt:ge:ge:ge:ge:tkp:cmt:cm:arg:vx:nt:dt:ex:xp:xe:ex:xp:xe:ex:xp:xe',\n",
              "  1),\n",
              " ('lx:alt:rt:ps:pt:ge:tkp:nt:cmt:dt:ex:xp:xe:ex:xp:xe:ex:xp:xe:ex:xp:xe', 1),\n",
              " ('lx:rt:ps:pt:rdp:ge:tkp:eng:eng:vx:arg:dt:ex:xp:xe:ex:xp:xe:ex:xp:xe', 1),\n",
              " ('lx:ps:pt:ge:eng:tkp:dt:ex:xp:xe:ex:xp:xe:ex:xp', 1),\n",
              " ('lx:ps:pt:ge:tkp:tkp:arg:vx:dt:ex:xp:xe:ex:xp:xe:ex:xp:xe:ex:xp:xe', 1),\n",
              " ('lx:ps:pt:ge:ge:tkp:vx:arg:dt:cmt:ex:xp:xe:ex:xp:xe:ex:xp:xe', 1),\n",
              " ('lx:ps:pt:ge:tkp:vx:sc:cmt:dt:ex:xp:xe:ex:xp:xe:ex:xp', 1),\n",
              " ('lx:rt:ps:pt:rdp:ge:ge:tkp:cm:vx:arg:dt:ex:xp:xe:ex:xp:xe', 1),\n",
              " ('lx:rt:ps:pt:rdp:ge:tkp:vx:arg:dt:ex:xp:xe:ex:xp:xe', 1),\n",
              " ('lx:ps:pt:ge:tkp:cm:vx:arg:dt:cmt:ex:xp:xe:ex:xp:xe:ex:xp:xe', 1),\n",
              " ('lx:ps:pt:ge:ge:tkp:vx:sc:cmt:dt:ex:xp:xe', 1),\n",
              " ('lx:ps:pt:ge:eng:eng:eng:tkp:tkp:arg:vx:dt:ex:xp:xe:ex:xp:xe', 1),\n",
              " ('lx:ps:pt:ge:ge:ge:ge:tkp:dt:ex:xp:xe:ex:xp:xe', 1),\n",
              " ('lx:ps:pt:ge:ge:tkp:dt:cmt:ex:xp:xe:ex:xp:xe:ex:xp:xe', 1),\n",
              " ('lx:ps:pt:ge:ge:ge:tkp:cmt:arg:vx:cm:sa:dt:ex:xp:xe:ex:xp:xe', 1),\n",
              " ('lx:rt:ps:pt:ge:ge:tkp:tkp:dt:ex:xp:xe:ex:xp:xe:ex:xp:xe:ex:xp:xe', 1),\n",
              " ('lx:ps:pt:ge:eng:eng:tkp:tkp:vx:sc:dcpv:dt:cmt:ex:xp:xe:ex:xp:xp', 1),\n",
              " ('lx:ps:pt:ge:eng:tkp:tkp:vx:arg:sc:dt:ex:xp:xe', 1),\n",
              " ('lx:rt:ps:pt:ge:tkp:eng:vx:arg:nt:dt:ex:xp:xe:ex:xp:xe:ex:xp:xe', 1),\n",
              " ('lx:ps:pt:ge:eng:eng:eng:tkp:cm:arg:cmt:vx:dt:ex:xp:xe:ex:xp:xe', 1),\n",
              " ('lx:rt:ps:pt:rdp:ge:tkp:eng:arg:vx:cmt:dt:ex:xp:xe:ex:xp:xe', 1),\n",
              " ('lx:rt:ps:pt:ge:tkp:dt:ex:xp:xe:xp:xe', 1),\n",
              " ('lx:alt:rt:ps:pt:ge:ge:tkp:dt:cmt:ex:xp:xe:ex:xp:xe:ex:xp:xe', 1),\n",
              " ('lx:ps:pt:ge:ge:ge:tkp:nt:arg:vx:dt:ex:xp:xe:ex:xp:xe', 1),\n",
              " ('lx:rt:ps:pt:rdp:ge:ge:tkp:vx:cmt:dt:ex:xp:xe:ex:xp:xe', 1),\n",
              " ('lx:ps:pt:ge:eng:eng:eng:tkp:tkp:cm:vx:arg:sc:cmt:dt:ex:xp:xe:ex:xp:xe:ex:xp:xe:ex:xp:xe:ex:xp:xe',\n",
              "  1),\n",
              " ('lx:ps:ge:tkp:cmt:dt:ex:xp:xe', 1),\n",
              " ('lx:ps:pt:ge:eng:eng:tkp:nt:dt', 1),\n",
              " ('lx:rt:ge:tkp:dt:ex:xp:xe', 1),\n",
              " ('lx:ps:pt:ge:tkp:tkp:vx:arg:dt:ex:xp:xe:ex:xp:xe', 1),\n",
              " ('lx:ps:pt:ge:eng:tkp:vx:arg:cmt:sc:dcpv:dt:ex:xp:xe:ex:xp:xe:ex:xp:xe', 1),\n",
              " ('lx:ps:pt:ge:tkp:dcsv:vx:dcpv:dadv:dt:ex:xp:xe:ex:xp:xe', 1),\n",
              " ('lx:rt:ps:pt:ge:tkp:tkp:arg:vx:dt:ex:xp:xe:ex:xp:xe', 1),\n",
              " ('lx:alt:rt:ps:pt:ge:ge:tkp:nt:dt:ex:xp:xe:ex:xp:xe', 1),\n",
              " ('lx:ps:dx:ge:tkp:dt:nt:cmt', 1),\n",
              " ('lx:alt:rt:ps:pt:ge:ge:tkp:tkp:dt:ex:xp:xe:ex:xp:xe', 1),\n",
              " ('lx:ps:pt:ge:ge:tkp:vx:arg:cmt:dt:ex:xp:xe:ex:xp:xe:ex:xp:xe', 1),\n",
              " ('lx:ps:pt:ge:ge:tkp:vx:dt:cmt:ex:xp:xe:ex:xp:xe', 1),\n",
              " ('lx:ps:pt:ge:tkp:am:vx:dt:ex:xp:xe:ex:xp:xe:ex:xp:xe', 1),\n",
              " ('lx:ps:pt:ge:tkp:eng:eng:dt:ex:xp:xe:ex:xp:xe', 1),\n",
              " ('lx:rt:rt:ps:pt:dx:ge:tkp:dt', 1),\n",
              " ('lx:rt:ps:pt:cl:ge:tkp:sf:nt:dt:ex:xp:xe', 1),\n",
              " ('lx:alt:rt:ps:pt:ge:tkp:nt:dt:ex:xp:xe:ex:xp', 1),\n",
              " ('lx:ps:pt:ge:ge:tkp:arg:vx:dt:ex:xp:xe', 1),\n",
              " ('lx:ps:pt:ge:tkp:eng:sa:dt:ex:xp:xe:ex:xp:xe', 1),\n",
              " ('lx:ps:pt:ge:tkp:sf:nt:dt:ex:xp:xe:ex:xp:xe', 1),\n",
              " ('lx:ps:ge:ge:tkp:dt:cmt', 1),\n",
              " ('lx:ps:pt:ge:tkp:cmt:arg:vx:dt:ex:xp:xe:ex:xp:xe:ex:xp:xe:ex:xp:xe', 1),\n",
              " ('lx:ps:pt:ge:ge:tkp:cm:vx:arg:dt:ex:xp:xe:ex:xp:xe', 1),\n",
              " ('lx:rt:ps:pt:rdp:ge:ge:tkp:tkp:vx:arg:dt:ex:xp:xe:ex:xp:xe', 1),\n",
              " ('lx:ps:pt:ge:tkp:eng:eng:eng:arg:vx:dt:ex:xp:xe:ex:xp:xe', 1),\n",
              " ('lx:rt:ps:pt:ge:tkp:eng:eng:eng:dt:ex:xp:xe', 1),\n",
              " ('lx:ps:pt:ge:tkp:nt:sa:dt:ex:xp:xe', 1),\n",
              " ('lx:alt:ps:pt:ge:tkp:nt:dt:ex:xp:xe', 1),\n",
              " ('lx:rt:wf:wf:ps:pt:ge:tkp:dt:ex:xp:xe:ex:xp:xe:ex:xp:xe', 1),\n",
              " ('lx:rt:ps:pt:ge:tkp:cmt:nt:dt', 1),\n",
              " ('lx:ps:pt:ge:ge:ge:tkp:vx:nt:cmt:dt:ex:xp:xe', 1),\n",
              " ('lx:alt:rt:ps:pt:ge:ge:tkp:dt', 1),\n",
              " ('lx:alt:rt:ps:pt:ge:tkp:dt:ex:xp:xe:ex:xp:xe:ex:xp:xe:ex:xp:xe', 1),\n",
              " ('lx:ps:pt:ge:tkp:dx:vx:arg:dt:ex:xp:xe', 1),\n",
              " ('lx:rt:ps:pt:ge:ge:tkp:cmt:dt', 1),\n",
              " ('lx:ps:pt:ge:tkp:dcsv:vx:arg:cmt:dt:ex:xp:xe:ex:xp:xe', 1),\n",
              " ('lx:ps:pt:dx:ge:ge:tkp:vx:arg:dt:ex:xp:xe', 1),\n",
              " ('lx:ps:pt:ge:ge:ge:tkp:cmt:vx:arg:dt:ex:xp:xe', 1),\n",
              " ('lx:rt:ps:pt:ge:ge:tkp:nt:dt:ex:xp:xe:ex:xp:xe', 1),\n",
              " ('lx:ps:pt:ge:ge:tkp:dt:vx:cmt:ex:xp:xe:ex:xp:xe', 1),\n",
              " ('lx:ps:ge:ge:tkp:dt:ex:xp:xe:ex:xp:xe', 1),\n",
              " ('lx:ps:pt:ge:ge:tkp:cmt:dcsv:vx:dt:cmt:ex:xp:xe:ex:xp:xe', 1),\n",
              " ('lx:rt:ps:pt:ge:ge:tkp:vx:arg:dt:ex:xp:xe', 1),\n",
              " ('lx:ps:pt:ge:tkp:vx:ex:xp:xe:dt', 1),\n",
              " ('lx:ps:pt:dx:ge:tkp:nt:vx:arg:dt:ex:xp:xe', 1),\n",
              " ('lx:cl:ps:pt:ge:tkp:dt', 1),\n",
              " ('lx:ps:pt:dx:ge:eng:eng:tkp:tkp:cmt:dt:ex:xp:xe', 1),\n",
              " ('lx:ps:pt:ge:tkp:nt:arg:vx:dt:ex:xp:xe:ex:xp:xe', 1),\n",
              " ('lx:ps:pt:ge:tkp:nt:arg:vx:cmt:dt', 1),\n",
              " ('lx:ps:pt:ge:tkp:eng:arg:vx:dt:ex:xp:xe:ex:xp:xe', 1),\n",
              " ('lx:rt:ps:pt:dx:ge:tkp:vx:dt:ex:xp:xe', 1),\n",
              " ('lx:ps:pt:ge:tkp:vx:arg:dt:cmt:ex:xp:xe:ex:xp:xe', 1),\n",
              " ('lx:rt:ps:pt:ge:tkp:dt:cmt:ex:xp:xe:ex:xp:xe', 1),\n",
              " ('lx:rt:ps:pt:ge:ge:ge:tkp:dt', 1),\n",
              " ('lx:rt:ps:pt:ge:tkp:eng:eng:eng:vx:arg:dt:ex:xp:xe:ex:xp:xe', 1),\n",
              " ('lx:ps:pt:ge:tkp:vx:dt:ex:xp:xe:ex:xp:xe:ex:xp:xe', 1),\n",
              " ('lx:ps:pt:ge:tkp:eng:sf:dt:ex:xp:xe', 1),\n",
              " ('lx:ps:pt:ge:tkp:nt:cmt:dt', 1),\n",
              " ('lx:rt:ps:pt:ge:ge:ge:tkp:avm:sc:dt:ex:xp:xe', 1),\n",
              " ('lx:rt:ps:pt:ge:tkp:vx:dt:cmt:ex:xp:xe:ex:xp:xe', 1),\n",
              " ('lx:ps:pt:ge:ge:tkp:nt:dt:ex:xp:xe:ex:xp:xe', 1),\n",
              " ('lx:ps:pt:ge:ge:tkp:tkp:vx:arg:cmt:cmt:dt:ex:xp:xe', 1),\n",
              " ('lx:rt:ps:pt:ge:tkp:arg:vx:cmt:dt:ex:xp:xe:ex:xp:xe', 1),\n",
              " ('lx:ps:pt:ge:eng:eng:tkp:tkp:dcsv:arg:vx:dt:ex:xp:xe:ex:xp:xe:ex:xp:xe', 1),\n",
              " ('lx:rt:ps:pt:ge:eng:eng:tkp:arg:vx:dt:ex:xp:xe:ex:xp:xe:ex:xp:xe', 1),\n",
              " ('lx:rt:ps:pt:rdp:ge:ge:tkp:arg:vx:dt:ex:xp:xe', 1),\n",
              " ('lx:ps:pt:ge:tkp:vx:arg:nt:dt:ex:xp:xe:ex:xp:xe', 1),\n",
              " ('lx:ps:pt:ge:tkp:eng:sa:dt:ex:xp:xe', 1),\n",
              " ('lx:rt:ps:pt:ge:tkp:eng:eng:eng:dt:ex:xp:xe:ex:xp:xe', 1),\n",
              " ('lx:ps:pt:ge:tkp:nt:dt:sa:cmt:ex:xp:xe', 1),\n",
              " ('lx:rt:ps:pt:ge:ge:tkp:arg:vx:dt:ex:xp:xe:ex:xp:xe', 1),\n",
              " ('lx:rt:ps:pt:ge:tkp:rdp:arg:vx:dt:cmt:ex:xp:xe:ex:xp:xe:ex:xp:xe', 1),\n",
              " ('lx:rt:ps:pt:ge:tkp:avm:sc:dt:ex:xp:xe:ex:xp:xe', 1),\n",
              " ('lx:ps:pt:ge:ge:ge:tkp:dcsv:vx:nt:dt:ex:xp:xe:ex:xp:xe', 1),\n",
              " ('lx:ps:pt:dx:ge:eng:tkp:vx:dt:ex:xp:xe', 1),\n",
              " ('lx:alt:ps:pt:ge:tkp:dt:ex:xp:xe:ex:xp:xe', 1),\n",
              " ('lx:ps:pt:ge:tkp:sc:vx:nt:dt:ex:xp:xe', 1),\n",
              " ('lx:ps:ge:tkp:tkp:dt:cmt:ex:xp:xe:ex:xp:xe:ex:xp:xe:ex:xp:xe', 1),\n",
              " ('lx:alt:rt:ps:pt:ge:eng:eng:eng:tkp:tkp:dt:ex:xp:xe:ex:xp:xe:ex:xp:xe', 1),\n",
              " ('lx:rt:ps:pt:ge:tkp:vx:dcsv:dt:ex:xp:xe:ex:xp:xe:ex:xp:xe', 1),\n",
              " ('lx:rt:ps:pt:ge:tkp:vx:dt:ex:xp:xe:ex:xp:xe', 1),\n",
              " ('lx:ps:pt:eng:ge:tkp:arg:vx:dt:ex:xp:xe', 1),\n",
              " ('lx:ps:pt:ge:ge:ge:tkp:cm:arg:vx:cmt:dt:ex:xp:xe:ex:xp:xe', 1),\n",
              " ('lx:rt:ps:pt:ge:tkp:ex:xp:xe:dt', 1),\n",
              " ('lx:rt:ps:pt:dx:ge:tkp:eng:vx:cmt:dt:ex:xp:xe', 1),\n",
              " ('lx:ps:pt:ge:ge:ge:tkp:dt:ex:xp:xe:ex:xp:xe', 1),\n",
              " ('lx:ps:pt:ge:tkp:tkp:dt:ex:xp:xe', 1),\n",
              " ('lx:ps:pt:ge:eng:eng:eng:eng:tkp:arg:vx:dt:ex:xp:xe:ex:xp:xe', 1),\n",
              " ('lx:ps:pt:ge:tkp:nt:pt:dt:ex:xp:xe:ex:xp:xe', 1),\n",
              " ('lx:ps:ge:tkp:eng:dt:ex:xp:xe:ex:xp:xe:ex:xp:xe', 1),\n",
              " ('lx:ps:pt:ge:tkp:eng:nt:sa:sf:dt:ex:xp:xe:ex:xp:xe', 1),\n",
              " ('lx:ps:pt:ge:eng:eng:tkp:dt:ex:xp:xe:ex:xp:xe', 1),\n",
              " ('lx:ps:pt:ge:ge:tkp:vx:dt:sc:ex:xp:xe:ex:xp:xe', 1),\n",
              " ('lx:rt:ps:pt:ge:ge:tkp:nt:dt:ex:xp:xe:ex:xp:xe:ex:xp:xe', 1),\n",
              " ('lx:alt:rt:ps:pt:ge:tkp:cmt:dt:ex:xp:xe:ex:xp:xe:ex:xp:xe', 1),\n",
              " ('lx:ps:pt:dx:ge:tkp:ig:dt', 1),\n",
              " ('lx:rt:ps:pt:ge:tkp:cmt:sf:dt:ex:xp:xe:ex:xp:xe', 1),\n",
              " ('lx:ps:pt:ge:tkp:eng:eng:eng:eng:am:vx:dt:ex:xp:xe:ex:xp:xe', 1),\n",
              " ('lx:ps:pt:ge:tkp:dt:cmt:vx:dcsv:ex:xp:xe:ex:xp:xe:ex:xp:xe:ex:xp', 1),\n",
              " ('lx:rt:ps:pt:ge:tkp:eng:vx:arg:dt:ex:xp:xe', 1),\n",
              " ('lx:rt:ps:pt:ge:tkp:eng:eng:eng:eng:eng:avm:dt:ex:xp:xe', 1),\n",
              " ('lx:ps:pt:ge:tkp:cmt:dt:ex:xp:xe:ex:xp:xe:ex:xp:xe', 1),\n",
              " ('lx:ps:pt:ge:tkp:cmt:vx:dt:ex:xp', 1),\n",
              " ('lx:ps:pt:ge:tkp:dt:ex', 1),\n",
              " ('lx:ps:pt:ge:eng:eng:tkp:vx:cmt:dt:ex:xp:xe', 1),\n",
              " ('lx:rt:ps:pt:ge:eng:tkp:dt:cmt:ex:xp:xe:ex:xp:xe:ex:xp:xe', 1),\n",
              " ('lx:ps:pt:ge:tkp:nt:pt:sa:sa:dt:ex:xp:xe:ex:xp:xe', 1),\n",
              " ('lx:ps:pt:ge:tkp:dt:cmt', 1),\n",
              " ('lx:ps:pt:ge:tkp:sc:vx:dt:ex:xp:xe:ex:xp:xe:ex:xp:xe', 1),\n",
              " ('lx:ps:pt:ge:eng:eng:tkp:tkp:sc:cmt:vx:dt:ex:xp:xe', 1),\n",
              " ('lx:ps:pt:cl:ge:tkp:dt:ex:xp:xe:ex:xp:xe', 1),\n",
              " ('lx:ps:pt:dx:ge:tkp:vx:arg:dt:ex:xp:xe', 1),\n",
              " ('lx:ps:pt:sn:ge:tkp:dt:ex:xp:xe:ex:xp:xe:ex:xp:xe', 1),\n",
              " ('lx:rt:ps:pt:sn:ge:tkp:arg:vx:cmt:dt:ex:xp:xe:ex:xp:xe', 1),\n",
              " ('lx:ps:pt:ge:ge:tkp:tkp:sf:dt:ex:xp:xe:ex:xp:xe', 1),\n",
              " ('lx:ps:pt:ge:eng:tkp:vx:dt:ex:xp:xe:ex:xp:xe', 1),\n",
              " ('lx:ps:pt:ge:ge:ge:tkp:nt:dt:ex:xp:xe:ex:xp:xe', 1),\n",
              " ('lx:ps:pt:ge:tkp:vx:arg:cmt:cm:dt:ex:xp:xe:ex:xp:xe', 1),\n",
              " ('lx:ps:pt:sn:ge:tkp:nt:sf:dt:ex:xp:xe', 1),\n",
              " ('lx:rt:ps:pt:sn:ge:tkp:cmt:dt:ex:xp:xe:ex:xp:xe', 1),\n",
              " ('lx:ps:pt:ge:eng:tkp:nt:dt:ex:xp:xe', 1),\n",
              " ('lx:ps:pt:ge:tkp:sc:nt:vx:dt:ex:xp:xe:ex:xp:xe', 1),\n",
              " ('lx:rt:ps:pt:ge:ge:tkp:tkp:dt:ex:xp:xe:ex:xp:xe', 1),\n",
              " ('lx:rt:ps:pt:rdp:ge:tkp:eng:eng:am:arg:vx:dt:ex:xp:xe:ex:xp:xe', 1),\n",
              " ('lx:ps:pt:ge:eng:eng:tkp:vx:cmt:dcsv:dt:ex:xp:xe:ex:xp:xe', 1),\n",
              " ('lx:rt:ps:pt:ge:eng:eng:tkp:arg:vx:cmt:dt:ex:xp:xe:ex:xp:xe:ex:xp:xe', 1),\n",
              " ('lx:rt:ps:pt:ge:ge:ge:ge:tkp:dt:ex:xp:xe:ex:xp:xe', 1),\n",
              " ('lx:rt:ps:pt:rdp:ge:ge:tkp:nt:arg:vx:dt:ex:xp:xe:ex:xp:xe', 1),\n",
              " ('lx:rt:ps:pt:rdp:ge:ge:ge:tkp:dt:ex:xp:xe', 1),\n",
              " ('lx:ps:pt:vx:dx:ge:eng:eng:tkp:dt:ex:xp:xe', 1),\n",
              " ('lx:rt:ps:pt:ge:ge:tkp:vx:arg:dt:ex:xp:xe:ex:xp:xe', 1),\n",
              " ('lx:ps:pt:ge:eng:nt:dt', 1),\n",
              " ('lx:rt:ps:pt:rdp:ge:tkp:nt:dt:cmt:ex:xp:xe', 1),\n",
              " ('lx:ps:pt:ge:ge:tkp:dt:am:ex:xp:xe:ex:xp:xe', 1),\n",
              " ('lx:rt:ps:pt:cl:ge:tkp:pt:dt:ex:xp:xe', 1),\n",
              " ('lx:ps:pt:ge:eng:tkp:vx:cmt:dt:ex:xp:xe:ex:xp:xe', 1),\n",
              " ('lx:rt:ps:pt:ge:tkp:nt:sa:dt:ex:xp:xe', 1),\n",
              " ('lx:ps:pt:ge:ge:eng:tkp:vx:cmt:dt', 1),\n",
              " ('lx:rt:ps:pt:ge:tkp:dt:cmt:ex:xp:xe:ex:xp:xe:ex:xp:xe:ex:xp:xe', 1),\n",
              " ('lx:ps:pt:ge:eng:eng:eng:tkp:arg:vx:cmt:dt:ex:xp:xe:ex:xp:xe:ex:xp:xe', 1),\n",
              " ('lx:rt:ps:ge:tkp:eng:eng:eng:dt', 1),\n",
              " ('lx:rt:ps:pt:ge:ge:tkp:tkp:cmt:dt:ex:xp:xe', 1),\n",
              " ('lx:ps:pt:ge:tkp:ge:ge:ge:nt:arg:vx:dt:ex:xp:xe', 1),\n",
              " ('lx:ps:pt:ge:tkp:nt:dt', 1),\n",
              " ('lx:ps:pt:ge:ge:tkp:cmt:dt:vx:cmt:ex:xp:xe:ex:xp:xe', 1),\n",
              " ('lx:ps:pt:cl:ge:ge:ge:tkp:tkp:dt:ex:xp:xe', 1),\n",
              " ('lx:rt:ps:pt:ge:ge:ge:tkp:tkp:dt:ex:xp:xe', 1),\n",
              " ('lx:ps:pt:ge:ge:tkp:dcsv:vx:cmt:dt:ex:xp:xe:ex:xp:xe:ex:xp:xe', 1),\n",
              " ('lx:ps:pt:ge:tkp:cm:arg:vx:dt:ex:xp:xe:ex:xp:xe:ex:xp:xe', 1),\n",
              " ('lx:ps:pt:ge:ge:ge:tkp:arg:vx:dt:cmt:ex:xp:xe:ex:xp:xe', 1),\n",
              " ('lx:ps:pt:ge:tkp:dcsv:cmt:dt:ex:xp:xe:ex:xp:xe:ex:xp:xe:ex:xp:xe', 1),\n",
              " ('lx:ps:pt:ge:tkp:sa:dx:dt:ex:xp:xe', 1),\n",
              " ('lx:rt:rdp:ps:pt:ge:ge:eng:eng:eng:eng:tkp:vx:arg:cm:dt:ex:xp:xe:ex:xp:xe',\n",
              "  1),\n",
              " ('lx:rt:ps:pt:ge:eng:eng:tkp:avm:dt', 1),\n",
              " ('lx:ps:ge:tkp:cmt:dt', 1),\n",
              " ('lx:ps:pt:ge:tkp:cm:vx:arg:cmt:dt:ex:xp:xe:ex:xp:xe', 1),\n",
              " ('lx:ps:pt:ge:eng:eng:eng:tkp:tkp:dcsv:sc:vx:cmt:dt:ex:xp:xe', 1),\n",
              " ('lx:rt:rdp:ps:pt:ge:tkp:tkp:eng:eng:ge:tkp:dcpv:vx:sc:cmt:dt:ex:xp:xe:ex:xp:xe:ex:xp:xe:ex:xp:xe',\n",
              "  1),\n",
              " ('lx:ps:pt:ge:tkp:vx:arg:cmt:dt:ex:xp:xe:ex:xp:xe', 1),\n",
              " ('lx:ps:pt:ge:ge:tkp:vx:sc:cmt:dt:ex:xp:xe:ex:xp:xe', 1),\n",
              " ('lx:rt:ps:pt:ge:ge:ge:tkp:cmt:dt:ex:xp:xe', 1),\n",
              " ('lx:rt:ps:pt:ge:ge:tkp:arg:vx:dt:rdp:ex:xp:xe:ex:xp:xe', 1),\n",
              " ('lx:wf:rt:ps:pt:ge:tkp:eng:dt:ex:xp:xe:ex:xp:xe', 1),\n",
              " ('lx:ps:pt:ge:ge:tkp:dcsv:am:arg:sc:vx:nt:dt:ex:xp:xe:ex:xp:xe', 1),\n",
              " ('lx:ps:pt:ge:tkp:nt:cmt:sa:sc:vx:arg:dt:ex:xp:xe', 1),\n",
              " ('lx:ps:pt:ge:tkp:nt:cmt:sa:sc:vx:dt:ex:xp:xe', 1),\n",
              " ('lx:ps:pt:ge:eng:eng:tkp:vx:sc:dt:ex:xp:xe:ex:xp:xe:ex:xp:xe', 1),\n",
              " ('lx:ps:pt:ge:tkp:pt:cmt:dt:ex:xp:xe', 1),\n",
              " ('lx:ps:pt:ge:tkp:nt:sc:vx:dt:ex:xp:xe:ex:xp:xe', 1),\n",
              " ('lx:ps:pt:ge:ge:tkp:dt:cmt:sc:vx:ex:xp:xe:ex:xp:xe:ex:xp:xe', 1),\n",
              " ('lx:ps:pt:ge:ge:tkp:vx:sc:nt:dt:ex:xp:xe:ex:xp:xe:ex:xp:xe:ex:xp:xe', 1),\n",
              " ('lx:rt:ps:pt:ge:tkp:vx:sc:dt:rdp:ex:xp:xe', 1),\n",
              " ('lx:rt:ps:ge:tkp:cmt:dt:ex:xp:xe', 1),\n",
              " ('lx:rt:ps:pt:ge:ge:tkp:tkp:dt', 1),\n",
              " ('lx:rt:ps:pt:ge:ge:tkp:nt:dt', 1),\n",
              " ('lx:ps:pt:ge:ge:tkp:tkp:eng:eng:dt:ex:xp:xe', 1),\n",
              " ('lx:ps:pt:ge:tkp:dcsv:vx:cmt:dt:ex:xp:xe', 1),\n",
              " ('lx:rt:ps:pt:ge:ge:ge:ge:tkp:tkp:tkp:tkp:dt:ex:xp:xe', 1),\n",
              " ('lx:rt:ps:pt:ge:ge:tkp:tkp:arg:vx:dt:ex:xp:xe:ex:xp:xe:ex:xp:xe:ex:xp:xe',\n",
              "  1),\n",
              " ('lx:rt:ps:pt:ge:eng:tkp:vx:dt:ex:xp:xe', 1),\n",
              " ('lx:rt:ps:pt:ge:eng:tkp:dt:ex:xp:xe', 1),\n",
              " ('lx:rt:ps:pt:ge:eng:eng:tkp:arg:vx:dt:cmt:ex:xp:xe:ex:xp:xe:ex:xp:xe', 1),\n",
              " ('lx:alt:ps:pt:ge:tkp:dt:ex:xp:xe', 1),\n",
              " ('lx:rt:ps:pt:eng:eng:ge:tkp:dt:ex:xp:xe', 1),\n",
              " ('lx:rt:ps:ge:ge:ge:tkp:dt:ex:xp:xe', 1),\n",
              " ('lx:ps:ge:eng:tkp:dt:ex:xp:xe', 1),\n",
              " ('lx:alt:alt:ps:pt:ge:eng:eng:tkp:dt:ex:xp:xe:ex:xp:xe', 1),\n",
              " ('lx:alt:ps:pt:ge:ge:tkp:am:dt:cmt:ex:xp:xe:ex:xp:xe:ex:xp:xe:ex:xp:xe:ex:xp:xe',\n",
              "  1),\n",
              " ('lx:alt:rt:ps:pt:ge:tkp:nt:dt:ex:xp:xe', 1),\n",
              " ('lx:ps:pt:ge:ge:ge:tkp:tkp:dt:ex:xp:xe:ex:xp:xe:ex:xp:xe:ex:xp:xe', 1),\n",
              " ('lx:ps:pt:ge:tkp:eng:eng:cmt:vx:dt:ex:xp:xe:ex:xp:xe', 1),\n",
              " ('lx:ps:pt:ge:ge:tkp:cm:arg:vx:dt:ex:xp:xe:ex:xp:xe', 1),\n",
              " ('lx:ps:pt:ge:tkp:pt:dt:ex:xp:xe:ex:xp:xe', 1),\n",
              " ('lx:rt:ps:pt:ge:tkp:tkp:vx:cmt:dt:ex:xp:xe:ex:xp:xe:ex:xp:xe:ex:xp:xe', 1),\n",
              " ('lx:ps:pt:ge:tkp:arg:vx:nt:dt:ex:xp:xe', 1),\n",
              " ('lx:ps:pt:ge:tkp:tkp:eng:eng:eng:dt:ex:xp:xe', 1),\n",
              " ('lx:ps:pt:ge:eng:eng:tkp:dt:ex:xp:xe', 1),\n",
              " ('lx:rt:ps:pt:ge:tkp:nt:sa:dt', 1),\n",
              " ('lx:ps:ge:ge:tkp:vx:dt:ex:xp:xe:ex:xp:xe', 1),\n",
              " ('lx:ps:pt:ge:tkp:eng:eng:nt:cmt:sa:sf:dt:ex:xp:xe', 1),\n",
              " ('lx:ps:pt:ge:tkp:cmt:dt:vx:ex:xp:xe:ex:xp:xe:ex:xp:xe:ex:xp:xe', 1),\n",
              " ('lx:rt:ps:pt:ge:tkp:vx:cmt:dt:ex:xp:xe', 1),\n",
              " ('lx:ps:pt:ge:ge:tkp:cmt:vx:arg:dt:ex:xp:xe:ex:xp:xe', 1),\n",
              " ('lx:ps:pt:cl:ge:tkp:nt:sa:sf:dt:cmt:ex:xp:xe', 1),\n",
              " ('lx:ps:pt:ge:eng:eng:tkp:vx:sc:dt:ex:xp:xe:ex:xp:xe', 1),\n",
              " ('lx:rt:ps:pt:rdp:ge:ge:tkp:vx:sc:dt:rdp:ex:xp:xe', 1),\n",
              " ('lx:ps:ge:tkp:dt', 1),\n",
              " ('lx:rt:ps:pt:ge:tkp:arg:vx:dt:rdp:ex:xp:xe:ex:xp:xe', 1),\n",
              " ('lx:ps:pt:ge:ge:tkp:tkp:dt:ex:xp:xe', 1),\n",
              " ('lx:rt:ps:pt:ge:ge:tkp:vx:sc:dt:rdp:ex:xp:xe:ex:xp:xe', 1),\n",
              " ('lx:ps:pt:ge:tkp:dt:arg:vx:ex:xp:xe:ex:xp:xe', 1),\n",
              " ('lx:ps:pt:ge:tkp:eng:eng:dt:ex:xp:xe', 1),\n",
              " ('lx:ps:pt:ge:tkp:eng:nt:sa:sf:dt', 1),\n",
              " ('lx:ps:pt:ge:tkp:dt:vx:sc:ex:xp:xe:ex:xp:xe', 1),\n",
              " ('lx:ps:pt:ge:tkp:nt:sa:dt:ex:xp:xe:ex:xp:xe', 1),\n",
              " ('lx:ps:ge:eng:eng:tkp:dcsv:vx:cmt:dt', 1),\n",
              " ('lx:ps:pt:ge:ge:tkp:tkp:cmt:vx:arg:dt:ex:xp:xe:ex:xp:xe:ex:xp:xe', 1),\n",
              " ('lx:rt:ps:pt:ge:ge:tkp:vx:sc:dt:cmt:rdp:ex:xp:xe:ex:xp:xe', 1),\n",
              " ('lx:ps:pt:ge:tkp:nt:cmt:sf:dt:ex:xp:xe:ex:xp:xe', 1),\n",
              " ('lx:rt:ps:pt:ge:tkp:eng:eng:arg:vx:cmt:dt:ex:xp:xe:ex:xp:xe:ex:xp:xe:ex:xp:xe:ex:xp:xe',\n",
              "  1),\n",
              " ('lx:ps:pt:ge:ge:tkp:vx:sc:cmt:dt:cmt:ex:xp:xe', 1),\n",
              " ('lx:ps:ge:ge:tkp:tkp:dt:ex:xp:xe', 1),\n",
              " ('lx:ps:pt:ge:tkp:vx:sc:dt:ex:xp:xe:ex:xp:xe', 1),\n",
              " ('lx:rt:ps:pt:ge:tkp:cmt:dt:cmt:ex:xp:xe:ex:xp:xe:ex:xp:xe:ex:xp:xe', 1),\n",
              " ('lx:rt:ps:pt:ge:ge:tkp:cm:arg:vx:dt:ex:xp:xe:ex:xp:xe:ex:xp:xe:ex:xp:xe', 1),\n",
              " ('lx:ps:pt:ge:tkp:cmt:vx:dt:ex:xp:xe:ex:xp:xe', 1),\n",
              " ('lx:ps:pt:ge:ge:ge:tkp:dt:ex:xp:xe:ex:xp:xe:ex:xp:xe', 1),\n",
              " ('lx:ps:pt:ge:tkp:cmt:arg:vx:dt:ex:xp:xe:ex:xp:xe', 1),\n",
              " ('lx:rt:ps:ge:ge:ge:tkp:dt:ex:xp:xe:ex:xp:xe', 1),\n",
              " ('lx:ps:pt:ge:ge:tkp:eng:eng:cmt:dt:vx:sc:ex:xp:xe:ex:xp:xe', 1),\n",
              " ('lx:ps:pt:ge:tkp:tkp:eng:eng:eng:arg:vx:dt:cmt:ex:xp:xe:ex:xp:xe', 1),\n",
              " ('lx:rt:ps:pt:rdp:ge:ge:tkp:vx:arg:cmt:dt:ex:xp:xe', 1),\n",
              " ('lx:alt:rt:ps:pt:ge:eng:eng:eng:tkp:tkp:sc:dt:ex:xp:xe', 1)]"
            ]
          },
          "metadata": {},
          "execution_count": 77
        }
      ]
    },
    {
      "cell_type": "code",
      "source": [
        "grammar = nltk.CFG.fromstring('''\n",
        "S -> Head PS Glosses Comment Date Sem_Field Examples\n",
        "Head -> Lexeme Root\n",
        "Lexeme -> \"lx\"\n",
        "Root -> \"rt\" |\n",
        "PS -> \"ps\"\n",
        "Glosses -> Gloss Glosses |\n",
        "Gloss -> \"ge\" | \"tkp\" | \"eng\"\n",
        "Date -> \"dt\"\n",
        "Sem_Field -> \"sf\"\n",
        "Examples -> Example Ex_Pidgin Ex_English Examples |\n",
        "Example -> \"ex\"\n",
        "Ex_Pidgin -> \"xp\"\n",
        "Ex_English -> \"xe\"\n",
        "Comment -> \"cmt\" | \"nt\" |\n",
        "''')"
      ],
      "metadata": {
        "id": "7TLi2hu42QOC"
      },
      "execution_count": 78,
      "outputs": []
    },
    {
      "cell_type": "code",
      "source": [
        "def validate_lexicon(grammar, lexicon, ignored_tags):\n",
        "  rd_parser = nltk.RecursiveDescentParser(grammar)\n",
        "  for entry in lexicon:\n",
        "    marker_list = [field.tag for field in entry if field.tag not in ignored_tags]\n",
        "    if list(rd_parser.parse(marker_list)):\n",
        "      print(\"+\", ':'.join(marker_list))\n",
        "    else:\n",
        "      print(\"-\", ':'.join(marker_list))"
      ],
      "metadata": {
        "id": "BR8LoUW32d_W"
      },
      "execution_count": 81,
      "outputs": []
    },
    {
      "cell_type": "code",
      "source": [
        "lexicon = toolbox.xml('rotokas.dic')[10:20]\n",
        "ignored_tags = ['arg', 'dcsv', 'pt', 'vx']\n",
        "validate_lexicon(grammar, lexicon, ignored_tags)"
      ],
      "metadata": {
        "colab": {
          "base_uri": "https://localhost:8080/"
        },
        "id": "ECfCxwq525mM",
        "outputId": "80275229-7fbc-4a77-ad14-4f76755612d1"
      },
      "execution_count": 82,
      "outputs": [
        {
          "output_type": "stream",
          "name": "stdout",
          "text": [
            "- lx:ps:ge:tkp:sf:nt:dt:ex:xp:xe:ex:xp:xe:ex:xp:xe\n",
            "- lx:rt:ps:ge:tkp:nt:dt:ex:xp:xe:ex:xp:xe\n",
            "- lx:ps:ge:tkp:nt:dt:ex:xp:xe:ex:xp:xe\n",
            "- lx:ps:ge:tkp:nt:sf:dt\n",
            "- lx:ps:ge:tkp:dt:cmt:ex:xp:xe:ex:xp:xe\n",
            "- lx:ps:ge:ge:ge:tkp:cmt:dt:ex:xp:xe\n",
            "- lx:rt:ps:ge:ge:tkp:dt\n",
            "- lx:rt:ps:ge:eng:eng:eng:ge:tkp:tkp:dt:cmt:ex:xp:xe:ex:xp:xe:ex:xp:xe:ex:xp:xe:ex:xp:xe\n",
            "- lx:rt:ps:ge:tkp:dt:ex:xp:xe\n",
            "- lx:ps:ge:ge:tkp:dt:ex:xp:xe:ex:xp:xe\n"
          ]
        }
      ]
    },
    {
      "cell_type": "code",
      "source": [
        "grammar = r\"\"\"\n",
        "lexfunc: {<lf>(<lv><ln|le>*)*}\n",
        "example: {<rf|xv><xn|xe>*}\n",
        "sense:   {<sn><ps><pn|gv|dv|gn|gp|dn|rn|ge|de|re>*<example>*<lexfunc>*}\n",
        "record:   {<lx><hm><sense>+<dt>}\n",
        "\"\"\""
      ],
      "metadata": {
        "id": "ioiZ2poO3GZU"
      },
      "execution_count": 83,
      "outputs": []
    },
    {
      "cell_type": "code",
      "source": [
        "from xml.etree.ElementTree import ElementTree\n",
        "from nltk.toolbox import ToolboxData\n",
        "\n",
        "db = ToolboxData()\n",
        "db.open(nltk.data.find('corpora/toolbox/iu_mien_samp.db'))\n",
        "lexicon = db.parse(grammar, encoding='utf8')\n",
        "tree = ElementTree(lexicon)\n",
        "with open('iu_mien_samp.xml', 'wb') as output:\n",
        "  tree.write(output)"
      ],
      "metadata": {
        "colab": {
          "base_uri": "https://localhost:8080/",
          "height": 375
        },
        "id": "b21pn27e3Puy",
        "outputId": "098785e1-f064-462d-8343-dec1c85bc382"
      },
      "execution_count": 85,
      "outputs": [
        {
          "output_type": "error",
          "ename": "TypeError",
          "evalue": "ignored",
          "traceback": [
            "\u001b[0;31m---------------------------------------------------------------------------\u001b[0m",
            "\u001b[0;31mTypeError\u001b[0m                                 Traceback (most recent call last)",
            "\u001b[0;32m<ipython-input-85-d09e2c73551e>\u001b[0m in \u001b[0;36m<module>\u001b[0;34m()\u001b[0m\n\u001b[1;32m      4\u001b[0m \u001b[0mdb\u001b[0m \u001b[0;34m=\u001b[0m \u001b[0mToolboxData\u001b[0m\u001b[0;34m(\u001b[0m\u001b[0;34m)\u001b[0m\u001b[0;34m\u001b[0m\u001b[0;34m\u001b[0m\u001b[0m\n\u001b[1;32m      5\u001b[0m \u001b[0mdb\u001b[0m\u001b[0;34m.\u001b[0m\u001b[0mopen\u001b[0m\u001b[0;34m(\u001b[0m\u001b[0mnltk\u001b[0m\u001b[0;34m.\u001b[0m\u001b[0mdata\u001b[0m\u001b[0;34m.\u001b[0m\u001b[0mfind\u001b[0m\u001b[0;34m(\u001b[0m\u001b[0;34m'corpora/toolbox/iu_mien_samp.db'\u001b[0m\u001b[0;34m)\u001b[0m\u001b[0;34m)\u001b[0m\u001b[0;34m\u001b[0m\u001b[0;34m\u001b[0m\u001b[0m\n\u001b[0;32m----> 6\u001b[0;31m \u001b[0mlexicon\u001b[0m \u001b[0;34m=\u001b[0m \u001b[0mdb\u001b[0m\u001b[0;34m.\u001b[0m\u001b[0mparse\u001b[0m\u001b[0;34m(\u001b[0m\u001b[0mgrammar\u001b[0m\u001b[0;34m,\u001b[0m \u001b[0mencoding\u001b[0m\u001b[0;34m=\u001b[0m\u001b[0;34m'utf8'\u001b[0m\u001b[0;34m)\u001b[0m\u001b[0;34m\u001b[0m\u001b[0;34m\u001b[0m\u001b[0m\n\u001b[0m\u001b[1;32m      7\u001b[0m \u001b[0mtree\u001b[0m \u001b[0;34m=\u001b[0m \u001b[0mElementTree\u001b[0m\u001b[0;34m(\u001b[0m\u001b[0mlexicon\u001b[0m\u001b[0;34m)\u001b[0m\u001b[0;34m\u001b[0m\u001b[0;34m\u001b[0m\u001b[0m\n\u001b[1;32m      8\u001b[0m \u001b[0;32mwith\u001b[0m \u001b[0mopen\u001b[0m\u001b[0;34m(\u001b[0m\u001b[0;34m'iu_mien_samp.xml'\u001b[0m\u001b[0;34m,\u001b[0m \u001b[0;34m'wb'\u001b[0m\u001b[0;34m)\u001b[0m \u001b[0;32mas\u001b[0m \u001b[0moutput\u001b[0m\u001b[0;34m:\u001b[0m\u001b[0;34m\u001b[0m\u001b[0;34m\u001b[0m\u001b[0m\n",
            "\u001b[0;32m/usr/local/lib/python3.7/dist-packages/nltk/toolbox.py\u001b[0m in \u001b[0;36mparse\u001b[0;34m(self, grammar, **kwargs)\u001b[0m\n\u001b[1;32m    139\u001b[0m     \u001b[0;32mdef\u001b[0m \u001b[0mparse\u001b[0m\u001b[0;34m(\u001b[0m\u001b[0mself\u001b[0m\u001b[0;34m,\u001b[0m \u001b[0mgrammar\u001b[0m\u001b[0;34m=\u001b[0m\u001b[0;32mNone\u001b[0m\u001b[0;34m,\u001b[0m  \u001b[0;34m**\u001b[0m\u001b[0mkwargs\u001b[0m\u001b[0;34m)\u001b[0m\u001b[0;34m:\u001b[0m\u001b[0;34m\u001b[0m\u001b[0;34m\u001b[0m\u001b[0m\n\u001b[1;32m    140\u001b[0m         \u001b[0;32mif\u001b[0m \u001b[0mgrammar\u001b[0m\u001b[0;34m:\u001b[0m\u001b[0;34m\u001b[0m\u001b[0;34m\u001b[0m\u001b[0m\n\u001b[0;32m--> 141\u001b[0;31m             \u001b[0;32mreturn\u001b[0m \u001b[0mself\u001b[0m\u001b[0;34m.\u001b[0m\u001b[0m_chunk_parse\u001b[0m\u001b[0;34m(\u001b[0m\u001b[0mgrammar\u001b[0m\u001b[0;34m=\u001b[0m\u001b[0mgrammar\u001b[0m\u001b[0;34m,\u001b[0m  \u001b[0;34m**\u001b[0m\u001b[0mkwargs\u001b[0m\u001b[0;34m)\u001b[0m\u001b[0;34m\u001b[0m\u001b[0;34m\u001b[0m\u001b[0m\n\u001b[0m\u001b[1;32m    142\u001b[0m         \u001b[0;32melse\u001b[0m\u001b[0;34m:\u001b[0m\u001b[0;34m\u001b[0m\u001b[0;34m\u001b[0m\u001b[0m\n\u001b[1;32m    143\u001b[0m             \u001b[0;32mreturn\u001b[0m \u001b[0mself\u001b[0m\u001b[0;34m.\u001b[0m\u001b[0m_record_parse\u001b[0m\u001b[0;34m(\u001b[0m\u001b[0;34m**\u001b[0m\u001b[0mkwargs\u001b[0m\u001b[0;34m)\u001b[0m\u001b[0;34m\u001b[0m\u001b[0;34m\u001b[0m\u001b[0m\n",
            "\u001b[0;32m/usr/local/lib/python3.7/dist-packages/nltk/toolbox.py\u001b[0m in \u001b[0;36m_chunk_parse\u001b[0;34m(self, grammar, root_label, trace, **kwargs)\u001b[0m\n\u001b[1;32m    256\u001b[0m \u001b[0;34m\u001b[0m\u001b[0m\n\u001b[1;32m    257\u001b[0m         \u001b[0mcp\u001b[0m \u001b[0;34m=\u001b[0m \u001b[0mchunk\u001b[0m\u001b[0;34m.\u001b[0m\u001b[0mRegexpParser\u001b[0m\u001b[0;34m(\u001b[0m\u001b[0mgrammar\u001b[0m\u001b[0;34m,\u001b[0m \u001b[0mroot_label\u001b[0m\u001b[0;34m=\u001b[0m\u001b[0mroot_label\u001b[0m\u001b[0;34m,\u001b[0m \u001b[0mtrace\u001b[0m\u001b[0;34m=\u001b[0m\u001b[0mtrace\u001b[0m\u001b[0;34m)\u001b[0m\u001b[0;34m\u001b[0m\u001b[0;34m\u001b[0m\u001b[0m\n\u001b[0;32m--> 258\u001b[0;31m         \u001b[0mdb\u001b[0m \u001b[0;34m=\u001b[0m \u001b[0mself\u001b[0m\u001b[0;34m.\u001b[0m\u001b[0mparse\u001b[0m\u001b[0;34m(\u001b[0m\u001b[0;34m**\u001b[0m\u001b[0mkwargs\u001b[0m\u001b[0;34m)\u001b[0m\u001b[0;34m\u001b[0m\u001b[0;34m\u001b[0m\u001b[0m\n\u001b[0m\u001b[1;32m    259\u001b[0m         \u001b[0mtb_etree\u001b[0m \u001b[0;34m=\u001b[0m \u001b[0mElement\u001b[0m\u001b[0;34m(\u001b[0m\u001b[0;34m'toolbox_data'\u001b[0m\u001b[0;34m)\u001b[0m\u001b[0;34m\u001b[0m\u001b[0;34m\u001b[0m\u001b[0m\n\u001b[1;32m    260\u001b[0m         \u001b[0mheader\u001b[0m \u001b[0;34m=\u001b[0m \u001b[0mdb\u001b[0m\u001b[0;34m.\u001b[0m\u001b[0mfind\u001b[0m\u001b[0;34m(\u001b[0m\u001b[0;34m'header'\u001b[0m\u001b[0;34m)\u001b[0m\u001b[0;34m\u001b[0m\u001b[0;34m\u001b[0m\u001b[0m\n",
            "\u001b[0;32m/usr/local/lib/python3.7/dist-packages/nltk/toolbox.py\u001b[0m in \u001b[0;36mparse\u001b[0;34m(self, grammar, **kwargs)\u001b[0m\n\u001b[1;32m    141\u001b[0m             \u001b[0;32mreturn\u001b[0m \u001b[0mself\u001b[0m\u001b[0;34m.\u001b[0m\u001b[0m_chunk_parse\u001b[0m\u001b[0;34m(\u001b[0m\u001b[0mgrammar\u001b[0m\u001b[0;34m=\u001b[0m\u001b[0mgrammar\u001b[0m\u001b[0;34m,\u001b[0m  \u001b[0;34m**\u001b[0m\u001b[0mkwargs\u001b[0m\u001b[0;34m)\u001b[0m\u001b[0;34m\u001b[0m\u001b[0;34m\u001b[0m\u001b[0m\n\u001b[1;32m    142\u001b[0m         \u001b[0;32melse\u001b[0m\u001b[0;34m:\u001b[0m\u001b[0;34m\u001b[0m\u001b[0;34m\u001b[0m\u001b[0m\n\u001b[0;32m--> 143\u001b[0;31m             \u001b[0;32mreturn\u001b[0m \u001b[0mself\u001b[0m\u001b[0;34m.\u001b[0m\u001b[0m_record_parse\u001b[0m\u001b[0;34m(\u001b[0m\u001b[0;34m**\u001b[0m\u001b[0mkwargs\u001b[0m\u001b[0;34m)\u001b[0m\u001b[0;34m\u001b[0m\u001b[0;34m\u001b[0m\u001b[0m\n\u001b[0m\u001b[1;32m    144\u001b[0m \u001b[0;34m\u001b[0m\u001b[0m\n\u001b[1;32m    145\u001b[0m     \u001b[0;32mdef\u001b[0m \u001b[0m_record_parse\u001b[0m\u001b[0;34m(\u001b[0m\u001b[0mself\u001b[0m\u001b[0;34m,\u001b[0m \u001b[0mkey\u001b[0m\u001b[0;34m=\u001b[0m\u001b[0;32mNone\u001b[0m\u001b[0;34m,\u001b[0m \u001b[0;34m**\u001b[0m\u001b[0mkwargs\u001b[0m\u001b[0;34m)\u001b[0m\u001b[0;34m:\u001b[0m\u001b[0;34m\u001b[0m\u001b[0;34m\u001b[0m\u001b[0m\n",
            "\u001b[0;32m/usr/local/lib/python3.7/dist-packages/nltk/toolbox.py\u001b[0m in \u001b[0;36m_record_parse\u001b[0;34m(self, key, **kwargs)\u001b[0m\n\u001b[1;32m    199\u001b[0m         \u001b[0mbuilder\u001b[0m\u001b[0;34m.\u001b[0m\u001b[0mstart\u001b[0m\u001b[0;34m(\u001b[0m\u001b[0;34m'header'\u001b[0m\u001b[0;34m,\u001b[0m \u001b[0;34m{\u001b[0m\u001b[0;34m}\u001b[0m\u001b[0;34m)\u001b[0m\u001b[0;34m\u001b[0m\u001b[0;34m\u001b[0m\u001b[0m\n\u001b[1;32m    200\u001b[0m         \u001b[0min_records\u001b[0m \u001b[0;34m=\u001b[0m \u001b[0;32mFalse\u001b[0m\u001b[0;34m\u001b[0m\u001b[0;34m\u001b[0m\u001b[0m\n\u001b[0;32m--> 201\u001b[0;31m         \u001b[0;32mfor\u001b[0m \u001b[0mmkr\u001b[0m\u001b[0;34m,\u001b[0m \u001b[0mvalue\u001b[0m \u001b[0;32min\u001b[0m \u001b[0mself\u001b[0m\u001b[0;34m.\u001b[0m\u001b[0mfields\u001b[0m\u001b[0;34m(\u001b[0m\u001b[0;34m**\u001b[0m\u001b[0mkwargs\u001b[0m\u001b[0;34m)\u001b[0m\u001b[0;34m:\u001b[0m\u001b[0;34m\u001b[0m\u001b[0;34m\u001b[0m\u001b[0m\n\u001b[0m\u001b[1;32m    202\u001b[0m             \u001b[0;32mif\u001b[0m \u001b[0mkey\u001b[0m \u001b[0;32mis\u001b[0m \u001b[0;32mNone\u001b[0m \u001b[0;32mand\u001b[0m \u001b[0;32mnot\u001b[0m \u001b[0min_records\u001b[0m \u001b[0;32mand\u001b[0m \u001b[0mmkr\u001b[0m\u001b[0;34m[\u001b[0m\u001b[0;36m0\u001b[0m\u001b[0;34m]\u001b[0m \u001b[0;34m!=\u001b[0m \u001b[0;34m'_'\u001b[0m\u001b[0;34m:\u001b[0m\u001b[0;34m\u001b[0m\u001b[0;34m\u001b[0m\u001b[0m\n\u001b[1;32m    203\u001b[0m                 \u001b[0mkey\u001b[0m \u001b[0;34m=\u001b[0m \u001b[0mmkr\u001b[0m\u001b[0;34m\u001b[0m\u001b[0;34m\u001b[0m\u001b[0m\n",
            "\u001b[0;32m/usr/local/lib/python3.7/dist-packages/nltk/toolbox.py\u001b[0m in \u001b[0;36mfields\u001b[0;34m(self, strip, unwrap, encoding, errors, unicode_fields)\u001b[0m\n\u001b[1;32m    115\u001b[0m             \u001b[0;32mraise\u001b[0m \u001b[0mValueError\u001b[0m\u001b[0;34m(\u001b[0m\u001b[0;34m'unicode_fields is set but not encoding.'\u001b[0m\u001b[0;34m)\u001b[0m\u001b[0;34m\u001b[0m\u001b[0;34m\u001b[0m\u001b[0m\n\u001b[1;32m    116\u001b[0m         \u001b[0munwrap_pat\u001b[0m \u001b[0;34m=\u001b[0m \u001b[0mre\u001b[0m\u001b[0;34m.\u001b[0m\u001b[0mcompile\u001b[0m\u001b[0;34m(\u001b[0m\u001b[0;34mr'\\n+'\u001b[0m\u001b[0;34m)\u001b[0m\u001b[0;34m\u001b[0m\u001b[0;34m\u001b[0m\u001b[0m\n\u001b[0;32m--> 117\u001b[0;31m         \u001b[0;32mfor\u001b[0m \u001b[0mmkr\u001b[0m\u001b[0;34m,\u001b[0m \u001b[0mval\u001b[0m \u001b[0;32min\u001b[0m \u001b[0mself\u001b[0m\u001b[0;34m.\u001b[0m\u001b[0mraw_fields\u001b[0m\u001b[0;34m(\u001b[0m\u001b[0;34m)\u001b[0m\u001b[0;34m:\u001b[0m\u001b[0;34m\u001b[0m\u001b[0;34m\u001b[0m\u001b[0m\n\u001b[0m\u001b[1;32m    118\u001b[0m             \u001b[0;32mif\u001b[0m \u001b[0mencoding\u001b[0m \u001b[0;32mand\u001b[0m \u001b[0;32mnot\u001b[0m \u001b[0mPY3\u001b[0m\u001b[0;34m:\u001b[0m \u001b[0;31m# kludge - already decoded in PY3?\u001b[0m\u001b[0;34m\u001b[0m\u001b[0;34m\u001b[0m\u001b[0m\n\u001b[1;32m    119\u001b[0m                 \u001b[0;32mif\u001b[0m \u001b[0municode_fields\u001b[0m \u001b[0;32mis\u001b[0m \u001b[0;32mnot\u001b[0m \u001b[0;32mNone\u001b[0m \u001b[0;32mand\u001b[0m \u001b[0mmkr\u001b[0m \u001b[0;32min\u001b[0m \u001b[0municode_fields\u001b[0m\u001b[0;34m:\u001b[0m\u001b[0;34m\u001b[0m\u001b[0;34m\u001b[0m\u001b[0m\n",
            "\u001b[0;32m/usr/local/lib/python3.7/dist-packages/nltk/toolbox.py\u001b[0m in \u001b[0;36mraw_fields\u001b[0;34m(self)\u001b[0m\n\u001b[1;32m     71\u001b[0m         \u001b[0mfile_iter\u001b[0m \u001b[0;34m=\u001b[0m \u001b[0miter\u001b[0m\u001b[0;34m(\u001b[0m\u001b[0mself\u001b[0m\u001b[0;34m.\u001b[0m\u001b[0m_file\u001b[0m\u001b[0;34m)\u001b[0m\u001b[0;34m\u001b[0m\u001b[0;34m\u001b[0m\u001b[0m\n\u001b[1;32m     72\u001b[0m         \u001b[0mline\u001b[0m \u001b[0;34m=\u001b[0m \u001b[0mnext\u001b[0m\u001b[0;34m(\u001b[0m\u001b[0mfile_iter\u001b[0m\u001b[0;34m)\u001b[0m\u001b[0;34m\u001b[0m\u001b[0;34m\u001b[0m\u001b[0m\n\u001b[0;32m---> 73\u001b[0;31m         \u001b[0mmobj\u001b[0m \u001b[0;34m=\u001b[0m \u001b[0mre\u001b[0m\u001b[0;34m.\u001b[0m\u001b[0mmatch\u001b[0m\u001b[0;34m(\u001b[0m\u001b[0mfirst_line_pat\u001b[0m\u001b[0;34m,\u001b[0m \u001b[0mline\u001b[0m\u001b[0;34m)\u001b[0m\u001b[0;34m\u001b[0m\u001b[0;34m\u001b[0m\u001b[0m\n\u001b[0m\u001b[1;32m     74\u001b[0m         \u001b[0mmkr\u001b[0m\u001b[0;34m,\u001b[0m \u001b[0mline_value\u001b[0m \u001b[0;34m=\u001b[0m \u001b[0mmobj\u001b[0m\u001b[0;34m.\u001b[0m\u001b[0mgroups\u001b[0m\u001b[0;34m(\u001b[0m\u001b[0;34m)\u001b[0m\u001b[0;34m\u001b[0m\u001b[0;34m\u001b[0m\u001b[0m\n\u001b[1;32m     75\u001b[0m         \u001b[0mvalue_lines\u001b[0m \u001b[0;34m=\u001b[0m \u001b[0;34m[\u001b[0m\u001b[0mline_value\u001b[0m\u001b[0;34m,\u001b[0m\u001b[0;34m]\u001b[0m\u001b[0;34m\u001b[0m\u001b[0;34m\u001b[0m\u001b[0m\n",
            "\u001b[0;32m/usr/lib/python3.7/re.py\u001b[0m in \u001b[0;36mmatch\u001b[0;34m(pattern, string, flags)\u001b[0m\n\u001b[1;32m    173\u001b[0m     \"\"\"Try to apply the pattern at the start of the string, returning\n\u001b[1;32m    174\u001b[0m     a Match object, or None if no match was found.\"\"\"\n\u001b[0;32m--> 175\u001b[0;31m     \u001b[0;32mreturn\u001b[0m \u001b[0m_compile\u001b[0m\u001b[0;34m(\u001b[0m\u001b[0mpattern\u001b[0m\u001b[0;34m,\u001b[0m \u001b[0mflags\u001b[0m\u001b[0;34m)\u001b[0m\u001b[0;34m.\u001b[0m\u001b[0mmatch\u001b[0m\u001b[0;34m(\u001b[0m\u001b[0mstring\u001b[0m\u001b[0;34m)\u001b[0m\u001b[0;34m\u001b[0m\u001b[0;34m\u001b[0m\u001b[0m\n\u001b[0m\u001b[1;32m    176\u001b[0m \u001b[0;34m\u001b[0m\u001b[0m\n\u001b[1;32m    177\u001b[0m \u001b[0;32mdef\u001b[0m \u001b[0mfullmatch\u001b[0m\u001b[0;34m(\u001b[0m\u001b[0mpattern\u001b[0m\u001b[0;34m,\u001b[0m \u001b[0mstring\u001b[0m\u001b[0;34m,\u001b[0m \u001b[0mflags\u001b[0m\u001b[0;34m=\u001b[0m\u001b[0;36m0\u001b[0m\u001b[0;34m)\u001b[0m\u001b[0;34m:\u001b[0m\u001b[0;34m\u001b[0m\u001b[0;34m\u001b[0m\u001b[0m\n",
            "\u001b[0;31mTypeError\u001b[0m: cannot use a string pattern on a bytes-like object"
          ]
        }
      ]
    },
    {
      "cell_type": "markdown",
      "source": [
        "## 6. Describing Language Resources using OLAC Metadata"
      ],
      "metadata": {
        "id": "qgEotb7k33no"
      }
    },
    {
      "cell_type": "markdown",
      "source": [
        "### What is Metadata?"
      ],
      "metadata": {
        "id": "nU6OgugI3_M1"
      }
    },
    {
      "cell_type": "markdown",
      "source": [
        "### OLAC : Open Language Archives Community"
      ],
      "metadata": {
        "id": "BH7zF4Pf3_Gb"
      }
    },
    {
      "cell_type": "markdown",
      "source": [
        "### Disseminating Language Resources"
      ],
      "metadata": {
        "id": "-ruhrpzN4HZk"
      }
    }
  ]
}