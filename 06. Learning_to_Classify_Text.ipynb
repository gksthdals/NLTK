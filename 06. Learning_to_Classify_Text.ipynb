{
  "nbformat": 4,
  "nbformat_minor": 0,
  "metadata": {
    "colab": {
      "name": "06. Learning to Classify Text.ipynb",
      "provenance": [],
      "collapsed_sections": [],
      "authorship_tag": "ABX9TyMZMeKB4gImoB8C9CSf8hLH",
      "include_colab_link": true
    },
    "kernelspec": {
      "name": "python3",
      "display_name": "Python 3"
    },
    "language_info": {
      "name": "python"
    }
  },
  "cells": [
    {
      "cell_type": "markdown",
      "metadata": {
        "id": "view-in-github",
        "colab_type": "text"
      },
      "source": [
        "<a href=\"https://colab.research.google.com/github/gksthdals/NLTK/blob/main/06.%20Learning_to_Classify_Text.ipynb\" target=\"_parent\"><img src=\"https://colab.research.google.com/assets/colab-badge.svg\" alt=\"Open In Colab\"/></a>"
      ]
    },
    {
      "cell_type": "code",
      "source": [
        "\"\"\" Main Topic \"\"\"\n",
        "\n",
        "# How can we identify particular features of language data that are salient for classifying it?\n",
        "# How can we construct models of language that can be used to perform language processing tasks automatically?\n",
        "# What can we learn about language from these models?"
      ],
      "metadata": {
        "id": "tPEdEg_DjHgf"
      },
      "execution_count": null,
      "outputs": []
    },
    {
      "cell_type": "markdown",
      "source": [
        "## 1. Supervised Classification"
      ],
      "metadata": {
        "id": "NDF_4LIrjpeP"
      }
    },
    {
      "cell_type": "markdown",
      "source": [
        "### Gender Identification"
      ],
      "metadata": {
        "id": "yA1KNFHOkWpp"
      }
    },
    {
      "cell_type": "code",
      "source": [
        "def gender_features(word):\n",
        "  return {'last_letter': word[-1]}\n",
        "\n",
        "gender_features('Shrek')"
      ],
      "metadata": {
        "colab": {
          "base_uri": "https://localhost:8080/"
        },
        "id": "l7BLwRJ8kYMh",
        "outputId": "be7940b0-6ede-43e1-de33-e1db8c6d18cd"
      },
      "execution_count": 2,
      "outputs": [
        {
          "output_type": "execute_result",
          "data": {
            "text/plain": [
              "{'last_letter': 'k'}"
            ]
          },
          "metadata": {},
          "execution_count": 2
        }
      ]
    },
    {
      "cell_type": "code",
      "source": [
        "import nltk\n",
        "nltk.download('names')\n",
        "\n",
        "from nltk.corpus import names\n",
        "labeled_names = ([(name, 'male') for name in names.words('male.txt')]) + ([(name, 'female') for name in names.words('female.txt')])"
      ],
      "metadata": {
        "colab": {
          "base_uri": "https://localhost:8080/"
        },
        "id": "8QbL4jwzkvXl",
        "outputId": "a66ef256-d9b8-4de5-91f7-1fe7cfa56bf3"
      },
      "execution_count": 4,
      "outputs": [
        {
          "output_type": "stream",
          "name": "stdout",
          "text": [
            "[nltk_data] Downloading package names to /root/nltk_data...\n",
            "[nltk_data]   Unzipping corpora/names.zip.\n"
          ]
        }
      ]
    },
    {
      "cell_type": "code",
      "source": [
        "import random\n",
        "\n",
        "random.shuffle(labeled_names)"
      ],
      "metadata": {
        "id": "Oman9qqdlQST"
      },
      "execution_count": 5,
      "outputs": []
    },
    {
      "cell_type": "code",
      "source": [
        "featuresets = [(gender_features(n), gender) for (n, gender) in labeled_names]\n",
        "train_set, test_set = featuresets[500:], featuresets[:500]\n",
        "classifier = nltk.NaiveBayesClassifier.train(train_set)"
      ],
      "metadata": {
        "id": "xTluXittlaGf"
      },
      "execution_count": 6,
      "outputs": []
    },
    {
      "cell_type": "code",
      "source": [
        "classifier.classify(gender_features('Neo'))"
      ],
      "metadata": {
        "colab": {
          "base_uri": "https://localhost:8080/",
          "height": 37
        },
        "id": "UA-hrlv8lseQ",
        "outputId": "d1b6a55b-4c30-43b4-cb18-1ca28d9d87f3"
      },
      "execution_count": 7,
      "outputs": [
        {
          "output_type": "execute_result",
          "data": {
            "application/vnd.google.colaboratory.intrinsic+json": {
              "type": "string"
            },
            "text/plain": [
              "'male'"
            ]
          },
          "metadata": {},
          "execution_count": 7
        }
      ]
    },
    {
      "cell_type": "code",
      "source": [
        "classifier.classify(gender_features('Trinity'))"
      ],
      "metadata": {
        "colab": {
          "base_uri": "https://localhost:8080/",
          "height": 37
        },
        "id": "54iGcIZOlxq9",
        "outputId": "4ad3fde4-b007-47e0-f21e-601119e5258c"
      },
      "execution_count": 8,
      "outputs": [
        {
          "output_type": "execute_result",
          "data": {
            "application/vnd.google.colaboratory.intrinsic+json": {
              "type": "string"
            },
            "text/plain": [
              "'female'"
            ]
          },
          "metadata": {},
          "execution_count": 8
        }
      ]
    },
    {
      "cell_type": "code",
      "source": [
        "nltk.classify.accuracy(classifier, test_set)"
      ],
      "metadata": {
        "colab": {
          "base_uri": "https://localhost:8080/"
        },
        "id": "Pl-OOSN7l0Ig",
        "outputId": "244f032a-3248-4195-c08d-e910daf72656"
      },
      "execution_count": 9,
      "outputs": [
        {
          "output_type": "execute_result",
          "data": {
            "text/plain": [
              "0.782"
            ]
          },
          "metadata": {},
          "execution_count": 9
        }
      ]
    },
    {
      "cell_type": "code",
      "source": [
        "classifier.show_most_informative_features(5)"
      ],
      "metadata": {
        "colab": {
          "base_uri": "https://localhost:8080/"
        },
        "id": "MOLcT2hyl9hO",
        "outputId": "9f0864b4-0759-4173-984e-cb4cf6a24bc7"
      },
      "execution_count": 10,
      "outputs": [
        {
          "output_type": "stream",
          "name": "stdout",
          "text": [
            "Most Informative Features\n",
            "             last_letter = 'a'            female : male   =     36.9 : 1.0\n",
            "             last_letter = 'k'              male : female =     32.2 : 1.0\n",
            "             last_letter = 'f'              male : female =     25.4 : 1.0\n",
            "             last_letter = 'p'              male : female =     11.2 : 1.0\n",
            "             last_letter = 'v'              male : female =     10.5 : 1.0\n"
          ]
        }
      ]
    },
    {
      "cell_type": "code",
      "source": [
        "# 데이터의 양이 많을 때\n",
        "\n",
        "from nltk.classify import apply_features\n",
        "\n",
        "train_set = apply_features(gender_features, labeled_names[500:])\n",
        "test_set = apply_features(gender_features, labeled_names[:500])"
      ],
      "metadata": {
        "id": "62_chPYImEvM"
      },
      "execution_count": 11,
      "outputs": []
    },
    {
      "cell_type": "markdown",
      "source": [
        "### Choosing The Right Features"
      ],
      "metadata": {
        "id": "wWc6KBr_mdkn"
      }
    },
    {
      "cell_type": "code",
      "source": [
        "def gender_features2(name):\n",
        "  features = {}\n",
        "  features[\"first_letter\"] = name[0].lower()\n",
        "  features[\"last_letter\"] = name[-1].lower()\n",
        "\n",
        "  for letter in 'abcdefghijklmnopqrstuvwxyz':\n",
        "    features[\"count({})\".format(letter)] = name.lower().count(letter)\n",
        "    features[\"has({})\".format(letter)] = (letter in name.lower())\n",
        "  \n",
        "  return features"
      ],
      "metadata": {
        "id": "yjHF9XXDmtFU"
      },
      "execution_count": 12,
      "outputs": []
    },
    {
      "cell_type": "code",
      "source": [
        "gender_features2('John')"
      ],
      "metadata": {
        "colab": {
          "base_uri": "https://localhost:8080/"
        },
        "id": "uMu3q3FFnH99",
        "outputId": "25a062fb-ee67-43a9-9801-4b725e582b49"
      },
      "execution_count": 13,
      "outputs": [
        {
          "output_type": "execute_result",
          "data": {
            "text/plain": [
              "{'count(a)': 0,\n",
              " 'count(b)': 0,\n",
              " 'count(c)': 0,\n",
              " 'count(d)': 0,\n",
              " 'count(e)': 0,\n",
              " 'count(f)': 0,\n",
              " 'count(g)': 0,\n",
              " 'count(h)': 1,\n",
              " 'count(i)': 0,\n",
              " 'count(j)': 1,\n",
              " 'count(k)': 0,\n",
              " 'count(l)': 0,\n",
              " 'count(m)': 0,\n",
              " 'count(n)': 1,\n",
              " 'count(o)': 1,\n",
              " 'count(p)': 0,\n",
              " 'count(q)': 0,\n",
              " 'count(r)': 0,\n",
              " 'count(s)': 0,\n",
              " 'count(t)': 0,\n",
              " 'count(u)': 0,\n",
              " 'count(v)': 0,\n",
              " 'count(w)': 0,\n",
              " 'count(x)': 0,\n",
              " 'count(y)': 0,\n",
              " 'count(z)': 0,\n",
              " 'first_letter': 'j',\n",
              " 'has(a)': False,\n",
              " 'has(b)': False,\n",
              " 'has(c)': False,\n",
              " 'has(d)': False,\n",
              " 'has(e)': False,\n",
              " 'has(f)': False,\n",
              " 'has(g)': False,\n",
              " 'has(h)': True,\n",
              " 'has(i)': False,\n",
              " 'has(j)': True,\n",
              " 'has(k)': False,\n",
              " 'has(l)': False,\n",
              " 'has(m)': False,\n",
              " 'has(n)': True,\n",
              " 'has(o)': True,\n",
              " 'has(p)': False,\n",
              " 'has(q)': False,\n",
              " 'has(r)': False,\n",
              " 'has(s)': False,\n",
              " 'has(t)': False,\n",
              " 'has(u)': False,\n",
              " 'has(v)': False,\n",
              " 'has(w)': False,\n",
              " 'has(x)': False,\n",
              " 'has(y)': False,\n",
              " 'has(z)': False,\n",
              " 'last_letter': 'n'}"
            ]
          },
          "metadata": {},
          "execution_count": 13
        }
      ]
    },
    {
      "cell_type": "code",
      "source": [
        "featuresets = [(gender_features2(n), gender) for (n, gender) in labeled_names]\n",
        "\n",
        "train_set, test_set = featuresets[500:], featuresets[:500]\n",
        "classifier = nltk.NaiveBayesClassifier.train(train_set)\n",
        "\n",
        "nltk.classify.accuracy(classifier, test_set)"
      ],
      "metadata": {
        "colab": {
          "base_uri": "https://localhost:8080/"
        },
        "id": "UNB-_SmHnMde",
        "outputId": "5f722ace-73aa-4c74-e1a1-70d362e91253"
      },
      "execution_count": 14,
      "outputs": [
        {
          "output_type": "execute_result",
          "data": {
            "text/plain": [
              "0.788"
            ]
          },
          "metadata": {},
          "execution_count": 14
        }
      ]
    },
    {
      "cell_type": "code",
      "source": [
        "# Development Set\n",
        "train_names = labeled_names[1500:]\n",
        "devtest_names = labeled_names[500:1500] # for error analysis\n",
        "\n",
        "# Test set\n",
        "test_names = labeled_names[:500]"
      ],
      "metadata": {
        "id": "GkS-BWGpoASo"
      },
      "execution_count": 15,
      "outputs": []
    },
    {
      "cell_type": "code",
      "source": [
        "train_set = [(gender_features(n), gender) for (n, gender) in train_names]\n",
        "devtest_set = [(gender_features(n), gender) for (n, gender) in devtest_names]\n",
        "test_set = [(gender_features(n), gender) for (n, gender) in test_names]\n",
        "\n",
        "classifier = nltk.NaiveBayesClassifier.train(train_set)\n",
        "nltk.classify.accuracy(classifier, devtest_set)"
      ],
      "metadata": {
        "colab": {
          "base_uri": "https://localhost:8080/"
        },
        "id": "KAGeY82ZoPBd",
        "outputId": "f38e3bef-fdbf-489f-d536-14124ef6dff3"
      },
      "execution_count": 16,
      "outputs": [
        {
          "output_type": "execute_result",
          "data": {
            "text/plain": [
              "0.759"
            ]
          },
          "metadata": {},
          "execution_count": 16
        }
      ]
    },
    {
      "cell_type": "code",
      "source": [
        "errors = []\n",
        "for (name, tag) in devtest_names:\n",
        "  guess = classifier.classify(gender_features(name))\n",
        "  if guess != tag:\n",
        "    errors.append((tag, guess, name))"
      ],
      "metadata": {
        "id": "4xnseh8mp1A2"
      },
      "execution_count": 17,
      "outputs": []
    },
    {
      "cell_type": "code",
      "source": [
        "len(errors)"
      ],
      "metadata": {
        "colab": {
          "base_uri": "https://localhost:8080/"
        },
        "id": "_Qu09eAHqIu2",
        "outputId": "e53d0665-78d6-488a-f27d-5d4daad8c13c"
      },
      "execution_count": 18,
      "outputs": [
        {
          "output_type": "execute_result",
          "data": {
            "text/plain": [
              "241"
            ]
          },
          "metadata": {},
          "execution_count": 18
        }
      ]
    },
    {
      "cell_type": "code",
      "source": [
        "for (tag, guess, name) in sorted(errors)[:10]:\n",
        "  print('correct={:<8s} guess={:<8s} name={:<30s}'.format(tag, guess, name))"
      ],
      "metadata": {
        "colab": {
          "base_uri": "https://localhost:8080/"
        },
        "id": "-Inop2S6qSCk",
        "outputId": "e219a204-1e7f-4e91-bb69-5bb25108eecf"
      },
      "execution_count": 19,
      "outputs": [
        {
          "output_type": "stream",
          "name": "stdout",
          "text": [
            "correct=female   guess=male     name=Addis                         \n",
            "correct=female   guess=male     name=Adrian                        \n",
            "correct=female   guess=male     name=Ailyn                         \n",
            "correct=female   guess=male     name=Alis                          \n",
            "correct=female   guess=male     name=Alisun                        \n",
            "correct=female   guess=male     name=Allsun                        \n",
            "correct=female   guess=male     name=Alyss                         \n",
            "correct=female   guess=male     name=Angel                         \n",
            "correct=female   guess=male     name=Ardelis                       \n",
            "correct=female   guess=male     name=Ardis                         \n"
          ]
        }
      ]
    },
    {
      "cell_type": "code",
      "source": [
        "def gender_features(word):\n",
        "  return {'suffix1': word[-1:],\n",
        "          'suffix2': word[-2:]}"
      ],
      "metadata": {
        "id": "BrC6QwP5qjNP"
      },
      "execution_count": 20,
      "outputs": []
    },
    {
      "cell_type": "code",
      "source": [
        "train_set = [(gender_features(n), gender) for (n, gender) in train_names]\n",
        "devtest_set = [(gender_features(n), gender) for (n, gender) in devtest_names]\n",
        "\n",
        "classifier = nltk.NaiveBayesClassifier.train(train_set)\n",
        "nltk.classify.accuracy(classifier, devtest_set)"
      ],
      "metadata": {
        "colab": {
          "base_uri": "https://localhost:8080/"
        },
        "id": "WH_DDtAoq-TO",
        "outputId": "0ffcda52-8854-40ff-9008-59ba77793bdd"
      },
      "execution_count": 21,
      "outputs": [
        {
          "output_type": "execute_result",
          "data": {
            "text/plain": [
              "0.764"
            ]
          },
          "metadata": {},
          "execution_count": 21
        }
      ]
    },
    {
      "cell_type": "markdown",
      "source": [
        "### Document Classification"
      ],
      "metadata": {
        "id": "h4WLWe8mrRl3"
      }
    },
    {
      "cell_type": "code",
      "source": [
        "nltk.download('movie_reviews')\n",
        "\n",
        "from nltk.corpus import movie_reviews\n",
        "documents = [(list(movie_reviews.words(fileid)), category)\n",
        "              for category in movie_reviews.categories()\n",
        "              for fileid in movie_reviews.fileids(category)]\n",
        "\n",
        "random.shuffle(documents)"
      ],
      "metadata": {
        "colab": {
          "base_uri": "https://localhost:8080/"
        },
        "id": "IjDFAJjkraa3",
        "outputId": "d9238a6e-9fc2-46c2-ef10-0275276987a9"
      },
      "execution_count": 22,
      "outputs": [
        {
          "output_type": "stream",
          "name": "stdout",
          "text": [
            "[nltk_data] Downloading package movie_reviews to /root/nltk_data...\n",
            "[nltk_data]   Unzipping corpora/movie_reviews.zip.\n"
          ]
        }
      ]
    },
    {
      "cell_type": "code",
      "source": [
        "all_words = nltk.FreqDist(w.lower() for w in movie_reviews.words())\n",
        "word_features = list(all_words)[:2000]\n",
        "\n",
        "def document_features(document):\n",
        "  document_words = set(document)\n",
        "  features = {}\n",
        "  for word in word_features:\n",
        "    features['contain({})'.format(word)] = (word in document_words)\n",
        "  \n",
        "  return features"
      ],
      "metadata": {
        "id": "hvTJVDmgrvFH"
      },
      "execution_count": 23,
      "outputs": []
    },
    {
      "cell_type": "code",
      "source": [
        "document_features(movie_reviews.words('pos/cv957_8737.txt'))"
      ],
      "metadata": {
        "colab": {
          "base_uri": "https://localhost:8080/"
        },
        "id": "SKcBnhu7sOvt",
        "outputId": "4852a505-670d-4ed3-be42-8d029afce88a"
      },
      "execution_count": 24,
      "outputs": [
        {
          "output_type": "execute_result",
          "data": {
            "text/plain": [
              "{'contain(plot)': True,\n",
              " 'contain(:)': True,\n",
              " 'contain(two)': True,\n",
              " 'contain(teen)': False,\n",
              " 'contain(couples)': False,\n",
              " 'contain(go)': False,\n",
              " 'contain(to)': True,\n",
              " 'contain(a)': True,\n",
              " 'contain(church)': False,\n",
              " 'contain(party)': False,\n",
              " 'contain(,)': True,\n",
              " 'contain(drink)': False,\n",
              " 'contain(and)': True,\n",
              " 'contain(then)': True,\n",
              " 'contain(drive)': False,\n",
              " 'contain(.)': True,\n",
              " 'contain(they)': True,\n",
              " 'contain(get)': True,\n",
              " 'contain(into)': True,\n",
              " 'contain(an)': True,\n",
              " 'contain(accident)': False,\n",
              " 'contain(one)': True,\n",
              " 'contain(of)': True,\n",
              " 'contain(the)': True,\n",
              " 'contain(guys)': False,\n",
              " 'contain(dies)': False,\n",
              " 'contain(but)': True,\n",
              " 'contain(his)': True,\n",
              " 'contain(girlfriend)': True,\n",
              " 'contain(continues)': False,\n",
              " 'contain(see)': False,\n",
              " 'contain(him)': True,\n",
              " 'contain(in)': True,\n",
              " 'contain(her)': False,\n",
              " 'contain(life)': False,\n",
              " 'contain(has)': True,\n",
              " 'contain(nightmares)': False,\n",
              " 'contain(what)': True,\n",
              " \"contain(')\": True,\n",
              " 'contain(s)': True,\n",
              " 'contain(deal)': False,\n",
              " 'contain(?)': False,\n",
              " 'contain(watch)': True,\n",
              " 'contain(movie)': True,\n",
              " 'contain(\")': True,\n",
              " 'contain(sorta)': False,\n",
              " 'contain(find)': False,\n",
              " 'contain(out)': True,\n",
              " 'contain(critique)': False,\n",
              " 'contain(mind)': False,\n",
              " 'contain(-)': True,\n",
              " 'contain(fuck)': False,\n",
              " 'contain(for)': True,\n",
              " 'contain(generation)': False,\n",
              " 'contain(that)': True,\n",
              " 'contain(touches)': False,\n",
              " 'contain(on)': True,\n",
              " 'contain(very)': True,\n",
              " 'contain(cool)': False,\n",
              " 'contain(idea)': True,\n",
              " 'contain(presents)': False,\n",
              " 'contain(it)': True,\n",
              " 'contain(bad)': False,\n",
              " 'contain(package)': False,\n",
              " 'contain(which)': True,\n",
              " 'contain(is)': True,\n",
              " 'contain(makes)': False,\n",
              " 'contain(this)': True,\n",
              " 'contain(review)': False,\n",
              " 'contain(even)': False,\n",
              " 'contain(harder)': False,\n",
              " 'contain(write)': False,\n",
              " 'contain(since)': False,\n",
              " 'contain(i)': False,\n",
              " 'contain(generally)': False,\n",
              " 'contain(applaud)': False,\n",
              " 'contain(films)': False,\n",
              " 'contain(attempt)': False,\n",
              " 'contain(break)': False,\n",
              " 'contain(mold)': False,\n",
              " 'contain(mess)': False,\n",
              " 'contain(with)': True,\n",
              " 'contain(your)': False,\n",
              " 'contain(head)': False,\n",
              " 'contain(such)': False,\n",
              " 'contain(()': True,\n",
              " 'contain(lost)': False,\n",
              " 'contain(highway)': False,\n",
              " 'contain(&)': False,\n",
              " 'contain(memento)': False,\n",
              " 'contain())': True,\n",
              " 'contain(there)': True,\n",
              " 'contain(are)': True,\n",
              " 'contain(good)': False,\n",
              " 'contain(ways)': False,\n",
              " 'contain(making)': True,\n",
              " 'contain(all)': True,\n",
              " 'contain(types)': False,\n",
              " 'contain(these)': False,\n",
              " 'contain(folks)': False,\n",
              " 'contain(just)': True,\n",
              " 'contain(didn)': False,\n",
              " 'contain(t)': False,\n",
              " 'contain(snag)': False,\n",
              " 'contain(correctly)': False,\n",
              " 'contain(seem)': False,\n",
              " 'contain(have)': True,\n",
              " 'contain(taken)': False,\n",
              " 'contain(pretty)': False,\n",
              " 'contain(neat)': False,\n",
              " 'contain(concept)': False,\n",
              " 'contain(executed)': False,\n",
              " 'contain(terribly)': False,\n",
              " 'contain(so)': False,\n",
              " 'contain(problems)': True,\n",
              " 'contain(well)': True,\n",
              " 'contain(its)': False,\n",
              " 'contain(main)': False,\n",
              " 'contain(problem)': False,\n",
              " 'contain(simply)': False,\n",
              " 'contain(too)': False,\n",
              " 'contain(jumbled)': False,\n",
              " 'contain(starts)': False,\n",
              " 'contain(off)': False,\n",
              " 'contain(normal)': False,\n",
              " 'contain(downshifts)': False,\n",
              " 'contain(fantasy)': False,\n",
              " 'contain(world)': True,\n",
              " 'contain(you)': True,\n",
              " 'contain(as)': True,\n",
              " 'contain(audience)': False,\n",
              " 'contain(member)': False,\n",
              " 'contain(no)': False,\n",
              " 'contain(going)': False,\n",
              " 'contain(dreams)': False,\n",
              " 'contain(characters)': False,\n",
              " 'contain(coming)': False,\n",
              " 'contain(back)': False,\n",
              " 'contain(from)': True,\n",
              " 'contain(dead)': False,\n",
              " 'contain(others)': True,\n",
              " 'contain(who)': True,\n",
              " 'contain(look)': True,\n",
              " 'contain(like)': True,\n",
              " 'contain(strange)': False,\n",
              " 'contain(apparitions)': False,\n",
              " 'contain(disappearances)': False,\n",
              " 'contain(looooot)': False,\n",
              " 'contain(chase)': True,\n",
              " 'contain(scenes)': False,\n",
              " 'contain(tons)': False,\n",
              " 'contain(weird)': False,\n",
              " 'contain(things)': True,\n",
              " 'contain(happen)': False,\n",
              " 'contain(most)': True,\n",
              " 'contain(not)': True,\n",
              " 'contain(explained)': False,\n",
              " 'contain(now)': False,\n",
              " 'contain(personally)': False,\n",
              " 'contain(don)': False,\n",
              " 'contain(trying)': False,\n",
              " 'contain(unravel)': False,\n",
              " 'contain(film)': False,\n",
              " 'contain(every)': False,\n",
              " 'contain(when)': True,\n",
              " 'contain(does)': False,\n",
              " 'contain(give)': False,\n",
              " 'contain(me)': True,\n",
              " 'contain(same)': True,\n",
              " 'contain(clue)': False,\n",
              " 'contain(over)': False,\n",
              " 'contain(again)': False,\n",
              " 'contain(kind)': True,\n",
              " 'contain(fed)': False,\n",
              " 'contain(up)': False,\n",
              " 'contain(after)': False,\n",
              " 'contain(while)': True,\n",
              " 'contain(biggest)': False,\n",
              " 'contain(obviously)': False,\n",
              " 'contain(got)': True,\n",
              " 'contain(big)': False,\n",
              " 'contain(secret)': False,\n",
              " 'contain(hide)': False,\n",
              " 'contain(seems)': False,\n",
              " 'contain(want)': False,\n",
              " 'contain(completely)': False,\n",
              " 'contain(until)': False,\n",
              " 'contain(final)': False,\n",
              " 'contain(five)': False,\n",
              " 'contain(minutes)': False,\n",
              " 'contain(do)': True,\n",
              " 'contain(make)': True,\n",
              " 'contain(entertaining)': False,\n",
              " 'contain(thrilling)': False,\n",
              " 'contain(or)': False,\n",
              " 'contain(engaging)': False,\n",
              " 'contain(meantime)': False,\n",
              " 'contain(really)': False,\n",
              " 'contain(sad)': False,\n",
              " 'contain(part)': False,\n",
              " 'contain(arrow)': False,\n",
              " 'contain(both)': False,\n",
              " 'contain(dig)': False,\n",
              " 'contain(flicks)': False,\n",
              " 'contain(we)': False,\n",
              " 'contain(actually)': True,\n",
              " 'contain(figured)': False,\n",
              " 'contain(by)': True,\n",
              " 'contain(half)': False,\n",
              " 'contain(way)': True,\n",
              " 'contain(point)': False,\n",
              " 'contain(strangeness)': False,\n",
              " 'contain(did)': False,\n",
              " 'contain(start)': True,\n",
              " 'contain(little)': True,\n",
              " 'contain(bit)': False,\n",
              " 'contain(sense)': False,\n",
              " 'contain(still)': False,\n",
              " 'contain(more)': False,\n",
              " 'contain(guess)': False,\n",
              " 'contain(bottom)': False,\n",
              " 'contain(line)': False,\n",
              " 'contain(movies)': True,\n",
              " 'contain(should)': False,\n",
              " 'contain(always)': False,\n",
              " 'contain(sure)': False,\n",
              " 'contain(before)': False,\n",
              " 'contain(given)': False,\n",
              " 'contain(password)': False,\n",
              " 'contain(enter)': False,\n",
              " 'contain(understanding)': False,\n",
              " 'contain(mean)': False,\n",
              " 'contain(showing)': False,\n",
              " 'contain(melissa)': False,\n",
              " 'contain(sagemiller)': False,\n",
              " 'contain(running)': False,\n",
              " 'contain(away)': False,\n",
              " 'contain(visions)': False,\n",
              " 'contain(about)': True,\n",
              " 'contain(20)': False,\n",
              " 'contain(throughout)': False,\n",
              " 'contain(plain)': False,\n",
              " 'contain(lazy)': False,\n",
              " 'contain(!)': True,\n",
              " 'contain(okay)': False,\n",
              " 'contain(people)': False,\n",
              " 'contain(chasing)': False,\n",
              " 'contain(know)': False,\n",
              " 'contain(need)': False,\n",
              " 'contain(how)': True,\n",
              " 'contain(giving)': False,\n",
              " 'contain(us)': True,\n",
              " 'contain(different)': False,\n",
              " 'contain(offering)': False,\n",
              " 'contain(further)': False,\n",
              " 'contain(insight)': False,\n",
              " 'contain(down)': False,\n",
              " 'contain(apparently)': False,\n",
              " 'contain(studio)': False,\n",
              " 'contain(took)': False,\n",
              " 'contain(director)': False,\n",
              " 'contain(chopped)': False,\n",
              " 'contain(themselves)': False,\n",
              " 'contain(shows)': False,\n",
              " 'contain(might)': False,\n",
              " 'contain(ve)': False,\n",
              " 'contain(been)': False,\n",
              " 'contain(decent)': False,\n",
              " 'contain(here)': True,\n",
              " 'contain(somewhere)': False,\n",
              " 'contain(suits)': False,\n",
              " 'contain(decided)': False,\n",
              " 'contain(turning)': False,\n",
              " 'contain(music)': False,\n",
              " 'contain(video)': False,\n",
              " 'contain(edge)': False,\n",
              " 'contain(would)': False,\n",
              " 'contain(actors)': False,\n",
              " 'contain(although)': False,\n",
              " 'contain(wes)': False,\n",
              " 'contain(bentley)': False,\n",
              " 'contain(seemed)': False,\n",
              " 'contain(be)': True,\n",
              " 'contain(playing)': True,\n",
              " 'contain(exact)': False,\n",
              " 'contain(character)': False,\n",
              " 'contain(he)': True,\n",
              " 'contain(american)': False,\n",
              " 'contain(beauty)': False,\n",
              " 'contain(only)': True,\n",
              " 'contain(new)': False,\n",
              " 'contain(neighborhood)': False,\n",
              " 'contain(my)': False,\n",
              " 'contain(kudos)': False,\n",
              " 'contain(holds)': False,\n",
              " 'contain(own)': True,\n",
              " 'contain(entire)': False,\n",
              " 'contain(feeling)': False,\n",
              " 'contain(unraveling)': False,\n",
              " 'contain(overall)': False,\n",
              " 'contain(doesn)': False,\n",
              " 'contain(stick)': False,\n",
              " 'contain(because)': False,\n",
              " 'contain(entertain)': False,\n",
              " 'contain(confusing)': False,\n",
              " 'contain(rarely)': False,\n",
              " 'contain(excites)': False,\n",
              " 'contain(feels)': False,\n",
              " 'contain(redundant)': False,\n",
              " 'contain(runtime)': False,\n",
              " 'contain(despite)': False,\n",
              " 'contain(ending)': False,\n",
              " 'contain(explanation)': False,\n",
              " 'contain(craziness)': False,\n",
              " 'contain(came)': False,\n",
              " 'contain(oh)': False,\n",
              " 'contain(horror)': False,\n",
              " 'contain(slasher)': False,\n",
              " 'contain(flick)': False,\n",
              " 'contain(packaged)': False,\n",
              " 'contain(someone)': False,\n",
              " 'contain(assuming)': False,\n",
              " 'contain(genre)': False,\n",
              " 'contain(hot)': False,\n",
              " 'contain(kids)': False,\n",
              " 'contain(also)': True,\n",
              " 'contain(wrapped)': False,\n",
              " 'contain(production)': False,\n",
              " 'contain(years)': False,\n",
              " 'contain(ago)': False,\n",
              " 'contain(sitting)': False,\n",
              " 'contain(shelves)': False,\n",
              " 'contain(ever)': True,\n",
              " 'contain(whatever)': False,\n",
              " 'contain(skip)': False,\n",
              " 'contain(where)': True,\n",
              " 'contain(joblo)': False,\n",
              " 'contain(nightmare)': False,\n",
              " 'contain(elm)': False,\n",
              " 'contain(street)': False,\n",
              " 'contain(3)': False,\n",
              " 'contain(7)': False,\n",
              " 'contain(/)': False,\n",
              " 'contain(10)': False,\n",
              " 'contain(blair)': False,\n",
              " 'contain(witch)': False,\n",
              " 'contain(2)': False,\n",
              " 'contain(crow)': False,\n",
              " 'contain(9)': False,\n",
              " 'contain(salvation)': False,\n",
              " 'contain(4)': False,\n",
              " 'contain(stir)': False,\n",
              " 'contain(echoes)': False,\n",
              " 'contain(8)': False,\n",
              " 'contain(happy)': False,\n",
              " 'contain(bastard)': False,\n",
              " 'contain(quick)': True,\n",
              " 'contain(damn)': False,\n",
              " 'contain(y2k)': False,\n",
              " 'contain(bug)': False,\n",
              " 'contain(starring)': False,\n",
              " 'contain(jamie)': False,\n",
              " 'contain(lee)': False,\n",
              " 'contain(curtis)': False,\n",
              " 'contain(another)': False,\n",
              " 'contain(baldwin)': False,\n",
              " 'contain(brother)': False,\n",
              " 'contain(william)': False,\n",
              " 'contain(time)': False,\n",
              " 'contain(story)': False,\n",
              " 'contain(regarding)': False,\n",
              " 'contain(crew)': False,\n",
              " 'contain(tugboat)': False,\n",
              " 'contain(comes)': False,\n",
              " 'contain(across)': False,\n",
              " 'contain(deserted)': False,\n",
              " 'contain(russian)': False,\n",
              " 'contain(tech)': False,\n",
              " 'contain(ship)': False,\n",
              " 'contain(kick)': False,\n",
              " 'contain(power)': False,\n",
              " 'contain(within)': False,\n",
              " 'contain(gore)': False,\n",
              " 'contain(bringing)': False,\n",
              " 'contain(few)': False,\n",
              " 'contain(action)': True,\n",
              " 'contain(sequences)': False,\n",
              " 'contain(virus)': False,\n",
              " 'contain(empty)': False,\n",
              " 'contain(flash)': False,\n",
              " 'contain(substance)': False,\n",
              " 'contain(why)': False,\n",
              " 'contain(was)': False,\n",
              " 'contain(middle)': False,\n",
              " 'contain(nowhere)': False,\n",
              " 'contain(origin)': False,\n",
              " 'contain(pink)': False,\n",
              " 'contain(flashy)': False,\n",
              " 'contain(thing)': False,\n",
              " 'contain(hit)': False,\n",
              " 'contain(mir)': False,\n",
              " 'contain(course)': True,\n",
              " 'contain(donald)': False,\n",
              " 'contain(sutherland)': False,\n",
              " 'contain(stumbling)': False,\n",
              " 'contain(around)': False,\n",
              " 'contain(drunkenly)': False,\n",
              " 'contain(hey)': False,\n",
              " 'contain(let)': False,\n",
              " 'contain(some)': False,\n",
              " 'contain(robots)': False,\n",
              " 'contain(acting)': False,\n",
              " 'contain(below)': False,\n",
              " 'contain(average)': False,\n",
              " 'contain(likes)': False,\n",
              " 'contain(re)': True,\n",
              " 'contain(likely)': False,\n",
              " 'contain(work)': False,\n",
              " 'contain(halloween)': False,\n",
              " 'contain(h20)': False,\n",
              " 'contain(wasted)': False,\n",
              " 'contain(real)': False,\n",
              " 'contain(star)': False,\n",
              " 'contain(stan)': False,\n",
              " 'contain(winston)': False,\n",
              " 'contain(robot)': False,\n",
              " 'contain(design)': False,\n",
              " 'contain(schnazzy)': False,\n",
              " 'contain(cgi)': False,\n",
              " 'contain(occasional)': False,\n",
              " 'contain(shot)': False,\n",
              " 'contain(picking)': False,\n",
              " 'contain(brain)': False,\n",
              " 'contain(if)': True,\n",
              " 'contain(body)': False,\n",
              " 'contain(parts)': False,\n",
              " 'contain(turn)': False,\n",
              " 'contain(otherwise)': False,\n",
              " 'contain(much)': False,\n",
              " 'contain(sunken)': False,\n",
              " 'contain(jaded)': False,\n",
              " 'contain(viewer)': False,\n",
              " 'contain(thankful)': False,\n",
              " 'contain(invention)': False,\n",
              " 'contain(timex)': False,\n",
              " 'contain(indiglo)': False,\n",
              " 'contain(based)': False,\n",
              " 'contain(late)': False,\n",
              " 'contain(1960)': False,\n",
              " 'contain(television)': False,\n",
              " 'contain(show)': False,\n",
              " 'contain(name)': False,\n",
              " 'contain(mod)': False,\n",
              " 'contain(squad)': False,\n",
              " 'contain(tells)': False,\n",
              " 'contain(tale)': False,\n",
              " 'contain(three)': False,\n",
              " 'contain(reformed)': False,\n",
              " 'contain(criminals)': False,\n",
              " 'contain(under)': False,\n",
              " 'contain(employ)': False,\n",
              " 'contain(police)': False,\n",
              " 'contain(undercover)': True,\n",
              " 'contain(however)': True,\n",
              " 'contain(wrong)': True,\n",
              " 'contain(evidence)': False,\n",
              " 'contain(gets)': True,\n",
              " 'contain(stolen)': False,\n",
              " 'contain(immediately)': False,\n",
              " 'contain(suspicion)': False,\n",
              " 'contain(ads)': False,\n",
              " 'contain(cuts)': False,\n",
              " 'contain(claire)': False,\n",
              " 'contain(dane)': False,\n",
              " 'contain(nice)': False,\n",
              " 'contain(hair)': False,\n",
              " 'contain(cute)': False,\n",
              " 'contain(outfits)': False,\n",
              " 'contain(car)': False,\n",
              " 'contain(chases)': False,\n",
              " 'contain(stuff)': False,\n",
              " 'contain(blowing)': False,\n",
              " 'contain(sounds)': False,\n",
              " 'contain(first)': False,\n",
              " 'contain(fifteen)': False,\n",
              " 'contain(quickly)': False,\n",
              " 'contain(becomes)': False,\n",
              " 'contain(apparent)': False,\n",
              " 'contain(certainly)': False,\n",
              " 'contain(slick)': False,\n",
              " 'contain(looking)': False,\n",
              " 'contain(complete)': False,\n",
              " 'contain(costumes)': False,\n",
              " 'contain(isn)': False,\n",
              " 'contain(enough)': False,\n",
              " 'contain(best)': True,\n",
              " 'contain(described)': False,\n",
              " 'contain(cross)': False,\n",
              " 'contain(between)': True,\n",
              " 'contain(hour)': False,\n",
              " 'contain(long)': False,\n",
              " 'contain(cop)': False,\n",
              " 'contain(stretched)': False,\n",
              " 'contain(span)': False,\n",
              " 'contain(single)': False,\n",
              " 'contain(clich)': False,\n",
              " 'contain(matter)': False,\n",
              " 'contain(elements)': False,\n",
              " 'contain(recycled)': False,\n",
              " 'contain(everything)': True,\n",
              " 'contain(already)': False,\n",
              " 'contain(seen)': False,\n",
              " 'contain(nothing)': False,\n",
              " 'contain(spectacular)': False,\n",
              " 'contain(sometimes)': False,\n",
              " 'contain(bordering)': False,\n",
              " 'contain(wooden)': False,\n",
              " 'contain(danes)': False,\n",
              " 'contain(omar)': False,\n",
              " 'contain(epps)': False,\n",
              " 'contain(deliver)': False,\n",
              " 'contain(their)': False,\n",
              " 'contain(lines)': False,\n",
              " 'contain(bored)': False,\n",
              " 'contain(transfers)': False,\n",
              " 'contain(onto)': False,\n",
              " 'contain(escape)': False,\n",
              " 'contain(relatively)': False,\n",
              " 'contain(unscathed)': False,\n",
              " 'contain(giovanni)': False,\n",
              " 'contain(ribisi)': False,\n",
              " 'contain(plays)': False,\n",
              " 'contain(resident)': False,\n",
              " 'contain(crazy)': False,\n",
              " 'contain(man)': False,\n",
              " 'contain(ultimately)': False,\n",
              " 'contain(being)': False,\n",
              " 'contain(worth)': True,\n",
              " 'contain(watching)': False,\n",
              " 'contain(unfortunately)': False,\n",
              " 'contain(save)': False,\n",
              " 'contain(convoluted)': False,\n",
              " 'contain(apart)': False,\n",
              " 'contain(occupying)': False,\n",
              " 'contain(screen)': True,\n",
              " 'contain(young)': False,\n",
              " 'contain(cast)': False,\n",
              " 'contain(clothes)': False,\n",
              " 'contain(hip)': False,\n",
              " 'contain(soundtrack)': False,\n",
              " 'contain(appears)': False,\n",
              " 'contain(geared)': False,\n",
              " 'contain(towards)': False,\n",
              " 'contain(teenage)': False,\n",
              " 'contain(mindset)': False,\n",
              " 'contain(r)': False,\n",
              " 'contain(rating)': False,\n",
              " 'contain(content)': False,\n",
              " 'contain(justify)': False,\n",
              " 'contain(juvenile)': False,\n",
              " 'contain(older)': False,\n",
              " 'contain(information)': False,\n",
              " 'contain(literally)': False,\n",
              " 'contain(spoon)': False,\n",
              " 'contain(hard)': False,\n",
              " 'contain(instead)': False,\n",
              " 'contain(telling)': False,\n",
              " 'contain(dialogue)': False,\n",
              " 'contain(poorly)': False,\n",
              " 'contain(written)': False,\n",
              " 'contain(extremely)': False,\n",
              " 'contain(predictable)': False,\n",
              " 'contain(progresses)': False,\n",
              " 'contain(won)': False,\n",
              " 'contain(care)': False,\n",
              " 'contain(heroes)': False,\n",
              " 'contain(any)': False,\n",
              " 'contain(jeopardy)': False,\n",
              " 'contain(ll)': False,\n",
              " 'contain(aren)': False,\n",
              " 'contain(basing)': False,\n",
              " 'contain(nobody)': False,\n",
              " 'contain(remembers)': False,\n",
              " 'contain(questionable)': False,\n",
              " 'contain(wisdom)': False,\n",
              " 'contain(especially)': True,\n",
              " 'contain(considers)': False,\n",
              " 'contain(target)': False,\n",
              " 'contain(fact)': False,\n",
              " 'contain(number)': False,\n",
              " 'contain(memorable)': False,\n",
              " 'contain(can)': False,\n",
              " 'contain(counted)': False,\n",
              " 'contain(hand)': False,\n",
              " 'contain(missing)': False,\n",
              " 'contain(finger)': False,\n",
              " 'contain(times)': False,\n",
              " 'contain(checked)': False,\n",
              " 'contain(six)': False,\n",
              " 'contain(clear)': False,\n",
              " 'contain(indication)': False,\n",
              " 'contain(them)': True,\n",
              " 'contain(than)': False,\n",
              " 'contain(cash)': False,\n",
              " 'contain(spending)': False,\n",
              " 'contain(dollar)': False,\n",
              " 'contain(judging)': False,\n",
              " 'contain(rash)': False,\n",
              " 'contain(awful)': False,\n",
              " 'contain(seeing)': True,\n",
              " 'contain(avoid)': False,\n",
              " 'contain(at)': False,\n",
              " 'contain(costs)': False,\n",
              " 'contain(quest)': False,\n",
              " 'contain(camelot)': False,\n",
              " 'contain(warner)': False,\n",
              " 'contain(bros)': False,\n",
              " 'contain(feature)': False,\n",
              " 'contain(length)': False,\n",
              " 'contain(fully)': False,\n",
              " 'contain(animated)': False,\n",
              " 'contain(steal)': False,\n",
              " 'contain(clout)': False,\n",
              " 'contain(disney)': False,\n",
              " 'contain(cartoon)': False,\n",
              " 'contain(empire)': False,\n",
              " 'contain(mouse)': False,\n",
              " 'contain(reason)': False,\n",
              " 'contain(worried)': False,\n",
              " 'contain(other)': True,\n",
              " 'contain(recent)': False,\n",
              " 'contain(challenger)': False,\n",
              " 'contain(throne)': False,\n",
              " 'contain(last)': False,\n",
              " 'contain(fall)': False,\n",
              " 'contain(promising)': False,\n",
              " 'contain(flawed)': False,\n",
              " 'contain(20th)': False,\n",
              " 'contain(century)': False,\n",
              " 'contain(fox)': False,\n",
              " 'contain(anastasia)': False,\n",
              " 'contain(hercules)': False,\n",
              " 'contain(lively)': False,\n",
              " 'contain(colorful)': False,\n",
              " 'contain(palate)': False,\n",
              " 'contain(had)': False,\n",
              " 'contain(beat)': False,\n",
              " 'contain(hands)': False,\n",
              " 'contain(crown)': False,\n",
              " 'contain(1997)': False,\n",
              " 'contain(piece)': False,\n",
              " 'contain(animation)': False,\n",
              " 'contain(year)': False,\n",
              " 'contain(contest)': False,\n",
              " 'contain(arrival)': False,\n",
              " 'contain(magic)': False,\n",
              " 'contain(kingdom)': False,\n",
              " 'contain(mediocre)': False,\n",
              " 'contain(--)': True,\n",
              " 'contain(d)': False,\n",
              " 'contain(pocahontas)': False,\n",
              " 'contain(those)': False,\n",
              " 'contain(keeping)': False,\n",
              " 'contain(score)': False,\n",
              " 'contain(nearly)': False,\n",
              " 'contain(dull)': False,\n",
              " 'contain(revolves)': False,\n",
              " 'contain(adventures)': False,\n",
              " 'contain(free)': False,\n",
              " 'contain(spirited)': False,\n",
              " 'contain(kayley)': False,\n",
              " 'contain(voiced)': False,\n",
              " 'contain(jessalyn)': False,\n",
              " 'contain(gilsig)': False,\n",
              " 'contain(early)': True,\n",
              " 'contain(daughter)': False,\n",
              " 'contain(belated)': False,\n",
              " 'contain(knight)': False,\n",
              " 'contain(king)': False,\n",
              " 'contain(arthur)': False,\n",
              " 'contain(round)': False,\n",
              " 'contain(table)': False,\n",
              " 'contain(dream)': False,\n",
              " 'contain(follow)': False,\n",
              " 'contain(father)': False,\n",
              " 'contain(footsteps)': False,\n",
              " 'contain(she)': True,\n",
              " 'contain(chance)': False,\n",
              " 'contain(evil)': False,\n",
              " 'contain(warlord)': False,\n",
              " 'contain(ruber)': False,\n",
              " 'contain(gary)': False,\n",
              " 'contain(oldman)': False,\n",
              " 'contain(ex)': False,\n",
              " 'contain(gone)': False,\n",
              " 'contain(steals)': False,\n",
              " 'contain(magical)': False,\n",
              " 'contain(sword)': False,\n",
              " 'contain(excalibur)': False,\n",
              " 'contain(accidentally)': False,\n",
              " 'contain(loses)': False,\n",
              " 'contain(dangerous)': True,\n",
              " 'contain(booby)': False,\n",
              " 'contain(trapped)': False,\n",
              " 'contain(forest)': False,\n",
              " 'contain(help)': True,\n",
              " 'contain(hunky)': False,\n",
              " 'contain(blind)': False,\n",
              " 'contain(timberland)': False,\n",
              " 'contain(dweller)': False,\n",
              " 'contain(garrett)': False,\n",
              " 'contain(carey)': False,\n",
              " 'contain(elwes)': False,\n",
              " 'contain(headed)': False,\n",
              " 'contain(dragon)': False,\n",
              " 'contain(eric)': False,\n",
              " 'contain(idle)': False,\n",
              " 'contain(rickles)': False,\n",
              " 'contain(arguing)': False,\n",
              " 'contain(itself)': False,\n",
              " 'contain(able)': False,\n",
              " 'contain(medieval)': False,\n",
              " 'contain(sexist)': False,\n",
              " 'contain(prove)': False,\n",
              " 'contain(fighter)': False,\n",
              " 'contain(side)': False,\n",
              " 'contain(pure)': False,\n",
              " 'contain(showmanship)': False,\n",
              " 'contain(essential)': False,\n",
              " 'contain(element)': False,\n",
              " 'contain(expected)': False,\n",
              " 'contain(climb)': False,\n",
              " 'contain(high)': False,\n",
              " 'contain(ranks)': False,\n",
              " 'contain(differentiates)': False,\n",
              " 'contain(something)': False,\n",
              " 'contain(saturday)': False,\n",
              " 'contain(morning)': False,\n",
              " 'contain(subpar)': False,\n",
              " 'contain(instantly)': False,\n",
              " 'contain(forgettable)': False,\n",
              " 'contain(songs)': False,\n",
              " 'contain(integrated)': False,\n",
              " 'contain(computerized)': False,\n",
              " 'contain(footage)': False,\n",
              " 'contain(compare)': False,\n",
              " 'contain(run)': False,\n",
              " 'contain(angry)': False,\n",
              " 'contain(ogre)': False,\n",
              " 'contain(herc)': False,\n",
              " 'contain(battle)': False,\n",
              " 'contain(hydra)': False,\n",
              " 'contain(rest)': False,\n",
              " 'contain(case)': False,\n",
              " 'contain(stink)': False,\n",
              " 'contain(none)': False,\n",
              " 'contain(remotely)': False,\n",
              " 'contain(interesting)': False,\n",
              " 'contain(race)': False,\n",
              " 'contain(bland)': False,\n",
              " 'contain(end)': False,\n",
              " 'contain(tie)': False,\n",
              " 'contain(win)': False,\n",
              " 'contain(comedy)': True,\n",
              " 'contain(shtick)': False,\n",
              " 'contain(awfully)': False,\n",
              " 'contain(cloying)': False,\n",
              " 'contain(least)': True,\n",
              " 'contain(signs)': False,\n",
              " 'contain(pulse)': False,\n",
              " 'contain(fans)': False,\n",
              " \"contain(-')\": False,\n",
              " 'contain(90s)': False,\n",
              " 'contain(tgif)': False,\n",
              " 'contain(will)': True,\n",
              " 'contain(thrilled)': False,\n",
              " 'contain(jaleel)': False,\n",
              " 'contain(urkel)': False,\n",
              " 'contain(white)': False,\n",
              " 'contain(bronson)': False,\n",
              " 'contain(balki)': False,\n",
              " 'contain(pinchot)': False,\n",
              " 'contain(sharing)': False,\n",
              " 'contain(nicely)': False,\n",
              " 'contain(realized)': False,\n",
              " 'contain(though)': False,\n",
              " 'contain(m)': False,\n",
              " 'contain(loss)': False,\n",
              " 'contain(recall)': False,\n",
              " 'contain(specific)': False,\n",
              " 'contain(providing)': False,\n",
              " 'contain(voice)': False,\n",
              " 'contain(talent)': False,\n",
              " 'contain(enthusiastic)': False,\n",
              " 'contain(paired)': False,\n",
              " 'contain(singers)': False,\n",
              " 'contain(sound)': False,\n",
              " 'contain(musical)': False,\n",
              " 'contain(moments)': False,\n",
              " 'contain(jane)': False,\n",
              " 'contain(seymour)': False,\n",
              " 'contain(celine)': False,\n",
              " 'contain(dion)': False,\n",
              " 'contain(must)': False,\n",
              " 'contain(strain)': False,\n",
              " 'contain(through)': False,\n",
              " 'contain(aside)': False,\n",
              " 'contain(children)': False,\n",
              " 'contain(probably)': False,\n",
              " 'contain(adults)': False,\n",
              " 'contain(grievous)': False,\n",
              " 'contain(error)': False,\n",
              " 'contain(lack)': False,\n",
              " 'contain(personality)': False,\n",
              " 'contain(learn)': False,\n",
              " 'contain(goes)': False,\n",
              " 'contain(synopsis)': False,\n",
              " 'contain(mentally)': False,\n",
              " 'contain(unstable)': False,\n",
              " 'contain(undergoing)': False,\n",
              " 'contain(psychotherapy)': False,\n",
              " 'contain(saves)': False,\n",
              " 'contain(boy)': False,\n",
              " 'contain(potentially)': False,\n",
              " 'contain(fatal)': False,\n",
              " 'contain(falls)': False,\n",
              " 'contain(love)': False,\n",
              " 'contain(mother)': False,\n",
              " 'contain(fledgling)': False,\n",
              " 'contain(restauranteur)': False,\n",
              " 'contain(unsuccessfully)': False,\n",
              " 'contain(attempting)': False,\n",
              " 'contain(gain)': False,\n",
              " 'contain(woman)': True,\n",
              " 'contain(favor)': False,\n",
              " 'contain(takes)': False,\n",
              " 'contain(pictures)': False,\n",
              " 'contain(kills)': False,\n",
              " 'contain(comments)': True,\n",
              " 'contain(stalked)': False,\n",
              " 'contain(yet)': False,\n",
              " 'contain(seemingly)': False,\n",
              " 'contain(endless)': True,\n",
              " 'contain(string)': False,\n",
              " 'contain(spurned)': False,\n",
              " 'contain(psychos)': False,\n",
              " 'contain(getting)': True,\n",
              " 'contain(revenge)': False,\n",
              " 'contain(type)': False,\n",
              " 'contain(stable)': False,\n",
              " 'contain(category)': False,\n",
              " 'contain(1990s)': False,\n",
              " 'contain(industry)': False,\n",
              " 'contain(theatrical)': False,\n",
              " 'contain(direct)': False,\n",
              " 'contain(proliferation)': False,\n",
              " 'contain(may)': False,\n",
              " 'contain(due)': False,\n",
              " 'contain(typically)': False,\n",
              " 'contain(inexpensive)': False,\n",
              " 'contain(produce)': False,\n",
              " 'contain(special)': False,\n",
              " 'contain(effects)': False,\n",
              " 'contain(stars)': False,\n",
              " 'contain(serve)': False,\n",
              " 'contain(vehicles)': False,\n",
              " 'contain(nudity)': False,\n",
              " 'contain(allowing)': False,\n",
              " 'contain(frequent)': False,\n",
              " 'contain(night)': False,\n",
              " 'contain(cable)': False,\n",
              " 'contain(wavers)': False,\n",
              " 'contain(slightly)': False,\n",
              " 'contain(norm)': False,\n",
              " 'contain(respect)': False,\n",
              " 'contain(psycho)': False,\n",
              " 'contain(never)': True,\n",
              " 'contain(affair)': False,\n",
              " 'contain(;)': False,\n",
              " 'contain(contrary)': False,\n",
              " 'contain(rejected)': False,\n",
              " 'contain(rather)': False,\n",
              " 'contain(lover)': False,\n",
              " 'contain(wife)': True,\n",
              " 'contain(husband)': False,\n",
              " 'contain(entry)': False,\n",
              " 'contain(doomed)': False,\n",
              " 'contain(collect)': False,\n",
              " 'contain(dust)': False,\n",
              " 'contain(viewed)': False,\n",
              " 'contain(midnight)': False,\n",
              " 'contain(provide)': False,\n",
              " 'contain(suspense)': False,\n",
              " 'contain(sets)': False,\n",
              " 'contain(interspersed)': False,\n",
              " 'contain(opening)': False,\n",
              " 'contain(credits)': False,\n",
              " 'contain(instance)': False,\n",
              " 'contain(serious)': False,\n",
              " 'contain(sounding)': False,\n",
              " 'contain(narrator)': False,\n",
              " 'contain(spouts)': False,\n",
              " 'contain(statistics)': False,\n",
              " 'contain(stalkers)': False,\n",
              " 'contain(ponders)': False,\n",
              " 'contain(cause)': False,\n",
              " 'contain(stalk)': False,\n",
              " 'contain(implicitly)': False,\n",
              " 'contain(implied)': False,\n",
              " 'contain(men)': False,\n",
              " 'contain(shown)': False,\n",
              " 'contain(snapshot)': False,\n",
              " 'contain(actor)': False,\n",
              " 'contain(jay)': False,\n",
              " 'contain(underwood)': False,\n",
              " 'contain(states)': False,\n",
              " 'contain(daryl)': False,\n",
              " 'contain(gleason)': False,\n",
              " 'contain(stalker)': False,\n",
              " 'contain(brooke)': False,\n",
              " 'contain(daniels)': False,\n",
              " 'contain(meant)': False,\n",
              " 'contain(called)': False,\n",
              " 'contain(guesswork)': False,\n",
              " 'contain(required)': False,\n",
              " 'contain(proceeds)': False,\n",
              " 'contain(begins)': False,\n",
              " 'contain(obvious)': False,\n",
              " 'contain(sequence)': False,\n",
              " 'contain(contrived)': False,\n",
              " 'contain(quite)': False,\n",
              " 'contain(brings)': False,\n",
              " 'contain(victim)': False,\n",
              " 'contain(together)': False,\n",
              " 'contain(obsesses)': False,\n",
              " 'contain(follows)': False,\n",
              " 'contain(tries)': True,\n",
              " 'contain(woo)': False,\n",
              " 'contain(plans)': False,\n",
              " 'contain(become)': False,\n",
              " 'contain(desperate)': False,\n",
              " 'contain(elaborate)': False,\n",
              " 'contain(include)': False,\n",
              " 'contain(cliche)': False,\n",
              " 'contain(murdered)': False,\n",
              " 'contain(pet)': False,\n",
              " 'contain(require)': False,\n",
              " 'contain(found)': False,\n",
              " 'contain(exception)': False,\n",
              " 'contain(cat)': False,\n",
              " 'contain(shower)': False,\n",
              " 'contain(events)': False,\n",
              " 'contain(lead)': True,\n",
              " 'contain(inevitable)': False,\n",
              " 'contain(showdown)': False,\n",
              " 'contain(survives)': False,\n",
              " 'contain(invariably)': False,\n",
              " 'contain(conclusion)': False,\n",
              " 'contain(turkey)': False,\n",
              " 'contain(uniformly)': False,\n",
              " 'contain(adequate)': False,\n",
              " 'contain(anything)': False,\n",
              " 'contain(home)': False,\n",
              " 'contain(either)': False,\n",
              " 'contain(turns)': False,\n",
              " 'contain(toward)': False,\n",
              " 'contain(melodrama)': False,\n",
              " 'contain(overdoes)': False,\n",
              " 'contain(words)': False,\n",
              " 'contain(manages)': False,\n",
              " 'contain(creepy)': False,\n",
              " 'contain(pass)': False,\n",
              " 'contain(demands)': False,\n",
              " 'contain(maryam)': False,\n",
              " 'contain(abo)': False,\n",
              " 'contain(close)': False,\n",
              " 'contain(played)': True,\n",
              " 'contain(bond)': False,\n",
              " 'contain(chick)': False,\n",
              " 'contain(living)': False,\n",
              " 'contain(daylights)': False,\n",
              " 'contain(equally)': False,\n",
              " 'contain(title)': False,\n",
              " 'contain(ditzy)': False,\n",
              " 'contain(strong)': False,\n",
              " 'contain(independent)': False,\n",
              " 'contain(business)': False,\n",
              " 'contain(owner)': False,\n",
              " 'contain(needs)': False,\n",
              " 'contain(proceed)': False,\n",
              " 'contain(example)': False,\n",
              " 'contain(suspicions)': False,\n",
              " 'contain(ensure)': False,\n",
              " 'contain(use)': False,\n",
              " 'contain(excuse)': False,\n",
              " 'contain(decides)': False,\n",
              " 'contain(return)': False,\n",
              " 'contain(toolbox)': False,\n",
              " 'contain(left)': False,\n",
              " 'contain(place)': True,\n",
              " ...}"
            ]
          },
          "metadata": {},
          "execution_count": 24
        }
      ]
    },
    {
      "cell_type": "code",
      "source": [
        "featuresets = [(document_features(d), c) for (d, c) in documents]\n",
        "train_set, test_set = featuresets[100:], featuresets[:100]\n",
        "classifier = nltk.NaiveBayesClassifier.train(train_set)"
      ],
      "metadata": {
        "id": "qwbLPcqfsjG4"
      },
      "execution_count": 26,
      "outputs": []
    },
    {
      "cell_type": "code",
      "source": [
        "nltk.classify.accuracy(classifier, test_set)"
      ],
      "metadata": {
        "colab": {
          "base_uri": "https://localhost:8080/"
        },
        "id": "Olg7oPCisVZx",
        "outputId": "fd5cbf42-d393-4644-d855-5e1de1c630c8"
      },
      "execution_count": 27,
      "outputs": [
        {
          "output_type": "execute_result",
          "data": {
            "text/plain": [
              "0.77"
            ]
          },
          "metadata": {},
          "execution_count": 27
        }
      ]
    },
    {
      "cell_type": "code",
      "source": [
        "classifier.show_most_informative_features(5)"
      ],
      "metadata": {
        "colab": {
          "base_uri": "https://localhost:8080/"
        },
        "id": "_JpZbgCgsh1G",
        "outputId": "1fa61b20-0a70-4886-ad08-1e028ff02b10"
      },
      "execution_count": 28,
      "outputs": [
        {
          "output_type": "stream",
          "name": "stdout",
          "text": [
            "Most Informative Features\n",
            "  contain(unimaginative) = True              neg : pos    =      8.2 : 1.0\n",
            "     contain(schumacher) = True              neg : pos    =      7.3 : 1.0\n",
            "           contain(mena) = True              neg : pos    =      6.9 : 1.0\n",
            "         contain(shoddy) = True              neg : pos    =      6.9 : 1.0\n",
            "         contain(suvari) = True              neg : pos    =      6.9 : 1.0\n"
          ]
        }
      ]
    },
    {
      "cell_type": "markdown",
      "source": [
        "### Part-of-Speech Tagging"
      ],
      "metadata": {
        "id": "63JF2mrKs90c"
      }
    },
    {
      "cell_type": "code",
      "source": [
        "nltk.download('brown')\n",
        "from nltk.corpus import brown\n",
        "\n",
        "suffix_fdist = nltk.FreqDist()\n",
        "for word in brown.words():\n",
        "  word = word.lower()\n",
        "  suffix_fdist[word[-1:]] += 1\n",
        "  suffix_fdist[word[-2:]] += 1\n",
        "  suffix_fdist[word[-3:]] += 1"
      ],
      "metadata": {
        "colab": {
          "base_uri": "https://localhost:8080/"
        },
        "id": "ClDhmGT7tFYW",
        "outputId": "326f3e8f-7dc3-4c43-a7a7-a6e5c3cdb12a"
      },
      "execution_count": 29,
      "outputs": [
        {
          "output_type": "stream",
          "name": "stdout",
          "text": [
            "[nltk_data] Downloading package brown to /root/nltk_data...\n",
            "[nltk_data]   Unzipping corpora/brown.zip.\n"
          ]
        }
      ]
    },
    {
      "cell_type": "code",
      "source": [
        "common_suffixes = [suffix for (suffix, count) in suffix_fdist.most_common(100)]\n",
        "common_suffixes"
      ],
      "metadata": {
        "id": "fji9z1kWtVAj"
      },
      "execution_count": null,
      "outputs": []
    },
    {
      "cell_type": "code",
      "source": [
        "def pos_features(word):\n",
        "  features = {}\n",
        "  for suffix in common_suffixes:\n",
        "    features['endswith({})'.format(suffix)] = word.lower().endswith(suffix)\n",
        "  return features"
      ],
      "metadata": {
        "id": "NzIVpYAutcD3"
      },
      "execution_count": 31,
      "outputs": []
    },
    {
      "cell_type": "code",
      "source": [
        "tagged_words = brown.tagged_words(categories='news')\n",
        "featuresets = [(pos_features(n), g) for (n, g) in tagged_words]"
      ],
      "metadata": {
        "id": "4kgwJFD2tqj5"
      },
      "execution_count": 32,
      "outputs": []
    },
    {
      "cell_type": "code",
      "source": [
        "size = int(len(featuresets) * 0.1)\n",
        "train_set, test_set = featuresets[size:], featuresets[:size]"
      ],
      "metadata": {
        "id": "4Iv_xrbIt6IF"
      },
      "execution_count": 33,
      "outputs": []
    },
    {
      "cell_type": "code",
      "source": [
        "classifier = nltk.DecisionTreeClassifier.train(train_set)\n",
        "nltk.classify.accuracy(classifier, test_set)"
      ],
      "metadata": {
        "colab": {
          "base_uri": "https://localhost:8080/"
        },
        "id": "qkLY3kzquAmX",
        "outputId": "fd3d9e6a-466c-4653-f654-2643018d5d05"
      },
      "execution_count": 34,
      "outputs": [
        {
          "output_type": "execute_result",
          "data": {
            "text/plain": [
              "0.6270512182993535"
            ]
          },
          "metadata": {},
          "execution_count": 34
        }
      ]
    },
    {
      "cell_type": "code",
      "source": [
        "classifier.classify(pos_features('cats'))"
      ],
      "metadata": {
        "colab": {
          "base_uri": "https://localhost:8080/",
          "height": 37
        },
        "id": "ZtJc-eJIuG05",
        "outputId": "6769030c-7854-4767-9de7-6390e4f322cd"
      },
      "execution_count": 35,
      "outputs": [
        {
          "output_type": "execute_result",
          "data": {
            "application/vnd.google.colaboratory.intrinsic+json": {
              "type": "string"
            },
            "text/plain": [
              "'NNS'"
            ]
          },
          "metadata": {},
          "execution_count": 35
        }
      ]
    },
    {
      "cell_type": "code",
      "source": [
        "print(classifier.pseudocode(depth=4))"
      ],
      "metadata": {
        "colab": {
          "base_uri": "https://localhost:8080/"
        },
        "id": "gljtjTKSuJDq",
        "outputId": "a4cd2718-4963-4f68-a8b5-b375ebc4dd57"
      },
      "execution_count": 36,
      "outputs": [
        {
          "output_type": "stream",
          "name": "stdout",
          "text": [
            "if endswith(the) == False: \n",
            "  if endswith(,) == False: \n",
            "    if endswith(s) == False: \n",
            "      if endswith(.) == False: return '.'\n",
            "      if endswith(.) == True: return '.'\n",
            "    if endswith(s) == True: \n",
            "      if endswith(is) == False: return 'PP$'\n",
            "      if endswith(is) == True: return 'BEZ'\n",
            "  if endswith(,) == True: return ','\n",
            "if endswith(the) == True: return 'AT'\n",
            "\n"
          ]
        }
      ]
    },
    {
      "cell_type": "markdown",
      "source": [
        "### Exploiting Context"
      ],
      "metadata": {
        "id": "KSr6Ijayui2W"
      }
    },
    {
      "cell_type": "code",
      "source": [
        "def pos_features(sentence, i):\n",
        "  features = {\"suffix(1)\": sentence[i][-1:],\n",
        "              \"suffix(2)\": sentence[i][-2:],\n",
        "              \"suffix(3)\": sentence[i][-3:]}\n",
        "  \n",
        "  if i == 0:\n",
        "    features[\"prev-word\"] = \"<START>\"\n",
        "  else:\n",
        "    features[\"prev-word\"] = sentence[i-1]\n",
        "  \n",
        "  return features"
      ],
      "metadata": {
        "id": "BD0pkBCzu-yp"
      },
      "execution_count": 37,
      "outputs": []
    },
    {
      "cell_type": "code",
      "source": [
        "pos_features(brown.sents()[0], 8)"
      ],
      "metadata": {
        "colab": {
          "base_uri": "https://localhost:8080/"
        },
        "id": "OgSLUJZqvaFl",
        "outputId": "f289e514-79ec-41b5-b278-fa9dca8d98cc"
      },
      "execution_count": 38,
      "outputs": [
        {
          "output_type": "execute_result",
          "data": {
            "text/plain": [
              "{'prev-word': 'an', 'suffix(1)': 'n', 'suffix(2)': 'on', 'suffix(3)': 'ion'}"
            ]
          },
          "metadata": {},
          "execution_count": 38
        }
      ]
    },
    {
      "cell_type": "code",
      "source": [
        "tagged_sents = brown.tagged_sents(categories='news')\n",
        "featuresets = []\n",
        "for tagged_sent in tagged_sents:\n",
        "  untagged_sent = nltk.tag.untag(tagged_sent)\n",
        "  for i, (word, tag) in enumerate(tagged_sent):\n",
        "    featuresets.append((pos_features(untagged_sent, i), tag))"
      ],
      "metadata": {
        "id": "bjoex43LvhQQ"
      },
      "execution_count": 40,
      "outputs": []
    },
    {
      "cell_type": "code",
      "source": [
        "size = int(len(featuresets) * 0.1)\n",
        "train_set, test_set = featuresets[size:], featuresets[:size]\n",
        "classifier = nltk.NaiveBayesClassifier.train(train_set)"
      ],
      "metadata": {
        "id": "3biarv9Xv_xH"
      },
      "execution_count": 41,
      "outputs": []
    },
    {
      "cell_type": "code",
      "source": [
        "nltk.classify.accuracy(classifier, test_set)"
      ],
      "metadata": {
        "colab": {
          "base_uri": "https://localhost:8080/"
        },
        "id": "O0-nokSswLjG",
        "outputId": "9f84300d-3824-4663-bbc5-7e5e59c58de7"
      },
      "execution_count": 42,
      "outputs": [
        {
          "output_type": "execute_result",
          "data": {
            "text/plain": [
              "0.7891596220785678"
            ]
          },
          "metadata": {},
          "execution_count": 42
        }
      ]
    },
    {
      "cell_type": "markdown",
      "source": [
        "### Sequence Classification"
      ],
      "metadata": {
        "id": "7_ndQFe5wn_E"
      }
    },
    {
      "cell_type": "code",
      "source": [
        "def pos_features(sentence, i, history):\n",
        "  features = {\"suffix(1)\": sentence[i][-1:],\n",
        "              \"suffix(2)\": sentence[i][-2:],\n",
        "              \"suffix(3)\": sentence[i][-3:]}\n",
        "  \n",
        "  if i == 0:\n",
        "    features[\"prev-word\"] = \"<START>\"\n",
        "    features[\"prev-tag\"] = \"<START>\"\n",
        "  \n",
        "  else:\n",
        "    features[\"prev-word\"] = sentence[i-1]\n",
        "    features[\"prev-tag\"] = history[i-1]\n",
        "  \n",
        "  return features"
      ],
      "metadata": {
        "id": "10nCCfFVxyTo"
      },
      "execution_count": 43,
      "outputs": []
    },
    {
      "cell_type": "code",
      "source": [
        "class ConsecutivePosTagger(nltk.TaggerI):\n",
        "\n",
        "  def __init__(self, train_sents):\n",
        "    train_set = []\n",
        "    for tagged_sent in train_sents:\n",
        "      untagged_sent = nltk.tag.untag(tagged_sent)\n",
        "      history = []\n",
        "      for i, (word, tag) in enumerate(tagged_sent):\n",
        "        featureset = pos_features(untagged_sent, i, history)\n",
        "        train_set.append((featureset, tag))\n",
        "        history.append(tag)\n",
        "    \n",
        "    self.classifier = nltk.NaiveBayesClassifier.train(train_set)\n",
        "\n",
        "  def tag(self, sentence):\n",
        "    history = []\n",
        "    for i, word in enumerate(sentence):\n",
        "      featureset = pos_features(sentence, i, history)\n",
        "      tag = self.classifier.classify(featureset)\n",
        "      history.append(tag)\n",
        "    return zip(sentence, history)"
      ],
      "metadata": {
        "id": "PLOOAws6yQj0"
      },
      "execution_count": 45,
      "outputs": []
    },
    {
      "cell_type": "code",
      "source": [
        "tagged_sents = brown.tagged_sents(categories='news')\n",
        "size = int(len(tagged_sents) * 0.1)\n",
        "\n",
        "train_sents, test_sents = tagged_sents[size:], tagged_sents[:size]\n",
        "tagger = ConsecutivePosTagger(train_sents)\n",
        "\n",
        "tagger.evaluate(test_sents)"
      ],
      "metadata": {
        "colab": {
          "base_uri": "https://localhost:8080/"
        },
        "id": "dDvP9IuxzTwO",
        "outputId": "b99d05fe-9452-47bd-8fde-4128d02d0b8c"
      },
      "execution_count": 46,
      "outputs": [
        {
          "output_type": "execute_result",
          "data": {
            "text/plain": [
              "0.7980528511821975"
            ]
          },
          "metadata": {},
          "execution_count": 46
        }
      ]
    },
    {
      "cell_type": "markdown",
      "source": [
        "### Other Methods for Sequence Classification"
      ],
      "metadata": {
        "id": "8h-glTAQznMq"
      }
    },
    {
      "cell_type": "markdown",
      "source": [
        "## 2. Further Examples of Supervised Classification"
      ],
      "metadata": {
        "id": "TXDHeT7_0Mdd"
      }
    },
    {
      "cell_type": "markdown",
      "source": [
        "### Sentence Segmentation"
      ],
      "metadata": {
        "id": "TIOoNOzi0RsA"
      }
    },
    {
      "cell_type": "code",
      "source": [
        "nltk.download('treebank')\n",
        "nltk.download('punkt')\n",
        "sents = nltk.corpus.treebank_raw.sents()\n",
        "tokens = []\n",
        "boundaries = set()\n",
        "offset = 0\n",
        "for sent in sents:\n",
        "  tokens.extend(sent)\n",
        "  offset += len(sent)\n",
        "  boundaries.add(offset-1)"
      ],
      "metadata": {
        "colab": {
          "base_uri": "https://localhost:8080/"
        },
        "id": "ijxLQ6_30Ysm",
        "outputId": "ddda5f1d-3425-4c7c-9328-a51b0175410d"
      },
      "execution_count": 49,
      "outputs": [
        {
          "output_type": "stream",
          "name": "stdout",
          "text": [
            "[nltk_data] Downloading package treebank to /root/nltk_data...\n",
            "[nltk_data]   Package treebank is already up-to-date!\n",
            "[nltk_data] Downloading package punkt to /root/nltk_data...\n",
            "[nltk_data]   Unzipping tokenizers/punkt.zip.\n"
          ]
        }
      ]
    },
    {
      "cell_type": "code",
      "source": [
        "def punct_features(tokens, i):\n",
        "  return {'next-word-capitalized': tokens[i+1][0].isupper(),\n",
        "          'prev-word': tokens[i-1].lower(),\n",
        "          'punct': tokens[i],\n",
        "          'prev-word-is-one-char': len(tokens[i-1]) == 1}"
      ],
      "metadata": {
        "id": "UtzUA8aR0_AJ"
      },
      "execution_count": 52,
      "outputs": []
    },
    {
      "cell_type": "code",
      "source": [
        "featuresets = [(punct_features(tokens, i), (i in boundaries))\n",
        "               for i in range(1, len(tokens)-1)\n",
        "               if tokens[i] in '.?!']"
      ],
      "metadata": {
        "id": "K-ljrnXm1Xne"
      },
      "execution_count": 53,
      "outputs": []
    },
    {
      "cell_type": "code",
      "source": [
        "size = int(len(featuresets) * 0.1)\n",
        "train_set, test_set = featuresets[size:], featuresets[:size]\n",
        "classifier = nltk.NaiveBayesClassifier.train(train_set)\n",
        "nltk.classify.accuracy(classifier, test_set)"
      ],
      "metadata": {
        "colab": {
          "base_uri": "https://localhost:8080/"
        },
        "id": "xwM1h4Re1o4O",
        "outputId": "79e953e7-b9e6-4ca9-fcb7-d1b239770d71"
      },
      "execution_count": 54,
      "outputs": [
        {
          "output_type": "execute_result",
          "data": {
            "text/plain": [
              "0.936026936026936"
            ]
          },
          "metadata": {},
          "execution_count": 54
        }
      ]
    },
    {
      "cell_type": "code",
      "source": [
        "def segment_sentences(words):\n",
        "  start = 0\n",
        "  sents = []\n",
        "  for i, word in enumerate(words):\n",
        "    if word in '.?!' and classifier.classify(punct_features(words, i)) == True:\n",
        "      sents.append(words[start:i+1])\n",
        "      start = i+1\n",
        "  \n",
        "  if start < len(words):\n",
        "    sents.append(words[start:])\n",
        "  return sents"
      ],
      "metadata": {
        "id": "CEJ1iR1W143w"
      },
      "execution_count": 55,
      "outputs": []
    },
    {
      "cell_type": "markdown",
      "source": [
        "### Identifying Dialogue Act Types"
      ],
      "metadata": {
        "id": "rsa2WPag2WzH"
      }
    },
    {
      "cell_type": "code",
      "source": [
        "nltk.download('nps_chat')\n",
        "posts = nltk.corpus.nps_chat.xml_posts()[:10000]"
      ],
      "metadata": {
        "colab": {
          "base_uri": "https://localhost:8080/"
        },
        "id": "oeMEbrhO2zXn",
        "outputId": "5ea0b4ab-0ee4-47e7-8d37-3f56c2723aca"
      },
      "execution_count": 56,
      "outputs": [
        {
          "output_type": "stream",
          "name": "stdout",
          "text": [
            "[nltk_data] Downloading package nps_chat to /root/nltk_data...\n",
            "[nltk_data]   Unzipping corpora/nps_chat.zip.\n"
          ]
        }
      ]
    },
    {
      "cell_type": "code",
      "source": [
        "def dialogue_act_features(post):\n",
        "  features = {}\n",
        "  for word in nltk.word_tokenize(post):\n",
        "    features['contain({})'.format(word.lower())] = True\n",
        "\n",
        "  return features"
      ],
      "metadata": {
        "id": "159wCO9j24eN"
      },
      "execution_count": 57,
      "outputs": []
    },
    {
      "cell_type": "code",
      "source": [
        "featuresets = [(dialogue_act_features(post.text), post.get('class')) for post in posts]\n",
        "\n",
        "size = int(len(featuresets) * 0.1)\n",
        "train_set, test_set = featuresets[size:], featuresets[:size]\n",
        "classifier = nltk.NaiveBayesClassifier.train(train_set)\n",
        "\n",
        "nltk.classify.accuracy(classifier, test_set)"
      ],
      "metadata": {
        "colab": {
          "base_uri": "https://localhost:8080/"
        },
        "id": "SpG9WPV43HyG",
        "outputId": "d65575a0-5a2a-48e5-fe11-6540c51725b1"
      },
      "execution_count": 58,
      "outputs": [
        {
          "output_type": "execute_result",
          "data": {
            "text/plain": [
              "0.668"
            ]
          },
          "metadata": {},
          "execution_count": 58
        }
      ]
    },
    {
      "cell_type": "markdown",
      "source": [
        "### Recognizing Textual Entailment"
      ],
      "metadata": {
        "id": "KxccvRip3gVf"
      }
    },
    {
      "cell_type": "code",
      "source": [
        "\"\"\"\n",
        "It should be emphasized that the relationship between text and hypothesis is not intended to be logical entailment, \n",
        "but rather whether a human would conclude that the text provides reasonable evidence for taking the hypothesis to be true.\n",
        "\n",
        "\"\"\""
      ],
      "metadata": {
        "id": "i1KIgk3h4AEz"
      },
      "execution_count": null,
      "outputs": []
    },
    {
      "cell_type": "code",
      "source": [
        "def rte_features(rtepair):\n",
        "  extractor = nltk.RTEFeatureExtractor(rtepair)\n",
        "  features = {}\n",
        "  features['word_overlap'] = len(extractor.overlap('word'))\n",
        "  features['word_hyp_extra'] = len(extractor.hyp_extra('word'))\n",
        "  features['ne_overlap'] = len(extractor.overlap('ne'))\n",
        "  features['ne_hyp_extra'] = len(extractor.hyp_extra('ne'))\n",
        "\n",
        "  return features"
      ],
      "metadata": {
        "id": "fH6q4TM-4XIO"
      },
      "execution_count": 59,
      "outputs": []
    },
    {
      "cell_type": "code",
      "source": [
        "nltk.download('rte')\n",
        "rtepair = nltk.corpus.rte.pairs(['rte3_dev.xml'])[33]\n",
        "extractor = nltk.RTEFeatureExtractor(rtepair)"
      ],
      "metadata": {
        "colab": {
          "base_uri": "https://localhost:8080/"
        },
        "id": "viuNy_UZ4xmt",
        "outputId": "8b70405e-5533-4422-d76a-e949b8e4f8f0"
      },
      "execution_count": 61,
      "outputs": [
        {
          "output_type": "stream",
          "name": "stdout",
          "text": [
            "[nltk_data] Downloading package rte to /root/nltk_data...\n",
            "[nltk_data]   Unzipping corpora/rte.zip.\n"
          ]
        }
      ]
    },
    {
      "cell_type": "code",
      "source": [
        "extractor.text_words"
      ],
      "metadata": {
        "colab": {
          "base_uri": "https://localhost:8080/"
        },
        "id": "xH81mpQ94-nW",
        "outputId": "6c74ac5c-3eaf-4253-9d27-ee2ef21bbb96"
      },
      "execution_count": 62,
      "outputs": [
        {
          "output_type": "execute_result",
          "data": {
            "text/plain": [
              "{'Asia',\n",
              " 'China',\n",
              " 'Co',\n",
              " 'Davudi',\n",
              " 'Iran',\n",
              " 'Organisation',\n",
              " 'Parviz',\n",
              " 'Russia',\n",
              " 'SCO',\n",
              " 'Shanghai',\n",
              " 'Soviet',\n",
              " 'association',\n",
              " 'at',\n",
              " 'binds',\n",
              " 'central',\n",
              " 'fight',\n",
              " 'fledgling',\n",
              " 'former',\n",
              " 'four',\n",
              " 'meeting',\n",
              " 'operation',\n",
              " 'representing',\n",
              " 'republics',\n",
              " 'terrorism.',\n",
              " 'that',\n",
              " 'together',\n",
              " 'was'}"
            ]
          },
          "metadata": {},
          "execution_count": 62
        }
      ]
    },
    {
      "cell_type": "code",
      "source": [
        "extractor.hyp_words"
      ],
      "metadata": {
        "colab": {
          "base_uri": "https://localhost:8080/"
        },
        "id": "Utsh3rVd5BhZ",
        "outputId": "d9ab3397-5ef4-49b8-8573-3b0636d7305f"
      },
      "execution_count": 63,
      "outputs": [
        {
          "output_type": "execute_result",
          "data": {
            "text/plain": [
              "{'China', 'SCO.', 'member'}"
            ]
          },
          "metadata": {},
          "execution_count": 63
        }
      ]
    },
    {
      "cell_type": "code",
      "source": [
        "extractor.overlap('word')"
      ],
      "metadata": {
        "colab": {
          "base_uri": "https://localhost:8080/"
        },
        "id": "K0gDpr3C5EuY",
        "outputId": "8cae3f7b-ae6a-4d62-e874-6bbfc58047a5"
      },
      "execution_count": 64,
      "outputs": [
        {
          "output_type": "execute_result",
          "data": {
            "text/plain": [
              "set()"
            ]
          },
          "metadata": {},
          "execution_count": 64
        }
      ]
    },
    {
      "cell_type": "code",
      "source": [
        "extractor.overlap('ne')"
      ],
      "metadata": {
        "colab": {
          "base_uri": "https://localhost:8080/"
        },
        "id": "_RZwTJ_Y5H9Q",
        "outputId": "21d1cc97-3579-45a5-8d74-48066179b423"
      },
      "execution_count": 65,
      "outputs": [
        {
          "output_type": "execute_result",
          "data": {
            "text/plain": [
              "{'China'}"
            ]
          },
          "metadata": {},
          "execution_count": 65
        }
      ]
    },
    {
      "cell_type": "code",
      "source": [
        "extractor.hyp_extra('word')"
      ],
      "metadata": {
        "colab": {
          "base_uri": "https://localhost:8080/"
        },
        "id": "oRFjjxMK5OSy",
        "outputId": "dfbfe901-2894-4cad-d5e3-151801828a7f"
      },
      "execution_count": 66,
      "outputs": [
        {
          "output_type": "execute_result",
          "data": {
            "text/plain": [
              "{'member'}"
            ]
          },
          "metadata": {},
          "execution_count": 66
        }
      ]
    },
    {
      "cell_type": "markdown",
      "source": [
        "### Scaling Up to Large Datasets"
      ],
      "metadata": {
        "id": "FhO-O8bA6LAM"
      }
    },
    {
      "cell_type": "markdown",
      "source": [
        "## 3. Evaluation"
      ],
      "metadata": {
        "id": "W_E9efDk67km"
      }
    },
    {
      "cell_type": "markdown",
      "source": [
        "### The Test Set"
      ],
      "metadata": {
        "id": "FiepGiD769cT"
      }
    },
    {
      "cell_type": "code",
      "source": [
        "import random\n",
        "from nltk.corpus import brown\n",
        "\n",
        "tagged_sents = list(brown.tagged_sents(categories='news'))\n",
        "random.shuffle(tagged_sents)\n",
        "size = int(len(tagged_sents) * 0.1)\n",
        "train_set, test_set = tagged_sents[size:], tagged_sents[:size]"
      ],
      "metadata": {
        "id": "x4BJkmXb7iud"
      },
      "execution_count": 67,
      "outputs": []
    },
    {
      "cell_type": "code",
      "source": [
        "file_ids = brown.fileids(categories='news')\n",
        "size = int(len(file_ids) * 0.1)\n",
        "train_set = brown.tagged_sents(file_ids[size:])\n",
        "test_set = brown.tagged_sents(file_ids[:size])"
      ],
      "metadata": {
        "id": "whhSX22D7xrE"
      },
      "execution_count": 68,
      "outputs": []
    },
    {
      "cell_type": "code",
      "source": [
        "train_set = brown.tagged_sents(categories='news')\n",
        "test_set = brown.tagged_sents(categories='fiction')"
      ],
      "metadata": {
        "id": "Jg3Lj0Ps8Kb9"
      },
      "execution_count": 69,
      "outputs": []
    },
    {
      "cell_type": "markdown",
      "source": [
        "### Accuracy"
      ],
      "metadata": {
        "id": "oQIyHGVo8ROw"
      }
    },
    {
      "cell_type": "code",
      "source": [
        "classifier = nltk.NaiveBayesClassifier.train(train_set)\n",
        "print('Accuracy: {:4.2f}'.format(nltk.classify.accuracy(classifier, test_set)))"
      ],
      "metadata": {
        "id": "_UftcTOj8kPx"
      },
      "execution_count": null,
      "outputs": []
    },
    {
      "cell_type": "markdown",
      "source": [
        "### Precision and Recall"
      ],
      "metadata": {
        "id": "QlViU3xw8qqF"
      }
    },
    {
      "cell_type": "code",
      "source": [
        "\"\"\" \n",
        "True positives are relevant items that we correctly identified as relevant.\n",
        "True negatives are irrelevant items that we correctly identified as irrelevant.\n",
        "False positives (or Type I errors) are irrelevant items that we incorrectly identified as relevant.\n",
        "False negatives (or Type II errors) are relevant items that we incorrectly identified as irrelevant.\n",
        "\n",
        "\"\"\""
      ],
      "metadata": {
        "id": "22G-l23z9ATE"
      },
      "execution_count": null,
      "outputs": []
    },
    {
      "cell_type": "code",
      "source": [
        "\"\"\"\n",
        "Precision, which indicates how many of the items that we identified were relevant, is TP/(TP+FP).\n",
        "Recall, which indicates how many of the relevant items that we identified, is TP/(TP+FN).\n",
        "\n",
        "The F-Measure (or F-Score), which combines the precision and recall to give a single score, \n",
        "is defined to be the harmonic mean of the precision and recall: (2 × Precision × Recall) / (Precision + Recall).\n",
        "\n",
        "\"\"\""
      ],
      "metadata": {
        "id": "T3kMGnJu9Tik"
      },
      "execution_count": null,
      "outputs": []
    },
    {
      "cell_type": "markdown",
      "source": [
        "### Confusion Matrices"
      ],
      "metadata": {
        "id": "kAqe-64e9eeb"
      }
    },
    {
      "cell_type": "code",
      "source": [
        "def tag_list(tagged_sents):\n",
        "  return [tag for sent in tagged_sents for (word, tag) in sent]\n",
        "\n",
        "def apply_tagger(tagger, corpus):\n",
        "  return [tagger.tag(nltk.tag.untag(sent)) for sent in corpus]\n",
        "\n",
        "gold = tag_list(brown.tagged_sents(categories='editorial'))\n",
        "test = tag_list(apply_tagger(t2, brown.tagged_sents(categories='editorial')))\n",
        "\n",
        "cm = nltk.ConfusionMatrix(gold, test)\n",
        "cm.pretty_format(sort_by_count=True, show_percents=True, truncate=9)"
      ],
      "metadata": {
        "colab": {
          "base_uri": "https://localhost:8080/",
          "height": 232
        },
        "id": "PKGZoRYB9m-u",
        "outputId": "49a99c4c-3b9a-4894-e598-391cc49bcfef"
      },
      "execution_count": 72,
      "outputs": [
        {
          "output_type": "error",
          "ename": "NameError",
          "evalue": "ignored",
          "traceback": [
            "\u001b[0;31m---------------------------------------------------------------------------\u001b[0m",
            "\u001b[0;31mNameError\u001b[0m                                 Traceback (most recent call last)",
            "\u001b[0;32m<ipython-input-72-9c3cdee64213>\u001b[0m in \u001b[0;36m<module>\u001b[0;34m()\u001b[0m\n\u001b[1;32m      6\u001b[0m \u001b[0;34m\u001b[0m\u001b[0m\n\u001b[1;32m      7\u001b[0m \u001b[0mgold\u001b[0m \u001b[0;34m=\u001b[0m \u001b[0mtag_list\u001b[0m\u001b[0;34m(\u001b[0m\u001b[0mbrown\u001b[0m\u001b[0;34m.\u001b[0m\u001b[0mtagged_sents\u001b[0m\u001b[0;34m(\u001b[0m\u001b[0mcategories\u001b[0m\u001b[0;34m=\u001b[0m\u001b[0;34m'editorial'\u001b[0m\u001b[0;34m)\u001b[0m\u001b[0;34m)\u001b[0m\u001b[0;34m\u001b[0m\u001b[0;34m\u001b[0m\u001b[0m\n\u001b[0;32m----> 8\u001b[0;31m \u001b[0mtest\u001b[0m \u001b[0;34m=\u001b[0m \u001b[0mtag_list\u001b[0m\u001b[0;34m(\u001b[0m\u001b[0mapply_tagger\u001b[0m\u001b[0;34m(\u001b[0m\u001b[0mt2\u001b[0m\u001b[0;34m,\u001b[0m \u001b[0mbrown\u001b[0m\u001b[0;34m.\u001b[0m\u001b[0mtagged_sents\u001b[0m\u001b[0;34m(\u001b[0m\u001b[0mcategories\u001b[0m\u001b[0;34m=\u001b[0m\u001b[0;34m'editorial'\u001b[0m\u001b[0;34m)\u001b[0m\u001b[0;34m)\u001b[0m\u001b[0;34m)\u001b[0m\u001b[0;34m\u001b[0m\u001b[0;34m\u001b[0m\u001b[0m\n\u001b[0m\u001b[1;32m      9\u001b[0m \u001b[0;34m\u001b[0m\u001b[0m\n\u001b[1;32m     10\u001b[0m \u001b[0mcm\u001b[0m \u001b[0;34m=\u001b[0m \u001b[0mnltk\u001b[0m\u001b[0;34m.\u001b[0m\u001b[0mConfusionMatrix\u001b[0m\u001b[0;34m(\u001b[0m\u001b[0mgold\u001b[0m\u001b[0;34m,\u001b[0m \u001b[0mtest\u001b[0m\u001b[0;34m)\u001b[0m\u001b[0;34m\u001b[0m\u001b[0;34m\u001b[0m\u001b[0m\n",
            "\u001b[0;31mNameError\u001b[0m: name 't2' is not defined"
          ]
        }
      ]
    },
    {
      "cell_type": "markdown",
      "source": [
        "### Cross-Validation"
      ],
      "metadata": {
        "id": "HuDmCtSm-Yql"
      }
    },
    {
      "cell_type": "code",
      "source": [
        "\"\"\"\n",
        "One solution to this problem is to perform multiple evaluations on different test sets,\n",
        "then to combine the scores from those evaluations, a technique known as cross-validation.\n",
        "\n",
        "\"\"\""
      ],
      "metadata": {
        "id": "9uPEs9Ie-ii0"
      },
      "execution_count": null,
      "outputs": []
    },
    {
      "cell_type": "markdown",
      "source": [
        "## 4. Decision Trees"
      ],
      "metadata": {
        "id": "53EkdN25-xUX"
      }
    },
    {
      "cell_type": "markdown",
      "source": [
        "### Entropy and Information Gain"
      ],
      "metadata": {
        "id": "BXBxG7uDczgb"
      }
    },
    {
      "cell_type": "code",
      "source": [
        "import nltk\n",
        "import math\n",
        "\n",
        "def entropy(labels):\n",
        "  freqdist = nltk.FreqDist(labels)\n",
        "  probs = [freqdist.freq(l) for l in freqdist]\n",
        "  return -sum(p * math.log(p, 2) for p in probs)"
      ],
      "metadata": {
        "id": "Vpz4hnqVdZvn"
      },
      "execution_count": 1,
      "outputs": []
    },
    {
      "cell_type": "code",
      "source": [
        "entropy(['male', 'male', 'male', 'male'])"
      ],
      "metadata": {
        "colab": {
          "base_uri": "https://localhost:8080/"
        },
        "id": "pncS23uudmA4",
        "outputId": "2050ce9e-0937-4c89-f534-1dc1ca5e6e4e"
      },
      "execution_count": 2,
      "outputs": [
        {
          "output_type": "execute_result",
          "data": {
            "text/plain": [
              "-0.0"
            ]
          },
          "metadata": {},
          "execution_count": 2
        }
      ]
    },
    {
      "cell_type": "code",
      "source": [
        "entropy(['female', 'male', 'male', 'male'])"
      ],
      "metadata": {
        "colab": {
          "base_uri": "https://localhost:8080/"
        },
        "id": "_blJJy3SdqWY",
        "outputId": "b65fca3d-33f3-48ba-961c-ce5d62a7df2c"
      },
      "execution_count": 3,
      "outputs": [
        {
          "output_type": "execute_result",
          "data": {
            "text/plain": [
              "0.8112781244591328"
            ]
          },
          "metadata": {},
          "execution_count": 3
        }
      ]
    },
    {
      "cell_type": "code",
      "source": [
        "entropy(['female', 'female', 'male', 'male'])"
      ],
      "metadata": {
        "colab": {
          "base_uri": "https://localhost:8080/"
        },
        "id": "tvgeSXdEduti",
        "outputId": "81204514-7d54-42c7-c57c-6610c451d97a"
      },
      "execution_count": 4,
      "outputs": [
        {
          "output_type": "execute_result",
          "data": {
            "text/plain": [
              "1.0"
            ]
          },
          "metadata": {},
          "execution_count": 4
        }
      ]
    },
    {
      "cell_type": "code",
      "source": [
        "entropy(['female', 'female', 'female', 'male'])"
      ],
      "metadata": {
        "colab": {
          "base_uri": "https://localhost:8080/"
        },
        "id": "11kYzbKIdwpD",
        "outputId": "df0eb0ba-4b59-4ffd-cba7-cd84e0f1b775"
      },
      "execution_count": 5,
      "outputs": [
        {
          "output_type": "execute_result",
          "data": {
            "text/plain": [
              "0.8112781244591328"
            ]
          },
          "metadata": {},
          "execution_count": 5
        }
      ]
    },
    {
      "cell_type": "code",
      "source": [
        "entropy(['female', 'female', 'female', 'female'])"
      ],
      "metadata": {
        "colab": {
          "base_uri": "https://localhost:8080/"
        },
        "id": "FadfTa9sdzuZ",
        "outputId": "2779b91c-db7c-427f-d805-6dd6f15366e5"
      },
      "execution_count": 6,
      "outputs": [
        {
          "output_type": "execute_result",
          "data": {
            "text/plain": [
              "-0.0"
            ]
          },
          "metadata": {},
          "execution_count": 6
        }
      ]
    },
    {
      "cell_type": "code",
      "source": [
        "# Decision trees are especially well suited to cases where many hierarchical categorical distinctions can be made.\n",
        "\n",
        "# The fact that decision trees require that features be checked in a specific order limits their ability to exploit features that are relatively independent of one another. \n",
        "# The naive Bayes classification method, which we'll discuss next, overcomes this limitation by allowing all features to act \"in parallel.\""
      ],
      "metadata": {
        "id": "9xmw19KYd2Pu"
      },
      "execution_count": null,
      "outputs": []
    },
    {
      "cell_type": "markdown",
      "source": [
        "## 5. Naive Bayes Classifiers"
      ],
      "metadata": {
        "id": "ioXSmg8WfNFX"
      }
    },
    {
      "cell_type": "markdown",
      "source": [
        "### Underlying Probabilistic Model"
      ],
      "metadata": {
        "id": "1KiijRANgIUm"
      }
    },
    {
      "cell_type": "code",
      "source": [
        "# P(label) is the prior probability for a given label, and each P(f|label) is the contribution of a single feature to the label likelihood."
      ],
      "metadata": {
        "id": "IQrosnaEg9gA"
      },
      "execution_count": null,
      "outputs": []
    },
    {
      "cell_type": "markdown",
      "source": [
        "### Zero Counts and Smoothing"
      ],
      "metadata": {
        "id": "BShCxiI_hBW5"
      }
    },
    {
      "cell_type": "code",
      "source": [
        "# P(f|label) = count(f, label) / count(label)\n",
        "\n",
        "# However, this simple approach can become problematic when a feature never occurs with a given label in the training set.\n",
        "# The nltk.probability module provides support for a wide variety of smoothing techniques."
      ],
      "metadata": {
        "id": "5pKOOfC4hKSR"
      },
      "execution_count": null,
      "outputs": []
    },
    {
      "cell_type": "markdown",
      "source": [
        "### Non-Binary Features"
      ],
      "metadata": {
        "id": "jsLkacY_hsU8"
      }
    },
    {
      "cell_type": "code",
      "source": [
        "# Numeric features can be converted to binary features by binning, which replaces them with features such as \"4<x<6\"."
      ],
      "metadata": {
        "id": "hK5jBfP_h2rt"
      },
      "execution_count": null,
      "outputs": []
    },
    {
      "cell_type": "markdown",
      "source": [
        "### The Naivete of Independence"
      ],
      "metadata": {
        "id": "ZWopUgXZiGtO"
      }
    },
    {
      "cell_type": "code",
      "source": [
        "# The reason that naive Bayes classifiers are called \"naive\" is that it's unreasonable to assume that all features are independent of one another (given the label).\n",
        "\n",
        "# One problem that arises is that the classifier can end up \"double-counting\" the effect of highly correlated features, \n",
        "# pushing the classifier closer to a given label than is justified."
      ],
      "metadata": {
        "id": "WAGXnHdAiPnM"
      },
      "execution_count": null,
      "outputs": []
    },
    {
      "cell_type": "markdown",
      "source": [
        "### The Cause of Double-Counting"
      ],
      "metadata": {
        "id": "Ka0ZoisAiqAS"
      }
    },
    {
      "cell_type": "code",
      "source": [
        "# However, in the next section, we'll look at a classifier that considers the possible interactions between these parameters when choosing their values."
      ],
      "metadata": {
        "id": "5vEN0xx_i_5n"
      },
      "execution_count": null,
      "outputs": []
    },
    {
      "cell_type": "markdown",
      "source": [
        "## 6. Maximum Entropy Classifiers"
      ],
      "metadata": {
        "id": "9xFAvPNJjBFy"
      }
    },
    {
      "cell_type": "code",
      "source": [
        "# Therefore, Maximum Entropy classifiers choose the model parameters using iterative optimization techniques, which initialize the model's parameters to random values, \n",
        "# and then repeatedly refine those parameters to bring them closer to the optimal solution. "
      ],
      "metadata": {
        "id": "jRu7a3_Kjdte"
      },
      "execution_count": null,
      "outputs": []
    },
    {
      "cell_type": "markdown",
      "source": [
        "### The Maximum Entropy Model"
      ],
      "metadata": {
        "id": "gXBC1W4pjw6C"
      }
    },
    {
      "cell_type": "code",
      "source": [
        "# The Maximum Entropy classifier model leaves it up to the user to decide what combinations of labels and features should receive their own parameters.\n",
        "# Each combination of labels and features that receives its own parameter is called a joint-feature."
      ],
      "metadata": {
        "id": "cc1Zsdigj9qU"
      },
      "execution_count": null,
      "outputs": []
    },
    {
      "cell_type": "markdown",
      "source": [
        "### Maximizing Entropy"
      ],
      "metadata": {
        "id": "2NH6yfWJkX-Y"
      }
    },
    {
      "cell_type": "code",
      "source": [
        "# In general, the Maximum Entropy principle states that, \n",
        "# among the distributions that are consistent with what we know, \n",
        "# we should choose the distribution whose entropy is highest.\n",
        "\n",
        "# Throughout this example, we have restricted ourselves to distributions that are consistent with what we know; among these, \n",
        "# we chose the distribution with the highest entropy."
      ],
      "metadata": {
        "id": "lV1vX3nXk5Wh"
      },
      "execution_count": null,
      "outputs": []
    },
    {
      "cell_type": "markdown",
      "source": [
        "### Generative vs Conditional Classifiers"
      ],
      "metadata": {
        "id": "aRAeo-i-lk_m"
      }
    },
    {
      "cell_type": "markdown",
      "source": [
        "## 7. Modeling Linguistic Patterns"
      ],
      "metadata": {
        "id": "4wMpJ2_knqab"
      }
    },
    {
      "cell_type": "code",
      "source": [
        "# The models help us to understand linguistic patterns, and they can be used to make predictions about new language data."
      ],
      "metadata": {
        "id": "r34DLXbyn6Xz"
      },
      "execution_count": null,
      "outputs": []
    },
    {
      "cell_type": "markdown",
      "source": [
        "### What do models tell us?"
      ],
      "metadata": {
        "id": "hlAPLu09oOtb"
      }
    },
    {
      "cell_type": "code",
      "source": [
        "# Descriptive models capture patterns in the data but they don't provide any information about why the data contains those patterns.\n",
        "# In contrast, explanatory models attempt to capture properties and relationships that cause the linguistic patterns.\n",
        "\n",
        "# In summary, descriptive models provide information about correlations in the data, while explanatory models go further to postulate causal relationships."
      ],
      "metadata": {
        "id": "sE45d0nkocoD"
      },
      "execution_count": null,
      "outputs": []
    }
  ]
}