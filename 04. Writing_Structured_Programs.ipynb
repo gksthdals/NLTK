{
  "nbformat": 4,
  "nbformat_minor": 0,
  "metadata": {
    "colab": {
      "name": "04. Writing Structured Programs.ipynb",
      "provenance": [],
      "collapsed_sections": [],
      "authorship_tag": "ABX9TyPmO/I6UsAeqL9v51Xgx6gk",
      "include_colab_link": true
    },
    "kernelspec": {
      "name": "python3",
      "display_name": "Python 3"
    },
    "language_info": {
      "name": "python"
    }
  },
  "cells": [
    {
      "cell_type": "markdown",
      "metadata": {
        "id": "view-in-github",
        "colab_type": "text"
      },
      "source": [
        "<a href=\"https://colab.research.google.com/github/gksthdals/NLTK/blob/main/04.%20Writing_Structured_Programs.ipynb\" target=\"_parent\"><img src=\"https://colab.research.google.com/assets/colab-badge.svg\" alt=\"Open In Colab\"/></a>"
      ]
    },
    {
      "cell_type": "markdown",
      "source": [
        "## 1. Back to the Basics"
      ],
      "metadata": {
        "id": "Cq3aJaSdXDQH"
      }
    },
    {
      "cell_type": "markdown",
      "source": [
        "### Assignment"
      ],
      "metadata": {
        "id": "Wr6Y1RWQXeV-"
      }
    },
    {
      "cell_type": "code",
      "source": [
        "foo = 'Monty'\n",
        "bar = foo\n",
        "foo = 'Python'\n",
        "bar"
      ],
      "metadata": {
        "colab": {
          "base_uri": "https://localhost:8080/",
          "height": 37
        },
        "id": "720ZPsDPXfzs",
        "outputId": "a78735eb-60b8-4d60-94f3-02320842f5e1"
      },
      "execution_count": 1,
      "outputs": [
        {
          "output_type": "execute_result",
          "data": {
            "application/vnd.google.colaboratory.intrinsic+json": {
              "type": "string"
            },
            "text/plain": [
              "'Monty'"
            ]
          },
          "metadata": {},
          "execution_count": 1
        }
      ]
    },
    {
      "cell_type": "code",
      "source": [
        "foo = ['Monty', 'Python']\n",
        "bar = foo\n",
        "foo[1] = 'Bodkin'\n",
        "bar"
      ],
      "metadata": {
        "colab": {
          "base_uri": "https://localhost:8080/"
        },
        "id": "qGC7ljxDXi_E",
        "outputId": "1ccbd009-3575-494f-8dec-485337a68649"
      },
      "execution_count": 2,
      "outputs": [
        {
          "output_type": "execute_result",
          "data": {
            "text/plain": [
              "['Monty', 'Bodkin']"
            ]
          },
          "metadata": {},
          "execution_count": 2
        }
      ]
    },
    {
      "cell_type": "code",
      "source": [
        "empty = []\n",
        "nested = [empty, empty, empty]\n",
        "nested"
      ],
      "metadata": {
        "colab": {
          "base_uri": "https://localhost:8080/"
        },
        "id": "ETTjD4f7Xx1V",
        "outputId": "2c56a71d-27ca-4564-9806-09c3f422b009"
      },
      "execution_count": 6,
      "outputs": [
        {
          "output_type": "execute_result",
          "data": {
            "text/plain": [
              "[[], [], []]"
            ]
          },
          "metadata": {},
          "execution_count": 6
        }
      ]
    },
    {
      "cell_type": "code",
      "source": [
        "nested[1].append('Python')\n",
        "nested"
      ],
      "metadata": {
        "colab": {
          "base_uri": "https://localhost:8080/"
        },
        "id": "QkOU4HR_YBLq",
        "outputId": "8c4b2549-7d9b-48fc-ea7b-cb9f9e14185b"
      },
      "execution_count": 7,
      "outputs": [
        {
          "output_type": "execute_result",
          "data": {
            "text/plain": [
              "[['Python'], ['Python'], ['Python']]"
            ]
          },
          "metadata": {},
          "execution_count": 7
        }
      ]
    },
    {
      "cell_type": "code",
      "source": [
        "nested = [[]] * 3\n",
        "nested[1].append('Python')\n",
        "nested[1] = ['Monty']\n",
        "nested"
      ],
      "metadata": {
        "colab": {
          "base_uri": "https://localhost:8080/"
        },
        "id": "PI4NS02BYDGx",
        "outputId": "5299a15e-5aad-4e24-fd37-23df64dc4665"
      },
      "execution_count": 8,
      "outputs": [
        {
          "output_type": "execute_result",
          "data": {
            "text/plain": [
              "[['Python'], ['Monty'], ['Python']]"
            ]
          },
          "metadata": {},
          "execution_count": 8
        }
      ]
    },
    {
      "cell_type": "markdown",
      "source": [
        "### Equality"
      ],
      "metadata": {
        "id": "EFSpoXKzYgDq"
      }
    },
    {
      "cell_type": "code",
      "source": [
        "size = 5\n",
        "python = ['Python']\n",
        "snake_nest = [python] * size\n",
        "print(snake_nest[0] == snake_nest[1] == snake_nest[2] == snake_nest[3] == snake_nest[4])\n",
        "print(snake_nest[0] is snake_nest[1] is snake_nest[2] is snake_nest[3] is snake_nest[4])"
      ],
      "metadata": {
        "colab": {
          "base_uri": "https://localhost:8080/"
        },
        "id": "u0QfZAgvYhTp",
        "outputId": "ab274e64-c555-4b74-9ef5-214ec2cb63e4"
      },
      "execution_count": 9,
      "outputs": [
        {
          "output_type": "stream",
          "name": "stdout",
          "text": [
            "True\n",
            "True\n"
          ]
        }
      ]
    },
    {
      "cell_type": "code",
      "source": [
        "import random\n",
        "position = random.choice(range(size))\n",
        "snake_nest[position] = ['Python']\n",
        "print(snake_nest[0] == snake_nest[1] == snake_nest[2] == snake_nest[3] == snake_nest[4])\n",
        "print(snake_nest[0] is snake_nest[1] is snake_nest[2] is snake_nest[3] is snake_nest[4])"
      ],
      "metadata": {
        "colab": {
          "base_uri": "https://localhost:8080/"
        },
        "id": "F6z0I8UbY3s1",
        "outputId": "27f6c2e0-e3c1-44bd-a0d2-c1ea1c952355"
      },
      "execution_count": 10,
      "outputs": [
        {
          "output_type": "stream",
          "name": "stdout",
          "text": [
            "True\n",
            "False\n"
          ]
        }
      ]
    },
    {
      "cell_type": "code",
      "source": [
        "[id(snake) for snake in snake_nest]"
      ],
      "metadata": {
        "colab": {
          "base_uri": "https://localhost:8080/"
        },
        "id": "u6rSBBTyZDJe",
        "outputId": "ff305b6f-52c8-4d40-af12-2f4e2aaf628a"
      },
      "execution_count": 11,
      "outputs": [
        {
          "output_type": "execute_result",
          "data": {
            "text/plain": [
              "[140418962973632,\n",
              " 140418962973632,\n",
              " 140418962973632,\n",
              " 140418962973632,\n",
              " 140418963161968]"
            ]
          },
          "metadata": {},
          "execution_count": 11
        }
      ]
    },
    {
      "cell_type": "markdown",
      "source": [
        "### Conditionals"
      ],
      "metadata": {
        "id": "r9vTmhKhZTZ2"
      }
    },
    {
      "cell_type": "code",
      "source": [
        "mixed = ['cat', '', ['dog'], []]\n",
        "for element in mixed:\n",
        "  if element:\n",
        "    print(element)"
      ],
      "metadata": {
        "colab": {
          "base_uri": "https://localhost:8080/"
        },
        "id": "KcrTuZi8ZU6x",
        "outputId": "9806077e-3cf6-47c6-b72e-7b2c09931098"
      },
      "execution_count": 12,
      "outputs": [
        {
          "output_type": "stream",
          "name": "stdout",
          "text": [
            "cat\n",
            "['dog']\n"
          ]
        }
      ]
    },
    {
      "cell_type": "code",
      "source": [
        "animals = ['cat', 'dog']\n",
        "if 'cat' in animals:\n",
        "  print(1)\n",
        "elif 'dog' in animals:\n",
        "  print(2)"
      ],
      "metadata": {
        "colab": {
          "base_uri": "https://localhost:8080/"
        },
        "id": "KmrjRNrxZcJK",
        "outputId": "c62fc65b-4eb8-4bf1-80a2-a6afaa47e635"
      },
      "execution_count": 13,
      "outputs": [
        {
          "output_type": "stream",
          "name": "stdout",
          "text": [
            "1\n"
          ]
        }
      ]
    },
    {
      "cell_type": "code",
      "source": [
        "sent = ['No', 'good', 'fish', 'goes', 'anywhere', 'without', 'a', 'porpoise', '.']\n",
        "print(all(len(w) > 4 for w in sent))\n",
        "print(any(len(w) > 4 for w in sent))"
      ],
      "metadata": {
        "colab": {
          "base_uri": "https://localhost:8080/"
        },
        "id": "0co9gUxuZmzk",
        "outputId": "c742b59e-cbcb-4c57-fb5e-9a05ff453767"
      },
      "execution_count": 14,
      "outputs": [
        {
          "output_type": "stream",
          "name": "stdout",
          "text": [
            "False\n",
            "True\n"
          ]
        }
      ]
    },
    {
      "cell_type": "markdown",
      "source": [
        "## 2. Sequences"
      ],
      "metadata": {
        "id": "gNPAN3yMZ1VN"
      }
    },
    {
      "cell_type": "code",
      "source": [
        "t = 'walk', 'fem', 3\n",
        "t"
      ],
      "metadata": {
        "colab": {
          "base_uri": "https://localhost:8080/"
        },
        "id": "T24Hw2eIZ5SU",
        "outputId": "95ce03ad-307b-41f0-b5d1-1aef0587b190"
      },
      "execution_count": 15,
      "outputs": [
        {
          "output_type": "execute_result",
          "data": {
            "text/plain": [
              "('walk', 'fem', 3)"
            ]
          },
          "metadata": {},
          "execution_count": 15
        }
      ]
    },
    {
      "cell_type": "code",
      "source": [
        "raw = 'I turned off the spectroroute'\n",
        "text = ['I', 'turned', 'off', 'the', 'spectroroute']\n",
        "pair = (6, 'turned')\n",
        "raw[2], text[3], pair[1]"
      ],
      "metadata": {
        "colab": {
          "base_uri": "https://localhost:8080/"
        },
        "id": "aOUpjStQZ7sx",
        "outputId": "e8ca67b2-7f44-4117-c8e3-e97f03a50332"
      },
      "execution_count": 16,
      "outputs": [
        {
          "output_type": "execute_result",
          "data": {
            "text/plain": [
              "('t', 'the', 'turned')"
            ]
          },
          "metadata": {},
          "execution_count": 16
        }
      ]
    },
    {
      "cell_type": "code",
      "source": [
        "len(raw), len(text), len(pair)"
      ],
      "metadata": {
        "colab": {
          "base_uri": "https://localhost:8080/"
        },
        "id": "45ONWWZgaHjG",
        "outputId": "e79e7aeb-615a-4f5a-9f64-2c8f90104ae5"
      },
      "execution_count": 17,
      "outputs": [
        {
          "output_type": "execute_result",
          "data": {
            "text/plain": [
              "(29, 5, 2)"
            ]
          },
          "metadata": {},
          "execution_count": 17
        }
      ]
    },
    {
      "cell_type": "markdown",
      "source": [
        "### Operating on Sequence Types"
      ],
      "metadata": {
        "id": "XLW3-uyQaM2d"
      }
    },
    {
      "cell_type": "code",
      "source": [
        "import nltk\n",
        "nltk.download('punkt')"
      ],
      "metadata": {
        "colab": {
          "base_uri": "https://localhost:8080/"
        },
        "id": "kGNWUmPzah7Z",
        "outputId": "1f79fb76-8174-46f2-d711-3032ad23ff05"
      },
      "execution_count": 23,
      "outputs": [
        {
          "output_type": "stream",
          "name": "stdout",
          "text": [
            "[nltk_data] Downloading package punkt to /root/nltk_data...\n",
            "[nltk_data]   Unzipping tokenizers/punkt.zip.\n"
          ]
        },
        {
          "output_type": "execute_result",
          "data": {
            "text/plain": [
              "True"
            ]
          },
          "metadata": {},
          "execution_count": 23
        }
      ]
    },
    {
      "cell_type": "code",
      "source": [
        "raw = 'Red lorry, yellow lorry, red lorry, yellow lorry.'\n",
        "text = nltk.word_tokenize(raw)\n",
        "fdist = nltk.FreqDist(text)\n",
        "sorted(fdist)"
      ],
      "metadata": {
        "colab": {
          "base_uri": "https://localhost:8080/"
        },
        "id": "P6uedWRaaP__",
        "outputId": "7ff16007-6802-4f62-809f-2cf0b9428be6"
      },
      "execution_count": 24,
      "outputs": [
        {
          "output_type": "execute_result",
          "data": {
            "text/plain": [
              "[',', '.', 'Red', 'lorry', 'red', 'yellow']"
            ]
          },
          "metadata": {},
          "execution_count": 24
        }
      ]
    },
    {
      "cell_type": "code",
      "source": [
        "for key in fdist:\n",
        "  print(key + ':', fdist[key], end='; ')"
      ],
      "metadata": {
        "colab": {
          "base_uri": "https://localhost:8080/"
        },
        "id": "MgEznoPba5Iw",
        "outputId": "96288cc5-eaa4-48f2-84ef-1acb16c7be7d"
      },
      "execution_count": 25,
      "outputs": [
        {
          "output_type": "stream",
          "name": "stdout",
          "text": [
            "Red: 1; lorry: 4; ,: 3; yellow: 2; red: 1; .: 1; "
          ]
        }
      ]
    },
    {
      "cell_type": "code",
      "source": [
        "words = ['I', 'turned', 'off', 'the', 'spectroroute']\n",
        "tags = ['noun', 'verb', 'prep', 'det', 'noun']\n",
        "zip(words, tags)"
      ],
      "metadata": {
        "colab": {
          "base_uri": "https://localhost:8080/"
        },
        "id": "V46_QMHJbOEZ",
        "outputId": "2676ffa4-23ab-4454-cf53-7d5b4a9a6b73"
      },
      "execution_count": 26,
      "outputs": [
        {
          "output_type": "execute_result",
          "data": {
            "text/plain": [
              "<zip at 0x7fb5c3cbccd0>"
            ]
          },
          "metadata": {},
          "execution_count": 26
        }
      ]
    },
    {
      "cell_type": "code",
      "source": [
        "list(zip(words, tags))"
      ],
      "metadata": {
        "colab": {
          "base_uri": "https://localhost:8080/"
        },
        "id": "ZdKfG3TmbYIn",
        "outputId": "7fd3da41-268e-4de3-d8a8-6cc9847d7a69"
      },
      "execution_count": 27,
      "outputs": [
        {
          "output_type": "execute_result",
          "data": {
            "text/plain": [
              "[('I', 'noun'),\n",
              " ('turned', 'verb'),\n",
              " ('off', 'prep'),\n",
              " ('the', 'det'),\n",
              " ('spectroroute', 'noun')]"
            ]
          },
          "metadata": {},
          "execution_count": 27
        }
      ]
    },
    {
      "cell_type": "code",
      "source": [
        "list(enumerate(words))"
      ],
      "metadata": {
        "colab": {
          "base_uri": "https://localhost:8080/"
        },
        "id": "WLQ1DnU_baG6",
        "outputId": "c1a3f7bd-2357-411a-e3c5-be738bf867e1"
      },
      "execution_count": 28,
      "outputs": [
        {
          "output_type": "execute_result",
          "data": {
            "text/plain": [
              "[(0, 'I'), (1, 'turned'), (2, 'off'), (3, 'the'), (4, 'spectroroute')]"
            ]
          },
          "metadata": {},
          "execution_count": 28
        }
      ]
    },
    {
      "cell_type": "code",
      "source": [
        "nltk.download('nps_chat')"
      ],
      "metadata": {
        "colab": {
          "base_uri": "https://localhost:8080/"
        },
        "id": "CNIPk5Jtbk61",
        "outputId": "e789bc30-ac27-4be1-f4da-f593c8572c53"
      },
      "execution_count": 30,
      "outputs": [
        {
          "output_type": "stream",
          "name": "stdout",
          "text": [
            "[nltk_data] Downloading package nps_chat to /root/nltk_data...\n",
            "[nltk_data]   Unzipping corpora/nps_chat.zip.\n"
          ]
        },
        {
          "output_type": "execute_result",
          "data": {
            "text/plain": [
              "True"
            ]
          },
          "metadata": {},
          "execution_count": 30
        }
      ]
    },
    {
      "cell_type": "code",
      "source": [
        "text = nltk.corpus.nps_chat.words()\n",
        "cut = int(0.9 * len(text))\n",
        "training_data, test_data = text[:cut], text[cut:]\n",
        "print(text == training_data + test_data)\n",
        "print(len(training_data) / len(test_data))"
      ],
      "metadata": {
        "colab": {
          "base_uri": "https://localhost:8080/"
        },
        "id": "qwdapuBKbcBv",
        "outputId": "a4cbde88-8c4e-4805-ecd5-b7754b1a319f"
      },
      "execution_count": 32,
      "outputs": [
        {
          "output_type": "stream",
          "name": "stdout",
          "text": [
            "True\n",
            "9.0\n"
          ]
        }
      ]
    },
    {
      "cell_type": "markdown",
      "source": [
        "### Combining Different Sequence Types"
      ],
      "metadata": {
        "id": "8Vnn5E8eb7Nx"
      }
    },
    {
      "cell_type": "code",
      "source": [
        "words = 'I turned off the spectroroute'.split()\n",
        "wordlens = [(len(word), word) for word in words]\n",
        "wordlens.sort()\n",
        "' '.join(w for (_, w) in wordlens)"
      ],
      "metadata": {
        "colab": {
          "base_uri": "https://localhost:8080/",
          "height": 37
        },
        "id": "8VB5QeH3b_No",
        "outputId": "bf7839ed-caca-41df-af3b-4378231cd151"
      },
      "execution_count": 33,
      "outputs": [
        {
          "output_type": "execute_result",
          "data": {
            "application/vnd.google.colaboratory.intrinsic+json": {
              "type": "string"
            },
            "text/plain": [
              "'I off the turned spectroroute'"
            ]
          },
          "metadata": {},
          "execution_count": 33
        }
      ]
    },
    {
      "cell_type": "code",
      "source": [
        "lexicon = [\n",
        "           ('the', 'det', ['Di:', 'D@']),\n",
        "           ('off', 'prep', ['Qf', '0:f'])\n",
        "]"
      ],
      "metadata": {
        "id": "PRhHvQTxcYJW"
      },
      "execution_count": 34,
      "outputs": []
    },
    {
      "cell_type": "code",
      "source": [
        "lexicon.sort()\n",
        "lexicon[1] = ('turned', 'VBD', ['t3:nd', 't3`nd'])\n",
        "print(lexicon)\n",
        "del lexicon[0]\n",
        "print(lexicon)"
      ],
      "metadata": {
        "colab": {
          "base_uri": "https://localhost:8080/"
        },
        "id": "wA1-eJ6Ici2m",
        "outputId": "d9af1d49-581a-41b2-df90-2d752fa4f9d8"
      },
      "execution_count": 35,
      "outputs": [
        {
          "output_type": "stream",
          "name": "stdout",
          "text": [
            "[('off', 'prep', ['Qf', '0:f']), ('turned', 'VBD', ['t3:nd', 't3`nd'])]\n",
            "[('turned', 'VBD', ['t3:nd', 't3`nd'])]\n"
          ]
        }
      ]
    },
    {
      "cell_type": "markdown",
      "source": [
        "### Generator Expressions"
      ],
      "metadata": {
        "id": "iDEUD_xuc1GY"
      }
    },
    {
      "cell_type": "code",
      "source": [
        "from nltk.tokenize import word_tokenize\n",
        "\n",
        "text = '''\"When I use a word,\" Humpty Dumpty said in rather a scornful tone,\n",
        "  \"it means just what I choose it to mean - neither more nor less.\"'''\n",
        "[w.lower() for w in word_tokenize(text)]"
      ],
      "metadata": {
        "colab": {
          "base_uri": "https://localhost:8080/"
        },
        "id": "RASWuAerc4aS",
        "outputId": "7beeabda-7f6a-49be-c44d-f43ff9a3e1c0"
      },
      "execution_count": 36,
      "outputs": [
        {
          "output_type": "execute_result",
          "data": {
            "text/plain": [
              "['``',\n",
              " 'when',\n",
              " 'i',\n",
              " 'use',\n",
              " 'a',\n",
              " 'word',\n",
              " ',',\n",
              " \"''\",\n",
              " 'humpty',\n",
              " 'dumpty',\n",
              " 'said',\n",
              " 'in',\n",
              " 'rather',\n",
              " 'a',\n",
              " 'scornful',\n",
              " 'tone',\n",
              " ',',\n",
              " '``',\n",
              " 'it',\n",
              " 'means',\n",
              " 'just',\n",
              " 'what',\n",
              " 'i',\n",
              " 'choose',\n",
              " 'it',\n",
              " 'to',\n",
              " 'mean',\n",
              " '-',\n",
              " 'neither',\n",
              " 'more',\n",
              " 'nor',\n",
              " 'less',\n",
              " '.',\n",
              " \"''\"]"
            ]
          },
          "metadata": {},
          "execution_count": 36
        }
      ]
    },
    {
      "cell_type": "code",
      "source": [
        "max([w.lower() for w in word_tokenize(text)])"
      ],
      "metadata": {
        "colab": {
          "base_uri": "https://localhost:8080/",
          "height": 37
        },
        "id": "9Wrsw9XKdQFx",
        "outputId": "f6f296d2-c1f2-4b73-e8df-d183b1c0130d"
      },
      "execution_count": 37,
      "outputs": [
        {
          "output_type": "execute_result",
          "data": {
            "application/vnd.google.colaboratory.intrinsic+json": {
              "type": "string"
            },
            "text/plain": [
              "'word'"
            ]
          },
          "metadata": {},
          "execution_count": 37
        }
      ]
    },
    {
      "cell_type": "markdown",
      "source": [
        "## 3. Questions of Style"
      ],
      "metadata": {
        "id": "FFTwqM6wdcHb"
      }
    },
    {
      "cell_type": "markdown",
      "source": [
        "### Python Coding Style"
      ],
      "metadata": {
        "id": "lNKSdXNod6Q4"
      }
    },
    {
      "cell_type": "markdown",
      "source": [
        "### Procedural vs Declarative Style"
      ],
      "metadata": {
        "id": "diciXBzUemql"
      }
    },
    {
      "cell_type": "code",
      "source": [
        "import nltk\n",
        "nltk.download('brown')"
      ],
      "metadata": {
        "colab": {
          "base_uri": "https://localhost:8080/"
        },
        "id": "JuhcqW4OevWa",
        "outputId": "47293456-5b31-4bce-e1bf-146cd659a556"
      },
      "execution_count": 39,
      "outputs": [
        {
          "output_type": "stream",
          "name": "stdout",
          "text": [
            "[nltk_data] Downloading package brown to /root/nltk_data...\n",
            "[nltk_data]   Unzipping corpora/brown.zip.\n"
          ]
        },
        {
          "output_type": "execute_result",
          "data": {
            "text/plain": [
              "True"
            ]
          },
          "metadata": {},
          "execution_count": 39
        }
      ]
    },
    {
      "cell_type": "code",
      "source": [
        "tokens = nltk.corpus.brown.words(categories='news')\n",
        "count = 0\n",
        "total = 0\n",
        "for token in tokens:\n",
        "  count += 1\n",
        "  total += len(token)\n",
        "total / count"
      ],
      "metadata": {
        "colab": {
          "base_uri": "https://localhost:8080/"
        },
        "id": "KEoEG-fFept6",
        "outputId": "bb052e3c-ef58-498a-a769-6ee009ea794e"
      },
      "execution_count": 40,
      "outputs": [
        {
          "output_type": "execute_result",
          "data": {
            "text/plain": [
              "4.401545438271973"
            ]
          },
          "metadata": {},
          "execution_count": 40
        }
      ]
    },
    {
      "cell_type": "code",
      "source": [
        "total = sum(len(t) for t in tokens)\n",
        "total / len(tokens)"
      ],
      "metadata": {
        "colab": {
          "base_uri": "https://localhost:8080/"
        },
        "id": "UHOw3FLye4bI",
        "outputId": "6596986c-198a-4d65-8d34-36150ed5580d"
      },
      "execution_count": 41,
      "outputs": [
        {
          "output_type": "execute_result",
          "data": {
            "text/plain": [
              "4.401545438271973"
            ]
          },
          "metadata": {},
          "execution_count": 41
        }
      ]
    },
    {
      "cell_type": "code",
      "source": [
        "word_list = []\n",
        "i = 0\n",
        "while i < len(tokens):\n",
        "  j = 0\n",
        "  while j < len(word_list) and word_list[j] <= tokens[i]:\n",
        "    j += 1\n",
        "    if j == 0 or tokens[i] != word_list[j-1]:\n",
        "      word_list.insert(j, tokens[i])\n",
        "    i += 1"
      ],
      "metadata": {
        "id": "k5AWjIqNeuNv"
      },
      "execution_count": null,
      "outputs": []
    },
    {
      "cell_type": "code",
      "source": [
        "word_list2 = sorted(set(tokens))"
      ],
      "metadata": {
        "id": "C4Hf5AvmfzuY"
      },
      "execution_count": 45,
      "outputs": []
    },
    {
      "cell_type": "code",
      "source": [
        "word_list == word_list2"
      ],
      "metadata": {
        "colab": {
          "base_uri": "https://localhost:8080/"
        },
        "id": "OEOOe4wSf1rQ",
        "outputId": "eb4f8137-5ccd-4fee-a54f-7c71e354b354"
      },
      "execution_count": 46,
      "outputs": [
        {
          "output_type": "execute_result",
          "data": {
            "text/plain": [
              "False"
            ]
          },
          "metadata": {},
          "execution_count": 46
        }
      ]
    },
    {
      "cell_type": "code",
      "source": [
        "fd = nltk.FreqDist(nltk.corpus.brown.words())\n",
        "cumulative = 0.0\n",
        "most_common_words = [word for (word, count) in fd.most_common()]\n",
        "for rank,  word in enumerate(most_common_words):\n",
        "  cumulative += fd.freq(word)\n",
        "  print(\"%3d %6.2f%% %s\" % (rank + 1, cumulative * 100, word))\n",
        "  if cumulative > 0.25:\n",
        "    break"
      ],
      "metadata": {
        "colab": {
          "base_uri": "https://localhost:8080/"
        },
        "id": "_UVrtjT1f7Q5",
        "outputId": "79b3e58a-b780-4b3b-fd90-b3566a4c606e"
      },
      "execution_count": 47,
      "outputs": [
        {
          "output_type": "stream",
          "name": "stdout",
          "text": [
            "  1   5.40% the\n",
            "  2  10.42% ,\n",
            "  3  14.67% .\n",
            "  4  17.78% of\n",
            "  5  20.19% and\n",
            "  6  22.40% to\n",
            "  7  24.29% a\n",
            "  8  25.97% in\n"
          ]
        }
      ]
    },
    {
      "cell_type": "code",
      "source": [
        "nltk.download('gutenberg')\n",
        "text = nltk.corpus.gutenberg.words('milton-paradise.txt')\n",
        "longest = ''\n",
        "for word in text:\n",
        "  if len(word) > len(longest):\n",
        "    longest = word\n",
        "longest"
      ],
      "metadata": {
        "colab": {
          "base_uri": "https://localhost:8080/",
          "height": 71
        },
        "id": "g2t6E-0XgdO_",
        "outputId": "645f048e-0673-4a92-847e-c64659d65b99"
      },
      "execution_count": 48,
      "outputs": [
        {
          "output_type": "stream",
          "name": "stdout",
          "text": [
            "[nltk_data] Downloading package gutenberg to /root/nltk_data...\n",
            "[nltk_data]   Unzipping corpora/gutenberg.zip.\n"
          ]
        },
        {
          "output_type": "execute_result",
          "data": {
            "application/vnd.google.colaboratory.intrinsic+json": {
              "type": "string"
            },
            "text/plain": [
              "'unextinguishable'"
            ]
          },
          "metadata": {},
          "execution_count": 48
        }
      ]
    },
    {
      "cell_type": "code",
      "source": [
        "maxlen = max(len(word) for word in text)\n",
        "[word for word in text if len(word) == maxlen]"
      ],
      "metadata": {
        "colab": {
          "base_uri": "https://localhost:8080/"
        },
        "id": "e9-_Xq_dkGZx",
        "outputId": "89ea9787-463e-4d66-f381-27cafc313bbe"
      },
      "execution_count": 49,
      "outputs": [
        {
          "output_type": "execute_result",
          "data": {
            "text/plain": [
              "['unextinguishable',\n",
              " 'transubstantiate',\n",
              " 'inextinguishable',\n",
              " 'incomprehensible']"
            ]
          },
          "metadata": {},
          "execution_count": 49
        }
      ]
    },
    {
      "cell_type": "markdown",
      "source": [
        "### Some Legitimate Uses for Counters"
      ],
      "metadata": {
        "id": "zSKKhgSpkQ7N"
      }
    },
    {
      "cell_type": "code",
      "source": [
        "sent = ['The', 'dog', 'gave', 'John', 'the', 'newspaper']\n",
        "n = 3\n",
        "[sent[i:i+n] for i in range(len(sent)-n+1)]"
      ],
      "metadata": {
        "colab": {
          "base_uri": "https://localhost:8080/"
        },
        "id": "ZCENrIUNkV-6",
        "outputId": "97b3fc2e-5223-42f0-e8b4-6006d2e7935a"
      },
      "execution_count": 50,
      "outputs": [
        {
          "output_type": "execute_result",
          "data": {
            "text/plain": [
              "[['The', 'dog', 'gave'],\n",
              " ['dog', 'gave', 'John'],\n",
              " ['gave', 'John', 'the'],\n",
              " ['John', 'the', 'newspaper']]"
            ]
          },
          "metadata": {},
          "execution_count": 50
        }
      ]
    },
    {
      "cell_type": "code",
      "source": [
        "import pprint\n",
        "m, n = 3, 7\n",
        "array = [[set() for i in range(n)] for j in range(m)]\n",
        "array[2][5].add('Alice')\n",
        "pprint.pprint(array)"
      ],
      "metadata": {
        "colab": {
          "base_uri": "https://localhost:8080/"
        },
        "id": "WDvWCGTIkhFN",
        "outputId": "39ba6e9e-2755-494c-be4f-1a76c63ba104"
      },
      "execution_count": 52,
      "outputs": [
        {
          "output_type": "stream",
          "name": "stdout",
          "text": [
            "[[set(), set(), set(), set(), set(), set(), set()],\n",
            " [set(), set(), set(), set(), set(), set(), set()],\n",
            " [set(), set(), set(), set(), set(), {'Alice'}, set()]]\n"
          ]
        }
      ]
    },
    {
      "cell_type": "code",
      "source": [
        "array = [[set()] * n] * m\n",
        "array[2][5].add('Alice')\n",
        "pprint.pprint(array)"
      ],
      "metadata": {
        "colab": {
          "base_uri": "https://localhost:8080/"
        },
        "id": "gx77Zi1ikrs5",
        "outputId": "2bbd8c97-1352-437c-b98a-ca77479c236d"
      },
      "execution_count": 53,
      "outputs": [
        {
          "output_type": "stream",
          "name": "stdout",
          "text": [
            "[[{'Alice'}, {'Alice'}, {'Alice'}, {'Alice'}, {'Alice'}, {'Alice'}, {'Alice'}],\n",
            " [{'Alice'}, {'Alice'}, {'Alice'}, {'Alice'}, {'Alice'}, {'Alice'}, {'Alice'}],\n",
            " [{'Alice'}, {'Alice'}, {'Alice'}, {'Alice'}, {'Alice'}, {'Alice'}, {'Alice'}]]\n"
          ]
        }
      ]
    },
    {
      "cell_type": "markdown",
      "source": [
        "## 4. Functions: The Foundation of Structured Programming"
      ],
      "metadata": {
        "id": "fBPiuu02k7uT"
      }
    },
    {
      "cell_type": "code",
      "source": [
        "import re\n",
        "\n",
        "def get_text(file):\n",
        "  \"\"\"Read text from a file, normalizing whitespace and stripping HTML markup.\"\"\"\n",
        "  text = open(file).read()\n",
        "  text = re.sub(r'<.*?>', ' ', text)\n",
        "  text = re.sub('\\s+', ' ', text)\n",
        "  return text"
      ],
      "metadata": {
        "id": "eSWMEMwtlC7K"
      },
      "execution_count": 54,
      "outputs": []
    },
    {
      "cell_type": "markdown",
      "source": [
        "### Function Inputs and Outputs"
      ],
      "metadata": {
        "id": "V2u-N05JlpGG"
      }
    },
    {
      "cell_type": "code",
      "source": [
        "def repeat(msg, num):\n",
        "  return ' '.join([msg] * num)\n",
        "\n",
        "monty = 'Monty Python'\n",
        "repeat(monty, 3)"
      ],
      "metadata": {
        "colab": {
          "base_uri": "https://localhost:8080/",
          "height": 37
        },
        "id": "pNBzwmWvlshX",
        "outputId": "0a144e46-7e9c-478f-eebe-07ff079e4d5c"
      },
      "execution_count": 56,
      "outputs": [
        {
          "output_type": "execute_result",
          "data": {
            "application/vnd.google.colaboratory.intrinsic+json": {
              "type": "string"
            },
            "text/plain": [
              "'Monty Python Monty Python Monty Python'"
            ]
          },
          "metadata": {},
          "execution_count": 56
        }
      ]
    },
    {
      "cell_type": "code",
      "source": [
        "def monty():\n",
        "  return \"Monty Python\"\n",
        "\n",
        "monty()"
      ],
      "metadata": {
        "colab": {
          "base_uri": "https://localhost:8080/",
          "height": 37
        },
        "id": "Og-yD6pmlztf",
        "outputId": "ef530030-3585-45d6-dd00-f35d5a6e203a"
      },
      "execution_count": 57,
      "outputs": [
        {
          "output_type": "execute_result",
          "data": {
            "application/vnd.google.colaboratory.intrinsic+json": {
              "type": "string"
            },
            "text/plain": [
              "'Monty Python'"
            ]
          },
          "metadata": {},
          "execution_count": 57
        }
      ]
    },
    {
      "cell_type": "code",
      "source": [
        "repeat(monty(), 3)"
      ],
      "metadata": {
        "colab": {
          "base_uri": "https://localhost:8080/",
          "height": 37
        },
        "id": "qtuspkhIl4A4",
        "outputId": "faad634a-3fe1-4bb3-d714-c4ac870439b4"
      },
      "execution_count": 58,
      "outputs": [
        {
          "output_type": "execute_result",
          "data": {
            "application/vnd.google.colaboratory.intrinsic+json": {
              "type": "string"
            },
            "text/plain": [
              "'Monty Python Monty Python Monty Python'"
            ]
          },
          "metadata": {},
          "execution_count": 58
        }
      ]
    },
    {
      "cell_type": "markdown",
      "source": [
        "### Parameter Passing"
      ],
      "metadata": {
        "id": "U7LpwhOqmBIX"
      }
    },
    {
      "cell_type": "code",
      "source": [
        "def set_up(word, properties):\n",
        "  word = 'lolcat'\n",
        "  properties.append('noun')\n",
        "  properties = 5"
      ],
      "metadata": {
        "id": "IGkWidT6mCxC"
      },
      "execution_count": 59,
      "outputs": []
    },
    {
      "cell_type": "code",
      "source": [
        "w = ''\n",
        "p = []\n",
        "set_up(w, p)"
      ],
      "metadata": {
        "id": "viNpyEORmPLd"
      },
      "execution_count": 61,
      "outputs": []
    },
    {
      "cell_type": "code",
      "source": [
        "w"
      ],
      "metadata": {
        "colab": {
          "base_uri": "https://localhost:8080/",
          "height": 37
        },
        "id": "CTpaY_ewma9b",
        "outputId": "32d9c0d8-d55c-4f5f-9878-23989f3dda21"
      },
      "execution_count": 62,
      "outputs": [
        {
          "output_type": "execute_result",
          "data": {
            "application/vnd.google.colaboratory.intrinsic+json": {
              "type": "string"
            },
            "text/plain": [
              "''"
            ]
          },
          "metadata": {},
          "execution_count": 62
        }
      ]
    },
    {
      "cell_type": "code",
      "source": [
        "p"
      ],
      "metadata": {
        "colab": {
          "base_uri": "https://localhost:8080/"
        },
        "id": "PgHR7d29mbzQ",
        "outputId": "b4c46022-cc1b-4c99-9914-76d1d1744d77"
      },
      "execution_count": 63,
      "outputs": [
        {
          "output_type": "execute_result",
          "data": {
            "text/plain": [
              "['noun']"
            ]
          },
          "metadata": {},
          "execution_count": 63
        }
      ]
    },
    {
      "cell_type": "code",
      "source": [
        "w = ''\n",
        "word = w\n",
        "word = 'lolcat'\n",
        "w"
      ],
      "metadata": {
        "colab": {
          "base_uri": "https://localhost:8080/",
          "height": 37
        },
        "id": "T5HxYMW3mcD7",
        "outputId": "86cc0e5d-d778-47f1-c199-7c2d5a34aeb5"
      },
      "execution_count": 64,
      "outputs": [
        {
          "output_type": "execute_result",
          "data": {
            "application/vnd.google.colaboratory.intrinsic+json": {
              "type": "string"
            },
            "text/plain": [
              "''"
            ]
          },
          "metadata": {},
          "execution_count": 64
        }
      ]
    },
    {
      "cell_type": "code",
      "source": [
        "p = []\n",
        "properties = p\n",
        "properties.append('noun')\n",
        "properies = 5\n",
        "p"
      ],
      "metadata": {
        "colab": {
          "base_uri": "https://localhost:8080/"
        },
        "id": "dVpvfWfWmiLQ",
        "outputId": "22a2b406-33c1-414a-8dc3-b3e2bd92b288"
      },
      "execution_count": 65,
      "outputs": [
        {
          "output_type": "execute_result",
          "data": {
            "text/plain": [
              "['noun']"
            ]
          },
          "metadata": {},
          "execution_count": 65
        }
      ]
    },
    {
      "cell_type": "markdown",
      "source": [
        "### Variable Scope"
      ],
      "metadata": {
        "id": "2CHpTGcHmp9a"
      }
    },
    {
      "cell_type": "markdown",
      "source": [
        "### Checking Parameter Types"
      ],
      "metadata": {
        "id": "F0f3aBQUm0F1"
      }
    },
    {
      "cell_type": "code",
      "source": [
        "def tag(word):\n",
        "  if word in ['a', 'the', 'all']:\n",
        "    return 'det'\n",
        "  else:\n",
        "    return 'noun'"
      ],
      "metadata": {
        "id": "17wnkU_8m37I"
      },
      "execution_count": 66,
      "outputs": []
    },
    {
      "cell_type": "code",
      "source": [
        "def tag(word):\n",
        "  assert isinstance(word, str), \"argument to tag() must be a string\"\n",
        "  if word in ['a', 'the', 'all']:\n",
        "    return 'det'\n",
        "  else:\n",
        "    return 'noun'"
      ],
      "metadata": {
        "id": "K-q3LceInACx"
      },
      "execution_count": 69,
      "outputs": []
    },
    {
      "cell_type": "code",
      "source": [
        "tag(['Monty', 'Python'])"
      ],
      "metadata": {
        "colab": {
          "base_uri": "https://localhost:8080/",
          "height": 283
        },
        "id": "SKwMuoy_nRWb",
        "outputId": "ccd025c1-f7d6-43fb-f2a6-af5639bb47b5"
      },
      "execution_count": 70,
      "outputs": [
        {
          "output_type": "error",
          "ename": "AssertionError",
          "evalue": "ignored",
          "traceback": [
            "\u001b[0;31m---------------------------------------------------------------------------\u001b[0m",
            "\u001b[0;31mAssertionError\u001b[0m                            Traceback (most recent call last)",
            "\u001b[0;32m<ipython-input-70-a3dff45a91c5>\u001b[0m in \u001b[0;36m<module>\u001b[0;34m()\u001b[0m\n\u001b[0;32m----> 1\u001b[0;31m \u001b[0mtag\u001b[0m\u001b[0;34m(\u001b[0m\u001b[0;34m[\u001b[0m\u001b[0;34m'Monty'\u001b[0m\u001b[0;34m,\u001b[0m \u001b[0;34m'Python'\u001b[0m\u001b[0;34m]\u001b[0m\u001b[0;34m)\u001b[0m\u001b[0;34m\u001b[0m\u001b[0;34m\u001b[0m\u001b[0m\n\u001b[0m",
            "\u001b[0;32m<ipython-input-69-4d43da9faaec>\u001b[0m in \u001b[0;36mtag\u001b[0;34m(word)\u001b[0m\n\u001b[1;32m      1\u001b[0m \u001b[0;32mdef\u001b[0m \u001b[0mtag\u001b[0m\u001b[0;34m(\u001b[0m\u001b[0mword\u001b[0m\u001b[0;34m)\u001b[0m\u001b[0;34m:\u001b[0m\u001b[0;34m\u001b[0m\u001b[0;34m\u001b[0m\u001b[0m\n\u001b[0;32m----> 2\u001b[0;31m   \u001b[0;32massert\u001b[0m \u001b[0misinstance\u001b[0m\u001b[0;34m(\u001b[0m\u001b[0mword\u001b[0m\u001b[0;34m,\u001b[0m \u001b[0mstr\u001b[0m\u001b[0;34m)\u001b[0m\u001b[0;34m,\u001b[0m \u001b[0;34m\"argument to tag() must be a string\"\u001b[0m\u001b[0;34m\u001b[0m\u001b[0;34m\u001b[0m\u001b[0m\n\u001b[0m\u001b[1;32m      3\u001b[0m   \u001b[0;32mif\u001b[0m \u001b[0mword\u001b[0m \u001b[0;32min\u001b[0m \u001b[0;34m[\u001b[0m\u001b[0;34m'a'\u001b[0m\u001b[0;34m,\u001b[0m \u001b[0;34m'the'\u001b[0m\u001b[0;34m,\u001b[0m \u001b[0;34m'all'\u001b[0m\u001b[0;34m]\u001b[0m\u001b[0;34m:\u001b[0m\u001b[0;34m\u001b[0m\u001b[0;34m\u001b[0m\u001b[0m\n\u001b[1;32m      4\u001b[0m     \u001b[0;32mreturn\u001b[0m \u001b[0;34m'det'\u001b[0m\u001b[0;34m\u001b[0m\u001b[0;34m\u001b[0m\u001b[0m\n\u001b[1;32m      5\u001b[0m   \u001b[0;32melse\u001b[0m\u001b[0;34m:\u001b[0m\u001b[0;34m\u001b[0m\u001b[0;34m\u001b[0m\u001b[0m\n",
            "\u001b[0;31mAssertionError\u001b[0m: argument to tag() must be a string"
          ]
        }
      ]
    },
    {
      "cell_type": "markdown",
      "source": [
        "### Functional Decomposition"
      ],
      "metadata": {
        "id": "4ApiXAL6nkA5"
      }
    },
    {
      "cell_type": "code",
      "source": [
        "from urllib import request\n",
        "from bs4 import BeautifulSoup\n",
        "\n",
        "def freq_words(url, freqdist, n):\n",
        "  html = request.urlopen(url).read().decode('utf8')\n",
        "  raw = BeautifulSoup(html, 'html.parser').get_text()\n",
        "  for word in word_tokenize(raw):\n",
        "    freqdist[word.lower()] += 1\n",
        "  result = []\n",
        "  for word, count in freqdist.most_common(n):\n",
        "    result = result + [word]\n",
        "  print(result)"
      ],
      "metadata": {
        "id": "UGj-muDDnmAy"
      },
      "execution_count": 73,
      "outputs": []
    },
    {
      "cell_type": "code",
      "source": [
        "constitution = \"http://www.archives.gov/exhibits/charters/constitution_transcript.html\"\n",
        "fd = nltk.FreqDist()\n",
        "freq_words(constitution, fd, 30)"
      ],
      "metadata": {
        "colab": {
          "base_uri": "https://localhost:8080/"
        },
        "id": "JdPfZsaAoKNc",
        "outputId": "7669bead-2376-4836-acab-a4df3277d0cc"
      },
      "execution_count": 74,
      "outputs": [
        {
          "output_type": "stream",
          "name": "stdout",
          "text": [
            "[\"''\", ',', ':', ':1', 'the', ';', '(', ')', '``', 'of', '{', '}', '?', 'url', 'https', '@', 'import', 'r7mput', \"'\", 'documents', '#', 'and', 'archives', '.', '[', ']', 'a', 'national', 'constitution', 'founding']\n"
          ]
        }
      ]
    },
    {
      "cell_type": "code",
      "source": [
        "from urllib import request\n",
        "from bs4 import BeautifulSoup\n",
        "\n",
        "def freq_words(url, n):\n",
        "  html = request.urlopen(url).read().decode('utf8')\n",
        "  text = BeautifulSoup(html, 'html.parser').get_text()\n",
        "  freqdist = nltk.FreqDist(word.lower() for word in word_tokenize(text))\n",
        "  return [word for (word, _) in fd.most_common(n)]"
      ],
      "metadata": {
        "id": "ILZGlyiIoX_E"
      },
      "execution_count": 77,
      "outputs": []
    },
    {
      "cell_type": "code",
      "source": [
        "freq_words(constitution, 30)"
      ],
      "metadata": {
        "colab": {
          "base_uri": "https://localhost:8080/"
        },
        "id": "MRyatyJ7oyVQ",
        "outputId": "df9d54cd-5c8f-4c96-e003-a417916487f8"
      },
      "execution_count": 78,
      "outputs": [
        {
          "output_type": "execute_result",
          "data": {
            "text/plain": [
              "[\"''\",\n",
              " ',',\n",
              " ':',\n",
              " ':1',\n",
              " 'the',\n",
              " ';',\n",
              " '(',\n",
              " ')',\n",
              " '``',\n",
              " 'of',\n",
              " '{',\n",
              " '}',\n",
              " '?',\n",
              " 'url',\n",
              " 'https',\n",
              " '@',\n",
              " 'import',\n",
              " 'r7mput',\n",
              " \"'\",\n",
              " 'documents',\n",
              " '#',\n",
              " 'and',\n",
              " 'archives',\n",
              " '.',\n",
              " '[',\n",
              " ']',\n",
              " 'a',\n",
              " 'national',\n",
              " 'constitution',\n",
              " 'founding']"
            ]
          },
          "metadata": {},
          "execution_count": 78
        }
      ]
    },
    {
      "cell_type": "markdown",
      "source": [
        "### Documenting Functions"
      ],
      "metadata": {
        "id": "j7YnCf_io_vn"
      }
    },
    {
      "cell_type": "code",
      "source": [
        "def accuracy(reference, test):\n",
        "  \"\"\"\n",
        "  Calculate the fraction of test items that equal the corresponding reference items.\n",
        "\n",
        "  Given a list of reference values and a corresponding list of test values,\n",
        "  return the fraction of corresponding values that are equal.\n",
        "  In particular, return the fraction of indexes.\n",
        "  {0<i<=len(test)} such that C{test[i] == reference[i]}.\n",
        "\n",
        "      >>> accuracy(['ADJ', 'N', 'V', 'N'], ['N', 'N', 'V', 'ADJ'])\n",
        "      0.5\n",
        "  \n",
        "  :param reference: An ordered list of reference values\n",
        "  :type reference: list\n",
        "  :param test: A list of values to compare against the corresponding\n",
        "      reference values\n",
        "  :type test: list\n",
        "  :return: the accuracy score\n",
        "  :rtype: float\n",
        "  :raises ValueError: If reference and test do not have the same length\n",
        "  \"\"\"\n",
        "\n",
        "  if len(reference) != len(test):\n",
        "    raise ValueError(\"Lists must have the same length.\")\n",
        "  num_correct = 0\n",
        "  for x, y in zip(reference, test):\n",
        "    if x == y:\n",
        "      num_correct += 1\n",
        "  return float(num_correct) / len(reference)"
      ],
      "metadata": {
        "id": "uALFP6tMpDSF"
      },
      "execution_count": 80,
      "outputs": []
    },
    {
      "cell_type": "markdown",
      "source": [
        "## 5. Doing More with Functions"
      ],
      "metadata": {
        "id": "HdfIOCf3qZ5K"
      }
    },
    {
      "cell_type": "markdown",
      "source": [
        "### Functions as Arguments"
      ],
      "metadata": {
        "id": "V3lPs7dtqcpa"
      }
    },
    {
      "cell_type": "code",
      "source": [
        "sent = ['Take', 'care', 'of', 'the', 'sense', ',', 'and', 'the', 'sounds', 'will', 'take', 'care', 'of', 'themselves', '.']\n",
        "\n",
        "def extract_property(prop):\n",
        "  return [prop(word) for word in sent]\n",
        "\n",
        "extract_property(len)"
      ],
      "metadata": {
        "colab": {
          "base_uri": "https://localhost:8080/"
        },
        "id": "7V3EUNsrqlKu",
        "outputId": "be460b0f-61fb-4512-ccb0-7506ba8e8cd6"
      },
      "execution_count": 81,
      "outputs": [
        {
          "output_type": "execute_result",
          "data": {
            "text/plain": [
              "[4, 4, 2, 3, 5, 1, 3, 3, 6, 4, 4, 4, 2, 10, 1]"
            ]
          },
          "metadata": {},
          "execution_count": 81
        }
      ]
    },
    {
      "cell_type": "code",
      "source": [
        "def last_letter(word):\n",
        "  return word[-1]\n",
        "\n",
        "extract_property(last_letter)"
      ],
      "metadata": {
        "colab": {
          "base_uri": "https://localhost:8080/"
        },
        "id": "kTKY0C4lq2SF",
        "outputId": "ed0c9208-5f5a-4fbc-c3c7-a92689634bd5"
      },
      "execution_count": 82,
      "outputs": [
        {
          "output_type": "execute_result",
          "data": {
            "text/plain": [
              "['e', 'e', 'f', 'e', 'e', ',', 'd', 'e', 's', 'l', 'e', 'e', 'f', 's', '.']"
            ]
          },
          "metadata": {},
          "execution_count": 82
        }
      ]
    },
    {
      "cell_type": "code",
      "source": [
        "sorted(sent)"
      ],
      "metadata": {
        "colab": {
          "base_uri": "https://localhost:8080/"
        },
        "id": "1LqqPCiYq9P7",
        "outputId": "f9188376-d4c8-4b58-d29f-374b90e587f2"
      },
      "execution_count": 83,
      "outputs": [
        {
          "output_type": "execute_result",
          "data": {
            "text/plain": [
              "[',',\n",
              " '.',\n",
              " 'Take',\n",
              " 'and',\n",
              " 'care',\n",
              " 'care',\n",
              " 'of',\n",
              " 'of',\n",
              " 'sense',\n",
              " 'sounds',\n",
              " 'take',\n",
              " 'the',\n",
              " 'the',\n",
              " 'themselves',\n",
              " 'will']"
            ]
          },
          "metadata": {},
          "execution_count": 83
        }
      ]
    },
    {
      "cell_type": "markdown",
      "source": [
        "### Accumulative Functions"
      ],
      "metadata": {
        "id": "FdlwBjS_rSx4"
      }
    },
    {
      "cell_type": "code",
      "source": [
        "def search1(substring, words):\n",
        "  result = []\n",
        "  for word in words:\n",
        "    if substring in word:\n",
        "      result.append(word)\n",
        "  \n",
        "  return result\n",
        "\n",
        "def search2(substring, words):\n",
        "  for word in words:\n",
        "    if substring in word:\n",
        "      yield word"
      ],
      "metadata": {
        "id": "exv8PdgarWat"
      },
      "execution_count": 85,
      "outputs": []
    },
    {
      "cell_type": "code",
      "source": [
        "for item in search1('zz', nltk.corpus.brown.words()):\n",
        "  print(item, end=' ')"
      ],
      "metadata": {
        "colab": {
          "base_uri": "https://localhost:8080/"
        },
        "id": "ohfl91Hsrhy4",
        "outputId": "b6ffc92e-ec25-4bbb-f2dd-e8101fa559f3"
      },
      "execution_count": 86,
      "outputs": [
        {
          "output_type": "stream",
          "name": "stdout",
          "text": [
            "Grizzlies' fizzled Rizzuto huzzahs dazzler jazz Pezza Pezza Pezza embezzling embezzlement pizza jazz Ozzie nozzle drizzly puzzle puzzle dazzling Sizzling guzzle puzzles dazzling jazz jazz Jazz jazz Jazz jazz jazz Jazz jazz jazz jazz Jazz jazz dizzy jazz Jazz puzzler jazz jazzmen jazz jazz Jazz Jazz Jazz jazz Jazz jazz jazz jazz Jazz jazz jazz jazz jazz jazz jazz jazz jazz jazz Jazz Jazz jazz jazz nozzles nozzle puzzle buzz puzzle blizzard blizzard sizzling puzzled puzzle puzzle muzzle muzzle muezzin blizzard Neo-Jazz jazz muzzle piazzas puzzles puzzles embezzle buzzed snazzy buzzes puzzled puzzled muzzle whizzing jazz Belshazzar Lizzie Lizzie Lizzie Lizzie Lizzie Lizzie Lizzie Lizzie Lizzie's Lizzie Lizzie Lizzie Lizzie Lizzie Lizzie Lizzie Lizzie Lizzie blizzard blizzards blizzard blizzard fuzzy Lazzeri Piazza piazza palazzi Piazza Piazza Palazzo Palazzo Palazzo Piazza Piazza Palazzo palazzo palazzo Palazzo Palazzo Piazza piazza piazza piazza Piazza Piazza Palazzo palazzo Piazza piazza pizza Piazza Palazzo palazzo dazzling puzzling Wozzek dazzling dazzling buzzing Jazz jazz Jazz Jazz jazz jazz jazz jazz Jazz jazz jazz jazz Fuzzy Lizzy Lizzy jazz fuzzy puzzles puzzling puzzling dazzle puzzle dazzling puzzled jazz jazz jazz jazzy whizzed frazzled quizzical puzzling poetry-and-jazz poetry-and-jazz jazz jazz jazz jazz jazz jazz jazz Jazz jazz jazz jazz poetry-and-jazz jazz jazz jazz Dizzy jazz jazz jazz jazz jazz poetry-and-jazz jazz jazz jazz jazz jazz jazz jazz jazz jazz jazz jazz jazz dazzled bedazzlement bedazzled Piazzo nozzles nozzles buzzing dazzles dizzy puzzling puzzling puzzling puzzle muzzle puzzled nozzle Pozzatti Pozzatti Pozzatti puzzled Pozzatti Pozzatti dazzling pizzicato Jazz jazz jazz jazz jazz nozzle grizzled fuzzy muzzle puzzled puzzle muzzle blizzard buzz dizzily drizzle drizzle drizzle sizzled puzzled puzzled puzzled fuzzed buzz buzz buzz buzz-buzz-buzz buzzes fuzzy frizzled drizzle drizzle drizzling drizzling fuzz jazz jazz fuzz puzzle puzzling Nozze mezzo puzzled puzzled dazzling muzzle muzzle muzzle buzzed whizzed sizzled palazzos puzzlement frizzling puzzled puzzled puzzled dazzling muzzles fuzzy jazz ex-jazz sizzle grizzly guzzled buzzing fuzz nuzzled Kizzie Kizzie Kizzie Kezziah Kizzie Kizzie Buzz's Buzz Buzz Buzz Buzz Buzz Buzz Buzz Buzz dizzy piazza buzzing Puzzled dizziness dazzled Piazza Carrozza fuzzy dizzy buzzing buzzing puzzled puzzling puzzled puzzled Quizzical pizza "
          ]
        }
      ]
    },
    {
      "cell_type": "code",
      "source": [
        "for item in search2('zz', nltk.corpus.brown.words()):\n",
        "  print(item, end=' ')"
      ],
      "metadata": {
        "colab": {
          "base_uri": "https://localhost:8080/"
        },
        "id": "1oIFQL41rrSi",
        "outputId": "82de6594-6b76-4b0b-c308-5c34ded1f555"
      },
      "execution_count": 87,
      "outputs": [
        {
          "output_type": "stream",
          "name": "stdout",
          "text": [
            "Grizzlies' fizzled Rizzuto huzzahs dazzler jazz Pezza Pezza Pezza embezzling embezzlement pizza jazz Ozzie nozzle drizzly puzzle puzzle dazzling Sizzling guzzle puzzles dazzling jazz jazz Jazz jazz Jazz jazz jazz Jazz jazz jazz jazz Jazz jazz dizzy jazz Jazz puzzler jazz jazzmen jazz jazz Jazz Jazz Jazz jazz Jazz jazz jazz jazz Jazz jazz jazz jazz jazz jazz jazz jazz jazz jazz Jazz Jazz jazz jazz nozzles nozzle puzzle buzz puzzle blizzard blizzard sizzling puzzled puzzle puzzle muzzle muzzle muezzin blizzard Neo-Jazz jazz muzzle piazzas puzzles puzzles embezzle buzzed snazzy buzzes puzzled puzzled muzzle whizzing jazz Belshazzar Lizzie Lizzie Lizzie Lizzie Lizzie Lizzie Lizzie Lizzie Lizzie's Lizzie Lizzie Lizzie Lizzie Lizzie Lizzie Lizzie Lizzie Lizzie blizzard blizzards blizzard blizzard fuzzy Lazzeri Piazza piazza palazzi Piazza Piazza Palazzo Palazzo Palazzo Piazza Piazza Palazzo palazzo palazzo Palazzo Palazzo Piazza piazza piazza piazza Piazza Piazza Palazzo palazzo Piazza piazza pizza Piazza Palazzo palazzo dazzling puzzling Wozzek dazzling dazzling buzzing Jazz jazz Jazz Jazz jazz jazz jazz jazz Jazz jazz jazz jazz Fuzzy Lizzy Lizzy jazz fuzzy puzzles puzzling puzzling dazzle puzzle dazzling puzzled jazz jazz jazz jazzy whizzed frazzled quizzical puzzling poetry-and-jazz poetry-and-jazz jazz jazz jazz jazz jazz jazz jazz Jazz jazz jazz jazz poetry-and-jazz jazz jazz jazz Dizzy jazz jazz jazz jazz jazz poetry-and-jazz jazz jazz jazz jazz jazz jazz jazz jazz jazz jazz jazz jazz dazzled bedazzlement bedazzled Piazzo nozzles nozzles buzzing dazzles dizzy puzzling puzzling puzzling puzzle muzzle puzzled nozzle Pozzatti Pozzatti Pozzatti puzzled Pozzatti Pozzatti dazzling pizzicato Jazz jazz jazz jazz jazz nozzle grizzled fuzzy muzzle puzzled puzzle muzzle blizzard buzz dizzily drizzle drizzle drizzle sizzled puzzled puzzled puzzled fuzzed buzz buzz buzz buzz-buzz-buzz buzzes fuzzy frizzled drizzle drizzle drizzling drizzling fuzz jazz jazz fuzz puzzle puzzling Nozze mezzo puzzled puzzled dazzling muzzle muzzle muzzle buzzed whizzed sizzled palazzos puzzlement frizzling puzzled puzzled puzzled dazzling muzzles fuzzy jazz ex-jazz sizzle grizzly guzzled buzzing fuzz nuzzled Kizzie Kizzie Kizzie Kezziah Kizzie Kizzie Buzz's Buzz Buzz Buzz Buzz Buzz Buzz Buzz Buzz dizzy piazza buzzing Puzzled dizziness dazzled Piazza Carrozza fuzzy dizzy buzzing buzzing puzzled puzzling puzzled puzzled Quizzical pizza "
          ]
        }
      ]
    },
    {
      "cell_type": "code",
      "source": [
        "def permutations(seq):\n",
        "  if len(seq) <= 1:\n",
        "    yield seq\n",
        "\n",
        "  else:\n",
        "    for perm in permutations(seq[1:]):\n",
        "      for i in range(len(perm)+1):\n",
        "        yield perm[:i] + seq[0:1] + perm[i:]"
      ],
      "metadata": {
        "id": "GZg8h4ZnryRh"
      },
      "execution_count": 88,
      "outputs": []
    },
    {
      "cell_type": "code",
      "source": [
        "list(permutations(['police', 'fish', 'buffalo']))"
      ],
      "metadata": {
        "colab": {
          "base_uri": "https://localhost:8080/"
        },
        "id": "DbhCkCOhsKKk",
        "outputId": "43e1c56d-2bfd-40a9-c0e1-a9ab8db5ad5a"
      },
      "execution_count": 89,
      "outputs": [
        {
          "output_type": "execute_result",
          "data": {
            "text/plain": [
              "[['police', 'fish', 'buffalo'],\n",
              " ['fish', 'police', 'buffalo'],\n",
              " ['fish', 'buffalo', 'police'],\n",
              " ['police', 'buffalo', 'fish'],\n",
              " ['buffalo', 'police', 'fish'],\n",
              " ['buffalo', 'fish', 'police']]"
            ]
          },
          "metadata": {},
          "execution_count": 89
        }
      ]
    },
    {
      "cell_type": "markdown",
      "source": [
        "### Higher-Order Functions"
      ],
      "metadata": {
        "id": "U_Wq8TrAsSPC"
      }
    },
    {
      "cell_type": "code",
      "source": [
        "def is_content_word(word):\n",
        "  return word.lower() not in ['a', 'of', 'the', 'and', 'will', ',', '.']"
      ],
      "metadata": {
        "id": "FETrJaQCsUWW"
      },
      "execution_count": 90,
      "outputs": []
    },
    {
      "cell_type": "code",
      "source": [
        "sent = ['Take', 'care', 'of', 'the', 'sense', ',', 'and', 'the', 'sounds', 'will', 'take', 'care', 'of', 'themselves', '.']"
      ],
      "metadata": {
        "id": "8S-ftg5-scVN"
      },
      "execution_count": 92,
      "outputs": []
    },
    {
      "cell_type": "code",
      "source": [
        "list(filter(is_content_word, sent))"
      ],
      "metadata": {
        "colab": {
          "base_uri": "https://localhost:8080/"
        },
        "id": "yfBOV42asiks",
        "outputId": "4c28fdac-afa5-40f0-c16f-7b6e1c73efb8"
      },
      "execution_count": 93,
      "outputs": [
        {
          "output_type": "execute_result",
          "data": {
            "text/plain": [
              "['Take', 'care', 'sense', 'sounds', 'take', 'care', 'themselves']"
            ]
          },
          "metadata": {},
          "execution_count": 93
        }
      ]
    },
    {
      "cell_type": "code",
      "source": [
        "[w for w in sent if is_content_word(w)]"
      ],
      "metadata": {
        "colab": {
          "base_uri": "https://localhost:8080/"
        },
        "id": "ciptuELMslMa",
        "outputId": "cf9e5d97-ba7f-4372-cf5d-5ecedae0398b"
      },
      "execution_count": 94,
      "outputs": [
        {
          "output_type": "execute_result",
          "data": {
            "text/plain": [
              "['Take', 'care', 'sense', 'sounds', 'take', 'care', 'themselves']"
            ]
          },
          "metadata": {},
          "execution_count": 94
        }
      ]
    },
    {
      "cell_type": "code",
      "source": [
        "lengths = list(map(len, nltk.corpus.brown.sents(categories='news')))\n",
        "sum(lengths) / len(lengths)"
      ],
      "metadata": {
        "colab": {
          "base_uri": "https://localhost:8080/"
        },
        "id": "tqjXhDlOsnpE",
        "outputId": "d6f0a9aa-7221-4986-d074-f9dd5d45ecf1"
      },
      "execution_count": 95,
      "outputs": [
        {
          "output_type": "execute_result",
          "data": {
            "text/plain": [
              "21.75081116158339"
            ]
          },
          "metadata": {},
          "execution_count": 95
        }
      ]
    },
    {
      "cell_type": "code",
      "source": [
        "lengths = [len(sent) for sent in nltk.corpus.brown.sents(categories='news')]\n",
        "sum(lengths) / len(lengths)"
      ],
      "metadata": {
        "colab": {
          "base_uri": "https://localhost:8080/"
        },
        "id": "lSAyYXFVsxja",
        "outputId": "5e710005-ad57-41f7-a873-240b489e903d"
      },
      "execution_count": 96,
      "outputs": [
        {
          "output_type": "execute_result",
          "data": {
            "text/plain": [
              "21.75081116158339"
            ]
          },
          "metadata": {},
          "execution_count": 96
        }
      ]
    },
    {
      "cell_type": "code",
      "source": [
        "list(map(lambda w: len(list(filter(lambda c: c.lower() in \"aeiou\", w))), sent))"
      ],
      "metadata": {
        "colab": {
          "base_uri": "https://localhost:8080/"
        },
        "id": "m1j1nKucs4KP",
        "outputId": "e412cdc0-9cf3-496b-f792-a2fbdd53445c"
      },
      "execution_count": 100,
      "outputs": [
        {
          "output_type": "execute_result",
          "data": {
            "text/plain": [
              "[2, 2, 1, 1, 2, 0, 1, 1, 2, 1, 2, 2, 1, 3, 0]"
            ]
          },
          "metadata": {},
          "execution_count": 100
        }
      ]
    },
    {
      "cell_type": "markdown",
      "source": [
        "### Named Arguments"
      ],
      "metadata": {
        "id": "WiwyYS8VtgFX"
      }
    },
    {
      "cell_type": "code",
      "source": [
        "def repeat(msg='<empty>', num=1):\n",
        "  return msg * num\n",
        "\n",
        "repeat(num=3)"
      ],
      "metadata": {
        "colab": {
          "base_uri": "https://localhost:8080/",
          "height": 37
        },
        "id": "lslKLfoBtmlT",
        "outputId": "7d9f3da4-e31e-4f5e-e05f-3734b594db1c"
      },
      "execution_count": 101,
      "outputs": [
        {
          "output_type": "execute_result",
          "data": {
            "application/vnd.google.colaboratory.intrinsic+json": {
              "type": "string"
            },
            "text/plain": [
              "'<empty><empty><empty>'"
            ]
          },
          "metadata": {},
          "execution_count": 101
        }
      ]
    },
    {
      "cell_type": "code",
      "source": [
        "repeat(msg='Alice')"
      ],
      "metadata": {
        "colab": {
          "base_uri": "https://localhost:8080/",
          "height": 37
        },
        "id": "NTgRo2Rotxh8",
        "outputId": "ff47f32e-6a90-4d97-d9ef-e90da42ba20e"
      },
      "execution_count": 102,
      "outputs": [
        {
          "output_type": "execute_result",
          "data": {
            "application/vnd.google.colaboratory.intrinsic+json": {
              "type": "string"
            },
            "text/plain": [
              "'Alice'"
            ]
          },
          "metadata": {},
          "execution_count": 102
        }
      ]
    },
    {
      "cell_type": "code",
      "source": [
        "repeat(num=5, msg='Alice')"
      ],
      "metadata": {
        "colab": {
          "base_uri": "https://localhost:8080/",
          "height": 37
        },
        "id": "prClLhJbtzLc",
        "outputId": "88c1e51f-be80-4733-c29c-13410f986364"
      },
      "execution_count": 103,
      "outputs": [
        {
          "output_type": "execute_result",
          "data": {
            "application/vnd.google.colaboratory.intrinsic+json": {
              "type": "string"
            },
            "text/plain": [
              "'AliceAliceAliceAliceAlice'"
            ]
          },
          "metadata": {},
          "execution_count": 103
        }
      ]
    },
    {
      "cell_type": "code",
      "source": [
        "def generic(*args, **kwargs):\n",
        "  print(args)\n",
        "  print(kwargs)\n",
        "\n",
        "generic(1, \"African swallow\", monty=\"python\")"
      ],
      "metadata": {
        "colab": {
          "base_uri": "https://localhost:8080/"
        },
        "id": "kEu1w2Nwt1zx",
        "outputId": "f050d6d1-67a7-4c57-f6e4-4de973e13165"
      },
      "execution_count": 104,
      "outputs": [
        {
          "output_type": "stream",
          "name": "stdout",
          "text": [
            "(1, 'African swallow')\n",
            "{'monty': 'python'}\n"
          ]
        }
      ]
    },
    {
      "cell_type": "code",
      "source": [
        "song = [['four', 'calling', 'birds'],\n",
        "        ['three', 'French', 'hens'],\n",
        "        ['two', 'turtle', 'doves']]\n",
        "\n",
        "list(zip(song[0], song[1], song[2]))"
      ],
      "metadata": {
        "colab": {
          "base_uri": "https://localhost:8080/"
        },
        "id": "EX-0teOYuBP8",
        "outputId": "a44d836a-ff08-41c7-8cd5-d22b0d1fc4c9"
      },
      "execution_count": 105,
      "outputs": [
        {
          "output_type": "execute_result",
          "data": {
            "text/plain": [
              "[('four', 'three', 'two'),\n",
              " ('calling', 'French', 'turtle'),\n",
              " ('birds', 'hens', 'doves')]"
            ]
          },
          "metadata": {},
          "execution_count": 105
        }
      ]
    },
    {
      "cell_type": "code",
      "source": [
        "list(zip(*song))"
      ],
      "metadata": {
        "colab": {
          "base_uri": "https://localhost:8080/"
        },
        "id": "i0xB2YTPuPth",
        "outputId": "0a193a45-843b-4924-c2aa-3484476855c7"
      },
      "execution_count": 106,
      "outputs": [
        {
          "output_type": "execute_result",
          "data": {
            "text/plain": [
              "[('four', 'three', 'two'),\n",
              " ('calling', 'French', 'turtle'),\n",
              " ('birds', 'hens', 'doves')]"
            ]
          },
          "metadata": {},
          "execution_count": 106
        }
      ]
    },
    {
      "cell_type": "code",
      "source": [
        "def freq_words(file, min=1, num=10):\n",
        "  text = open(file).read()\n",
        "  tokens = word_tokenize(text)\n",
        "  freqdist = nltk.FreqDist(t for t in tokens if len(t) >= min)\n",
        "  return freqdist.most_common(num)"
      ],
      "metadata": {
        "id": "PChWm51kuSK9"
      },
      "execution_count": 107,
      "outputs": []
    },
    {
      "cell_type": "code",
      "source": [
        "def freq_word(file, min=1, num=10, verbose=False):\n",
        "  freqdist = FreqDist()\n",
        "  if verbose: print(\"Opening\", file)\n",
        "  text = open(file).read()\n",
        "  if verbose: print(\"Read in %d characters\" % len(file))\n",
        "  for word in word_tokenize(text):\n",
        "    if len(word) >= min:\n",
        "      freqdist[word] += 1\n",
        "      if verbose and freqdist.N() % 100 == 0: print(\".\", sep=\"\")\n",
        "  if verbose: print\n",
        "  return freqdist.most_common(num)"
      ],
      "metadata": {
        "id": "8nDOiKryuiVd"
      },
      "execution_count": 108,
      "outputs": []
    },
    {
      "cell_type": "markdown",
      "source": [
        "## 6. Program Development"
      ],
      "metadata": {
        "id": "i1PPUJW5vMkT"
      }
    },
    {
      "cell_type": "markdown",
      "source": [
        "### Structure of a Python Module"
      ],
      "metadata": {
        "id": "mAkLAlp0vZDh"
      }
    },
    {
      "cell_type": "code",
      "source": [
        "nltk.metrics.distance.__file__"
      ],
      "metadata": {
        "colab": {
          "base_uri": "https://localhost:8080/",
          "height": 164
        },
        "id": "O1Tq24RcwNDB",
        "outputId": "276f9d6a-5909-4ddd-e5f8-542a871780c3"
      },
      "execution_count": 109,
      "outputs": [
        {
          "output_type": "error",
          "ename": "AttributeError",
          "evalue": "ignored",
          "traceback": [
            "\u001b[0;31m---------------------------------------------------------------------------\u001b[0m",
            "\u001b[0;31mAttributeError\u001b[0m                            Traceback (most recent call last)",
            "\u001b[0;32m<ipython-input-109-8bac58ca42e2>\u001b[0m in \u001b[0;36m<module>\u001b[0;34m()\u001b[0m\n\u001b[0;32m----> 1\u001b[0;31m \u001b[0mnltk\u001b[0m\u001b[0;34m.\u001b[0m\u001b[0mmetrics\u001b[0m\u001b[0;34m.\u001b[0m\u001b[0mdistance\u001b[0m\u001b[0;34m.\u001b[0m\u001b[0m__file__\u001b[0m\u001b[0;34m\u001b[0m\u001b[0;34m\u001b[0m\u001b[0m\n\u001b[0m",
            "\u001b[0;31mAttributeError\u001b[0m: module 'nltk.translate.metrics' has no attribute 'distance'"
          ]
        }
      ]
    },
    {
      "cell_type": "markdown",
      "source": [
        "### Multi-Module Programs"
      ],
      "metadata": {
        "id": "a9aH4xfDxCU5"
      }
    },
    {
      "cell_type": "markdown",
      "source": [
        "### Sources of Error"
      ],
      "metadata": {
        "id": "cLjat693xYBl"
      }
    },
    {
      "cell_type": "code",
      "source": [
        "def find_words(text, wordlength, result=[]):\n",
        "  for word in text:\n",
        "    if len(word) == wordlength:\n",
        "      result.append(word)\n",
        "  return result"
      ],
      "metadata": {
        "id": "VAxv06FQxuq1"
      },
      "execution_count": 1,
      "outputs": []
    },
    {
      "cell_type": "code",
      "source": [
        "print(find_words(['omg', 'teh', 'lolcat', 'sitted', 'on', 'teh', 'mat'], 3))\n",
        "print(find_words(['omg', 'teh', 'lolcat', 'sitted', 'on', 'teh', 'mat'], 2, ['ur']))\n",
        "print(find_words(['omg', 'teh', 'lolcat', 'sitted', 'on', 'teh', 'mat'], 3))"
      ],
      "metadata": {
        "colab": {
          "base_uri": "https://localhost:8080/"
        },
        "id": "cSJj22srz11y",
        "outputId": "7835ecf1-00fc-4b95-c248-4b3cddbb15f2"
      },
      "execution_count": 120,
      "outputs": [
        {
          "output_type": "stream",
          "name": "stdout",
          "text": [
            "['omg', 'teh', 'teh', 'mat']\n",
            "['ur', 'on']\n",
            "['omg', 'teh', 'teh', 'mat', 'omg', 'teh', 'teh', 'mat']\n"
          ]
        }
      ]
    },
    {
      "cell_type": "markdown",
      "source": [
        "### Debugging Techniques"
      ],
      "metadata": {
        "id": "ARxlO-P8zJkt"
      }
    },
    {
      "cell_type": "code",
      "source": [
        "import pdb\n",
        "\n",
        "find_words(['cat'], 3)"
      ],
      "metadata": {
        "colab": {
          "base_uri": "https://localhost:8080/"
        },
        "id": "Uyltn36hznBi",
        "outputId": "e02fad90-63e7-4150-e0a6-c6174e10f2c3"
      },
      "execution_count": 2,
      "outputs": [
        {
          "output_type": "execute_result",
          "data": {
            "text/plain": [
              "['cat']"
            ]
          },
          "metadata": {},
          "execution_count": 2
        }
      ]
    },
    {
      "cell_type": "code",
      "source": [
        "# pdb.run(\"find_words(['cat'], 3)\")"
      ],
      "metadata": {
        "id": "-HhExvqmzsM2"
      },
      "execution_count": null,
      "outputs": []
    },
    {
      "cell_type": "markdown",
      "source": [
        "### Defensive Programming"
      ],
      "metadata": {
        "id": "lHRheMvX0VlU"
      }
    },
    {
      "cell_type": "code",
      "source": [
        "# http://docs.python.org/library/doctest.html"
      ],
      "metadata": {
        "id": "gxe0szPV06PB"
      },
      "execution_count": null,
      "outputs": []
    },
    {
      "cell_type": "markdown",
      "source": [
        "## 7. Algorithm Design"
      ],
      "metadata": {
        "id": "DRPtGOnI1CR-"
      }
    },
    {
      "cell_type": "markdown",
      "source": [
        "### Recursion"
      ],
      "metadata": {
        "id": "k892oOiq1LWK"
      }
    },
    {
      "cell_type": "code",
      "source": [
        "def factorial(n):\n",
        "  result = 1\n",
        "  for i in range(n):\n",
        "    result *= (i+1)\n",
        "  return result"
      ],
      "metadata": {
        "id": "6SznbLVF1M1w"
      },
      "execution_count": 3,
      "outputs": []
    },
    {
      "cell_type": "code",
      "source": [
        "def factorial2(n):\n",
        "  if n == 1:\n",
        "    return 1\n",
        "  else:\n",
        "    return n * factorial2(n-1)"
      ],
      "metadata": {
        "id": "blbBrHFV1RQ4"
      },
      "execution_count": 4,
      "outputs": []
    },
    {
      "cell_type": "code",
      "source": [
        "def size1(s):\n",
        "  return 1 + sum(size1(child) for child in s.hyponyms())"
      ],
      "metadata": {
        "id": "Pi7l9DJo1W3J"
      },
      "execution_count": 7,
      "outputs": []
    },
    {
      "cell_type": "code",
      "source": [
        "def size2(s):\n",
        "  layer = [s]\n",
        "  total = 0\n",
        "  while layer:\n",
        "    total += len(layer)\n",
        "    layer = [h for c in layer for h in c.hyponyms()]\n",
        "  return total"
      ],
      "metadata": {
        "id": "hS-VsMKK1dP1"
      },
      "execution_count": 8,
      "outputs": []
    },
    {
      "cell_type": "code",
      "source": [
        "import nltk\n",
        "nltk.download('wordnet')\n",
        "from nltk.corpus import wordnet as wn\n",
        "\n",
        "dog = wn.synset('dog.n.01')\n",
        "print(size1(dog))\n",
        "print(size2(dog))"
      ],
      "metadata": {
        "colab": {
          "base_uri": "https://localhost:8080/"
        },
        "id": "WVM4iMdS1nun",
        "outputId": "f6270488-cfd8-400a-ff05-5a0aec7b542d"
      },
      "execution_count": 12,
      "outputs": [
        {
          "output_type": "stream",
          "name": "stdout",
          "text": [
            "[nltk_data] Downloading package wordnet to /root/nltk_data...\n",
            "[nltk_data]   Unzipping corpora/wordnet.zip.\n",
            "190\n",
            "190\n"
          ]
        }
      ]
    },
    {
      "cell_type": "code",
      "source": [
        "def insert(trie, key, value):\n",
        "  if key:\n",
        "    first, rest = key[0], key[1:]\n",
        "    if first not in trie:\n",
        "      trie[first] = {}\n",
        "    insert(trie[first], rest, value)\n",
        "  else:\n",
        "    trie['value'] = value"
      ],
      "metadata": {
        "id": "Ujb_vl8D1xXu"
      },
      "execution_count": 13,
      "outputs": []
    },
    {
      "cell_type": "code",
      "source": [
        "trie = {}\n",
        "insert(trie, 'chat', 'cat')\n",
        "insert(trie, 'chien', 'dog')\n",
        "insert(trie, 'chair', 'flesh')\n",
        "insert(trie, 'chic', 'stylish')\n",
        "dict(trie)"
      ],
      "metadata": {
        "colab": {
          "base_uri": "https://localhost:8080/"
        },
        "id": "4PfxC-X82L6c",
        "outputId": "01233f6c-992b-423e-e662-b4b7eab5ac58"
      },
      "execution_count": 15,
      "outputs": [
        {
          "output_type": "execute_result",
          "data": {
            "text/plain": [
              "{'c': {'h': {'a': {'i': {'r': {'value': 'flesh'}}, 't': {'value': 'cat'}},\n",
              "   'i': {'c': {'value': 'stylish'}, 'e': {'n': {'value': 'dog'}}}}}}"
            ]
          },
          "metadata": {},
          "execution_count": 15
        }
      ]
    },
    {
      "cell_type": "code",
      "source": [
        "trie['c']['h']['a']['t']['value']"
      ],
      "metadata": {
        "colab": {
          "base_uri": "https://localhost:8080/",
          "height": 37
        },
        "id": "RcGHshFg2jz2",
        "outputId": "bd646ee3-46aa-4c11-cf6c-116b4fc62b08"
      },
      "execution_count": 20,
      "outputs": [
        {
          "output_type": "execute_result",
          "data": {
            "application/vnd.google.colaboratory.intrinsic+json": {
              "type": "string"
            },
            "text/plain": [
              "'cat'"
            ]
          },
          "metadata": {},
          "execution_count": 20
        }
      ]
    },
    {
      "cell_type": "code",
      "source": [
        "import pprint\n",
        "pprint.pprint(trie, width=40)"
      ],
      "metadata": {
        "colab": {
          "base_uri": "https://localhost:8080/"
        },
        "id": "0tF80ORD2Zyt",
        "outputId": "bd5d45aa-2c68-4b64-bae2-dad8910f4f6c"
      },
      "execution_count": 18,
      "outputs": [
        {
          "output_type": "stream",
          "name": "stdout",
          "text": [
            "{'c': {'h': {'a': {'i': {'r': {'value': 'flesh'}},\n",
            "                   't': {'value': 'cat'}},\n",
            "             'i': {'c': {'value': 'stylish'},\n",
            "                   'e': {'n': {'value': 'dog'}}}}}}\n"
          ]
        }
      ]
    },
    {
      "cell_type": "markdown",
      "source": [
        "### Space-Time Tradeoffs"
      ],
      "metadata": {
        "id": "_puqi9-E2u5N"
      }
    },
    {
      "cell_type": "code",
      "source": [
        "nltk.download('movie_reviews')\n",
        "import re\n",
        "\n",
        "def raw(file):\n",
        "    contents = open(file).read()\n",
        "    contents = re.sub(r'<.*?>', ' ', contents)\n",
        "    contents = re.sub('\\s+', ' ', contents)\n",
        "    return contents\n",
        "\n",
        "def snippet(doc, term):\n",
        "    text = ' '*30 + raw(doc) + ' '*30\n",
        "    pos = text.index(term)\n",
        "    return text[pos-30:pos+30]\n",
        "\n",
        "print(\"Building Index...\")\n",
        "files = nltk.corpus.movie_reviews.abspaths()\n",
        "idx = nltk.Index((w, f) for f in files for w in raw(f).split())\n",
        "\n",
        "query = ''\n",
        "while query != \"quit\":\n",
        "    query = input(\"query> \")     # use raw_input() in Python 2\n",
        "    if query in idx:\n",
        "        for doc in idx[query]:\n",
        "            print(snippet(doc, query))\n",
        "    else:\n",
        "        print(\"Not found\")"
      ],
      "metadata": {
        "colab": {
          "base_uri": "https://localhost:8080/"
        },
        "id": "dXyrrT1K25vY",
        "outputId": "4d58e104-b7c2-46be-fbb9-255656213a68"
      },
      "execution_count": 24,
      "outputs": [
        {
          "output_type": "stream",
          "name": "stdout",
          "text": [
            "[nltk_data] Downloading package movie_reviews to /root/nltk_data...\n",
            "[nltk_data]   Package movie_reviews is already up-to-date!\n",
            "Building Index...\n",
            "query> hello\n",
            "fell into some weird liquid ( hello ? joker ? ) and now has \n",
            "                              hello kids . today the movie s\n",
            "t walk towards them yelling \" hello \" . once you yell \" hell\n",
            "t walk towards them yelling \" hello \" . once you yell \" hell\n",
            "classmate he can't remember . hello mrs . robinson ! though \n",
            "nds with stupid lines ( \" say hello to king tut , asswhole !\n",
            " no going down on someone . \" hello ? i was in the office an\n",
            "query> quit\n",
            "s funded by her mother . lucy quit working professionally 10\n",
            "erick . i disliked that movie quite a bit , but since \" prac\n",
            "t disaster . babe ruth didn't quit baseball after one season\n",
            "o-be fiance . i think she can quit that job and get a more r\n",
            " and rose mcgowan should just quit acting . she has no chari\n",
            "and get a day job . and don't quit it .                     \n",
            " kubrick , alas , should have quit while he was ahead . this\n",
            "everyone involved should have quit while they were still ahe\n",
            "l die . so what does joe do ? quit his job , of course ! ! w\n",
            "red \" implant . he's ready to quit the biz and get a portion\n",
            "hat he always recorded , they quit and become disillusioned \n",
            " admit that i ? ? ? ve become quite the \" scream \" fan . no \n",
            " again , the fact that he has quit his job to feel what it's\n",
            "school reunion . he has since quit his job as a travel journ\n",
            "ells one of his friends , \" i quit school because i didn't l\n",
            "ms , cursing off the boss and quitting his job ( \" today i q\n",
            "e , the arrival of the now ubiquitous videocassette . burt r\n",
            "in capitol city , that he has quit his job and hopes to open\n",
            "before his death at age 67 to quit filmmaking once a homosex\n",
            " - joss's explanation that he quit the priesthood because of\n",
            " is a former prosecutor , and quit because of tensions betwe\n"
          ]
        }
      ]
    },
    {
      "cell_type": "code",
      "source": [
        "def preprocess(tagged_corpus):\n",
        "    words = set()\n",
        "    tags = set()\n",
        "    for sent in tagged_corpus:\n",
        "        for word, tag in sent:\n",
        "            words.add(word)\n",
        "            tags.add(tag)\n",
        "    wm = dict((w, i) for (i, w) in enumerate(words))\n",
        "    tm = dict((t, i) for (i, t) in enumerate(tags))\n",
        "    return [[(wm[w], tm[t]) for (w, t) in sent] for sent in tagged_corpus]"
      ],
      "metadata": {
        "id": "5STurd2G3ceT"
      },
      "execution_count": 25,
      "outputs": []
    },
    {
      "cell_type": "code",
      "source": [
        "from timeit import Timer\n",
        "vocab_size = 100000\n",
        "setup_list = \"import random; vocab = range(%d)\" % vocab_size\n",
        "setup_set = \"import random; vocab = set(range(%d))\" % vocab_size\n",
        "statement = \"random.randint(0, %d) in vocab\" % (vocab_size * 2)\n",
        "\n",
        "print(Timer(statement, setup_list).timeit(1000))\n",
        "print(Timer(statement, setup_set).timeit(1000))"
      ],
      "metadata": {
        "colab": {
          "base_uri": "https://localhost:8080/"
        },
        "id": "ppdeJ6la3ffL",
        "outputId": "03c2962c-3633-4ba2-ade0-1166a91d3c78"
      },
      "execution_count": 26,
      "outputs": [
        {
          "output_type": "stream",
          "name": "stdout",
          "text": [
            "0.0025606159997551003\n",
            "0.001532821999717271\n"
          ]
        }
      ]
    },
    {
      "cell_type": "markdown",
      "source": [
        "### Dynamic Programming"
      ],
      "metadata": {
        "id": "IF4l2-G93tgN"
      }
    },
    {
      "cell_type": "code",
      "source": [
        "# recursive\n",
        "def virahanka1(n):\n",
        "    if n == 0:\n",
        "        return [\"\"]\n",
        "    elif n == 1:\n",
        "        return [\"S\"]\n",
        "    else:\n",
        "        s = [\"S\" + prosody for prosody in virahanka1(n-1)]\n",
        "        l = [\"L\" + prosody for prosody in virahanka1(n-2)]\n",
        "        return s + l\n",
        "\n",
        "# bottom-up\n",
        "def virahanka2(n):\n",
        "    lookup = [[\"\"], [\"S\"]]\n",
        "    for i in range(n-1):\n",
        "        s = [\"S\" + prosody for prosody in lookup[i+1]]\n",
        "        l = [\"L\" + prosody for prosody in lookup[i]]\n",
        "        lookup.append(s + l)\n",
        "    return lookup[n]\n",
        "\n",
        "# top-down\n",
        "def virahanka3(n, lookup={0:[\"\"], 1:[\"S\"]}):\n",
        "    if n not in lookup:\n",
        "        s = [\"S\" + prosody for prosody in virahanka3(n-1)]\n",
        "        l = [\"L\" + prosody for prosody in virahanka3(n-2)]\n",
        "        lookup[n] = s + l\n",
        "    return lookup[n]\n",
        "\n",
        "\n",
        "# built-in memoization\n",
        "from nltk import memoize\n",
        "@memoize\n",
        "def virahanka4(n):\n",
        "    if n == 0:\n",
        "        return [\"\"]\n",
        "    elif n == 1:\n",
        "        return [\"S\"]\n",
        "    else:\n",
        "        s = [\"S\" + prosody for prosody in virahanka4(n-1)]\n",
        "        l = [\"L\" + prosody for prosody in virahanka4(n-2)]\n",
        "\n",
        "        return s + l"
      ],
      "metadata": {
        "id": "duIC4T8i4Fz9"
      },
      "execution_count": 33,
      "outputs": []
    },
    {
      "cell_type": "code",
      "source": [
        "virahanka1(4)"
      ],
      "metadata": {
        "colab": {
          "base_uri": "https://localhost:8080/"
        },
        "id": "98-C9Kbp4Fs9",
        "outputId": "49dbf620-6e6e-44b7-8a49-15bc0591ae4d"
      },
      "execution_count": 28,
      "outputs": [
        {
          "output_type": "execute_result",
          "data": {
            "text/plain": [
              "['SSSS', 'SSL', 'SLS', 'LSS', 'LL']"
            ]
          },
          "metadata": {},
          "execution_count": 28
        }
      ]
    },
    {
      "cell_type": "code",
      "source": [
        "virahanka2(4)"
      ],
      "metadata": {
        "colab": {
          "base_uri": "https://localhost:8080/"
        },
        "id": "427j0Yx75JZ1",
        "outputId": "4395c49d-da59-4729-d4c8-2ea2d32c701b"
      },
      "execution_count": 29,
      "outputs": [
        {
          "output_type": "execute_result",
          "data": {
            "text/plain": [
              "['SSSS', 'SSL', 'SLS', 'LSS', 'LL']"
            ]
          },
          "metadata": {},
          "execution_count": 29
        }
      ]
    },
    {
      "cell_type": "code",
      "source": [
        "virahanka3(4)"
      ],
      "metadata": {
        "colab": {
          "base_uri": "https://localhost:8080/"
        },
        "id": "CfWOxZPt5KpZ",
        "outputId": "d1c0c167-06b8-4a54-c483-fbf85b719b00"
      },
      "execution_count": 31,
      "outputs": [
        {
          "output_type": "execute_result",
          "data": {
            "text/plain": [
              "['SSSS', 'SSL', 'SLS', 'LSS', 'LL']"
            ]
          },
          "metadata": {},
          "execution_count": 31
        }
      ]
    },
    {
      "cell_type": "code",
      "source": [
        "virahanka4(4)"
      ],
      "metadata": {
        "colab": {
          "base_uri": "https://localhost:8080/"
        },
        "id": "cRljOpZ85MB4",
        "outputId": "34c2ad0a-a5de-4b9d-e4e1-96b90b55544b"
      },
      "execution_count": 34,
      "outputs": [
        {
          "output_type": "execute_result",
          "data": {
            "text/plain": [
              "['SSSS', 'SSL', 'SLS', 'LSS', 'LL']"
            ]
          },
          "metadata": {},
          "execution_count": 34
        }
      ]
    },
    {
      "cell_type": "markdown",
      "source": [
        "## 8. A Sample of Python Libraries"
      ],
      "metadata": {
        "id": "YwEI3V9-5b0_"
      }
    },
    {
      "cell_type": "markdown",
      "source": [
        "### Matplotlib"
      ],
      "metadata": {
        "id": "62xi2D-L5ibm"
      }
    },
    {
      "cell_type": "code",
      "source": [
        "# http://matplotlib.sourceforge.net/"
      ],
      "metadata": {
        "id": "jq-eV-Vn6iW8"
      },
      "execution_count": null,
      "outputs": []
    },
    {
      "cell_type": "code",
      "source": [
        "from numpy import arange\n",
        "from matplotlib import pyplot\n",
        "\n",
        "colors = 'rgbcmyk' # red, green, blue, cyan, magenta, yellow, black\n",
        "\n",
        "def bar_chart(categories, words, counts):\n",
        "    \"Plot a bar chart showing counts for each word by category\"\n",
        "    ind = arange(len(words))\n",
        "    width = 1 / (len(categories) + 1)\n",
        "    bar_groups = []\n",
        "    for c in range(len(categories)):\n",
        "        bars = pyplot.bar(ind+c*width, counts[categories[c]], width,\n",
        "                         color=colors[c % len(colors)])\n",
        "        bar_groups.append(bars)\n",
        "    pyplot.xticks(ind+width, words)\n",
        "    pyplot.legend([b[0] for b in bar_groups], categories, loc='upper left')\n",
        "    pyplot.ylabel('Frequency')\n",
        "    pyplot.title('Frequency of Six Modal Verbs by Genre')\n",
        "    pyplot.show()"
      ],
      "metadata": {
        "id": "bNr3r9-u51Ki"
      },
      "execution_count": 35,
      "outputs": []
    },
    {
      "cell_type": "code",
      "source": [
        "genres = ['news', 'religion', 'hobbies', 'government', 'adventure']\n",
        "modals = ['can', 'could', 'may', 'might', 'must', 'will']\n",
        "cfdist = nltk.ConditionalFreqDist(\n",
        "            (genre, word)\n",
        "            for genre in genres\n",
        "            for word in nltk.corpus.brown.words(categories=genre)\n",
        "            if word in modals)\n",
        "\n",
        "counts = {}\n",
        "for genre in genres:\n",
        "    counts[genre] = [cfdist[genre][word] for word in modals]\n",
        "bar_chart(genres, modals, counts)"
      ],
      "metadata": {
        "colab": {
          "base_uri": "https://localhost:8080/",
          "height": 281
        },
        "id": "KZGX2aVa51f2",
        "outputId": "10de4744-2a22-466e-928d-8d1f8082c7fe"
      },
      "execution_count": 36,
      "outputs": [
        {
          "output_type": "display_data",
          "data": {
            "image/png": "[encoded data removed]",
            "text/plain": [
              "<Figure size 432x288 with 1 Axes>"
            ]
          },
          "metadata": {
            "needs_background": "light"
          }
        }
      ]
    },
    {
      "cell_type": "code",
      "source": [
        "from matplotlib import use, pyplot\n",
        "use('Agg')\n",
        "pyplot.savefig('modals.png')\n",
        "print('Content-Type: text/html')\n",
        "print()\n",
        "print('<html><body>')\n",
        "print('<img src=\"modals.png\"/>')\n",
        "print('</body></html>')"
      ],
      "metadata": {
        "colab": {
          "base_uri": "https://localhost:8080/",
          "height": 119
        },
        "id": "FcxEG1af6QAf",
        "outputId": "e3466c1d-e5ba-4943-e154-9b2b903b0711"
      },
      "execution_count": 38,
      "outputs": [
        {
          "output_type": "stream",
          "name": "stdout",
          "text": [
            "Content-Type: text/html\n",
            "\n",
            "<html><body>\n",
            "<img src=\"modals.png\"/>\n",
            "</body></html>\n"
          ]
        },
        {
          "output_type": "display_data",
          "data": {
            "text/plain": [
              "<Figure size 432x288 with 0 Axes>"
            ]
          },
          "metadata": {}
        }
      ]
    },
    {
      "cell_type": "markdown",
      "source": [
        "### NetworkX"
      ],
      "metadata": {
        "id": "_blF5cG26cDY"
      }
    },
    {
      "cell_type": "code",
      "source": [
        "# https://networkx.lanl.gov/"
      ],
      "metadata": {
        "id": "0VByGNZb6dhE"
      },
      "execution_count": null,
      "outputs": []
    },
    {
      "cell_type": "code",
      "source": [
        "import networkx as nx\n",
        "from networkx.drawing.nx_agraph import graphviz_layout\n",
        "import matplotlib\n",
        "from nltk.corpus import wordnet as wn\n",
        "\n",
        "def traverse(graph, start, node):\n",
        "    graph.depth[node.name] = node.shortest_path_distance(start)\n",
        "    for child in node.hyponyms():\n",
        "        graph.add_edge(node.name, child.name)\n",
        "        traverse(graph, start, child)\n",
        "\n",
        "def hyponym_graph(start):\n",
        "    G = nx.Graph()\n",
        "    G.depth = {}\n",
        "    traverse(G, start, start)\n",
        "    return G\n",
        "\n",
        "def graph_draw(graph):\n",
        "    nx.draw(graph, pos=graphviz_layout(graph),\n",
        "         node_size = [16 * graph.degree(n) for n in graph],\n",
        "         node_color = [graph.depth[n] for n in graph],\n",
        "         with_labels = False)\n",
        "    matplotlib.pyplot.show()"
      ],
      "metadata": {
        "id": "DNqmvVeY6en8"
      },
      "execution_count": null,
      "outputs": []
    },
    {
      "cell_type": "code",
      "source": [
        "dog = wn.synset('dog.n.01')\n",
        "graph = hyponym_graph(dog)\n",
        "graph_draw(graph)"
      ],
      "metadata": {
        "id": "jdj8iEwU6rCT"
      },
      "execution_count": null,
      "outputs": []
    },
    {
      "cell_type": "markdown",
      "source": [
        "### csv"
      ],
      "metadata": {
        "id": "yy2ihwTE75AU"
      }
    },
    {
      "cell_type": "code",
      "source": [
        "import csv\n",
        "input_file = open(\"lexicon.csv\", \"rb\")\n",
        "for row in csv.reader(input_file):\n",
        "  print(row)"
      ],
      "metadata": {
        "id": "sN-FM4QB76I_"
      },
      "execution_count": null,
      "outputs": []
    },
    {
      "cell_type": "markdown",
      "source": [
        "### Numpy"
      ],
      "metadata": {
        "id": "zMPeCKmq8E4g"
      }
    },
    {
      "cell_type": "code",
      "source": [
        "from numpy import array\n",
        "cube = array([ [[0, 0, 0], [1, 1, 1], [2, 2, 2]],\n",
        "               [[3, 3, 3], [4, 4, 4], [5, 5, 5]],\n",
        "               [[6, 6, 6], [7, 7, 7], [8, 8, 8]] ])\n",
        "cube[1,1,1]"
      ],
      "metadata": {
        "colab": {
          "base_uri": "https://localhost:8080/"
        },
        "id": "Rj-TEVCV8F_5",
        "outputId": "9677c5b2-1034-4d4d-d051-0722b37a4356"
      },
      "execution_count": 48,
      "outputs": [
        {
          "output_type": "execute_result",
          "data": {
            "text/plain": [
              "4"
            ]
          },
          "metadata": {},
          "execution_count": 48
        }
      ]
    },
    {
      "cell_type": "code",
      "source": [
        "cube[2].transpose()"
      ],
      "metadata": {
        "colab": {
          "base_uri": "https://localhost:8080/"
        },
        "id": "LkXRtlyF8ZtA",
        "outputId": "6e6e0a0c-dec6-47d0-ebc4-5a47ed14c73b"
      },
      "execution_count": 50,
      "outputs": [
        {
          "output_type": "execute_result",
          "data": {
            "text/plain": [
              "array([[6, 7, 8],\n",
              "       [6, 7, 8],\n",
              "       [6, 7, 8]])"
            ]
          },
          "metadata": {},
          "execution_count": 50
        }
      ]
    },
    {
      "cell_type": "code",
      "source": [
        "cube[2, 1:]"
      ],
      "metadata": {
        "colab": {
          "base_uri": "https://localhost:8080/"
        },
        "id": "rltHkbQ68eT2",
        "outputId": "d795c38f-7fc8-4382-fcf0-8009cddc6b52"
      },
      "execution_count": 52,
      "outputs": [
        {
          "output_type": "execute_result",
          "data": {
            "text/plain": [
              "array([[7, 7, 7],\n",
              "       [8, 8, 8]])"
            ]
          },
          "metadata": {},
          "execution_count": 52
        }
      ]
    },
    {
      "cell_type": "code",
      "source": [
        "from numpy import linalg\n",
        "a = array([[4, 0], [3, -5]])\n",
        "u, s, vt = linalg.svd(a)"
      ],
      "metadata": {
        "id": "qfHzFatI8gAQ"
      },
      "execution_count": 53,
      "outputs": []
    },
    {
      "cell_type": "code",
      "source": [
        "u"
      ],
      "metadata": {
        "colab": {
          "base_uri": "https://localhost:8080/"
        },
        "id": "BFLQPPeS8nsU",
        "outputId": "8ec3022d-1899-4525-b9d4-927ba0dcd6fd"
      },
      "execution_count": 54,
      "outputs": [
        {
          "output_type": "execute_result",
          "data": {
            "text/plain": [
              "array([[-0.4472136 , -0.89442719],\n",
              "       [-0.89442719,  0.4472136 ]])"
            ]
          },
          "metadata": {},
          "execution_count": 54
        }
      ]
    },
    {
      "cell_type": "code",
      "source": [
        "s"
      ],
      "metadata": {
        "colab": {
          "base_uri": "https://localhost:8080/"
        },
        "id": "aoeI4sB_8oEq",
        "outputId": "e7e247aa-007a-4a98-8122-67fa4cf30fb4"
      },
      "execution_count": 55,
      "outputs": [
        {
          "output_type": "execute_result",
          "data": {
            "text/plain": [
              "array([6.32455532, 3.16227766])"
            ]
          },
          "metadata": {},
          "execution_count": 55
        }
      ]
    },
    {
      "cell_type": "code",
      "source": [
        "vt"
      ],
      "metadata": {
        "colab": {
          "base_uri": "https://localhost:8080/"
        },
        "id": "VLMg5BDU8oWJ",
        "outputId": "dcd3593a-affb-48e4-f7d0-049edb365905"
      },
      "execution_count": 56,
      "outputs": [
        {
          "output_type": "execute_result",
          "data": {
            "text/plain": [
              "array([[-0.70710678,  0.70710678],\n",
              "       [-0.70710678, -0.70710678]])"
            ]
          },
          "metadata": {},
          "execution_count": 56
        }
      ]
    },
    {
      "cell_type": "markdown",
      "source": [
        "### Other Python Libraries"
      ],
      "metadata": {
        "id": "QPyLPqni8ujT"
      }
    },
    {
      "cell_type": "code",
      "source": [
        "# http://pypi.python.org/"
      ],
      "metadata": {
        "id": "7G-Aucv18wUg"
      },
      "execution_count": null,
      "outputs": []
    }
  ]
}