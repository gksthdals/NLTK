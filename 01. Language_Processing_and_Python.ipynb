{
  "nbformat": 4,
  "nbformat_minor": 0,
  "metadata": {
    "colab": {
      "name": "01. Language Processing and Python.ipynb",
      "provenance": [],
      "collapsed_sections": [],
      "authorship_tag": "ABX9TyPf0ZcTxddrWRZpmLN0mErI",
      "include_colab_link": true
    },
    "kernelspec": {
      "name": "python3",
      "display_name": "Python 3"
    },
    "language_info": {
      "name": "python"
    }
  },
  "cells": [
    {
      "cell_type": "markdown",
      "metadata": {
        "id": "view-in-github",
        "colab_type": "text"
      },
      "source": [
        "<a href=\"https://colab.research.google.com/github/gksthdals/NLTK/blob/main/01.%20Language_Processing_and_Python.ipynb\" target=\"_parent\"><img src=\"https://colab.research.google.com/assets/colab-badge.svg\" alt=\"Open In Colab\"/></a>"
      ]
    },
    {
      "cell_type": "markdown",
      "source": [
        "# 1. Computing with Language: Texts and Words"
      ],
      "metadata": {
        "id": "KHs9E_u7984z"
      }
    },
    {
      "cell_type": "code",
      "execution_count": null,
      "metadata": {
        "id": "fwEbAsx010fY"
      },
      "outputs": [],
      "source": [
        "import nltk\n",
        "nltk.download()"
      ]
    },
    {
      "cell_type": "code",
      "source": [
        "from nltk.book import *"
      ],
      "metadata": {
        "colab": {
          "base_uri": "https://localhost:8080/"
        },
        "id": "34p2Q5Ds2CHw",
        "outputId": "a549d87a-912c-4cf4-e814-cb7066d142ce"
      },
      "execution_count": null,
      "outputs": [
        {
          "output_type": "stream",
          "name": "stdout",
          "text": [
            "*** Introductory Examples for the NLTK Book ***\n",
            "Loading text1, ..., text9 and sent1, ..., sent9\n",
            "Type the name of the text or sentence to view it.\n",
            "Type: 'texts()' or 'sents()' to list the materials.\n",
            "text1: Moby Dick by Herman Melville 1851\n",
            "text2: Sense and Sensibility by Jane Austen 1811\n",
            "text3: The Book of Genesis\n",
            "text4: Inaugural Address Corpus\n",
            "text5: Chat Corpus\n",
            "text6: Monty Python and the Holy Grail\n",
            "text7: Wall Street Journal\n",
            "text8: Personals Corpus\n",
            "text9: The Man Who Was Thursday by G . K . Chesterton 1908\n"
          ]
        }
      ]
    },
    {
      "cell_type": "code",
      "source": [
        "text1"
      ],
      "metadata": {
        "colab": {
          "base_uri": "https://localhost:8080/"
        },
        "id": "JM-ouw9A2HY8",
        "outputId": "050b1d40-ca7d-49f4-e294-730c6cb2eafb"
      },
      "execution_count": null,
      "outputs": [
        {
          "output_type": "execute_result",
          "data": {
            "text/plain": [
              "<Text: Moby Dick by Herman Melville 1851>"
            ]
          },
          "metadata": {},
          "execution_count": 3
        }
      ]
    },
    {
      "cell_type": "code",
      "source": [
        "text2"
      ],
      "metadata": {
        "colab": {
          "base_uri": "https://localhost:8080/"
        },
        "id": "3vNGe_Bb2OJA",
        "outputId": "a5e532e2-33f6-4ade-e4e8-aa8dea59cbb9"
      },
      "execution_count": null,
      "outputs": [
        {
          "output_type": "execute_result",
          "data": {
            "text/plain": [
              "<Text: Sense and Sensibility by Jane Austen 1811>"
            ]
          },
          "metadata": {},
          "execution_count": 4
        }
      ]
    },
    {
      "cell_type": "code",
      "source": [
        "# concordance view\n",
        "text1.concordance(\"monstrous\", width=35, lines=5)"
      ],
      "metadata": {
        "colab": {
          "base_uri": "https://localhost:8080/"
        },
        "id": "SotHIuXB2Pxo",
        "outputId": "99a2f551-e3d8-4ef0-86a8-8217b3e4fb47"
      },
      "execution_count": null,
      "outputs": [
        {
          "output_type": "stream",
          "name": "stdout",
          "text": [
            "Displaying 5 of 11 matches:\n",
            "as of a most monstrous size . ... T\n",
            "ouching that monstrous bulk of the \n",
            "ish array of monstrous clubs and sp\n",
            "ondered what monstrous cannibal and\n",
            "flood ; most monstrous and most mou\n"
          ]
        }
      ]
    },
    {
      "cell_type": "code",
      "source": [
        "text5.concordance(\"im\", width=35, lines=5)"
      ],
      "metadata": {
        "colab": {
          "base_uri": "https://localhost:8080/"
        },
        "id": "ee2sz-Ae2p1T",
        "outputId": "10267dd9-8ee0-4c53-b01b-e3e406417d7f"
      },
      "execution_count": null,
      "outputs": [
        {
          "output_type": "stream",
          "name": "stdout",
          "text": [
            "Displaying 5 of 149 matches:\n",
            "                im left with this \n",
            "bay i feel like im in the wrong ro\n",
            "om yeee haw U30 im considering cha\n",
            "aking PM box .. Im with my fiance \n",
            "a room lmao !!! im doin alright th\n"
          ]
        }
      ]
    },
    {
      "cell_type": "code",
      "source": [
        "# similar\n",
        "text1.similar(\"monstrous\", num=5)"
      ],
      "metadata": {
        "colab": {
          "base_uri": "https://localhost:8080/"
        },
        "id": "CxbgD-wK3IZg",
        "outputId": "51d89ee9-f8ae-4a4a-9ae8-2a0f6eac8b81"
      },
      "execution_count": null,
      "outputs": [
        {
          "output_type": "stream",
          "name": "stdout",
          "text": [
            "true contemptible christian abundant few\n"
          ]
        }
      ]
    },
    {
      "cell_type": "code",
      "source": [
        "text2.similar(\"monstrous\", num=5)"
      ],
      "metadata": {
        "colab": {
          "base_uri": "https://localhost:8080/"
        },
        "id": "EqHgtAry3mvu",
        "outputId": "dcd5a92c-c4df-4f60-bc5e-ac5f0c4993a7"
      },
      "execution_count": null,
      "outputs": [
        {
          "output_type": "stream",
          "name": "stdout",
          "text": [
            "very so exceedingly heartily a\n"
          ]
        }
      ]
    },
    {
      "cell_type": "code",
      "source": [
        "# common_contexts\n",
        "text2.common_contexts([\"monstrous\", \"very\"])"
      ],
      "metadata": {
        "colab": {
          "base_uri": "https://localhost:8080/"
        },
        "id": "WM3LsLui4FaF",
        "outputId": "2457b59b-544e-4ba6-83a4-5dfda1373bef"
      },
      "execution_count": null,
      "outputs": [
        {
          "output_type": "stream",
          "name": "stdout",
          "text": [
            "a_pretty am_glad a_lucky is_pretty be_glad\n"
          ]
        }
      ]
    },
    {
      "cell_type": "code",
      "source": [
        "# dispersion_plot\n",
        "# changes in language use over time\n",
        "text4.dispersion_plot([\"citizens\", \"democracy\", \"freedom\", \"duties\", \"America\"])"
      ],
      "metadata": {
        "colab": {
          "base_uri": "https://localhost:8080/",
          "height": 295
        },
        "id": "k3FiYeal4bo6",
        "outputId": "57bd1682-9a03-47c0-a267-25ff67c43154"
      },
      "execution_count": null,
      "outputs": [
        {
          "output_type": "display_data",
          "data": {
            "image/png": "[encoded data removed]",
            "text/plain": [
              "<Figure size 432x288 with 1 Axes>"
            ]
          },
          "metadata": {
            "needs_background": "light"
          }
        }
      ]
    },
    {
      "cell_type": "code",
      "source": [
        "type(text3)"
      ],
      "metadata": {
        "colab": {
          "base_uri": "https://localhost:8080/"
        },
        "id": "76p0icqM69yE",
        "outputId": "0f2fdec2-9b06-45a8-a0b6-9ecfc37b0305"
      },
      "execution_count": null,
      "outputs": [
        {
          "output_type": "execute_result",
          "data": {
            "text/plain": [
              "nltk.text.Text"
            ]
          },
          "metadata": {},
          "execution_count": 20
        }
      ]
    },
    {
      "cell_type": "code",
      "source": [
        "len(text3)"
      ],
      "metadata": {
        "colab": {
          "base_uri": "https://localhost:8080/"
        },
        "id": "ymfTd46t7wtg",
        "outputId": "95452ba3-e5c2-4acb-edd1-a33f76bdfe30"
      },
      "execution_count": null,
      "outputs": [
        {
          "output_type": "execute_result",
          "data": {
            "text/plain": [
              "44764"
            ]
          },
          "metadata": {},
          "execution_count": 21
        }
      ]
    },
    {
      "cell_type": "code",
      "source": [
        "len(set(text3))"
      ],
      "metadata": {
        "colab": {
          "base_uri": "https://localhost:8080/"
        },
        "id": "BMgAI4iH7ymD",
        "outputId": "6ee30b4c-1e3e-482d-eaae-b3ed86fb9988"
      },
      "execution_count": null,
      "outputs": [
        {
          "output_type": "execute_result",
          "data": {
            "text/plain": [
              "2789"
            ]
          },
          "metadata": {},
          "execution_count": 24
        }
      ]
    },
    {
      "cell_type": "code",
      "source": [
        "# lexical richness of the text\n",
        "len(set(text3)) / len(text3)"
      ],
      "metadata": {
        "colab": {
          "base_uri": "https://localhost:8080/"
        },
        "id": "k9c4a9Qm8JPM",
        "outputId": "8ae2fd5d-b0a8-45b5-9fad-4fe9b87c9449"
      },
      "execution_count": null,
      "outputs": [
        {
          "output_type": "execute_result",
          "data": {
            "text/plain": [
              "0.06230453042623537"
            ]
          },
          "metadata": {},
          "execution_count": 25
        }
      ]
    },
    {
      "cell_type": "code",
      "source": [
        "# count\n",
        "text3.count(\"smote\")"
      ],
      "metadata": {
        "colab": {
          "base_uri": "https://localhost:8080/"
        },
        "id": "T-7D0_nr8wC0",
        "outputId": "8652aed5-82bd-4ddd-da8b-4d3d3ce0f848"
      },
      "execution_count": null,
      "outputs": [
        {
          "output_type": "execute_result",
          "data": {
            "text/plain": [
              "5"
            ]
          },
          "metadata": {},
          "execution_count": 26
        }
      ]
    },
    {
      "cell_type": "code",
      "source": [
        "text4.count('a')"
      ],
      "metadata": {
        "colab": {
          "base_uri": "https://localhost:8080/"
        },
        "id": "owoLyhrv9B64",
        "outputId": "2caf8cee-a191-4199-e6af-05e0f8e38bcd"
      },
      "execution_count": null,
      "outputs": [
        {
          "output_type": "execute_result",
          "data": {
            "text/plain": [
              "2229"
            ]
          },
          "metadata": {},
          "execution_count": 27
        }
      ]
    },
    {
      "cell_type": "code",
      "source": [
        "def lexical_diversity(text):\n",
        "  return len(set(text)) / len(text)\n",
        "\n",
        "def percentage(count, total):\n",
        "  return 100 * count / total"
      ],
      "metadata": {
        "id": "8vl4YEiF9HD1"
      },
      "execution_count": null,
      "outputs": []
    },
    {
      "cell_type": "markdown",
      "source": [
        "# 2. A Closer Look at Python: Texts as Lists of Words"
      ],
      "metadata": {
        "id": "JwHmDB_j-FJH"
      }
    },
    {
      "cell_type": "code",
      "source": [
        "sent1"
      ],
      "metadata": {
        "colab": {
          "base_uri": "https://localhost:8080/"
        },
        "id": "_h5EPwrq9qiS",
        "outputId": "9999b2db-76a1-47e9-cf05-26f090029962"
      },
      "execution_count": null,
      "outputs": [
        {
          "output_type": "execute_result",
          "data": {
            "text/plain": [
              "['Call', 'me', 'Ishmael', '.']"
            ]
          },
          "metadata": {},
          "execution_count": 31
        }
      ]
    },
    {
      "cell_type": "code",
      "source": [
        "print(len(sent1))\n",
        "print(lexical_diversity(sent1))"
      ],
      "metadata": {
        "colab": {
          "base_uri": "https://localhost:8080/"
        },
        "id": "UI8nZvFl-500",
        "outputId": "e5e0ce0d-0df4-4775-e5de-a959090e132a"
      },
      "execution_count": null,
      "outputs": [
        {
          "output_type": "stream",
          "name": "stdout",
          "text": [
            "4\n",
            "1.0\n"
          ]
        }
      ]
    },
    {
      "cell_type": "code",
      "source": [
        "text5[100:105]"
      ],
      "metadata": {
        "colab": {
          "base_uri": "https://localhost:8080/"
        },
        "id": "MtnD8WQe_Jyy",
        "outputId": "80c88645-f3d0-4978-f44f-2e807584ad40"
      },
      "execution_count": null,
      "outputs": [
        {
          "output_type": "execute_result",
          "data": {
            "text/plain": [
              "['my', 'cousin', 'drew', 'a', 'messed']"
            ]
          },
          "metadata": {},
          "execution_count": 34
        }
      ]
    },
    {
      "cell_type": "code",
      "source": [
        "' '.join(['Monty', 'Python'])"
      ],
      "metadata": {
        "colab": {
          "base_uri": "https://localhost:8080/",
          "height": 37
        },
        "id": "YiXv5tYS_9vX",
        "outputId": "94076e7b-62ee-4d07-9c12-e9dc905f0a2d"
      },
      "execution_count": null,
      "outputs": [
        {
          "output_type": "execute_result",
          "data": {
            "application/vnd.google.colaboratory.intrinsic+json": {
              "type": "string"
            },
            "text/plain": [
              "'Monty Python'"
            ]
          },
          "metadata": {},
          "execution_count": 35
        }
      ]
    },
    {
      "cell_type": "markdown",
      "source": [
        "# 3. Computing with Language: Simple Statistics"
      ],
      "metadata": {
        "id": "hos-0pDiBNbu"
      }
    },
    {
      "cell_type": "code",
      "source": [
        "saying = \"After all is said and done more is said than done\"\n",
        "saying = saying.split()\n",
        "tokens = set(saying)\n",
        "tokens = sorted(tokens)\n",
        "tokens[-2:]"
      ],
      "metadata": {
        "colab": {
          "base_uri": "https://localhost:8080/"
        },
        "id": "o3jzbl9PBVrC",
        "outputId": "9f0c3113-c84b-4891-a321-ff4c917aa55a"
      },
      "execution_count": null,
      "outputs": [
        {
          "output_type": "execute_result",
          "data": {
            "text/plain": [
              "['said', 'than']"
            ]
          },
          "metadata": {},
          "execution_count": 39
        }
      ]
    },
    {
      "cell_type": "code",
      "source": [
        "# FreqDist()\n",
        "fdist1 = FreqDist(text1)\n",
        "print(fdist1)\n",
        "fdist1.most_common(50)"
      ],
      "metadata": {
        "colab": {
          "base_uri": "https://localhost:8080/"
        },
        "id": "OFwIyDaoB6QJ",
        "outputId": "c5b8fa48-8434-48bf-ca74-3026dc7427a7"
      },
      "execution_count": null,
      "outputs": [
        {
          "output_type": "stream",
          "name": "stdout",
          "text": [
            "<FreqDist with 19317 samples and 260819 outcomes>\n"
          ]
        },
        {
          "output_type": "execute_result",
          "data": {
            "text/plain": [
              "[(',', 18713),\n",
              " ('the', 13721),\n",
              " ('.', 6862),\n",
              " ('of', 6536),\n",
              " ('and', 6024),\n",
              " ('a', 4569),\n",
              " ('to', 4542),\n",
              " (';', 4072),\n",
              " ('in', 3916),\n",
              " ('that', 2982),\n",
              " (\"'\", 2684),\n",
              " ('-', 2552),\n",
              " ('his', 2459),\n",
              " ('it', 2209),\n",
              " ('I', 2124),\n",
              " ('s', 1739),\n",
              " ('is', 1695),\n",
              " ('he', 1661),\n",
              " ('with', 1659),\n",
              " ('was', 1632),\n",
              " ('as', 1620),\n",
              " ('\"', 1478),\n",
              " ('all', 1462),\n",
              " ('for', 1414),\n",
              " ('this', 1280),\n",
              " ('!', 1269),\n",
              " ('at', 1231),\n",
              " ('by', 1137),\n",
              " ('but', 1113),\n",
              " ('not', 1103),\n",
              " ('--', 1070),\n",
              " ('him', 1058),\n",
              " ('from', 1052),\n",
              " ('be', 1030),\n",
              " ('on', 1005),\n",
              " ('so', 918),\n",
              " ('whale', 906),\n",
              " ('one', 889),\n",
              " ('you', 841),\n",
              " ('had', 767),\n",
              " ('have', 760),\n",
              " ('there', 715),\n",
              " ('But', 705),\n",
              " ('or', 697),\n",
              " ('were', 680),\n",
              " ('now', 646),\n",
              " ('which', 640),\n",
              " ('?', 637),\n",
              " ('me', 627),\n",
              " ('like', 624)]"
            ]
          },
          "metadata": {},
          "execution_count": 44
        }
      ]
    },
    {
      "cell_type": "code",
      "source": [
        "# whale이라는 단어가 906번 나왔다는 것은 Topic과 관련이 있지 않을까?"
      ],
      "metadata": {
        "id": "8Mlo1vkIDDv_"
      },
      "execution_count": null,
      "outputs": []
    },
    {
      "cell_type": "code",
      "source": [
        "fdist1.plot(50, cumulative=False)"
      ],
      "metadata": {
        "colab": {
          "base_uri": "https://localhost:8080/",
          "height": 299
        },
        "id": "H5ktD-g6Dbwj",
        "outputId": "60daea9d-023a-43eb-ed74-1b8c7e323464"
      },
      "execution_count": null,
      "outputs": [
        {
          "output_type": "display_data",
          "data": {
            "image/png": "[encoded data removed]",
            "text/plain": [
              "<Figure size 432x288 with 1 Axes>"
            ]
          },
          "metadata": {
            "needs_background": "light"
          }
        }
      ]
    },
    {
      "cell_type": "code",
      "source": [
        "fdist1.plot(50, cumulative=True)"
      ],
      "metadata": {
        "colab": {
          "base_uri": "https://localhost:8080/",
          "height": 299
        },
        "id": "nG8A0l3UDksC",
        "outputId": "9cc8c911-3a3c-4101-f304-9c1baf5a7e6a"
      },
      "execution_count": null,
      "outputs": [
        {
          "output_type": "display_data",
          "data": {
            "image/png": "[encoded data removed]",
            "text/plain": [
              "<Figure size 432x288 with 1 Axes>"
            ]
          },
          "metadata": {
            "needs_background": "light"
          }
        }
      ]
    },
    {
      "cell_type": "code",
      "source": [
        "# hapaxes : Text에서 1번만 등장하는 단어\n",
        "fdist1.hapaxes()[:5]"
      ],
      "metadata": {
        "colab": {
          "base_uri": "https://localhost:8080/"
        },
        "id": "PJ_AxY29DvAh",
        "outputId": "a6ac42b1-6c83-46b7-b746-54279252e945"
      },
      "execution_count": null,
      "outputs": [
        {
          "output_type": "execute_result",
          "data": {
            "text/plain": [
              "['Herman', 'Melville', ']', 'ETYMOLOGY', 'Late']"
            ]
          },
          "metadata": {},
          "execution_count": 49
        }
      ]
    },
    {
      "cell_type": "code",
      "source": [
        "V = set(text1)\n",
        "long_words = [w for w in V if len(w) > 15]\n",
        "sorted(long_words)"
      ],
      "metadata": {
        "colab": {
          "base_uri": "https://localhost:8080/"
        },
        "id": "_53pRKHeEOkV",
        "outputId": "847d4d30-9b45-40bc-97d7-6b39eaf5c73d"
      },
      "execution_count": null,
      "outputs": [
        {
          "output_type": "execute_result",
          "data": {
            "text/plain": [
              "['CIRCUMNAVIGATION',\n",
              " 'Physiognomically',\n",
              " 'apprehensiveness',\n",
              " 'cannibalistically',\n",
              " 'characteristically',\n",
              " 'circumnavigating',\n",
              " 'circumnavigation',\n",
              " 'circumnavigations',\n",
              " 'comprehensiveness',\n",
              " 'hermaphroditical',\n",
              " 'indiscriminately',\n",
              " 'indispensableness',\n",
              " 'irresistibleness',\n",
              " 'physiognomically',\n",
              " 'preternaturalness',\n",
              " 'responsibilities',\n",
              " 'simultaneousness',\n",
              " 'subterraneousness',\n",
              " 'supernaturalness',\n",
              " 'superstitiousness',\n",
              " 'uncomfortableness',\n",
              " 'uncompromisedness',\n",
              " 'undiscriminating',\n",
              " 'uninterpenetratingly']"
            ]
          },
          "metadata": {},
          "execution_count": 52
        }
      ]
    },
    {
      "cell_type": "code",
      "source": [
        "# 단어의 길이가 7보다 크면서 text에서 7번이상 등장하는 단어들\n",
        "fdist5 = FreqDist(text5)\n",
        "sorted(w for w in set(text5) if len(w) > 7 and fdist5[w] > 7)"
      ],
      "metadata": {
        "colab": {
          "base_uri": "https://localhost:8080/"
        },
        "id": "qNlw7vK3FDmC",
        "outputId": "15656bac-15f6-4316-ade4-ea63a536066a"
      },
      "execution_count": null,
      "outputs": [
        {
          "output_type": "execute_result",
          "data": {
            "text/plain": [
              "['#14-19teens',\n",
              " '#talkcity_adults',\n",
              " '((((((((((',\n",
              " '........',\n",
              " 'Question',\n",
              " 'actually',\n",
              " 'anything',\n",
              " 'computer',\n",
              " 'cute.-ass',\n",
              " 'everyone',\n",
              " 'football',\n",
              " 'innocent',\n",
              " 'listening',\n",
              " 'remember',\n",
              " 'seriously',\n",
              " 'something',\n",
              " 'together',\n",
              " 'tomorrow',\n",
              " 'watching']"
            ]
          },
          "metadata": {},
          "execution_count": 54
        }
      ]
    },
    {
      "cell_type": "code",
      "source": [
        "# Collocations and Bigrams\n",
        "list(bigrams(['more', 'is', 'said', 'than', 'done']))"
      ],
      "metadata": {
        "colab": {
          "base_uri": "https://localhost:8080/"
        },
        "id": "bd1ykh3AFlOj",
        "outputId": "24d26759-c96a-4ef5-94b3-a4e80a558988"
      },
      "execution_count": null,
      "outputs": [
        {
          "output_type": "execute_result",
          "data": {
            "text/plain": [
              "[('more', 'is'), ('is', 'said'), ('said', 'than'), ('than', 'done')]"
            ]
          },
          "metadata": {},
          "execution_count": 55
        }
      ]
    },
    {
      "cell_type": "code",
      "source": [
        "text4.collocations(num=10)"
      ],
      "metadata": {
        "colab": {
          "base_uri": "https://localhost:8080/"
        },
        "id": "tBV6cWR_GSWn",
        "outputId": "5b27605c-25c9-4a40-dc66-e158263e42df"
      },
      "execution_count": null,
      "outputs": [
        {
          "output_type": "stream",
          "name": "stdout",
          "text": [
            "United States; fellow citizens; years ago; four years; Federal\n",
            "Government; General Government; American people; Vice President; God\n",
            "bless; Chief Justice\n"
          ]
        }
      ]
    },
    {
      "cell_type": "code",
      "source": [
        "text8.collocations(num=10)"
      ],
      "metadata": {
        "colab": {
          "base_uri": "https://localhost:8080/"
        },
        "id": "SnBDOt6wG_u0",
        "outputId": "430f127d-f485-40c5-c05c-2b320f455fcf"
      },
      "execution_count": null,
      "outputs": [
        {
          "output_type": "stream",
          "name": "stdout",
          "text": [
            "would like; medium build; social drinker; quiet nights; non smoker;\n",
            "long term; age open; Would like; easy going; financially secure\n"
          ]
        }
      ]
    },
    {
      "cell_type": "code",
      "source": [
        "fdist = FreqDist(len(w) for w in text1)\n",
        "print(fdist)\n",
        "fdist"
      ],
      "metadata": {
        "colab": {
          "base_uri": "https://localhost:8080/"
        },
        "id": "6c7SAzXsHF0V",
        "outputId": "410fd705-8b00-400e-b532-c755b07f67f5"
      },
      "execution_count": null,
      "outputs": [
        {
          "output_type": "stream",
          "name": "stdout",
          "text": [
            "<FreqDist with 19 samples and 260819 outcomes>\n"
          ]
        },
        {
          "output_type": "execute_result",
          "data": {
            "text/plain": [
              "FreqDist({1: 47933,\n",
              "          2: 38513,\n",
              "          3: 50223,\n",
              "          4: 42345,\n",
              "          5: 26597,\n",
              "          6: 17111,\n",
              "          7: 14399,\n",
              "          8: 9966,\n",
              "          9: 6428,\n",
              "          10: 3528,\n",
              "          11: 1873,\n",
              "          12: 1053,\n",
              "          13: 567,\n",
              "          14: 177,\n",
              "          15: 70,\n",
              "          16: 22,\n",
              "          17: 12,\n",
              "          18: 1,\n",
              "          20: 1})"
            ]
          },
          "metadata": {},
          "execution_count": 61
        }
      ]
    },
    {
      "cell_type": "code",
      "source": [
        "fdist.tabulate()"
      ],
      "metadata": {
        "colab": {
          "base_uri": "https://localhost:8080/"
        },
        "id": "qknLjqPqHlnL",
        "outputId": "97d4c627-1956-47a0-fc36-6a316b058adb"
      },
      "execution_count": null,
      "outputs": [
        {
          "output_type": "stream",
          "name": "stdout",
          "text": [
            "    3     1     4     2     5     6     7     8     9    10    11    12    13    14    15    16    17    18    20 \n",
            "50223 47933 42345 38513 26597 17111 14399  9966  6428  3528  1873  1053   567   177    70    22    12     1     1 \n"
          ]
        }
      ]
    },
    {
      "cell_type": "code",
      "source": [
        "fdist.plot()"
      ],
      "metadata": {
        "colab": {
          "base_uri": "https://localhost:8080/",
          "height": 282
        },
        "id": "RWl8mPoZIELN",
        "outputId": "841a68b7-b19c-46fd-e934-228fdf9d8c3a"
      },
      "execution_count": null,
      "outputs": [
        {
          "output_type": "display_data",
          "data": {
            "image/png": "[encoded data removed]",
            "text/plain": [
              "<Figure size 432x288 with 1 Axes>"
            ]
          },
          "metadata": {
            "needs_background": "light"
          }
        }
      ]
    },
    {
      "cell_type": "code",
      "source": [
        "fdist < fdist1"
      ],
      "metadata": {
        "colab": {
          "base_uri": "https://localhost:8080/"
        },
        "id": "UVN8omx9IH_k",
        "outputId": "a08e53a1-45d3-482a-85f9-5f1dd66a188f"
      },
      "execution_count": null,
      "outputs": [
        {
          "output_type": "execute_result",
          "data": {
            "text/plain": [
              "False"
            ]
          },
          "metadata": {},
          "execution_count": 65
        }
      ]
    },
    {
      "cell_type": "markdown",
      "source": [
        "# 4. Back to Python: Making Decisions and Taking Control"
      ],
      "metadata": {
        "id": "x61c8tXmIfID"
      }
    },
    {
      "cell_type": "code",
      "source": [
        "sent7"
      ],
      "metadata": {
        "colab": {
          "base_uri": "https://localhost:8080/"
        },
        "id": "qFHb9HDjJbl3",
        "outputId": "098161a1-6afe-4a7f-9ec2-5458e6146128"
      },
      "execution_count": null,
      "outputs": [
        {
          "output_type": "execute_result",
          "data": {
            "text/plain": [
              "['Pierre',\n",
              " 'Vinken',\n",
              " ',',\n",
              " '61',\n",
              " 'years',\n",
              " 'old',\n",
              " ',',\n",
              " 'will',\n",
              " 'join',\n",
              " 'the',\n",
              " 'board',\n",
              " 'as',\n",
              " 'a',\n",
              " 'nonexecutive',\n",
              " 'director',\n",
              " 'Nov.',\n",
              " '29',\n",
              " '.']"
            ]
          },
          "metadata": {},
          "execution_count": 66
        }
      ]
    },
    {
      "cell_type": "code",
      "source": [
        "[w for w in sent7 if w.startswith('a')]"
      ],
      "metadata": {
        "colab": {
          "base_uri": "https://localhost:8080/"
        },
        "id": "-hrvfEbNJdMq",
        "outputId": "59a679ad-15c3-4ae9-f418-b35aa08efbf4"
      },
      "execution_count": null,
      "outputs": [
        {
          "output_type": "execute_result",
          "data": {
            "text/plain": [
              "['as', 'a']"
            ]
          },
          "metadata": {},
          "execution_count": 68
        }
      ]
    },
    {
      "cell_type": "code",
      "source": [
        "[w for w in sent7 if w.endswith('e')]"
      ],
      "metadata": {
        "colab": {
          "base_uri": "https://localhost:8080/"
        },
        "id": "8HVBO3DZJgUR",
        "outputId": "e41526b9-a414-4430-d471-eab100789947"
      },
      "execution_count": null,
      "outputs": [
        {
          "output_type": "execute_result",
          "data": {
            "text/plain": [
              "['Pierre', 'the', 'nonexecutive']"
            ]
          },
          "metadata": {},
          "execution_count": 69
        }
      ]
    },
    {
      "cell_type": "code",
      "source": [
        "# s.islower() and s.isupper()\n",
        "# 알파벳으로 전부 이루어져있고 전부 소문자/대문자\n",
        "[w for w in sent7 if w.islower()]"
      ],
      "metadata": {
        "colab": {
          "base_uri": "https://localhost:8080/"
        },
        "id": "tFvCtNLbJyaT",
        "outputId": "f68c2926-00e5-42a0-ed53-aec9574a5855"
      },
      "execution_count": null,
      "outputs": [
        {
          "output_type": "execute_result",
          "data": {
            "text/plain": [
              "['years',\n",
              " 'old',\n",
              " 'will',\n",
              " 'join',\n",
              " 'the',\n",
              " 'board',\n",
              " 'as',\n",
              " 'a',\n",
              " 'nonexecutive',\n",
              " 'director']"
            ]
          },
          "metadata": {},
          "execution_count": 70
        }
      ]
    },
    {
      "cell_type": "code",
      "source": [
        "# s.isalpha() : 전부 알파벳으로만 이루어져있는지?\n",
        "# s.isalnum() : 전부 알파벳 or 숫자로만 이루어져있는지?\n",
        "# s.isdigit() : 전부 숫자로만 이루어져있는지?\n",
        "[w for w in sent7 if w.istitle()]"
      ],
      "metadata": {
        "colab": {
          "base_uri": "https://localhost:8080/"
        },
        "id": "8bLsf3EaJ56Z",
        "outputId": "675a992b-58f6-4678-f564-54a10f27a343"
      },
      "execution_count": null,
      "outputs": [
        {
          "output_type": "execute_result",
          "data": {
            "text/plain": [
              "['Pierre', 'Vinken', 'Nov.']"
            ]
          },
          "metadata": {},
          "execution_count": 71
        }
      ]
    },
    {
      "cell_type": "code",
      "source": [
        "[w.upper() for w in sent7]"
      ],
      "metadata": {
        "colab": {
          "base_uri": "https://localhost:8080/"
        },
        "id": "7wAbYIOwKfxB",
        "outputId": "4080584b-3aa8-4616-f32b-786c586b27d0"
      },
      "execution_count": null,
      "outputs": [
        {
          "output_type": "execute_result",
          "data": {
            "text/plain": [
              "['PIERRE',\n",
              " 'VINKEN',\n",
              " ',',\n",
              " '61',\n",
              " 'YEARS',\n",
              " 'OLD',\n",
              " ',',\n",
              " 'WILL',\n",
              " 'JOIN',\n",
              " 'THE',\n",
              " 'BOARD',\n",
              " 'AS',\n",
              " 'A',\n",
              " 'NONEXECUTIVE',\n",
              " 'DIRECTOR',\n",
              " 'NOV.',\n",
              " '29',\n",
              " '.']"
            ]
          },
          "metadata": {},
          "execution_count": 72
        }
      ]
    },
    {
      "cell_type": "code",
      "source": [
        "tricky = sorted(w for w in set(text2) if 'cie' in w or 'cei' in w)\n",
        "for word in tricky:\n",
        "  print(word, end=' ')"
      ],
      "metadata": {
        "colab": {
          "base_uri": "https://localhost:8080/"
        },
        "id": "28Dxg5VkKoq9",
        "outputId": "a5f31a3f-695e-4523-f954-ff34f9a4c5fc"
      },
      "execution_count": null,
      "outputs": [
        {
          "output_type": "stream",
          "name": "stdout",
          "text": [
            "ancient ceiling conceit conceited conceive conscience conscientious conscientiously deceitful deceive deceived deceiving deficiencies deficiency deficient delicacies excellencies fancied insufficiency insufficient legacies perceive perceived perceiving prescience prophecies receipt receive received receiving society species sufficient sufficiently undeceive undeceiving "
          ]
        }
      ]
    },
    {
      "cell_type": "markdown",
      "source": [
        "# 5. Automatic Natural Language Understanding"
      ],
      "metadata": {
        "id": "bLO1bITiLNWT"
      }
    },
    {
      "cell_type": "code",
      "source": [
        "\"\"\"\n",
        "5.1 Word Sense Disambiguation\n",
        "5.2 Pronoun Resolution\n",
        "5.3 Generating Language Output\n",
        "5.4 Machine Translation\n",
        "5.5 Spoken Dialog Systems\n",
        "5.6 Textual Entailment\n",
        "5.7 Limitations of NLP\n",
        "\n",
        "\"\"\""
      ],
      "metadata": {
        "id": "YVM48yh3LdGF"
      },
      "execution_count": null,
      "outputs": []
    }
  ]
}